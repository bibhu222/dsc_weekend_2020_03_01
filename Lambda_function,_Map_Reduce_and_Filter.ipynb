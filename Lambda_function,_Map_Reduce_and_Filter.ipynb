{
  "nbformat": 4,
  "nbformat_minor": 0,
  "metadata": {
    "kernelspec": {
      "display_name": "Python 3",
      "language": "python",
      "name": "python3"
    },
    "language_info": {
      "codemirror_mode": {
        "name": "ipython",
        "version": 3
      },
      "file_extension": ".py",
      "mimetype": "text/x-python",
      "name": "python",
      "nbconvert_exporter": "python",
      "pygments_lexer": "ipython3",
      "version": "3.7.1"
    },
    "colab": {
      "name": "Lambda function, Map Reduce and Filter.ipynb",
      "provenance": [],
      "include_colab_link": true
    }
  },
  "cells": [
    {
      "cell_type": "markdown",
      "metadata": {
        "id": "view-in-github",
        "colab_type": "text"
      },
      "source": [
        "<a href=\"https://colab.research.google.com/github/leangaurav/dsc_weekend_2020_03_01/blob/master/Lambda_function%2C_Map_Reduce_and_Filter.ipynb\" target=\"_parent\"><img src=\"https://colab.research.google.com/assets/colab-badge.svg\" alt=\"Open In Colab\"/></a>"
      ]
    },
    {
      "cell_type": "markdown",
      "metadata": {
        "id": "_7y1LR4bnlE0",
        "colab_type": "text"
      },
      "source": [
        "### Lambda function in python\n",
        "- A lambda function is a small anonymous function.\n",
        "\n",
        "- A lambda function can take any number of arguments, but can only have one expression."
      ]
    },
    {
      "cell_type": "markdown",
      "metadata": {
        "id": "kF4BczTMnlE2",
        "colab_type": "text"
      },
      "source": [
        "#### Syntax"
      ]
    },
    {
      "cell_type": "markdown",
      "metadata": {
        "id": "IGd1KDG7nlE3",
        "colab_type": "text"
      },
      "source": [
        "lambda arguments : expression"
      ]
    },
    {
      "cell_type": "markdown",
      "metadata": {
        "id": "K14OvNWQnlE3",
        "colab_type": "text"
      },
      "source": [
        "The expression is executed and the result is returned:"
      ]
    },
    {
      "cell_type": "code",
      "metadata": {
        "id": "eOgPm1arnlE4",
        "colab_type": "code",
        "colab": {}
      },
      "source": [
        "def addition(a,b):\n",
        "    c = a+b\n",
        "    return c"
      ],
      "execution_count": null,
      "outputs": []
    },
    {
      "cell_type": "code",
      "metadata": {
        "id": "71J5nYSvnlE7",
        "colab_type": "code",
        "colab": {},
        "outputId": "56ae4152-b96b-4d39-a1fc-e2d4888e11fd"
      },
      "source": [
        "addition(1,2)"
      ],
      "execution_count": null,
      "outputs": [
        {
          "output_type": "execute_result",
          "data": {
            "text/plain": [
              "3"
            ]
          },
          "metadata": {
            "tags": []
          },
          "execution_count": 4
        }
      ]
    },
    {
      "cell_type": "markdown",
      "metadata": {
        "id": "sxGKrMu6nlE-",
        "colab_type": "text"
      },
      "source": [
        "***more simpler way***"
      ]
    },
    {
      "cell_type": "code",
      "metadata": {
        "id": "pqrsf9N9nlE_",
        "colab_type": "code",
        "colab": {}
      },
      "source": [
        "def addition1(a,b):\n",
        "    return a+b"
      ],
      "execution_count": null,
      "outputs": []
    },
    {
      "cell_type": "code",
      "metadata": {
        "id": "f8FpXd9WnlFB",
        "colab_type": "code",
        "colab": {},
        "outputId": "eae5fa4d-b750-455c-a115-4dd30b1005aa"
      },
      "source": [
        "addition1(1,2)"
      ],
      "execution_count": null,
      "outputs": [
        {
          "output_type": "execute_result",
          "data": {
            "text/plain": [
              "3"
            ]
          },
          "metadata": {
            "tags": []
          },
          "execution_count": 6
        }
      ]
    },
    {
      "cell_type": "markdown",
      "metadata": {
        "id": "7fTUGIp3nlFE",
        "colab_type": "text"
      },
      "source": [
        "***more simpler way***"
      ]
    },
    {
      "cell_type": "code",
      "metadata": {
        "id": "rlbg0tVXnlFF",
        "colab_type": "code",
        "colab": {}
      },
      "source": [
        "def addition2(a,b): return a+b"
      ],
      "execution_count": null,
      "outputs": []
    },
    {
      "cell_type": "code",
      "metadata": {
        "id": "hF5ZIR8YnlFH",
        "colab_type": "code",
        "colab": {},
        "outputId": "b3bc5fa7-8a03-4079-a6c7-3bcb6cb56f31"
      },
      "source": [
        "addition2(2,3)"
      ],
      "execution_count": null,
      "outputs": [
        {
          "output_type": "execute_result",
          "data": {
            "text/plain": [
              "5"
            ]
          },
          "metadata": {
            "tags": []
          },
          "execution_count": 9
        }
      ]
    },
    {
      "cell_type": "markdown",
      "metadata": {
        "id": "0LTadxeEnlFK",
        "colab_type": "text"
      },
      "source": [
        "***more simpler way***"
      ]
    },
    {
      "cell_type": "code",
      "metadata": {
        "id": "ksQwzwsYnlFL",
        "colab_type": "code",
        "colab": {}
      },
      "source": [
        "add_lam = lambda a,b: a+b"
      ],
      "execution_count": null,
      "outputs": []
    },
    {
      "cell_type": "code",
      "metadata": {
        "id": "Ni1D3Z5pnlFN",
        "colab_type": "code",
        "colab": {},
        "outputId": "556ff33d-3422-40b1-f7ca-b34465de5e50"
      },
      "source": [
        "add_lam(5,3)"
      ],
      "execution_count": null,
      "outputs": [
        {
          "output_type": "execute_result",
          "data": {
            "text/plain": [
              "8"
            ]
          },
          "metadata": {
            "tags": []
          },
          "execution_count": 11
        }
      ]
    },
    {
      "cell_type": "markdown",
      "metadata": {
        "id": "BJNh8pp1nlFP",
        "colab_type": "text"
      },
      "source": [
        "**Create a lambda function to find even numbers**"
      ]
    },
    {
      "cell_type": "code",
      "metadata": {
        "id": "smoe54-UnlFP",
        "colab_type": "code",
        "colab": {}
      },
      "source": [
        "find_even = lambda x : x%2 == 0"
      ],
      "execution_count": null,
      "outputs": []
    },
    {
      "cell_type": "code",
      "metadata": {
        "id": "zNj5VCwunlFR",
        "colab_type": "code",
        "colab": {},
        "outputId": "3bac2269-e27a-4aef-bd87-97dc5d310736"
      },
      "source": [
        "find_even(13)"
      ],
      "execution_count": null,
      "outputs": [
        {
          "output_type": "execute_result",
          "data": {
            "text/plain": [
              "False"
            ]
          },
          "metadata": {
            "tags": []
          },
          "execution_count": 15
        }
      ]
    },
    {
      "cell_type": "markdown",
      "metadata": {
        "id": "zkYJeaJ8nlFT",
        "colab_type": "text"
      },
      "source": [
        "**Similarly find odd**"
      ]
    },
    {
      "cell_type": "code",
      "metadata": {
        "id": "aLsrJuBznlFU",
        "colab_type": "code",
        "colab": {}
      },
      "source": [
        "find_odd = lambda x : x%2 != 0"
      ],
      "execution_count": null,
      "outputs": []
    },
    {
      "cell_type": "code",
      "metadata": {
        "id": "kPAvaxSLnlFW",
        "colab_type": "code",
        "colab": {},
        "outputId": "479cd0cc-d793-4806-b8fe-aee32eaf45e9"
      },
      "source": [
        "find_odd(18)"
      ],
      "execution_count": null,
      "outputs": [
        {
          "output_type": "execute_result",
          "data": {
            "text/plain": [
              "False"
            ]
          },
          "metadata": {
            "tags": []
          },
          "execution_count": 6
        }
      ]
    },
    {
      "cell_type": "markdown",
      "metadata": {
        "id": "bo5yR5ERnlFZ",
        "colab_type": "text"
      },
      "source": [
        "Lambda functions can take any number of arguments:"
      ]
    },
    {
      "cell_type": "markdown",
      "metadata": {
        "id": "SQTLQeFQnlFa",
        "colab_type": "text"
      },
      "source": [
        "##### Why Use Lambda Functions?\n",
        "- The power of lambda is better shown when you use them as an anonymous function inside another function.\n",
        "- Say you have a function definition that takes one argument, and that argument will be multiplied with an unknown number:\n",
        "- An anonymous function is a function with out a name\n",
        "- While normal functions are defined using the def keyword in python ,anonymous functions are defined using lambda kayword.\n",
        "- We use lambda functions when we require a nameless function for a short period of time.\n",
        "- Lambda functions are used aong with built-in functions like filter(),map()"
      ]
    },
    {
      "cell_type": "code",
      "metadata": {
        "id": "tUeN2Uy9nlFa",
        "colab_type": "code",
        "colab": {}
      },
      "source": [
        "def myfunc(n):\n",
        "    return lambda a : a * n"
      ],
      "execution_count": null,
      "outputs": []
    },
    {
      "cell_type": "markdown",
      "metadata": {
        "id": "NHqd52JDnlFc",
        "colab_type": "text"
      },
      "source": [
        "- Use that function definition to make a function that always doubles the number you send in:"
      ]
    },
    {
      "cell_type": "code",
      "metadata": {
        "id": "vt6ojc_UnlFd",
        "colab_type": "code",
        "colab": {},
        "outputId": "3594c18e-43ff-4eb9-e240-8bfaff8b4535"
      },
      "source": [
        "def myfunc(n):\n",
        "    return lambda a : a * n\n",
        "\n",
        "mydoubler = myfunc(2)\n",
        "\n",
        "print(mydoubler(11))"
      ],
      "execution_count": null,
      "outputs": [
        {
          "output_type": "stream",
          "text": [
            "22\n"
          ],
          "name": "stdout"
        }
      ]
    },
    {
      "cell_type": "markdown",
      "metadata": {
        "id": "lMVtcvUznlFf",
        "colab_type": "text"
      },
      "source": [
        "- Or, use the same function definition to make a function that always triples the number you send in:"
      ]
    },
    {
      "cell_type": "code",
      "metadata": {
        "id": "ks-OfKIHnlFf",
        "colab_type": "code",
        "colab": {},
        "outputId": "87b019d3-96c8-4e62-87bc-051fed10d4ae"
      },
      "source": [
        "def myfunc(n):\n",
        "    return lambda a : a * n\n",
        "\n",
        "mytripler = myfunc(3)\n",
        "\n",
        "print(mytripler(11))"
      ],
      "execution_count": null,
      "outputs": [
        {
          "output_type": "stream",
          "text": [
            "33\n"
          ],
          "name": "stdout"
        }
      ]
    },
    {
      "cell_type": "markdown",
      "metadata": {
        "id": "mam8ZLWdnlFh",
        "colab_type": "text"
      },
      "source": [
        "- Or, use the same function definition to make both functions, in the same program:"
      ]
    },
    {
      "cell_type": "code",
      "metadata": {
        "id": "snSgDhq6nlFi",
        "colab_type": "code",
        "colab": {},
        "outputId": "1e0d0585-d5ae-4849-a97a-63328e3fc2a6"
      },
      "source": [
        "def myfunc(n):\n",
        "    return lambda a : a * n\n",
        "\n",
        "mydoubler = myfunc(2)\n",
        "mytripler = myfunc(3)\n",
        "\n",
        "print(mydoubler(11))\n",
        "print(mytripler(11))"
      ],
      "execution_count": null,
      "outputs": [
        {
          "output_type": "stream",
          "text": [
            "22\n",
            "33\n"
          ],
          "name": "stdout"
        }
      ]
    },
    {
      "cell_type": "markdown",
      "metadata": {
        "id": "He5jHsHenlFj",
        "colab_type": "text"
      },
      "source": [
        "- Use lambda functions when an anonymous function is required for a short period of time.\n"
      ]
    },
    {
      "cell_type": "markdown",
      "metadata": {
        "id": "4nnGFtb6nlFk",
        "colab_type": "text"
      },
      "source": [
        "### Create a list from 300 to 700 with a step of 3 \n",
        "\n",
        "- in that list1 find even numbers and prepare new list and name it as list2"
      ]
    },
    {
      "cell_type": "code",
      "metadata": {
        "id": "BTjynuepnlFk",
        "colab_type": "code",
        "colab": {}
      },
      "source": [
        "list1 = list(range(300,700,3))"
      ],
      "execution_count": null,
      "outputs": []
    },
    {
      "cell_type": "code",
      "metadata": {
        "scrolled": true,
        "id": "FEbdmoEwnlFl",
        "colab_type": "code",
        "colab": {},
        "outputId": "a3fc6f33-4c60-44b7-9ab8-5a6413ab41e4"
      },
      "source": [
        "print(list1)"
      ],
      "execution_count": null,
      "outputs": [
        {
          "output_type": "stream",
          "text": [
            "[300, 303, 306, 309, 312, 315, 318, 321, 324, 327, 330, 333, 336, 339, 342, 345, 348, 351, 354, 357, 360, 363, 366, 369, 372, 375, 378, 381, 384, 387, 390, 393, 396, 399, 402, 405, 408, 411, 414, 417, 420, 423, 426, 429, 432, 435, 438, 441, 444, 447, 450, 453, 456, 459, 462, 465, 468, 471, 474, 477, 480, 483, 486, 489, 492, 495, 498, 501, 504, 507, 510, 513, 516, 519, 522, 525, 528, 531, 534, 537, 540, 543, 546, 549, 552, 555, 558, 561, 564, 567, 570, 573, 576, 579, 582, 585, 588, 591, 594, 597, 600, 603, 606, 609, 612, 615, 618, 621, 624, 627, 630, 633, 636, 639, 642, 645, 648, 651, 654, 657, 660, 663, 666, 669, 672, 675, 678, 681, 684, 687, 690, 693, 696, 699]\n"
          ],
          "name": "stdout"
        }
      ]
    },
    {
      "cell_type": "markdown",
      "metadata": {
        "id": "QrBNwyKynlFn",
        "colab_type": "text"
      },
      "source": [
        "### Without lambda function using for and if looping "
      ]
    },
    {
      "cell_type": "code",
      "metadata": {
        "id": "YRKtgT3UnlFn",
        "colab_type": "code",
        "colab": {},
        "outputId": "3194801f-72de-4701-b3d2-fc5219be1e5c"
      },
      "source": [
        "list2 = []\n",
        "for i in list1:\n",
        "    if i%2 == 0:\n",
        "        list2.append(i)\n",
        "print(list2)"
      ],
      "execution_count": null,
      "outputs": [
        {
          "output_type": "stream",
          "text": [
            "[300, 306, 312, 318, 324, 330, 336, 342, 348, 354, 360, 366, 372, 378, 384, 390, 396, 402, 408, 414, 420, 426, 432, 438, 444, 450, 456, 462, 468, 474, 480, 486, 492, 498, 504, 510, 516, 522, 528, 534, 540, 546, 552, 558, 564, 570, 576, 582, 588, 594, 600, 606, 612, 618, 624, 630, 636, 642, 648, 654, 660, 666, 672, 678, 684, 690, 696]\n"
          ],
          "name": "stdout"
        }
      ]
    },
    {
      "cell_type": "markdown",
      "metadata": {
        "id": "WIkGx12snlFp",
        "colab_type": "text"
      },
      "source": [
        "### lambda function"
      ]
    },
    {
      "cell_type": "code",
      "metadata": {
        "id": "lA5WN7xTnlFp",
        "colab_type": "code",
        "colab": {},
        "outputId": "9baaf619-b70f-44ad-f7a9-e4fe277265e0"
      },
      "source": [
        "list2 = []\n",
        "for i in list1:\n",
        "    if find_odd(i):\n",
        "        list2.append(i)\n",
        "print(list2)"
      ],
      "execution_count": null,
      "outputs": [
        {
          "output_type": "stream",
          "text": [
            "[303, 309, 315, 321, 327, 333, 339, 345, 351, 357, 363, 369, 375, 381, 387, 393, 399, 405, 411, 417, 423, 429, 435, 441, 447, 453, 459, 465, 471, 477, 483, 489, 495, 501, 507, 513, 519, 525, 531, 537, 543, 549, 555, 561, 567, 573, 579, 585, 591, 597, 603, 609, 615, 621, 627, 633, 639, 645, 651, 657, 663, 669, 675, 681, 687, 693, 699]\n"
          ],
          "name": "stdout"
        }
      ]
    },
    {
      "cell_type": "markdown",
      "metadata": {
        "id": "VwkjmCcGnlFr",
        "colab_type": "text"
      },
      "source": [
        "***more simpler way***\n",
        "\n",
        "# Filter\n",
        "\n",
        "**Takes a function and list as arguments**"
      ]
    },
    {
      "cell_type": "code",
      "metadata": {
        "id": "Jz4T7h_RnlFr",
        "colab_type": "code",
        "colab": {}
      },
      "source": [
        "list2 = list(filter(find_even,list1))"
      ],
      "execution_count": null,
      "outputs": []
    },
    {
      "cell_type": "code",
      "metadata": {
        "id": "3U2_SrySnlFt",
        "colab_type": "code",
        "colab": {},
        "outputId": "75c560f8-35bd-4cde-a083-0bcd97c887e3"
      },
      "source": [
        "print(list2)"
      ],
      "execution_count": null,
      "outputs": [
        {
          "output_type": "stream",
          "text": [
            "[300, 306, 312, 318, 324, 330, 336, 342, 348, 354, 360, 366, 372, 378, 384, 390, 396, 402, 408, 414, 420, 426, 432, 438, 444, 450, 456, 462, 468, 474, 480, 486, 492, 498, 504, 510, 516, 522, 528, 534, 540, 546, 552, 558, 564, 570, 576, 582, 588, 594, 600, 606, 612, 618, 624, 630, 636, 642, 648, 654, 660, 666, 672, 678, 684, 690, 696]\n"
          ],
          "name": "stdout"
        }
      ]
    },
    {
      "cell_type": "markdown",
      "metadata": {
        "id": "l0Z22NZNnlFv",
        "colab_type": "text"
      },
      "source": [
        "### find out the values in list1 which are divided by 5 using filter"
      ]
    },
    {
      "cell_type": "code",
      "metadata": {
        "id": "ypKwLC5gnlFv",
        "colab_type": "code",
        "colab": {}
      },
      "source": [
        "def find_div_5(num):\n",
        "    return num%5 == 0"
      ],
      "execution_count": null,
      "outputs": []
    },
    {
      "cell_type": "code",
      "metadata": {
        "id": "W_vrxjFRnlFx",
        "colab_type": "code",
        "colab": {}
      },
      "source": [
        "find_div_5_lam = lambda num : num%5 == 0"
      ],
      "execution_count": null,
      "outputs": []
    },
    {
      "cell_type": "code",
      "metadata": {
        "id": "0R8IheVtnlFz",
        "colab_type": "code",
        "colab": {}
      },
      "source": [
        "list3 = list(filter(find_div_5,list1))\n",
        "list4 = list(filter(find_div_5_lam,list1))"
      ],
      "execution_count": null,
      "outputs": []
    },
    {
      "cell_type": "code",
      "metadata": {
        "id": "0VtUcnIYnlF0",
        "colab_type": "code",
        "colab": {},
        "outputId": "0963eb53-b641-49db-f7b9-ff990c8b90cd"
      },
      "source": [
        "print(list3)"
      ],
      "execution_count": null,
      "outputs": [
        {
          "output_type": "stream",
          "text": [
            "[300, 315, 330, 345, 360, 375, 390, 405, 420, 435, 450, 465, 480, 495, 510, 525, 540, 555, 570, 585, 600, 615, 630, 645, 660, 675, 690]\n"
          ],
          "name": "stdout"
        }
      ]
    },
    {
      "cell_type": "code",
      "metadata": {
        "id": "xQShGdTsnlF2",
        "colab_type": "code",
        "colab": {},
        "outputId": "b0bc520e-58f4-489c-f070-425488176c45"
      },
      "source": [
        "print(list4)"
      ],
      "execution_count": null,
      "outputs": [
        {
          "output_type": "stream",
          "text": [
            "[300, 315, 330, 345, 360, 375, 390, 405, 420, 435, 450, 465, 480, 495, 510, 525, 540, 555, 570, 585, 600, 615, 630, 645, 660, 675, 690]\n"
          ],
          "name": "stdout"
        }
      ]
    },
    {
      "cell_type": "markdown",
      "metadata": {
        "id": "kDHgfiDfnlF4",
        "colab_type": "text"
      },
      "source": [
        "**find a list with values in list1 which are not divisible by 5**"
      ]
    },
    {
      "cell_type": "code",
      "metadata": {
        "id": "7n48AqHGnlF4",
        "colab_type": "code",
        "colab": {}
      },
      "source": [
        "list4 = filter(lambda num : num%5 != 0, list1)"
      ],
      "execution_count": null,
      "outputs": []
    },
    {
      "cell_type": "code",
      "metadata": {
        "id": "fW-OfuCKnlF6",
        "colab_type": "code",
        "colab": {},
        "outputId": "335526e6-36c0-45f1-e7f8-0d3d7c331107"
      },
      "source": [
        "print(list(list4))"
      ],
      "execution_count": null,
      "outputs": [
        {
          "output_type": "stream",
          "text": [
            "[303, 306, 309, 312, 318, 321, 324, 327, 333, 336, 339, 342, 348, 351, 354, 357, 363, 366, 369, 372, 378, 381, 384, 387, 393, 396, 399, 402, 408, 411, 414, 417, 423, 426, 429, 432, 438, 441, 444, 447, 453, 456, 459, 462, 468, 471, 474, 477, 483, 486, 489, 492, 498, 501, 504, 507, 513, 516, 519, 522, 528, 531, 534, 537, 543, 546, 549, 552, 558, 561, 564, 567, 573, 576, 579, 582, 588, 591, 594, 597, 603, 606, 609, 612, 618, 621, 624, 627, 633, 636, 639, 642, 648, 651, 654, 657, 663, 666, 669, 672, 678, 681, 684, 687, 693, 696, 699]\n"
          ],
          "name": "stdout"
        }
      ]
    },
    {
      "cell_type": "code",
      "metadata": {
        "id": "1spePVVAnlF7",
        "colab_type": "code",
        "colab": {},
        "outputId": "4aa32a79-ef9c-4696-9d88-a8eedd9442b0"
      },
      "source": [
        "print(list1)\n"
      ],
      "execution_count": null,
      "outputs": [
        {
          "output_type": "stream",
          "text": [
            "[300, 303, 306, 309, 312, 315, 318, 321, 324, 327, 330, 333, 336, 339, 342, 345, 348, 351, 354, 357, 360, 363, 366, 369, 372, 375, 378, 381, 384, 387, 390, 393, 396, 399, 402, 405, 408, 411, 414, 417, 420, 423, 426, 429, 432, 435, 438, 441, 444, 447, 450, 453, 456, 459, 462, 465, 468, 471, 474, 477, 480, 483, 486, 489, 492, 495, 498, 501, 504, 507, 510, 513, 516, 519, 522, 525, 528, 531, 534, 537, 540, 543, 546, 549, 552, 555, 558, 561, 564, 567, 570, 573, 576, 579, 582, 585, 588, 591, 594, 597, 600, 603, 606, 609, 612, 615, 618, 621, 624, 627, 630, 633, 636, 639, 642, 645, 648, 651, 654, 657, 660, 663, 666, 669, 672, 675, 678, 681, 684, 687, 690, 693, 696, 699]\n"
          ],
          "name": "stdout"
        }
      ]
    },
    {
      "cell_type": "code",
      "metadata": {
        "id": "QSRuHXOQnlF9",
        "colab_type": "code",
        "colab": {},
        "outputId": "35dac0fd-e91f-494f-e5e1-418c1d66eda5"
      },
      "source": [
        "# Method 1 without map\n",
        "\n",
        "list5 = []\n",
        "for i in list1:\n",
        "    list5.append(i-300)\n",
        "    \n",
        "print (list5)"
      ],
      "execution_count": null,
      "outputs": [
        {
          "output_type": "stream",
          "text": [
            "[0, 3, 6, 9, 12, 15, 18, 21, 24, 27, 30, 33, 36, 39, 42, 45, 48, 51, 54, 57, 60, 63, 66, 69, 72, 75, 78, 81, 84, 87, 90, 93, 96, 99, 102, 105, 108, 111, 114, 117, 120, 123, 126, 129, 132, 135, 138, 141, 144, 147, 150, 153, 156, 159, 162, 165, 168, 171, 174, 177, 180, 183, 186, 189, 192, 195, 198, 201, 204, 207, 210, 213, 216, 219, 222, 225, 228, 231, 234, 237, 240, 243, 246, 249, 252, 255, 258, 261, 264, 267, 270, 273, 276, 279, 282, 285, 288, 291, 294, 297, 300, 303, 306, 309, 312, 315, 318, 321, 324, 327, 330, 333, 336, 339, 342, 345, 348, 351, 354, 357, 360, 363, 366, 369, 372, 375, 378, 381, 384, 387, 390, 393, 396, 399]\n"
          ],
          "name": "stdout"
        }
      ]
    },
    {
      "cell_type": "markdown",
      "metadata": {
        "id": "O9EdgpQ7nlF_",
        "colab_type": "text"
      },
      "source": [
        "# Map\n",
        "\n",
        "**map(func,iterables)**\n",
        "\n",
        "- Making an iterable computes the function using arguments with each iterables\n",
        "\n",
        "### In list1 subtract all values with 300"
      ]
    },
    {
      "cell_type": "code",
      "metadata": {
        "id": "HO8tAefTnlF_",
        "colab_type": "code",
        "colab": {}
      },
      "source": [
        "# Method 2 to subtract all values\n",
        "sub_lam = lambda x : x - 300"
      ],
      "execution_count": null,
      "outputs": []
    },
    {
      "cell_type": "code",
      "metadata": {
        "id": "IrpCxjQNnlGA",
        "colab_type": "code",
        "colab": {},
        "outputId": "64fa4c2b-198f-4c4f-97c5-86f05a9ddc65"
      },
      "source": [
        "list6 = map(sub_lam,list1)\n",
        "print(list(list6))"
      ],
      "execution_count": null,
      "outputs": [
        {
          "output_type": "stream",
          "text": [
            "[0, 3, 6, 9, 12, 15, 18, 21, 24, 27, 30, 33, 36, 39, 42, 45, 48, 51, 54, 57, 60, 63, 66, 69, 72, 75, 78, 81, 84, 87, 90, 93, 96, 99, 102, 105, 108, 111, 114, 117, 120, 123, 126, 129, 132, 135, 138, 141, 144, 147, 150, 153, 156, 159, 162, 165, 168, 171, 174, 177, 180, 183, 186, 189, 192, 195, 198, 201, 204, 207, 210, 213, 216, 219, 222, 225, 228, 231, 234, 237, 240, 243, 246, 249, 252, 255, 258, 261, 264, 267, 270, 273, 276, 279, 282, 285, 288, 291, 294, 297, 300, 303, 306, 309, 312, 315, 318, 321, 324, 327, 330, 333, 336, 339, 342, 345, 348, 351, 354, 357, 360, 363, 366, 369, 372, 375, 378, 381, 384, 387, 390, 393, 396, 399]\n"
          ],
          "name": "stdout"
        }
      ]
    },
    {
      "cell_type": "markdown",
      "metadata": {
        "id": "PeBn6IGJnlGE",
        "colab_type": "text"
      },
      "source": [
        "### find square of all values in list1"
      ]
    },
    {
      "cell_type": "code",
      "metadata": {
        "id": "A_XnMtOVnlGE",
        "colab_type": "code",
        "colab": {}
      },
      "source": [
        "pow = lambda x : x**2"
      ],
      "execution_count": null,
      "outputs": []
    },
    {
      "cell_type": "code",
      "metadata": {
        "id": "wQVIvPI3nlGG",
        "colab_type": "code",
        "colab": {}
      },
      "source": [
        "list7 = map(pow,list1)"
      ],
      "execution_count": null,
      "outputs": []
    },
    {
      "cell_type": "code",
      "metadata": {
        "id": "AIo4BZTPnlGH",
        "colab_type": "code",
        "colab": {},
        "outputId": "40b90962-7c6b-45d2-de7e-c7a241551412"
      },
      "source": [
        "print(list(list7))"
      ],
      "execution_count": null,
      "outputs": [
        {
          "output_type": "stream",
          "text": [
            "[90000, 91809, 93636, 95481, 97344, 99225, 101124, 103041, 104976, 106929, 108900, 110889, 112896, 114921, 116964, 119025, 121104, 123201, 125316, 127449, 129600, 131769, 133956, 136161, 138384, 140625, 142884, 145161, 147456, 149769, 152100, 154449, 156816, 159201, 161604, 164025, 166464, 168921, 171396, 173889, 176400, 178929, 181476, 184041, 186624, 189225, 191844, 194481, 197136, 199809, 202500, 205209, 207936, 210681, 213444, 216225, 219024, 221841, 224676, 227529, 230400, 233289, 236196, 239121, 242064, 245025, 248004, 251001, 254016, 257049, 260100, 263169, 266256, 269361, 272484, 275625, 278784, 281961, 285156, 288369, 291600, 294849, 298116, 301401, 304704, 308025, 311364, 314721, 318096, 321489, 324900, 328329, 331776, 335241, 338724, 342225, 345744, 349281, 352836, 356409, 360000, 363609, 367236, 370881, 374544, 378225, 381924, 385641, 389376, 393129, 396900, 400689, 404496, 408321, 412164, 416025, 419904, 423801, 427716, 431649, 435600, 439569, 443556, 447561, 451584, 455625, 459684, 463761, 467856, 471969, 476100, 480249, 484416, 488601]\n"
          ],
          "name": "stdout"
        }
      ]
    },
    {
      "cell_type": "markdown",
      "metadata": {
        "id": "W7pwSRX4nlGJ",
        "colab_type": "text"
      },
      "source": [
        "### Sum of elements in the list1"
      ]
    },
    {
      "cell_type": "code",
      "metadata": {
        "id": "qL5GHGPInlGK",
        "colab_type": "code",
        "colab": {},
        "outputId": "694fd756-3368-4b2e-cb73-69b8ef7f71f0"
      },
      "source": [
        "num = 0\n",
        "for i in list1:\n",
        "    num = num + i\n",
        "\n",
        "print(num)"
      ],
      "execution_count": null,
      "outputs": [
        {
          "output_type": "stream",
          "text": [
            "66933\n"
          ],
          "name": "stdout"
        }
      ]
    },
    {
      "cell_type": "markdown",
      "metadata": {
        "id": "RW2DGokEnlGM",
        "colab_type": "text"
      },
      "source": [
        "# Reduce\n",
        "\n",
        "**Takes two arguments cummulatively and reduces the sequence**"
      ]
    },
    {
      "cell_type": "code",
      "metadata": {
        "id": "zWpPQ-tUnlGM",
        "colab_type": "code",
        "colab": {}
      },
      "source": [
        "addition = lambda x,y : x+y"
      ],
      "execution_count": null,
      "outputs": []
    },
    {
      "cell_type": "code",
      "metadata": {
        "id": "uh7cUlienlGO",
        "colab_type": "code",
        "colab": {}
      },
      "source": [
        "from functools import reduce"
      ],
      "execution_count": null,
      "outputs": []
    },
    {
      "cell_type": "code",
      "metadata": {
        "id": "jNkYq4FGnlGQ",
        "colab_type": "code",
        "colab": {},
        "outputId": "c83fa8aa-cb09-4e53-fdb1-ff18b897e412"
      },
      "source": [
        "reduce(addition,list1)"
      ],
      "execution_count": null,
      "outputs": [
        {
          "output_type": "execute_result",
          "data": {
            "text/plain": [
              "66933"
            ]
          },
          "metadata": {
            "tags": []
          },
          "execution_count": 41
        }
      ]
    },
    {
      "cell_type": "code",
      "metadata": {
        "id": "NHKCAElenlGS",
        "colab_type": "code",
        "colab": {}
      },
      "source": [
        "list10 = [50,55,60,65,70,72,99,54,108,201,21]"
      ],
      "execution_count": null,
      "outputs": []
    },
    {
      "cell_type": "code",
      "metadata": {
        "id": "MJikgqlbnlGU",
        "colab_type": "code",
        "colab": {}
      },
      "source": [
        "find_greater = lambda x,y : x if x>y else y"
      ],
      "execution_count": null,
      "outputs": []
    },
    {
      "cell_type": "code",
      "metadata": {
        "id": "vT4k1CpinlGV",
        "colab_type": "code",
        "colab": {},
        "outputId": "72b0d47f-187c-44c8-b6c8-ba530c06f310"
      },
      "source": [
        "reduce(find_greater,list10)"
      ],
      "execution_count": null,
      "outputs": [
        {
          "output_type": "execute_result",
          "data": {
            "text/plain": [
              "201"
            ]
          },
          "metadata": {
            "tags": []
          },
          "execution_count": 44
        }
      ]
    },
    {
      "cell_type": "markdown",
      "metadata": {
        "id": "oYWjtHjinlGX",
        "colab_type": "text"
      },
      "source": [
        "**Difference between Map and Filter**"
      ]
    },
    {
      "cell_type": "code",
      "metadata": {
        "id": "p7E_itGInlGY",
        "colab_type": "code",
        "colab": {},
        "outputId": "45cc6343-9dbc-4bcb-ad1d-533b704b1c31"
      },
      "source": [
        "print(list1)"
      ],
      "execution_count": null,
      "outputs": [
        {
          "output_type": "stream",
          "text": [
            "[300, 303, 306, 309, 312, 315, 318, 321, 324, 327, 330, 333, 336, 339, 342, 345, 348, 351, 354, 357, 360, 363, 366, 369, 372, 375, 378, 381, 384, 387, 390, 393, 396, 399, 402, 405, 408, 411, 414, 417, 420, 423, 426, 429, 432, 435, 438, 441, 444, 447, 450, 453, 456, 459, 462, 465, 468, 471, 474, 477, 480, 483, 486, 489, 492, 495, 498, 501, 504, 507, 510, 513, 516, 519, 522, 525, 528, 531, 534, 537, 540, 543, 546, 549, 552, 555, 558, 561, 564, 567, 570, 573, 576, 579, 582, 585, 588, 591, 594, 597, 600, 603, 606, 609, 612, 615, 618, 621, 624, 627, 630, 633, 636, 639, 642, 645, 648, 651, 654, 657, 660, 663, 666, 669, 672, 675, 678, 681, 684, 687, 690, 693, 696, 699]\n"
          ],
          "name": "stdout"
        }
      ]
    },
    {
      "cell_type": "code",
      "metadata": {
        "id": "bGXvasDinlGZ",
        "colab_type": "code",
        "colab": {},
        "outputId": "aac4a441-eb02-467d-8d15-a1dcc9012ee0"
      },
      "source": [
        "list4 = filter(lambda num : num%5 != 0, list1)\n",
        "print(list(list4))"
      ],
      "execution_count": null,
      "outputs": [
        {
          "output_type": "stream",
          "text": [
            "[303, 306, 309, 312, 318, 321, 324, 327, 333, 336, 339, 342, 348, 351, 354, 357, 363, 366, 369, 372, 378, 381, 384, 387, 393, 396, 399, 402, 408, 411, 414, 417, 423, 426, 429, 432, 438, 441, 444, 447, 453, 456, 459, 462, 468, 471, 474, 477, 483, 486, 489, 492, 498, 501, 504, 507, 513, 516, 519, 522, 528, 531, 534, 537, 543, 546, 549, 552, 558, 561, 564, 567, 573, 576, 579, 582, 588, 591, 594, 597, 603, 606, 609, 612, 618, 621, 624, 627, 633, 636, 639, 642, 648, 651, 654, 657, 663, 666, 669, 672, 678, 681, 684, 687, 693, 696, 699]\n"
          ],
          "name": "stdout"
        }
      ]
    },
    {
      "cell_type": "code",
      "metadata": {
        "id": "hDxELrpPnlGb",
        "colab_type": "code",
        "colab": {},
        "outputId": "d97ba19f-d097-4f2c-9095-79f3db261be8"
      },
      "source": [
        "list4 = map(lambda num : num%5 != 0, list1)\n",
        "print(list(list4))"
      ],
      "execution_count": null,
      "outputs": [
        {
          "output_type": "stream",
          "text": [
            "[False, True, True, True, True, False, True, True, True, True, False, True, True, True, True, False, True, True, True, True, False, True, True, True, True, False, True, True, True, True, False, True, True, True, True, False, True, True, True, True, False, True, True, True, True, False, True, True, True, True, False, True, True, True, True, False, True, True, True, True, False, True, True, True, True, False, True, True, True, True, False, True, True, True, True, False, True, True, True, True, False, True, True, True, True, False, True, True, True, True, False, True, True, True, True, False, True, True, True, True, False, True, True, True, True, False, True, True, True, True, False, True, True, True, True, False, True, True, True, True, False, True, True, True, True, False, True, True, True, True, False, True, True, True]\n"
          ],
          "name": "stdout"
        }
      ]
    },
    {
      "cell_type": "code",
      "metadata": {
        "id": "891rz7y0nlGc",
        "colab_type": "code",
        "colab": {}
      },
      "source": [
        ""
      ],
      "execution_count": null,
      "outputs": []
    },
    {
      "cell_type": "code",
      "metadata": {
        "id": "VFE8TfGhnlGe",
        "colab_type": "code",
        "colab": {}
      },
      "source": [
        ""
      ],
      "execution_count": null,
      "outputs": []
    }
  ]
}