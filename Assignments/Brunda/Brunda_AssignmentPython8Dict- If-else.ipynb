{
 "cells": [
  {
   "cell_type": "code",
   "execution_count": 12,
   "metadata": {},
   "outputs": [
    {
     "name": "stdout",
     "output_type": "stream",
     "text": [
      "Enter a number:5\n",
      "{1: -1, 2: -2, 3: -3, 4: -4, 5: -5}\n",
      "\n",
      "{1: -1, 2: -2, 3: -3, 4: -4, 5: -5}\n"
     ]
    }
   ],
   "source": [
    "#1.WAP to create a dictionary of numbers mapped to their negative value for numbers from 1-5. The dictionary should contain something like this: Do with both with and without range based for loop. {1:-1,2:-2,3:-3….} \n",
    "#creating by using range based for loop\n",
    "n=int(input(\"Enter a number:\"))\n",
    "d={x:-x for x in range(1,n+1)}\n",
    "print(d)\n",
    "\n",
    "\n",
    "print()\n",
    "\n",
    "#creating without using range based for loop\n",
    "di={1:-1,2:-2,3:-3,4:-4,5:-5}\n",
    "print(di)\n"
   ]
  },
  {
   "cell_type": "code",
   "execution_count": null,
   "metadata": {},
   "outputs": [],
   "source": [
    "#2.Check which of the following declarations will work \n",
    "1.d={1=2,2=3} #invalid syntax\n",
    "2.d= {1:2,2:3}#yes this declaration works\n",
    "3.d={1,2;2,3}#invalid syntax\n",
    "4.d={(1,2),(2,3)}#declaration works but the type is set\n",
    "    print(d)\n",
    "    type(d)#set \n",
    "5.d={'a':'A','b':1,c:[1234]} #name 'c' is not defined\n",
    "6.d={'a':'A','b':1,'c':[1234]}#yes the declaration works {'a': 'A', 'b': 1, 'c': [1234]}\n",
    "7.d=dict([(1,2),(2,3)])#yes the declaration works {1: 2, 2: 3}\n",
    "8.d=dict(((1,2),(2,3))#SyntaxError: invalid syntax\n",
    "9.d=dict((1,2),(2,3)])#invalid syntax\n",
    "10.d=dict(x=2,y=3)#yes the declaration works {'x': 2, 'y': 3}\n",
    "11.d=dict('x'=2,'y'=3)# keyword can't be an expression\n",
    "12.d=dict(1=2,2=3)# keyword can't be an expression\n",
    "         "
   ]
  },
  {
   "cell_type": "code",
   "execution_count": 32,
   "metadata": {},
   "outputs": [
    {
     "name": "stdout",
     "output_type": "stream",
     "text": [
      "Help on class zip in module builtins:\n",
      "\n",
      "class zip(object)\n",
      " |  zip(iter1 [,iter2 [...]]) --> zip object\n",
      " |  \n",
      " |  Return a zip object whose .__next__() method returns a tuple where\n",
      " |  the i-th element comes from the i-th iterable argument.  The .__next__()\n",
      " |  method continues until the shortest iterable in the argument sequence\n",
      " |  is exhausted and then it raises StopIteration.\n",
      " |  \n",
      " |  Methods defined here:\n",
      " |  \n",
      " |  __getattribute__(self, name, /)\n",
      " |      Return getattr(self, name).\n",
      " |  \n",
      " |  __iter__(self, /)\n",
      " |      Implement iter(self).\n",
      " |  \n",
      " |  __next__(self, /)\n",
      " |      Implement next(self).\n",
      " |  \n",
      " |  __reduce__(...)\n",
      " |      Return state information for pickling.\n",
      " |  \n",
      " |  ----------------------------------------------------------------------\n",
      " |  Static methods defined here:\n",
      " |  \n",
      " |  __new__(*args, **kwargs) from builtins.type\n",
      " |      Create and return a new object.  See help(type) for accurate signature.\n",
      "\n"
     ]
    }
   ],
   "source": [
    "help(zip)"
   ]
  },
  {
   "cell_type": "code",
   "execution_count": 33,
   "metadata": {},
   "outputs": [
    {
     "name": "stdout",
     "output_type": "stream",
     "text": [
      "{1: 10, 2: 20, 3: 30, 4: 40}\n"
     ]
    }
   ],
   "source": [
    "#3. Read help for zip and write a program that has two lists l1 = [1,2,3,4] l2 = [10,20,30,40] And converts them to a dictionary d containing { 1:10,2:20 …….} \n",
    "l1=[1,2,3,4]\n",
    "l2=[10,20,30,40]\n",
    "d=dict(zip(l1,l2))\n",
    "print(d)"
   ]
  },
  {
   "cell_type": "code",
   "execution_count": 49,
   "metadata": {},
   "outputs": [
    {
     "name": "stdout",
     "output_type": "stream",
     "text": [
      "{'A': '65', 'B': '66', 'C': '67', 'D': '68', 'E': '69', 'F': '70', 'G': '71', 'H': '72', 'I': '73', 'J': '74', 'K': '75', 'L': '76', 'M': '77', 'N': '78', 'O': '79', 'P': '80', 'Q': '81', 'R': '82', 'S': '83', 'T': '84', 'U': '85', 'V': '86', 'W': '87', 'X': '88', 'Y': '89', 'Z': '90'}\n"
     ]
    },
    {
     "data": {
      "text/plain": [
       "{'A': 65,\n",
       " 'B': 66,\n",
       " 'C': 67,\n",
       " 'D': 68,\n",
       " 'E': 69,\n",
       " 'F': 70,\n",
       " 'G': 71,\n",
       " 'H': 72,\n",
       " 'I': 73,\n",
       " 'J': 74,\n",
       " 'K': 75,\n",
       " 'L': 76,\n",
       " 'M': 77,\n",
       " 'N': 78,\n",
       " 'O': 79,\n",
       " 'P': 80,\n",
       " 'Q': 81,\n",
       " 'R': 82,\n",
       " 'S': 83,\n",
       " 'T': 84,\n",
       " 'U': 85,\n",
       " 'V': 86,\n",
       " 'W': 87,\n",
       " 'X': 88,\n",
       " 'Y': 89,\n",
       " 'Z': 90}"
      ]
     },
     "execution_count": 49,
     "metadata": {},
     "output_type": "execute_result"
    }
   ],
   "source": [
    "#4.Use range based for loop to store all upper case alphabets and their corresponding ASCII values in the dictionary d. The result should be  d = {‘A’: 65, ‘B’:66,…..}\n",
    "#method 1\n",
    "d = dict()\n",
    "n = range(65,91)\n",
    "for i in n:\n",
    "    d[chr(i)] = str(i)\n",
    "\n",
    "print(d)\n",
    "\n",
    "#method 2\n",
    "import string\n",
    "d = {c: ord(c) for c in string.ascii_uppercase}#no need to know the range\n",
    "d\n",
    "\n"
   ]
  },
  {
   "cell_type": "code",
   "execution_count": 57,
   "metadata": {},
   "outputs": [
    {
     "name": "stdout",
     "output_type": "stream",
     "text": [
      "Enter what you want: 7\n",
      "seven\n"
     ]
    }
   ],
   "source": [
    "#5. Create a mapping of number to word from 0-9.\n",
    "#• Ask user for a single digit number and print the corresponding word format.\n",
    "\n",
    "d = str(input(\"Enter what you want: \"))\n",
    "p={'0':'zero','1':'one','2':'two','3':'three','4':'four','5':'five','6':'six','7':'seven','8':'eight','9':'nine','10':'ten'}\n",
    "print(p[d])"
   ]
  },
  {
   "cell_type": "code",
   "execution_count": 69,
   "metadata": {},
   "outputs": [
    {
     "name": "stdout",
     "output_type": "stream",
     "text": [
      "0\n",
      "1\n",
      "2\n",
      "3\n",
      "4\n",
      "5\n",
      "6\n",
      "7\n",
      "8\n",
      "9\n",
      "10\n",
      "\n",
      "['0', '1', '2', '3', '4', '5', '6', '7', '8', '9', '10']\n",
      "\n",
      "dict_keys(['0', '1', '2', '3', '4', '5', '6', '7', '8', '9', '10'])\n",
      "\n",
      "0\n",
      "1\n",
      "2\n",
      "3\n",
      "4\n",
      "5\n",
      "6\n",
      "7\n",
      "8\n",
      "9\n",
      "10\n"
     ]
    }
   ],
   "source": [
    "#• Print all keys of above dictionary\n",
    "for i in p:#using in operator\n",
    "    print(i)\n",
    "print()\n",
    "\n",
    "#using list comprehension\n",
    "print([(i) for i in p])\n",
    "\n",
    "print()\n",
    "\n",
    "print(p.keys())\n",
    "\n",
    "\n",
    "print()\n",
    "#using dict.items\n",
    "for key,value in p.items():\n",
    "    print(key)"
   ]
  },
  {
   "cell_type": "code",
   "execution_count": 74,
   "metadata": {},
   "outputs": [
    {
     "name": "stdout",
     "output_type": "stream",
     "text": [
      "zero\n",
      "one\n",
      "two\n",
      "three\n",
      "four\n",
      "five\n",
      "six\n",
      "seven\n",
      "eight\n",
      "nine\n",
      "ten\n",
      "\n",
      "['zero', 'one', 'two', 'three', 'four', 'five', 'six', 'seven', 'eight', 'nine', 'ten']\n",
      "\n",
      "dict_values(['zero', 'one', 'two', 'three', 'four', 'five', 'six', 'seven', 'eight', 'nine', 'ten'])\n",
      "\n",
      "zero\n",
      "one\n",
      "two\n",
      "three\n",
      "four\n",
      "five\n",
      "six\n",
      "seven\n",
      "eight\n",
      "nine\n",
      "ten\n"
     ]
    }
   ],
   "source": [
    "#• Print all Values of a dictionary \n",
    "for i in p:#using in operator\n",
    "    print(p[i])\n",
    "print()\n",
    "\n",
    "\n",
    "#using list comprehension\n",
    "print([(p[i]) for i in p])\n",
    "print()\n",
    "print(p.values())\n",
    "print()\n",
    "#using dict.items\n",
    "for key,value in p.items():\n",
    "    print(value)"
   ]
  },
  {
   "cell_type": "code",
   "execution_count": 79,
   "metadata": {},
   "outputs": [
    {
     "name": "stdout",
     "output_type": "stream",
     "text": [
      "{'0': 'zero', '1': 'one', '2': 'two', '3': 'three', '4': 'four', '5': 'five', '6': 'six', '7': 'seven', '8': 'eight', '9': 'nine', '10': 'ten'}\n",
      "\n",
      "\n",
      "0 zero\n",
      "1 one\n",
      "2 two\n",
      "3 three\n",
      "4 four\n",
      "5 five\n",
      "6 six\n",
      "7 seven\n",
      "8 eight\n",
      "9 nine\n",
      "10 ten\n"
     ]
    }
   ],
   "source": [
    "#• Print all Key and Value pairs of above dictionary \n",
    "print(p)\n",
    "\n",
    "print()\n",
    "print()\n",
    "for key,value in p.items():\n",
    "    print(key,value)"
   ]
  },
  {
   "cell_type": "code",
   "execution_count": 80,
   "metadata": {},
   "outputs": [
    {
     "name": "stdout",
     "output_type": "stream",
     "text": [
      "{'A': 'Apple', 'B': 'Ball', 'C': 'Cat', 'D': 'Dog'}\n",
      "{'A': 'Apple', 'C': 'Cat'}\n"
     ]
    }
   ],
   "source": [
    "#6.predict output\n",
    "\n",
    "l1=['A','B','C','D']\n",
    "l2=['Apple','Ball','Cat','Dog']\n",
    "d1=dict(zip(l1,l2))\n",
    "print(d1)\n",
    "d2=dict(list(d1.items()) [::2])\n",
    "print(d2)"
   ]
  },
  {
   "cell_type": "code",
   "execution_count": 91,
   "metadata": {},
   "outputs": [
    {
     "name": "stdout",
     "output_type": "stream",
     "text": [
      "Sentence: BrundaGopinath\n",
      "a 2\n",
      "e 0\n",
      "i 1\n",
      "o 1\n",
      "u 1\n"
     ]
    }
   ],
   "source": [
    "#7. WAP to input a string and count occurrence of each vowel in a string. Ex: if user enters:  “Beautiful Day” Output should Be:  a:2  e:1  I :1  o:0  u:2 \n",
    " #[Hint: Use a list of a dictionary (preferably dictionary)]\n",
    "    \n",
    "sentence = input(\"Sentence: \")\n",
    "s=sentence.casefold() \n",
    "counts = {i:0 for i in 'aeiou'}\n",
    "for char in s:\n",
    "    if char in counts:\n",
    "        counts[char] += 1\n",
    "for k,v in counts.items():\n",
    "    print(k, v)\n",
    "  "
   ]
  },
  {
   "cell_type": "code",
   "execution_count": 92,
   "metadata": {},
   "outputs": [
    {
     "name": "stdout",
     "output_type": "stream",
     "text": [
      "Sentence: BrundaGopinath\n",
      "b 1\n",
      "r 1\n",
      "u 1\n",
      "n 2\n",
      "d 1\n",
      "a 2\n",
      "g 1\n",
      "o 1\n",
      "p 1\n",
      "i 1\n",
      "t 1\n",
      "h 1\n"
     ]
    }
   ],
   "source": [
    "#8. Update above program to print frequency of each alphabet present in string.\n",
    "sentence = input(\"Sentence: \")\n",
    "s=sentence.casefold() \n",
    "counts = {i:0 for i in s}\n",
    "for char in s:\n",
    "    if char in counts:\n",
    "        counts[char] += 1\n",
    "for k,v in counts.items():\n",
    "    print(k, v)"
   ]
  },
  {
   "cell_type": "code",
   "execution_count": 96,
   "metadata": {},
   "outputs": [
    {
     "name": "stdout",
     "output_type": "stream",
     "text": [
      "Sentence: I have to rush to my home\n",
      "i 1\n",
      "have 1\n",
      "to 2\n",
      "rush 1\n",
      "my 1\n",
      "home 1\n"
     ]
    }
   ],
   "source": [
    "#9. WAP that takes a string as input and prints frequency of each word\n",
    "sentence = input(\"Sentence: \")\n",
    "s=sentence.casefold()\n",
    "sq=s.split(\" \")\n",
    "counts = {i:0 for i in sq}\n",
    "for char in sq:\n",
    "    if char in counts:\n",
    "        counts[char] += 1\n",
    "for k,v in counts.items():\n",
    "    print(k, v)"
   ]
  },
  {
   "cell_type": "code",
   "execution_count": null,
   "metadata": {},
   "outputs": [],
   "source": []
  }
 ],
 "metadata": {
  "kernelspec": {
   "display_name": "Python 3",
   "language": "python",
   "name": "python3"
  },
  "language_info": {
   "codemirror_mode": {
    "name": "ipython",
    "version": 3
   },
   "file_extension": ".py",
   "mimetype": "text/x-python",
   "name": "python",
   "nbconvert_exporter": "python",
   "pygments_lexer": "ipython3",
   "version": "3.7.4"
  }
 },
 "nbformat": 4,
 "nbformat_minor": 2
}
