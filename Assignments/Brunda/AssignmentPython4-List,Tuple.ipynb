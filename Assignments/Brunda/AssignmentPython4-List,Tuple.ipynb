{
 "cells": [
  {
   "cell_type": "code",
   "execution_count": 7,
   "metadata": {},
   "outputs": [
    {
     "name": "stdout",
     "output_type": "stream",
     "text": [
      "[1, 2, 3, 4, 5]\n"
     ]
    }
   ],
   "source": [
    "#1. Convert a Tuple t = (1,2,3,4,5) to a list \n",
    "t=(1,2,3,4,5)\n",
    "t=list(t)\n",
    "print(t)"
   ]
  },
  {
   "cell_type": "code",
   "execution_count": 25,
   "metadata": {},
   "outputs": [
    {
     "name": "stdout",
     "output_type": "stream",
     "text": [
      "[1, 3, 5, 7, 8, 6, 4, 2]\n",
      "[[1, 3, 5, 7], (8, 6, 4, 2)]\n"
     ]
    }
   ],
   "source": [
    "#2.WAP to join a list and a tuple:L = [1,3,5,7] T = (8,6,4,2) Store the result in a list LS \n",
    "L= [1,3,5,7]\n",
    "T = (8,6,4,2)\n",
    "S=list(T)\n",
    "L.extend(S)\n",
    "ls = L\n",
    "print(ls)\n",
    "\n",
    "\n",
    "\n",
    "# 2.WAP to join a list and a tuple:  L = [1,3,5,7]   T = (8,6,4,2). Store the result in a list LS \n",
    "L = [1,3,5,7]\n",
    "T = (8,6,4,2)\n",
    "LS=list([L,T])\n",
    "print(LS)"
   ]
  },
  {
   "cell_type": "markdown",
   "metadata": {},
   "source": [
    "<b>3.What is the difference between list and tuple</b>\n",
    "\n",
    "list is mutable -----\n",
    "tuple is immutable"
   ]
  },
  {
   "cell_type": "code",
   "execution_count": 28,
   "metadata": {},
   "outputs": [
    {
     "data": {
      "text/plain": [
       "['C', 'A', 'c', 'b', 'a']"
      ]
     },
     "execution_count": 28,
     "metadata": {},
     "output_type": "execute_result"
    }
   ],
   "source": [
    "#4.print the list in reverse order\n",
    "l=['a','b','c','A','C']\n",
    "l[::-1]\n"
   ]
  },
  {
   "cell_type": "code",
   "execution_count": 30,
   "metadata": {},
   "outputs": [
    {
     "data": {
      "text/plain": [
       "[10, 21, 31, 41]"
      ]
     },
     "execution_count": 30,
     "metadata": {},
     "output_type": "execute_result"
    }
   ],
   "source": [
    "#5.print elements at Odd indexes from the list (Do not use the loop)\n",
    "l=[10,120,21,30,31,40,41]\n",
    "l[::2]\n"
   ]
  },
  {
   "cell_type": "code",
   "execution_count": null,
   "metadata": {},
   "outputs": [],
   "source": [
    "#6.How many ways you can copy a list\n"
   ]
  },
  {
   "cell_type": "code",
   "execution_count": 32,
   "metadata": {},
   "outputs": [
    {
     "name": "stdout",
     "output_type": "stream",
     "text": [
      "a\n",
      "5\n"
     ]
    }
   ],
   "source": [
    "#7.predict the output\n",
    "n_list = [\"Happy\",[2,0,1,5]]\n",
    "print(n_list[0][1])#prints \"a\" from Happy [0][1]\n",
    "print(n_list[1][3])#prints 5 from the second list [2,0,1,5]"
   ]
  },
  {
   "cell_type": "code",
   "execution_count": 33,
   "metadata": {},
   "outputs": [
    {
     "name": "stdout",
     "output_type": "stream",
     "text": [
      "[1, 4, 6, 8]\n",
      "[1, 3, 5, 7]\n"
     ]
    }
   ],
   "source": [
    "#8.predict the output\n",
    "odd= [2,4,6,8]\n",
    "odd[0] = 1\n",
    "print(odd)\n",
    "odd[1:4] =[3,5,7]\n",
    "print(odd)\n"
   ]
  },
  {
   "cell_type": "code",
   "execution_count": 2,
   "metadata": {},
   "outputs": [
    {
     "name": "stdout",
     "output_type": "stream",
     "text": [
      "[1, 3, 5, [7, 9]]\n",
      "[1, 3, 5, [7, 9], 11, 13]\n"
     ]
    }
   ],
   "source": [
    "# 9. predict output\n",
    "odd = [1, 3, 5]\n",
    "odd.append([7, 9])\n",
    "print(odd)# [1, 3, 5, [7, 9]]\n",
    "odd.extend([11, 13])\n",
    "print(odd) # [1,3,5,[7,9],11,13]"
   ]
  },
  {
   "cell_type": "code",
   "execution_count": 4,
   "metadata": {},
   "outputs": [
    {
     "name": "stdout",
     "output_type": "stream",
     "text": [
      "<class 'tuple'>\n",
      "<class 'int'>\n",
      "<class 'int'>\n",
      "<class 'tuple'>\n"
     ]
    }
   ],
   "source": [
    "#10.predict the output \n",
    "x = 1, 2, 3\n",
    "print(type(x)) #<class tuple>\n",
    "x =(1)\n",
    "print(type(x))#<class int>\n",
    "x=1\n",
    "print(type(x))#<class int>\n",
    "x=1,\n",
    "print(type(x))# <class tuple>"
   ]
  },
  {
   "cell_type": "code",
   "execution_count": 5,
   "metadata": {},
   "outputs": [],
   "source": [
    "# 11. Try to represent a matrix with following data in python:"
   ]
  },
  {
   "cell_type": "code",
   "execution_count": 6,
   "metadata": {},
   "outputs": [
    {
     "name": "stdout",
     "output_type": "stream",
     "text": [
      "('s', 't', 'r', 'i', 'n', 'g')\n",
      "('g', 'n', 'i', 'r', 't', 's')\n",
      "('n', 's')\n"
     ]
    }
   ],
   "source": [
    "# 12. predict output\n",
    "t = tuple('string')\n",
    "print(t)#('s', 't', 'r', 'i', 'n', 'g')\n",
    "print(t[::-1])#('g', 'n', 'i', 'r', 't', 's')\n",
    "print(t[::2][::-2]) #('n', 's')"
   ]
  },
  {
   "cell_type": "code",
   "execution_count": 7,
   "metadata": {},
   "outputs": [
    {
     "name": "stdout",
     "output_type": "stream",
     "text": [
      "True\n",
      "False\n",
      "1\n",
      "3\n"
     ]
    }
   ],
   "source": [
    "# 13. predict output\n",
    "t = tuple([10, 20, 30, 40, 50, 60])\n",
    "print(60 in t)#True\n",
    "print('60' in t)#  False\n",
    "print(t.count(10))# 1\n",
    "print(t.index(40))# 3"
   ]
  },
  {
   "cell_type": "code",
   "execution_count": 11,
   "metadata": {},
   "outputs": [
    {
     "name": "stdout",
     "output_type": "stream",
     "text": [
      "string:brunda\n",
      "brunda is not a palindrome\n"
     ]
    }
   ],
   "source": [
    "#14.Write a program to input a string and print if it is palindrome or not\n",
    "string = input(\"string:\")\n",
    "s1 = string[::-1]\n",
    "if string==s1:\n",
    "    print(\"{0} is a palindrome\".format(string))\n",
    "else:\n",
    "    print(\"{0} is not a palindrome\".format(string))"
   ]
  },
  {
   "cell_type": "code",
   "execution_count": 13,
   "metadata": {},
   "outputs": [
    {
     "name": "stdout",
     "output_type": "stream",
     "text": [
      "(20, 15, 10, 5)\n"
     ]
    }
   ],
   "source": [
    "#15.Use the range method and create a tuple containing the following values: (20, 15, 10, 5)\n",
    "n = tuple(range(5,25,5))\n",
    "n1 = n[::-1]\n",
    "print(n1)"
   ]
  },
  {
   "cell_type": "code",
   "execution_count": 15,
   "metadata": {},
   "outputs": [
    {
     "name": "stdout",
     "output_type": "stream",
     "text": [
      "['b', 'r', 'u', 'n', 'd', 'a']\n"
     ]
    }
   ],
   "source": [
    "#16. WAP to convert string to list of characters\n",
    "string = \"brunda\"\n",
    "list_c = list(string)\n",
    "print(list_c)"
   ]
  },
  {
   "cell_type": "code",
   "execution_count": 17,
   "metadata": {},
   "outputs": [
    {
     "name": "stdout",
     "output_type": "stream",
     "text": [
      "<class 'list'>\n",
      "<class 'NoneType'>\n",
      "<class 'str'>\n",
      "<class 'bool'>\n"
     ]
    }
   ],
   "source": [
    "#17.What is the return type of:\n",
    "print(type( '1 2'.split() ))# string\n",
    "print(type( [1, 3, 2].sort() )) # list\n",
    "print(type( 'abc'.upper() )) # string\n",
    "print(type( 1 in [1, 2] )) # boolean"
   ]
  },
  {
   "cell_type": "code",
   "execution_count": null,
   "metadata": {},
   "outputs": [],
   "source": []
  }
 ],
 "metadata": {
  "kernelspec": {
   "display_name": "Python 3",
   "language": "python",
   "name": "python3"
  },
  "language_info": {
   "codemirror_mode": {
    "name": "ipython",
    "version": 3
   },
   "file_extension": ".py",
   "mimetype": "text/x-python",
   "name": "python",
   "nbconvert_exporter": "python",
   "pygments_lexer": "ipython3",
   "version": "3.7.4"
  }
 },
 "nbformat": 4,
 "nbformat_minor": 2
}
