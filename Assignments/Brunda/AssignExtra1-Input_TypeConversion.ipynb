{
 "cells": [
  {
   "cell_type": "code",
   "execution_count": 2,
   "metadata": {},
   "outputs": [
    {
     "name": "stdout",
     "output_type": "stream",
     "text": [
      "Enter the temperature in Fahrenheit: 23\n",
      "The Fahrenheit  temperature 23.0 in celsius is -5.0 degrees.\n"
     ]
    }
   ],
   "source": [
    "#1.Input temperature in Fahrenheit and print in celsius\n",
    "\n",
    "fahrenheit = float(input(\"Enter the temperature in Fahrenheit: \"))\n",
    "celsius = (fahrenheit - 32) * 5/9\n",
    "print(\"The Fahrenheit  temperature\", fahrenheit, \"in celsius is\", celsius, \"degrees.\")"
   ]
  },
  {
   "cell_type": "code",
   "execution_count": 3,
   "metadata": {},
   "outputs": [
    {
     "name": "stdout",
     "output_type": "stream",
     "text": [
      "  Enter  numeric Value : 3\n",
      "The square of the given number 3.0 = 9.0\n",
      "The Cube of a Given Number 3.0  = 27.0\n"
     ]
    }
   ],
   "source": [
    "#2.WAP to input a number and print its square and cube\n",
    "\n",
    "num = float(input(\"  Enter  numeric Value : \"))\n",
    "square = num ** 2\n",
    "cube = num ** 3\n",
    "print(\"The square of the given number {0} = {1}\".format(num,square))\n",
    "print(\"The Cube of a Given Number {0}  = {1}\".format(num, cube))"
   ]
  },
  {
   "cell_type": "code",
   "execution_count": 4,
   "metadata": {},
   "outputs": [
    {
     "name": "stdout",
     "output_type": "stream",
     "text": [
      "Enter the value of n: 3\n",
      "Enter the value of m: 4\n",
      "The result is : 25.0\n"
     ]
    }
   ],
   "source": [
    "#3.WAP to input a number n and a number m and print the result of following n2+ m2 \n",
    "\n",
    "\n",
    "n= float(input(\"Enter the value of n: \"))\n",
    "m = float(input(\"Enter the value of m: \"))\n",
    "result =n **2 + m ** 2\n",
    "print(\"The result is : {}\".format(result))"
   ]
  },
  {
   "cell_type": "code",
   "execution_count": 5,
   "metadata": {},
   "outputs": [
    {
     "name": "stdout",
     "output_type": "stream",
     "text": [
      "Enter the value of M: 3\n",
      "Enter the value of N: 4\n",
      "The result  using ** is 81.0 and the result using funcion pow is 81.0\n"
     ]
    }
   ],
   "source": [
    "#4.WAP to input a numbers M and N and print result of pow(M,n) (use both  ** and pow())\n",
    "\n",
    "M = float(input(\"Enter the value of M: \"))\n",
    "N = float(input(\"Enter the value of N: \"))\n",
    "result= M ** N\n",
    "result1= pow(M,N)\n",
    "print(\"The result  using ** is {0} and the result using funcion pow is {1}\".format(result,result1))"
   ]
  },
  {
   "cell_type": "code",
   "execution_count": 6,
   "metadata": {},
   "outputs": [
    {
     "name": "stdout",
     "output_type": "stream",
     "text": [
      "Enter Principal Amount: 2000\n",
      "Enter the Rate3\n",
      "Enter the time: 1\n",
      "The simple interest is 60.0\n"
     ]
    }
   ],
   "source": [
    "#5. Write a simple interest calculator\n",
    "\n",
    "p = float(input(\"Enter Principal Amount: \"))\n",
    "r = float(input(\"Enter the Rate\"))\n",
    "t = int(input(\"Enter the time: \"))\n",
    "SI= (p*t*r)/100\n",
    "print(\"The simple interest is {0}\".format(SI))"
   ]
  },
  {
   "cell_type": "code",
   "execution_count": 7,
   "metadata": {},
   "outputs": [
    {
     "name": "stdout",
     "output_type": "stream",
     "text": [
      "Enter the principal amount: 2000\n",
      "Enter the interest rate: 4\n",
      "Enter the time (years): 2\n",
      "Compound amount is 2163.2000000000003\n",
      "Compound interest is 163.20000000000027\n"
     ]
    }
   ],
   "source": [
    "#6. Input Principal, rate, Time and print the compound interest and amount \n",
    "p = float(input(\"Enter the principal amount: \"))\n",
    "r = float(input(\"Enter the interest rate: \"))\n",
    "t = float(input(\"Enter the time (years): \"))\n",
    " \n",
    "amount = p * (pow((1 + r / 100), t))\n",
    "interest = amount - p\n",
    "print(\"Compound amount is {0}\".format(amount))\n",
    "print(\"Compound interest is {0}\".format(interest))"
   ]
  },
  {
   "cell_type": "code",
   "execution_count": 8,
   "metadata": {},
   "outputs": [
    {
     "name": "stdout",
     "output_type": "stream",
     "text": [
      "Enter Number: 5\n",
      "SUM of first  5 natural numbers is:  15\n"
     ]
    }
   ],
   "source": [
    "#7.WAP to print sum of first n natural numbers (n needs to be taken as input)\n",
    "\n",
    "m = input(\"Enter Number: \")\n",
    "m = int (m)\n",
    "sum = 0\n",
    "for num in range(0, m+1, 1):\n",
    "    sum = sum+num\n",
    "print(\"SUM of first \", m, \"natural numbers is: \", sum )"
   ]
  },
  {
   "cell_type": "code",
   "execution_count": 10,
   "metadata": {},
   "outputs": [
    {
     "name": "stdout",
     "output_type": "stream",
     "text": [
      "Enter First Number: 4\n",
      "Enter Second Number: 5\n",
      "Value of num1 before swapping: 4 \n",
      "Value of num2 before swapping: 5\n",
      "Value of number1 after swapping: 5 \n",
      "Value of number2 after swapping: 4 \n"
     ]
    }
   ],
   "source": [
    "#8.WAP to input 2 numbers and swap them using normal logic with temp variable\n",
    "number1 = input('Enter First Number: ')\n",
    "number2 = input('Enter Second Number: ')\n",
    "\n",
    "print(\"Value of num1 before swapping: {0} \".format(number1))\n",
    "print(\"Value of num2 before swapping: {0}\".format(number2))\n",
    "\n",
    "temp = number1\n",
    "number1 = number2\n",
    "number2 = temp\n",
    "\n",
    "print(\"Value of number1 after swapping: {0} \".format(number1))\n",
    "print(\"Value of number2 after swapping: {0} \".format(number2))\n",
    "\n"
   ]
  },
  {
   "cell_type": "code",
   "execution_count": 12,
   "metadata": {
    "scrolled": true
   },
   "outputs": [
    {
     "name": "stdout",
     "output_type": "stream",
     "text": [
      "Enter First Number: 6\n",
      "Enter Second Number: 7\n",
      "Value of num1 before swapping :6 \n",
      "Value of num2 before swapping :7\n",
      "Value of number1 after swapping:7 \n",
      "Value of number2 after swapping:6 \n"
     ]
    }
   ],
   "source": [
    "#8.a WAP to input 2 numbers and swap them using pythonic way(without using temp variable)\n",
    "\n",
    "\n",
    "number1 = input('Enter First Number: ')\n",
    "number2 = input('Enter Second Number: ')\n",
    "\n",
    "print(\"Value of num1 before swapping :{0} \".format(number1))\n",
    "print(\"Value of num2 before swapping :{0}\".format(number2))\n",
    "\n",
    "\n",
    "\n",
    "number1, number2 = number2, number1 #swapping two numbers without using third variable\n",
    "\n",
    "\n",
    "print(\"Value of number1 after swapping:{0} \".format(number1))\n",
    "print(\"Value of number2 after swapping:{0} \".format(number2))\n"
   ]
  },
  {
   "cell_type": "code",
   "execution_count": 13,
   "metadata": {},
   "outputs": [
    {
     "name": "stdout",
     "output_type": "stream",
     "text": [
      "10\n",
      "9\n"
     ]
    }
   ],
   "source": [
    "#9. WAP to print ascii value of all white-space characters present in python\n",
    "\n",
    "print(ord('\\n'))\n",
    "print(ord('\\t'))"
   ]
  },
  {
   "cell_type": "code",
   "execution_count": null,
   "metadata": {},
   "outputs": [],
   "source": [
    "#10. Input a single character and print its ascii values. \n",
    "char=input(\"enter a single character:\")\n",
    "print(ord(char))"
   ]
  },
  {
   "cell_type": "code",
   "execution_count": null,
   "metadata": {},
   "outputs": [],
   "source": [
    "#11. WAP that takes area of a circle and gives back the radius and circumference. \n",
    "area_of_circle=int(input(\"Enter area of a circle:\"))\n",
    "radius=(area_of_circle/3.14)**(1/2)\n",
    "circumference=(2*3.14)*radius\n",
    "print(\"the radius of circle is\",radius)\n",
    "print(\"the circumference of circle is\",circumference)"
   ]
  },
  {
   "cell_type": "code",
   "execution_count": 15,
   "metadata": {},
   "outputs": [
    {
     "name": "stdout",
     "output_type": "stream",
     "text": [
      "Enter the marks of M1:40\n",
      "Enter the marks of Physics:79\n",
      "Enter the marks of Electronics:87\n",
      "Enter the marks of Electricals:98\n",
      "Enter the marks of Operating sytsem:90\n",
      "the percentage is 78.8\n"
     ]
    }
   ],
   "source": [
    "#12. We need to input marks in 5 subjects out of 100 and print percentage.\n",
    "c1=int(input(\"Enter the marks of M1:\"))\n",
    "c2=int(input(\"Enter the marks of Physics:\"))\n",
    "c3=int(input(\"Enter the marks of Electronics:\"))\n",
    "c4=int(input(\"Enter the marks of Electricals:\"))\n",
    "c5=int(input(\"Enter the marks of Operating sytsem:\"))\n",
    "sum_all=c1+c2+c3+c4+c5\n",
    "percentage=(sum_all/500)*100\n",
    "print(\"the percentage is {0}\".format(percentage))"
   ]
  }
 ],
 "metadata": {
  "kernelspec": {
   "display_name": "Python 3",
   "language": "python",
   "name": "python3"
  },
  "language_info": {
   "codemirror_mode": {
    "name": "ipython",
    "version": 3
   },
   "file_extension": ".py",
   "mimetype": "text/x-python",
   "name": "python",
   "nbconvert_exporter": "python",
   "pygments_lexer": "ipython3",
   "version": "3.7.4"
  }
 },
 "nbformat": 4,
 "nbformat_minor": 2
}
