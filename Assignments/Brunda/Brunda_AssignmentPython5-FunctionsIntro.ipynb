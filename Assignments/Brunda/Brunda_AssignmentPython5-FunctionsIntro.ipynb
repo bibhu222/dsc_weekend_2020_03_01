{
 "cells": [
  {
   "cell_type": "code",
   "execution_count": 2,
   "metadata": {},
   "outputs": [
    {
     "name": "stdout",
     "output_type": "stream",
     "text": [
      "string1: brunda\n",
      "string2: shetty\n"
     ]
    },
    {
     "data": {
      "text/plain": [
       "('shetty', 'brunda')"
      ]
     },
     "execution_count": 2,
     "metadata": {},
     "output_type": "execute_result"
    }
   ],
   "source": [
    "#1.WAP to input 2 strings and swap the strings \n",
    "def swap_str(s1,s2):\n",
    "    s1,s2=s2,s1\n",
    "    return s1,s2\n",
    "\n",
    "s1 = input(\"string1: \")\n",
    "s2 = input(\"string2: \")\n",
    "swap_str(s1,s2)"
   ]
  },
  {
   "cell_type": "code",
   "execution_count": 6,
   "metadata": {},
   "outputs": [
    {
     "data": {
      "text/plain": [
       "10.0"
      ]
     },
     "execution_count": 6,
     "metadata": {},
     "output_type": "execute_result"
    }
   ],
   "source": [
    "# 2.WAP to generate 4 random numbers in the range 0-26 and print their average \n",
    "from random import randrange as r\n",
    "\n",
    "def avg_(n1, n2, n3, n4):\n",
    "    avg = (n1 + n2 + n3 + n4)/4\n",
    "    return avg\n",
    "\n",
    "avg_(r(0,26), r(0,26), r(0,26), r(0,26))\n"
   ]
  },
  {
   "cell_type": "code",
   "execution_count": 8,
   "metadata": {},
   "outputs": [
    {
     "name": "stdout",
     "output_type": "stream",
     "text": [
      "s\n",
      "string in upper case ABCDEFGHIJKLMNOPQRSTUVWXYZ\n",
      "string in lower case  abcdefghijklmnopqrstuvwxyz\n",
      "<module 'string' from 'C:\\\\Users\\\\admin\\\\Anaconda3\\\\lib\\\\string.py'>\n"
     ]
    }
   ],
   "source": [
    "# 3. WAP to generate and print a random uppercase or lowercase alphabet. Try these:\n",
    "#• Create a string containing all alphabets and then select a random alphabet.\n",
    "#• Check the module string \n",
    "import random as rd\n",
    "def rand_alp( ):\n",
    "    s = \"abcdefghijklmnopqrstuvwxyz\"\n",
    "    rand = rd.choice(s)\n",
    "    return rand\n",
    "\n",
    "print(rand_alp( ))\n",
    "s = \"abcdefghijklmnopqrstuvwxyz\"\n",
    "print(\"string in upper case\",s.upper())\n",
    "print(\"string in lower case \",s.lower())\n",
    "\n",
    "\n",
    "def mod():\n",
    "    import string as str_\n",
    "    print(str_)\n",
    "    \n",
    "mod()"
   ]
  },
  {
   "cell_type": "code",
   "execution_count": 10,
   "metadata": {},
   "outputs": [
    {
     "name": "stdout",
     "output_type": "stream",
     "text": [
      "12.0\n"
     ]
    }
   ],
   "source": [
    "# 4.WAF get_si() that takes Principle, Rate and Time as arguments and returns the Simple Interest. \n",
    "\n",
    "def get_si(P, r,T):\n",
    "    si = (P * r * T) / 100\n",
    "    return si\n",
    "\n",
    "print(get_si(10000,0.06,2))"
   ]
  },
  {
   "cell_type": "code",
   "execution_count": 12,
   "metadata": {},
   "outputs": [
    {
     "name": "stdout",
     "output_type": "stream",
     "text": [
      "3000.0\n"
     ]
    }
   ],
   "source": [
    "# 5.WAF get_amount() that takes Principle, Rate and Time as arguments and \n",
    "#returns the Total amount using the get_si() function from above to calculate the SI.\n",
    "#Also provide Rate = 10 and Time = 1 as default arguments. \n",
    "def get_amount( P, r = 10, T = 1 ) :\n",
    "    total_amount = get_si(P, r, T)\n",
    "    return total_amount\n",
    "\n",
    "\n",
    "print(get_amount( P = 10000, r = 30 ))"
   ]
  },
  {
   "cell_type": "code",
   "execution_count": 14,
   "metadata": {},
   "outputs": [
    {
     "name": "stdout",
     "output_type": "stream",
     "text": [
      "71174.91761976562\n"
     ]
    }
   ],
   "source": [
    "#6.WAP get_ci() that takes Principle, Rate and Time as arguments and returns the Compound Interest\n",
    "def get_ci( P, r, T, n) :\n",
    "    cm_in = P * (1 + (r/n))**(n*T)\n",
    "    return cm_in\n",
    "\n",
    "print(get_ci(22000, 0.4, 3, 9))"
   ]
  },
  {
   "cell_type": "code",
   "execution_count": 21,
   "metadata": {},
   "outputs": [
    {
     "name": "stdout",
     "output_type": "stream",
     "text": [
      "(9.5, 1)\n"
     ]
    },
    {
     "data": {
      "text/plain": [
       "tuple"
      ]
     },
     "execution_count": 21,
     "metadata": {},
     "output_type": "execute_result"
    }
   ],
   "source": [
    "# 7.WAP get_q_r() taking 2 numbers as parameters and returns the quotient and remainder in the form of a tuple. \n",
    "def get_q_r(a, b):\n",
    "    quo = a / b\n",
    "    rem = a % b\n",
    "    return quo, rem\n",
    "    \n",
    "a=get_q_r(19,2)\n",
    "print(a)\n",
    "type(a)"
   ]
  },
  {
   "cell_type": "code",
   "execution_count": 23,
   "metadata": {},
   "outputs": [
    {
     "name": "stdout",
     "output_type": "stream",
     "text": [
      "enter the height: 4\n",
      "enter the base: 5\n"
     ]
    },
    {
     "data": {
      "text/plain": [
       "6.4031242374328485"
      ]
     },
     "execution_count": 23,
     "metadata": {},
     "output_type": "execute_result"
    }
   ],
   "source": [
    "#8.WAP to find the length of hypotenuse of a right angled triangle, input the height and base from user. \n",
    "import math as m\n",
    "def hypo(h, b):\n",
    "    l = m.sqrt(pow(b,2)+pow(h,2))\n",
    "    return l\n",
    "\n",
    "h = int(input(\"enter the height: \"))\n",
    "b = int(input(\"enter the base: \"))\n",
    "hypo(h, b)"
   ]
  },
  {
   "cell_type": "code",
   "execution_count": 26,
   "metadata": {},
   "outputs": [
    {
     "name": "stdout",
     "output_type": "stream",
     "text": [
      "1 day 2 hour 40 minute 0 second\n"
     ]
    }
   ],
   "source": [
    "# 9.WAP to input number of seconds and print in days, hours, minutes and seconds ex: input = 10000     \n",
    "#Output = 0 day 2 hour 46 minute 40 second \n",
    "\n",
    "def time(sec):\n",
    "    day = sec//86400\n",
    "    hr = (sec%86400)//3600\n",
    "    g = sec%3600\n",
    "    mini = g//60\n",
    "    sec = g%60\n",
    "    print(f\"{day} day {hr} hour {mini} minute {sec} second\")\n",
    "\n",
    "    \n",
    "    \n",
    "time(96000)"
   ]
  },
  {
   "cell_type": "code",
   "execution_count": 27,
   "metadata": {},
   "outputs": [
    {
     "name": "stdout",
     "output_type": "stream",
     "text": [
      "3.7.4 (default, Aug  9 2019, 18:34:13) [MSC v.1915 64 bit (AMD64)]\n"
     ]
    }
   ],
   "source": [
    "#10.Check your version of python interpreter without opening the interpreter\n",
    "#(Which command needs to be used on the command line). \n",
    "import sys\n",
    "print(sys.version)"
   ]
  },
  {
   "cell_type": "code",
   "execution_count": 28,
   "metadata": {},
   "outputs": [
    {
     "name": "stdout",
     "output_type": "stream",
     "text": [
      "2 -2\n"
     ]
    }
   ],
   "source": [
    "# 11. find output\n",
    "X = 2\n",
    "X *= 3  ## 6\n",
    "X = X % 4   ## 2\n",
    "Y = -X ### -2\n",
    "print(X,Y)"
   ]
  },
  {
   "cell_type": "code",
   "execution_count": 29,
   "metadata": {},
   "outputs": [
    {
     "name": "stdout",
     "output_type": "stream",
     "text": [
      "None\n"
     ]
    }
   ],
   "source": [
    "# 12. find output\n",
    "def func():\n",
    "    pass\n",
    "    \n",
    "print(func()) #continuous loop"
   ]
  },
  {
   "cell_type": "code",
   "execution_count": null,
   "metadata": {},
   "outputs": [],
   "source": []
  },
  {
   "cell_type": "code",
   "execution_count": null,
   "metadata": {},
   "outputs": [],
   "source": []
  }
 ],
 "metadata": {
  "kernelspec": {
   "display_name": "Python 3",
   "language": "python",
   "name": "python3"
  },
  "language_info": {
   "codemirror_mode": {
    "name": "ipython",
    "version": 3
   },
   "file_extension": ".py",
   "mimetype": "text/x-python",
   "name": "python",
   "nbconvert_exporter": "python",
   "pygments_lexer": "ipython3",
   "version": "3.7.4"
  }
 },
 "nbformat": 4,
 "nbformat_minor": 2
}
