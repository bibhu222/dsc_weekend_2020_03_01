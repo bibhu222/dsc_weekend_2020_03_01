{
 "cells": [
  {
   "cell_type": "code",
   "execution_count": 1,
   "metadata": {},
   "outputs": [
    {
     "name": "stdout",
     "output_type": "stream",
     "text": [
      "enter the first number: 3\n",
      "enter the second number: 4\n",
      "False\n"
     ]
    }
   ],
   "source": [
    "#1. WAP to input 2 numbers and check whether the first is divisible by the second and print true or false depending on the divisibility\n",
    "num1 = int(input(\"enter the first number: \"))\n",
    "num2 = int(input(\"enter the second number: \"))\n",
    "if num1 % num2 == 0:\n",
    "    print(\"True\")\n",
    "else:\n",
    "    print(\"False\")"
   ]
  },
  {
   "cell_type": "code",
   "execution_count": 2,
   "metadata": {},
   "outputs": [
    {
     "name": "stdout",
     "output_type": "stream",
     "text": [
      "Enter the stringBrunda\n",
      "The string BRUNDA is not palindrome\n"
     ]
    }
   ],
   "source": [
    "#2.In the palindrome example, make the code case insensitive i.e. Naman should also treated as palindrome\n",
    "string=input(\"Enter the string\")\n",
    "s=string.upper()\n",
    "s1=s[::-1]\n",
    "if s==s1:\n",
    "    print(\"the string {0} is palindrome\".format(s))\n",
    "else:\n",
    "    print(\"The string {0} is not palindrome\".format(s))"
   ]
  },
  {
   "cell_type": "code",
   "execution_count": 4,
   "metadata": {},
   "outputs": [
    {
     "name": "stdout",
     "output_type": "stream",
     "text": [
      "input the sides of triangle \n",
      "x: 3\n",
      "y: 4\n",
      "z: 5\n",
      "Scalene triangle\n"
     ]
    }
   ],
   "source": [
    "#3.WAP to input the sides of a triangle and print whether equlateral (all sides are eaual), isosceles(2sides are equal), or scalene(no sides equal)\n",
    "\n",
    "print(\"input the sides of triangle \")\n",
    "x = int(input(\"x: \"))\n",
    "y = int(input(\"y: \"))\n",
    "z = int(input(\"z: \"))\n",
    "\n",
    "if x == y == z:\n",
    "    print(\"Equilateral triangle\")\n",
    "elif x==y or y==z or z==x:\n",
    "    print(\"Isosceles triangle\")\n",
    "else:\n",
    "    print(\"Scalene triangle\")"
   ]
  },
  {
   "cell_type": "code",
   "execution_count": 5,
   "metadata": {},
   "outputs": [
    {
     "name": "stdout",
     "output_type": "stream",
     "text": [
      "Enter a number: 45\n",
      "45 is Odd number\n"
     ]
    }
   ],
   "source": [
    "#4. WAP to input a number and print if it is even or odd\n",
    "number = int(input(\"Enter a number: \"))  \n",
    "if (number% 2) == 0:  \n",
    "   print(\"{0} is Even number\".format(number))  \n",
    "else:  \n",
    "   print(\"{0} is Odd number\".format(number))  "
   ]
  },
  {
   "cell_type": "code",
   "execution_count": 6,
   "metadata": {},
   "outputs": [
    {
     "name": "stdout",
     "output_type": "stream",
     "text": [
      "Enter the age:45\n",
      "Adult\n"
     ]
    }
   ],
   "source": [
    "#5.WAP to input age and print the respective text depending on the age ranges as present in the table\n",
    "\n",
    "age=int(input(\"Enter the age:\"))\n",
    "if age>=0 and age<13:\n",
    "    print(\"Child\")\n",
    "elif age>=13 and age<18:\n",
    "    print(\"Teen\")\n",
    "elif age>=18 and age<51:\n",
    "    print(\"Adult\")\n",
    "elif age>=51 and age<=100:\n",
    "    print(\"Senior citizen\")\n",
    "else:\n",
    "    print(\"Congratulations\")"
   ]
  },
  {
   "cell_type": "code",
   "execution_count": 7,
   "metadata": {},
   "outputs": [
    {
     "name": "stdout",
     "output_type": "stream",
     "text": [
      "Enter the year: 2019\n",
      "2019 is not leap year\n"
     ]
    }
   ],
   "source": [
    "#6.WAP to input year (check if user enters valid year. Should be 4-digit number and should not be negative) and print whether leap year or not. \n",
    "\n",
    "y=int(input(\"Enter the year: \"))\n",
    "if y>=1000 and y>0:\n",
    "    if y%4==0 and y%100!=0 or y%400==0:\n",
    "        print(\"{0} is leap year\".format(y))\n",
    "    else:\n",
    "        print(\"{0} is not leap year\". format(y))\n",
    "else:\n",
    "    print(\"invalid year\")"
   ]
  },
  {
   "cell_type": "code",
   "execution_count": 8,
   "metadata": {},
   "outputs": [
    {
     "name": "stdout",
     "output_type": "stream",
     "text": [
      "Enter the String:Brundag\n",
      "The string is even \n",
      "s.lower()) brundag\n"
     ]
    }
   ],
   "source": [
    "#7. WAP to input a string and convert to upper case if number of characters is odd and convert to lower case ptherwise\n",
    "s=input(\"Enter the String:\")\n",
    "if len(s)%2==0:\n",
    "    print(\"The string is odd \\n upper()\",s.upper())\n",
    "else:\n",
    "    print(\"The string is even \\ns.lower())\",s.lower())"
   ]
  },
  {
   "cell_type": "code",
   "execution_count": 14,
   "metadata": {},
   "outputs": [
    {
     "name": "stdout",
     "output_type": "stream",
     "text": [
      "Enter the string: chiili egg\n",
      "Non-Veg\n"
     ]
    }
   ],
   "source": [
    "#8.WAP to input a string and print Veg if the string doesn't contain the word egg. Otherwise print NON-Veg. As usual eggs can be both big and small\n",
    "\n",
    "string=input(\"Enter the string: \")\n",
    "\n",
    "s=string.lower()\n",
    "s1='egg'\n",
    "if s1 in s:\n",
    "    print(\"Non-Veg\")\n",
    "else:\n",
    "    print(\"Veg\")"
   ]
  },
  {
   "cell_type": "code",
   "execution_count": 15,
   "metadata": {},
   "outputs": [
    {
     "name": "stdout",
     "output_type": "stream",
     "text": [
      "True\n"
     ]
    }
   ],
   "source": [
    "#9. give output of\n",
    "if not 1:\n",
    "    print(\"False\")\n",
    "else:\n",
    "    print(\"True\")"
   ]
  },
  {
   "cell_type": "code",
   "execution_count": 16,
   "metadata": {},
   "outputs": [
    {
     "name": "stdout",
     "output_type": "stream",
     "text": [
      "True\n"
     ]
    }
   ],
   "source": [
    "#9 a. \n",
    "if 1:\n",
    "    print(\"True\")\n",
    "else:\n",
    "    print(\"False\")"
   ]
  },
  {
   "cell_type": "code",
   "execution_count": 21,
   "metadata": {},
   "outputs": [
    {
     "name": "stdout",
     "output_type": "stream",
     "text": [
      "Weird !!\n"
     ]
    }
   ],
   "source": [
    "if 'a' >'A':\n",
    "    print('Weird !!')\n",
    "else:\n",
    "    print(\"Makes Sense\")"
   ]
  },
  {
   "cell_type": "code",
   "execution_count": 23,
   "metadata": {},
   "outputs": [
    {
     "name": "stdout",
     "output_type": "stream",
     "text": [
      "65\n",
      "97\n"
     ]
    }
   ],
   "source": [
    "print(ord('A'))\n",
    "print(ord('a'))"
   ]
  },
  {
   "cell_type": "code",
   "execution_count": 22,
   "metadata": {},
   "outputs": [
    {
     "name": "stdout",
     "output_type": "stream",
     "text": [
      "[4, 3, 2, 1]\n"
     ]
    }
   ],
   "source": [
    "a= [1,2,3,4]\n",
    "if 1> 1:\n",
    "    a= a[::-1]\n",
    "else:\n",
    "    a=a[-1::-1]\n",
    "print(a)    "
   ]
  },
  {
   "cell_type": "code",
   "execution_count": 2,
   "metadata": {},
   "outputs": [
    {
     "name": "stdout",
     "output_type": "stream",
     "text": [
      "Enter the marks in physics: 34\n",
      "Enter the marks in chemistry: 45\n",
      "Enter the marks in electronics: 67\n",
      "Enter the marks in Mathematics 1: 67\n",
      "Enter the marks in Operating system: 78\n",
      "percentage 58.199999999999996\n",
      "grade F\n"
     ]
    }
   ],
   "source": [
    "#10. WAP to input makrs in 5 subjects and print the grade as per following logic:\n",
    "phy=int(input(\"Enter the marks in physics: \"))\n",
    "chem=int(input(\"Enter the marks in chemistry: \"))\n",
    "elec=int(input(\"Enter the marks in electronics: \"))\n",
    "m1=int(input(\"Enter the marks in Mathematics 1: \"))\n",
    "os=int(input(\"Enter the marks in Operating system: \"))\n",
    "sum_=phy+chem+elec+m1+os\n",
    "percentage=(sum_/500)*100\n",
    "print(\"percentage\", percentage)\n",
    "if percentage>=90:\n",
    "    print(\"grade A\")\n",
    "elif percentage<90 and percentage>=80:\n",
    "    print(\"grade B\")\n",
    "elif percentage<80 and percentage>=70:\n",
    "    print(\"grade C\")\n",
    "elif percentage<70 and percentage>=60:\n",
    "    print(\"grade D\")\n",
    "elif percentage<60:\n",
    "    print(\"grade F\")"
   ]
  },
  {
   "cell_type": "code",
   "execution_count": 4,
   "metadata": {},
   "outputs": [
    {
     "name": "stdout",
     "output_type": "stream",
     "text": [
      "enter the age: 78\n",
      "enter the salary: 600000\n",
      "tax =  48000.0\n"
     ]
    }
   ],
   "source": [
    "#11. WAP to input age and salary and calculate TAx as per tax rates if following table:\n",
    "#calculate tax as per age\n",
    "age=int(input(\"enter the age: \"))\n",
    "sal=int(input(\"enter the salary: \"))\n",
    "if age < 60 :\n",
    "    if sal<250000:\n",
    "        tax=0\n",
    "        print(\"zero tax\")\n",
    "    elif sal>250000 and sal<=500000:\n",
    "        tax=0.05*sal\n",
    "        print(\"tax= \", tax)\n",
    "    elif sal>500000 and sal<=1000000:\n",
    "        tax=0.10*sal\n",
    "        print(\"tax = \",tax)\n",
    "    elif sal>1000001:\n",
    "        tax=0.15*sal\n",
    "        print(\"tax = \",tax)\n",
    "elif age >= 60 :\n",
    "    if sal<250000:\n",
    "        tax=0\n",
    "        print(\"zero tax\")\n",
    "    elif sal>250000 and sal<=500000:\n",
    "        tax=0.03*sal\n",
    "        print(\"tax= \", tax)\n",
    "    elif sal>500000 and sal<=1000000:\n",
    "        tax=0.08*sal\n",
    "        print(\"tax = \",tax)\n",
    "    elif sal>1000001:\n",
    "        tax=0.12*sal\n",
    "        print(\"tax = \",tax)"
   ]
  },
  {
   "cell_type": "code",
   "execution_count": 9,
   "metadata": {},
   "outputs": [
    {
     "name": "stdout",
     "output_type": "stream",
     "text": [
      "10\n"
     ]
    }
   ],
   "source": [
    "#12. \n",
    "print( 20 if not 1 == 1 else 10)\n"
   ]
  },
  {
   "cell_type": "code",
   "execution_count": 7,
   "metadata": {},
   "outputs": [
    {
     "name": "stdout",
     "output_type": "stream",
     "text": [
      "10\n"
     ]
    }
   ],
   "source": [
    "print( 30 if not 1 == 1 else 20 if 'a' < 'A' else 10)"
   ]
  },
  {
   "cell_type": "code",
   "execution_count": 8,
   "metadata": {},
   "outputs": [
    {
     "name": "stdout",
     "output_type": "stream",
     "text": [
      "10\n"
     ]
    }
   ],
   "source": [
    "print(40 if not 1 == 1 else 30 if 'a'< 'A' else 20 if '' else 10)"
   ]
  },
  {
   "cell_type": "code",
   "execution_count": 10,
   "metadata": {},
   "outputs": [
    {
     "name": "stdout",
     "output_type": "stream",
     "text": [
      "OMG\n"
     ]
    }
   ],
   "source": [
    "print('No' if not 1==1 else ('No' if 'a'<'A' else ('OMG' if 'oh!!' else 'No')))"
   ]
  },
  {
   "cell_type": "code",
   "execution_count": 14,
   "metadata": {},
   "outputs": [
    {
     "name": "stdout",
     "output_type": "stream",
     "text": [
      "Enter the height in cm: 163\n",
      "Enter the weight in kg: 70\n",
      "overweight\n"
     ]
    }
   ],
   "source": [
    "\n",
    "# WAF: bmi() that takes the weight in kg and height in cm of a person, calculates and returns the BMI. Write code that calls this function after taking height and weight as inputs and then printsunderweight, normal, overweight or obese depending on the value of BMI. \n",
    "height = float(input(\"Enter the height in cm: \"))\n",
    "weight =int(input(\"Enter the weight in kg: \"))\n",
    "\n",
    "bmi = (weight/(height**2))*10000\n",
    "if bmi<=18.5:\n",
    "    print(\"Underweight\")\n",
    "elif bmi>18.5 and bmi<25:\n",
    "    print(\"Normal\")\n",
    "elif bmi>25 and bmi<30:\n",
    "    print(\"overweight\")\n",
    "elif bmi>30:\n",
    "    print(\"Obese\")"
   ]
  },
  {
   "cell_type": "code",
   "execution_count": 15,
   "metadata": {},
   "outputs": [
    {
     "name": "stdout",
     "output_type": "stream",
     "text": [
      "Enter the age:23\n",
      "Enter the age:13\n",
      "Enter the age:10\n",
      "oldest 23 years\n",
      "oldest 13 years\n",
      "youngest 10 years\n"
     ]
    }
   ],
   "source": [
    "#14.Take input of age of 3 people by user and determine oldest and youngest among them\n",
    "person1 = int(input(\"Enter the age:\"))\n",
    "person2 = int(input(\"Enter the age:\"))\n",
    "person3 = int(input(\"Enter the age:\"))\n",
    "\n",
    "for age in person1,person2,person3:\n",
    "    if age>10:\n",
    "        print(\"oldest\",age,\"years\")\n",
    "    else:\n",
    "        print(\"youngest\",age,\"years\")"
   ]
  },
  {
   "cell_type": "code",
   "execution_count": 1,
   "metadata": {},
   "outputs": [
    {
     "name": "stdout",
     "output_type": "stream",
     "text": [
      "enter the number: 55\n",
      "Number is not divisible\n"
     ]
    }
   ],
   "source": [
    "#15.WAP to input a number and check if number is divisible by both 5 and 7.\n",
    "num= int(input(\"enter the number: \"))\n",
    "if num%5==0 and num%7==0:\n",
    "    print(\" Number is divisible by both 5 and 7\")\n",
    "else:\n",
    "    print(\"Number is not divisible\")"
   ]
  }
 ],
 "metadata": {
  "kernelspec": {
   "display_name": "Python 3",
   "language": "python",
   "name": "python3"
  },
  "language_info": {
   "codemirror_mode": {
    "name": "ipython",
    "version": 3
   },
   "file_extension": ".py",
   "mimetype": "text/x-python",
   "name": "python",
   "nbconvert_exporter": "python",
   "pygments_lexer": "ipython3",
   "version": "3.7.4"
  }
 },
 "nbformat": 4,
 "nbformat_minor": 2
}
