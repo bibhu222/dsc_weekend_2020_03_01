{
 "cells": [
  {
   "cell_type": "markdown",
   "metadata": {},
   "source": [
    "## NUMPY"
   ]
  },
  {
   "cell_type": "code",
   "execution_count": 1,
   "metadata": {},
   "outputs": [
    {
     "name": "stdout",
     "output_type": "stream",
     "text": [
      "(5,)\n",
      "<class 'numpy.ndarray'>\n",
      "[0. 0. 0. 0. 0.]\n",
      "8\n",
      "float64\n"
     ]
    }
   ],
   "source": [
    "#1.create a numpy array of 5 zeros.check datatype, itemsize and shape of above\n",
    "import numpy as np\n",
    "a = np.zeros(5)\n",
    "print(a.shape)\n",
    "print(type(a))\n",
    "print(a)\n",
    "print(a.itemsize)\n",
    "print(a.dtype)"
   ]
  },
  {
   "cell_type": "code",
   "execution_count": 2,
   "metadata": {},
   "outputs": [
    {
     "name": "stdout",
     "output_type": "stream",
     "text": [
      "[[1. 1. 1. 1.]\n",
      " [1. 1. 1. 1.]\n",
      " [1. 1. 1. 1.]\n",
      " [1. 1. 1. 1.]\n",
      " [1. 1. 1. 1.]]\n"
     ]
    }
   ],
   "source": [
    "# 2.create a numpy array of ones of shape (5,4)\n",
    "ar = np.ones((5,4))\n",
    "print(ar)"
   ]
  },
  {
   "cell_type": "code",
   "execution_count": 4,
   "metadata": {},
   "outputs": [
    {
     "name": "stdout",
     "output_type": "stream",
     "text": [
      "The matrix:\n",
      "[[ 1  2  3  4  5]\n",
      " [ 6  7  8  9 10]\n",
      " [11 12 13 14 15]\n",
      " [16 17 18 19 20]]\n"
     ]
    }
   ],
   "source": [
    "# 3. create a matrix of shape 4,5 with numbers from 1-20\n",
    "a = np.arange(1,21)\n",
    "a.resize(4,5)\n",
    "print(\"The matrix:\", end=\"\\n\")\n",
    "print(a)"
   ]
  },
  {
   "cell_type": "code",
   "execution_count": 5,
   "metadata": {},
   "outputs": [
    {
     "data": {
      "text/plain": [
       "array([[ 10,  20,  30,  40,  50],\n",
       "       [ 60,  70,  80,  90, 100],\n",
       "       [110, 120, 130, 140, 150],\n",
       "       [160, 170, 180, 190, 200]])"
      ]
     },
     "execution_count": 5,
     "metadata": {},
     "output_type": "execute_result"
    }
   ],
   "source": [
    "# 4. multiply all elements of above array by 10\n",
    "a*10"
   ]
  },
  {
   "cell_type": "code",
   "execution_count": 7,
   "metadata": {},
   "outputs": [
    {
     "data": {
      "text/plain": [
       "array([ 1,  3,  5,  7,  9, 11, 13, 15, 17, 19])"
      ]
     },
     "execution_count": 7,
     "metadata": {},
     "output_type": "execute_result"
    }
   ],
   "source": [
    "# 5. print odd elements from array\n",
    "a[np.where(a%2!=0)]"
   ]
  },
  {
   "cell_type": "code",
   "execution_count": 9,
   "metadata": {},
   "outputs": [
    {
     "name": "stdout",
     "output_type": "stream",
     "text": [
      "[[  1  -2   3  -4   5]\n",
      " [ -6   7  -8   9 -10]\n",
      " [ 11 -12  13 -14  15]\n",
      " [-16  17 -18  19 -20]]\n"
     ]
    }
   ],
   "source": [
    "# 6.Replace all even elements by their negative\n",
    "a[np.where(a%2==0)] = -a[np.where(a%2==0)]\n",
    "print(a)"
   ]
  },
  {
   "cell_type": "code",
   "execution_count": 13,
   "metadata": {},
   "outputs": [
    {
     "name": "stdout",
     "output_type": "stream",
     "text": [
      "[[ 1.  2.  3.  4.]\n",
      " [ 5.  6.  7.  8.]\n",
      " [ 9. 10. 11. 12.]\n",
      " [13. 14. 15. 16.]]\n"
     ]
    },
    {
     "data": {
      "text/plain": [
       "numpy.matrix"
      ]
     },
     "execution_count": 13,
     "metadata": {},
     "output_type": "execute_result"
    }
   ],
   "source": [
    "# 7.Create a linearly spaced matrix M1 of size 4x4 having values in range 1-16\n",
    "M1 = np.linspace(1,16,16)\n",
    "M1.resize(4,4)\n",
    "M1 = np.matrix(M1)\n",
    "print(M1)\n",
    "type(M1)"
   ]
  },
  {
   "cell_type": "code",
   "execution_count": 14,
   "metadata": {},
   "outputs": [
    {
     "name": "stdout",
     "output_type": "stream",
     "text": [
      "[[ 1.  5.  9. 13.]\n",
      " [ 2.  6. 10. 14.]\n",
      " [ 3.  7. 11. 15.]\n",
      " [ 4.  8. 12. 16.]]\n"
     ]
    }
   ],
   "source": [
    "# 8.Create a transpose of above matrix call it M2\n",
    "M2 = np.transpose(M1)\n",
    "print(M2)"
   ]
  },
  {
   "cell_type": "code",
   "execution_count": 15,
   "metadata": {},
   "outputs": [
    {
     "name": "stdout",
     "output_type": "stream",
     "text": [
      "[[ 2.  7. 12. 17.]\n",
      " [ 7. 12. 17. 22.]\n",
      " [12. 17. 22. 27.]\n",
      " [17. 22. 27. 32.]]\n"
     ]
    }
   ],
   "source": [
    "#9.Find sum of above matrix M3 = (M1 + M2)\n",
    "M3 = M1 + M2\n",
    "print(M3)"
   ]
  },
  {
   "cell_type": "code",
   "execution_count": 17,
   "metadata": {},
   "outputs": [
    {
     "name": "stdout",
     "output_type": "stream",
     "text": [
      "True\n"
     ]
    },
    {
     "data": {
      "text/plain": [
       "numpy.matrix"
      ]
     },
     "execution_count": 17,
     "metadata": {},
     "output_type": "execute_result"
    }
   ],
   "source": [
    "#10.Find Transpose of M3, Call it MT1. Check if M3 == MT1\n",
    "MT1 = np.transpose(M3)\n",
    "print((M3 == MT1).all())\n",
    "type(M3)"
   ]
  },
  {
   "cell_type": "code",
   "execution_count": 18,
   "metadata": {},
   "outputs": [
    {
     "name": "stdout",
     "output_type": "stream",
     "text": [
      "[[ 0. -3. -6. -9.]\n",
      " [ 3.  0. -3. -6.]\n",
      " [ 6.  3.  0. -3.]\n",
      " [ 9.  6.  3.  0.]]\n"
     ]
    }
   ],
   "source": [
    "#11.Find diffrence of M4 = (M1 - M2)\n",
    "M4 = (M1 - M2)\n",
    "print(M4)"
   ]
  },
  {
   "cell_type": "code",
   "execution_count": 19,
   "metadata": {},
   "outputs": [
    {
     "name": "stdout",
     "output_type": "stream",
     "text": [
      "False\n",
      "True\n"
     ]
    }
   ],
   "source": [
    "#12.Find Transpose of M4, Call it MT2. Check if M4 == MT2. Also check if M4 == -MT2\n",
    "MT2 = np.transpose(M4)\n",
    "print((M4 == MT2).all())\n",
    "print((M4 == -MT2).all())"
   ]
  },
  {
   "cell_type": "code",
   "execution_count": 31,
   "metadata": {},
   "outputs": [
    {
     "name": "stdout",
     "output_type": "stream",
     "text": [
      "[[37 10 32 29]\n",
      " [25 31 10 15]\n",
      " [17 20 22 29]]\n",
      "\n",
      "min [[17 10 10 15]]\n",
      "max [[37 31 32 29]]\n",
      "\n",
      "[[ 37  10  32 108]\n",
      " [ 25  31  10  81]\n",
      " [ 17  20  22  88]]\n"
     ]
    }
   ],
   "source": [
    "#13.Create a matrix (3x4) R1 of random numbers between 10-40\n",
    "R1 = np.random.randint(10,40,12)\n",
    "R1.resize(3,4)\n",
    "R1 = np.matrix(R1)\n",
    "print(R1)\n",
    "\n",
    "print()\n",
    "\n",
    "# 14.Find min and max column wise\n",
    "print(\"min\", np.min(R1, axis=0))\n",
    "print(\"max\", np.max(R1, axis=0))\n",
    "\n",
    "print()\n",
    "\n",
    "# 15.Replace the last column with sum of all the columns\n",
    "R1[:,3] = np.sum(R1, axis=1)\n",
    "print(R1)\n"
   ]
  },
  {
   "cell_type": "code",
   "execution_count": 46,
   "metadata": {},
   "outputs": [
    {
     "name": "stdout",
     "output_type": "stream",
     "text": [
      "[[20. 14. 25. 14.]\n",
      " [16. 20. 22. 21.]\n",
      " [11. 14. 25. 33.]]\n",
      "\n",
      "[[nan nan 25. nan]\n",
      " [nan nan nan 21.]\n",
      " [11. nan 25. 33.]]\n",
      "\n"
     ]
    },
    {
     "data": {
      "text/plain": [
       "7"
      ]
     },
     "execution_count": 46,
     "metadata": {},
     "output_type": "execute_result"
    }
   ],
   "source": [
    "# 16.Create a matrix (3x4) R1 of random numbers between 10-40\n",
    "R1 = np.random.randint(10,40,12)\n",
    "R1.resize(3,4)\n",
    "R1 = np.matrix(R1)\n",
    "R1 = np.matrix(R1, dtype=float)\n",
    "print(R1)\n",
    "\n",
    "\n",
    "print()\n",
    "# 17.Replace all even elements with nan in R1\n",
    "R1[np.where(R1%2==0)] = np.nan\n",
    "print(R1)\n",
    "\n",
    "\n",
    "print()\n",
    "\n",
    "#18.Count number of nan in R1\n",
    "np.isnan(R1).sum()\n"
   ]
  },
  {
   "cell_type": "code",
   "execution_count": 50,
   "metadata": {},
   "outputs": [
    {
     "name": "stdout",
     "output_type": "stream",
     "text": [
      "[[1 2 3]\n",
      " [4 5 6]\n",
      " [7 8 9]]\n",
      "\n",
      "[[11 12 13]\n",
      " [14 15 16]\n",
      " [17 18 19]]\n",
      "\n",
      "[ 1  2  3  4  5  6  7  8  9 11 12 13 14 15 16 17 18 19]\n",
      "\n",
      "[[ 1  2  3]\n",
      " [ 4  5  6]\n",
      " [ 7  8  9]\n",
      " [11 12 13]\n",
      " [14 15 16]\n",
      " [17 18 19]]\n",
      "\n",
      "[[ 1  2  3 11 12 13]\n",
      " [ 4  5  6 14 15 16]\n",
      " [ 7  8  9 17 18 19]]\n"
     ]
    }
   ],
   "source": [
    "#19.Check output of this code\n",
    "a1 = np.arange(1,10).reshape(3,3)\n",
    "print(a1)\n",
    "print()\n",
    "a2 = np.arange(11,20).reshape(3,3)\n",
    "print(a2)\n",
    "print()\n",
    "a3 = np.append(a1,a2)\n",
    "print(a3)\n",
    "print()\n",
    "a3 = np.append(a1,a2, axis = 0)\n",
    "print(a3)\n",
    "print()\n",
    "a3 = np.append(a1,a2, axis = 1)\n",
    "print(a3)"
   ]
  },
  {
   "cell_type": "code",
   "execution_count": null,
   "metadata": {},
   "outputs": [],
   "source": []
  },
  {
   "cell_type": "code",
   "execution_count": null,
   "metadata": {},
   "outputs": [],
   "source": []
  },
  {
   "cell_type": "code",
   "execution_count": null,
   "metadata": {},
   "outputs": [],
   "source": []
  }
 ],
 "metadata": {
  "kernelspec": {
   "display_name": "Python 3",
   "language": "python",
   "name": "python3"
  },
  "language_info": {
   "codemirror_mode": {
    "name": "ipython",
    "version": 3
   },
   "file_extension": ".py",
   "mimetype": "text/x-python",
   "name": "python",
   "nbconvert_exporter": "python",
   "pygments_lexer": "ipython3",
   "version": "3.7.4"
  }
 },
 "nbformat": 4,
 "nbformat_minor": 2
}
