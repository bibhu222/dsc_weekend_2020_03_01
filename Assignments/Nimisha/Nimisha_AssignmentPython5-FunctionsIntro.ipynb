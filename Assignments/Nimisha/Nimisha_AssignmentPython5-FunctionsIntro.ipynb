{
 "cells": [
  {
   "cell_type": "markdown",
   "metadata": {},
   "source": [
    "#### 1. WAP to input 2 strings and swap the strings "
   ]
  },
  {
   "cell_type": "code",
   "execution_count": 10,
   "metadata": {},
   "outputs": [
    {
     "name": "stdout",
     "output_type": "stream",
     "text": [
      "Enter the 1st string: nimi\n",
      "Enter the 2nd string: sha\n",
      "sha\n",
      "nimi\n"
     ]
    }
   ],
   "source": [
    "str1 = input(\"Enter the 1st string: \")\n",
    "str2 = input(\"Enter the 2nd string: \")  \n",
    "str1,str2 = str2,str1\n",
    "print(str1)\n",
    "print(str2)"
   ]
  },
  {
   "cell_type": "markdown",
   "metadata": {},
   "source": [
    "#### 2. WAP to generate 4 random numbers in the range 0-26 and print their average "
   ]
  },
  {
   "cell_type": "code",
   "execution_count": 44,
   "metadata": {},
   "outputs": [
    {
     "name": "stdout",
     "output_type": "stream",
     "text": [
      "[23, 13, 1, 18]\n",
      "13.75\n"
     ]
    }
   ],
   "source": [
    "import random \n",
    "s=[random.randrange(1,26),random.randrange(1,26),random.randrange(1,26),random.randrange(1,26)]\n",
    "print(s)\n",
    "print(format(sum(s)/len(s)))"
   ]
  },
  {
   "cell_type": "markdown",
   "metadata": {},
   "source": [
    "#### 3. WAP to generate and print a random uppercase or lowercase alphabet. \n",
    "        Try these:  \n",
    "                • Create a string containing all alphabets and then select a random alphabet.\n",
    "                  (UPPER CASE[A-Z]: 65-91)\n",
    "                  (LOWER CASE[a-z]: 97-123)\n",
    "                \n",
    "                • Check the module string 4"
   ]
  },
  {
   "cell_type": "code",
   "execution_count": 3,
   "metadata": {},
   "outputs": [
    {
     "name": "stdout",
     "output_type": "stream",
     "text": [
      "['A', 'B', 'C', 'D', 'E', 'F', 'G', 'H', 'I', 'J', 'K', 'L', 'M', 'N', 'O', 'P', 'Q', 'R', 'S', 'T', 'U', 'V', 'W', 'X', 'Y', 'Z', 'a', 'b', 'c', 'd', 'e', 'f', 'g', 'h', 'i', 'j', 'k', 'l', 'm', 'n', 'o', 'p', 'q', 'r', 's', 't', 'u', 'v', 'w', 'x', 'y', 'z']\n",
      "<module 'string' from 'C:\\\\ProgramData\\\\Anaconda3\\\\lib\\\\string.py'>\n"
     ]
    }
   ],
   "source": [
    "import random\n",
    "list = []\n",
    "for i in range(65,91): \n",
    "        list.append(chr(i))\n",
    "for j in range(97,123): \n",
    "        list.append(chr(j))\n",
    "print(list)\n",
    "random.choice(list)+random.choice(list)+random.choice(list)+random.choice(list)\n",
    "\n",
    "#module string\n",
    "def mod():\n",
    "    import string as str_\n",
    "    print(str_)\n",
    "    \n",
    "mod()"
   ]
  },
  {
   "cell_type": "markdown",
   "metadata": {},
   "source": [
    "#### 4. WAF get_si() that takes Principle, Rate and Time as arguments and returns the Simple Interest. "
   ]
  },
  {
   "cell_type": "code",
   "execution_count": 64,
   "metadata": {},
   "outputs": [
    {
     "name": "stdout",
     "output_type": "stream",
     "text": [
      "Amount = 100000\n",
      "Time = 5\n",
      "Rate = 6.1\n",
      "30500.0\n"
     ]
    }
   ],
   "source": [
    "#Function\n",
    "def get_si(p,t,r):\n",
    "    SI=((p*t*r)/100)\n",
    "    return SI\n",
    "#Input\n",
    "p = int(input(\"Amount = \"))\n",
    "t = int(input(\"Time = \"))\n",
    "r = float(input(\"Rate = \"))\n",
    "\n",
    "#Output\n",
    "print(get_si(p,t,r))\n"
   ]
  },
  {
   "cell_type": "markdown",
   "metadata": {},
   "source": [
    "#### 5. WAF get_amount() that takes Principle, Rate and Time as arguments and returns the Total amount using the get_si() function from above to calculate the SI. \n",
    "    Also provide Rate = 10 and Time = 1 as default arguments. "
   ]
  },
  {
   "cell_type": "code",
   "execution_count": 67,
   "metadata": {},
   "outputs": [
    {
     "data": {
      "text/plain": [
       "1100.0"
      ]
     },
     "execution_count": 67,
     "metadata": {},
     "output_type": "execute_result"
    }
   ],
   "source": [
    "def get_amount(P,R = 10,T = 1):\n",
    "    A = P + get_si(P,T,R)\n",
    "    return A\n",
    "get_amount(1000)"
   ]
  },
  {
   "cell_type": "markdown",
   "metadata": {},
   "source": [
    "#### 6. WAP get_ci() that takes Principle, Rate and Time as arguments and returns the Compound Interest. "
   ]
  },
  {
   "cell_type": "code",
   "execution_count": 73,
   "metadata": {},
   "outputs": [
    {
     "name": "stdout",
     "output_type": "stream",
     "text": [
      "Enter the principle amount : 222\n",
      "Enter the rate of interest : 2\n",
      "Enter the time in the years: 1\n",
      "Total Amount =  204.0\n"
     ]
    }
   ],
   "source": [
    "#Function\n",
    "def get_ci(P,T,R,CI):\n",
    "    CI = P * (pow((1 + R / 100), T))\n",
    "    return CI\n",
    "#Input\n",
    "P = float(input(\"Enter the principle amount : \"))\n",
    "R = float(input(\"Enter the rate of interest : \"))\n",
    "T = float(input(\"Enter the time in the years: \"))\n",
    "\n",
    "#output\n",
    "print(\"Total Amount = \",get_amount(p,r,t))"
   ]
  },
  {
   "cell_type": "markdown",
   "metadata": {},
   "source": [
    "#### 7. WAP get_q_r() taking 2 numbers as parameters and returns the quotient and remainder in the form of a tuple. "
   ]
  },
  {
   "cell_type": "code",
   "execution_count": 6,
   "metadata": {},
   "outputs": [
    {
     "data": {
      "text/plain": [
       "(3.0, 0)"
      ]
     },
     "execution_count": 6,
     "metadata": {},
     "output_type": "execute_result"
    }
   ],
   "source": [
    "def get_q_r(a,b):\n",
    "    quo = a/b\n",
    "    rem = a%b\n",
    "    return quo,rem\n",
    "get_q_r(9,3)\n"
   ]
  },
  {
   "cell_type": "markdown",
   "metadata": {},
   "source": [
    "#### 8. WAP to find the length of hypotenuse of a right angled triangle, input the height and base from user"
   ]
  },
  {
   "cell_type": "code",
   "execution_count": 8,
   "metadata": {},
   "outputs": [
    {
     "name": "stdout",
     "output_type": "stream",
     "text": [
      "Enter Height: 5\n",
      "Enter Base: 9\n"
     ]
    },
    {
     "data": {
      "text/plain": [
       "10.295630140987"
      ]
     },
     "execution_count": 8,
     "metadata": {},
     "output_type": "execute_result"
    }
   ],
   "source": [
    "import math as ma\n",
    "\n",
    "def len_hypo(h,b):\n",
    "    length = ma.sqrt(pow(b,2)+pow(h,2))\n",
    "    return length\n",
    "\n",
    "h = int(input(\"Enter Height: \"))\n",
    "b = int(input(\"Enter Base: \"))\n",
    "len_hypo(h,b)\n"
   ]
  },
  {
   "cell_type": "markdown",
   "metadata": {},
   "source": [
    "#### 9. WAP to input number of seconds and print in days, hours, minutes and seconds \n",
    "                        ex: input = 10000   \n",
    "                        Output = 0 day 2 hour 46 minute 40 sec"
   ]
  },
  {
   "cell_type": "code",
   "execution_count": 9,
   "metadata": {},
   "outputs": [
    {
     "name": "stdout",
     "output_type": "stream",
     "text": [
      "0 Day 23 Hour 53 Minute 20 Second\n"
     ]
    }
   ],
   "source": [
    "def get_time(sec):\n",
    "    d = sec//86400\n",
    "    hr = (sec%86400)//3600\n",
    "    l = sec%3600\n",
    "    m = l//60\n",
    "    s = l%60\n",
    "    print(f\"{d} Day {hr} Hour {m} Minute {s} Second\")\n",
    "get_time(86000)    "
   ]
  },
  {
   "cell_type": "markdown",
   "metadata": {},
   "source": [
    "#### 10. Check your version of python interpreter without opening the interpreter (Which command needs to be used on the command line). "
   ]
  },
  {
   "cell_type": "code",
   "execution_count": 10,
   "metadata": {},
   "outputs": [
    {
     "name": "stdout",
     "output_type": "stream",
     "text": [
      "3.7.4 (default, Aug  9 2019, 18:34:13) [MSC v.1915 64 bit (AMD64)]\n"
     ]
    }
   ],
   "source": [
    "import sys\n",
    "print(sys.version)"
   ]
  },
  {
   "cell_type": "markdown",
   "metadata": {},
   "source": [
    "#### 11. Find output"
   ]
  },
  {
   "cell_type": "code",
   "execution_count": 11,
   "metadata": {},
   "outputs": [
    {
     "name": "stdout",
     "output_type": "stream",
     "text": [
      "2 -2\n"
     ]
    }
   ],
   "source": [
    "X = 2\n",
    "X *= 3\n",
    "X = X%4\n",
    "Y = - X\n",
    "print(X,Y)"
   ]
  },
  {
   "cell_type": "markdown",
   "metadata": {},
   "source": [
    "#### 12. Find output\n"
   ]
  },
  {
   "cell_type": "code",
   "execution_count": 12,
   "metadata": {},
   "outputs": [
    {
     "name": "stdout",
     "output_type": "stream",
     "text": [
      "None\n"
     ]
    }
   ],
   "source": [
    "def funct():\n",
    "    pass\n",
    "\n",
    "print(funct())"
   ]
  },
  {
   "cell_type": "markdown",
   "metadata": {},
   "source": [
    "#### 13. Read and complete till Part-3: (Part-4 After OOPs)\n",
    "        https://medium.com/the-python-diary/getting-around-complex-numbers-77308982178d "
   ]
  },
  {
   "cell_type": "markdown",
   "metadata": {},
   "source": [
    "### - Complex Numbers in Python 1: The Math\n",
    "\n",
    "    - Understanding real vs maginary\n",
    "    - Origin of Complex Numbers :\n",
    "        -Imaginary Numbers\n",
    "    - Operations on Complex numbers\n",
    "        1. Conjugate of a Complex Number\n",
    "        2. Square of ἰ\n",
    "        3. Addition\n",
    "        4. Subtraction\n",
    "        5. Multiplication\n",
    "        6. Multiplying conjugates\n",
    "        7. Division\n",
    "        \n",
    "    "
   ]
  }
 ],
 "metadata": {
  "kernelspec": {
   "display_name": "Python 3",
   "language": "python",
   "name": "python3"
  },
  "language_info": {
   "codemirror_mode": {
    "name": "ipython",
    "version": 3
   },
   "file_extension": ".py",
   "mimetype": "text/x-python",
   "name": "python",
   "nbconvert_exporter": "python",
   "pygments_lexer": "ipython3",
   "version": "3.7.4"
  }
 },
 "nbformat": 4,
 "nbformat_minor": 2
}
