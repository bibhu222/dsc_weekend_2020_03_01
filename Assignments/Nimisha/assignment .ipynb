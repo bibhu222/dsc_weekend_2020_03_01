{
 "cells": [
  {
   "cell_type": "code",
   "execution_count": 12,
   "metadata": {},
   "outputs": [
    {
     "name": "stdout",
     "output_type": "stream",
     "text": [
      "Enter temperature in fahrenheit: 100\n",
      "100.00 Fahrenheit is: 37.80 Celsius\n"
     ]
    }
   ],
   "source": [
    "#Write a program to Input temperature in Fahrenheit and print in Celsius\n",
    "\n",
    "fahrenheit = float(input(\"Enter temperature in fahrenheit: \"))\n",
    "celsius = round((fahrenheit - 32) * 5/9,1)\n",
    "print('%.2f Fahrenheit is: %0.2f Celsius' %(fahrenheit, celsius))\n"
   ]
  },
  {
   "cell_type": "code",
   "execution_count": 19,
   "metadata": {},
   "outputs": [
    {
     "name": "stdout",
     "output_type": "stream",
     "text": [
      " Please Enter any numeric Value : 6\n",
      "The Square of a Given Number6.0  = 36.0 \n",
      "The cube of a Given Number 6.0  = 216.0\n"
     ]
    }
   ],
   "source": [
    "#Write a program to input a number and print its square and cube. \n",
    "number = float(input(\" Please Enter any numeric Value : \"))\n",
    "\n",
    "square = number * number\n",
    "cube   = number*number*number \n",
    "print(\"The Square of a Given Number{0}  = {1} \".format(number, square))\n",
    "print(\"The cube of a Given Number {0}  = {1}\".format(number, cube))\n"
   ]
  },
  {
   "cell_type": "code",
   "execution_count": 21,
   "metadata": {},
   "outputs": [
    {
     "name": "stdout",
     "output_type": "stream",
     "text": [
      "enter number :2\n",
      "enter number  2\n",
      "result 8\n"
     ]
    }
   ],
   "source": [
    "#WAP to input a number n and a number m and print the result of following n2+m2\n",
    "n=int(input(\"enter number :\"))\n",
    "m=int(input(\"enter number  \"))\n",
    "result=n ** 2 + m **2\n",
    "print(\"result\",result)"
   ]
  },
  {
   "cell_type": "code",
   "execution_count": 26,
   "metadata": {},
   "outputs": [
    {
     "name": "stdout",
     "output_type": "stream",
     "text": [
      "enter number :6\n",
      "enter number  2\n",
      "36\n"
     ]
    }
   ],
   "source": [
    "#WAP to input a numbers M and N and print result of MN\n",
    "m=int(input(\"enter number :\"))\n",
    "n=int(input(\"enter number  \"))\n",
    "result=pow(m,n)\n",
    "print(result)"
   ]
  },
  {
   "cell_type": "code",
   "execution_count": 31,
   "metadata": {},
   "outputs": [
    {
     "name": "stdout",
     "output_type": "stream",
     "text": [
      "enter number :3\n",
      "enter number  3\n",
      "9\n"
     ]
    }
   ],
   "source": [
    "m=int(input(\"enter number :\"))\n",
    "n=int(input(\"enter number  \"))\n",
    "result=(m)*(n)\n",
    "print(result)"
   ]
  },
  {
   "cell_type": "code",
   "execution_count": null,
   "metadata": {},
   "outputs": [],
   "source": [
    "#Write a simple interest calculator\n"
   ]
  },
  {
   "cell_type": "code",
   "execution_count": null,
   "metadata": {},
   "outputs": [],
   "source": []
  },
  {
   "cell_type": "code",
   "execution_count": null,
   "metadata": {},
   "outputs": [],
   "source": []
  }
 ],
 "metadata": {
  "kernelspec": {
   "display_name": "Python 3",
   "language": "python",
   "name": "python3"
  },
  "language_info": {
   "codemirror_mode": {
    "name": "ipython",
    "version": 3
   },
   "file_extension": ".py",
   "mimetype": "text/x-python",
   "name": "python",
   "nbconvert_exporter": "python",
   "pygments_lexer": "ipython3",
   "version": "3.7.4"
  }
 },
 "nbformat": 4,
 "nbformat_minor": 2
}
