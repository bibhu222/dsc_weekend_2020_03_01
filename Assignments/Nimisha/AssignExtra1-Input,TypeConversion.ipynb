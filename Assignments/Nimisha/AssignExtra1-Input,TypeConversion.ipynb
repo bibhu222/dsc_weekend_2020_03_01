{
 "cells": [
  {
   "cell_type": "markdown",
   "metadata": {},
   "source": [
    "#### 1. Write a program to Input temperature in Fahrenheit and print in Celsius"
   ]
  },
  {
   "cell_type": "code",
   "execution_count": 12,
   "metadata": {},
   "outputs": [
    {
     "name": "stdout",
     "output_type": "stream",
     "text": [
      "Enter temperature in fahrenheit: 100\n",
      "100.00 Fahrenheit is: 37.80 Celsius\n"
     ]
    }
   ],
   "source": [
    "fahrenheit = float(input(\"Enter temperature in fahrenheit: \"))\n",
    "celsius = round((fahrenheit - 32) * 5/9,1)\n",
    "print('%.2f Fahrenheit is: %0.2f Celsius' %(fahrenheit, celsius))\n"
   ]
  },
  {
   "cell_type": "markdown",
   "metadata": {},
   "source": [
    "#### 2.Write a program to input a number and print its square and cube. "
   ]
  },
  {
   "cell_type": "code",
   "execution_count": 19,
   "metadata": {},
   "outputs": [
    {
     "name": "stdout",
     "output_type": "stream",
     "text": [
      " Please Enter any numeric Value : 6\n",
      "The Square of a Given Number6.0  = 36.0 \n",
      "The cube of a Given Number 6.0  = 216.0\n"
     ]
    }
   ],
   "source": [
    "\n",
    "number = float(input(\" Please Enter any numeric Value : \"))\n",
    "\n",
    "square = number * number\n",
    "cube   = number*number*number \n",
    "print(\"The Square of a Given Number{0}  = {1} \".format(number, square))\n",
    "print(\"The cube of a Given Number {0}  = {1}\".format(number, cube))\n"
   ]
  },
  {
   "cell_type": "markdown",
   "metadata": {},
   "source": [
    "#### 3.WAP to input a number n and a number m and print the result of following n2+m2"
   ]
  },
  {
   "cell_type": "code",
   "execution_count": 21,
   "metadata": {},
   "outputs": [
    {
     "name": "stdout",
     "output_type": "stream",
     "text": [
      "enter number :2\n",
      "enter number  2\n",
      "result 8\n"
     ]
    }
   ],
   "source": [
    "n=int(input(\"enter number :\"))\n",
    "m=int(input(\"enter number  \"))\n",
    "result=n ** 2 + m **2\n",
    "print(\"result\",result)"
   ]
  },
  {
   "cell_type": "markdown",
   "metadata": {},
   "source": [
    "#### 4.WAP to input a numbers M and N and print result of MN"
   ]
  },
  {
   "cell_type": "code",
   "execution_count": 26,
   "metadata": {},
   "outputs": [
    {
     "name": "stdout",
     "output_type": "stream",
     "text": [
      "enter number :6\n",
      "enter number  2\n",
      "36\n"
     ]
    }
   ],
   "source": [
    "m=int(input(\"enter number :\"))\n",
    "n=int(input(\"enter number  \"))\n",
    "result=pow(m,n)\n",
    "print(result)"
   ]
  },
  {
   "cell_type": "code",
   "execution_count": 31,
   "metadata": {},
   "outputs": [
    {
     "name": "stdout",
     "output_type": "stream",
     "text": [
      "enter number :3\n",
      "enter number  3\n",
      "9\n"
     ]
    }
   ],
   "source": [
    "m=int(input(\"enter number :\"))\n",
    "n=int(input(\"enter number  \"))\n",
    "result=(m)*(n)\n",
    "print(result)"
   ]
  },
  {
   "cell_type": "markdown",
   "metadata": {},
   "source": [
    "#### 5. Write a simple interest calculator"
   ]
  },
  {
   "cell_type": "code",
   "execution_count": 32,
   "metadata": {},
   "outputs": [
    {
     "name": "stdout",
     "output_type": "stream",
     "text": [
      "Enter the principal amount : 100000\n",
      "Enter the number of years : 5\n",
      "Enter the rate of interest : 6.1\n",
      "Simple interest : 30500.0\n"
     ]
    }
   ],
   "source": [
    "P = float(input(\"Enter the principal amount : \"))\n",
    "N = float(input(\"Enter the number of years : \"))\n",
    "R = float(input(\"Enter the rate of interest : \"))\n",
    "\n",
    "SI = (P * N * R)/100\n",
    "print(\"Simple interest : {}\".format(SI))"
   ]
  },
  {
   "cell_type": "code",
   "execution_count": 33,
   "metadata": {},
   "outputs": [
    {
     "name": "stdout",
     "output_type": "stream",
     "text": [
      "Enter the principle amount : 500\n",
      "Enter the rate of interest : 5\n",
      "Enter the time in the years: 1\n",
      "Principle amount  :  500.0\n",
      "Interest rate     :  5.0\n",
      "Time in years     :  1.0\n",
      "compound Interest :  525.0\n"
     ]
    }
   ],
   "source": [
    "#6.Input Principal, Rate, Time and print Compound Interest and Amount\n",
    "p = float(input(\"Enter the principle amount : \"))\n",
    "r = float(input(\"Enter the rate of interest : \"))\n",
    "t = float(input(\"Enter the time in the years: \"))\n",
    "# calculating compound interest\n",
    "ci =  p * (pow((1 + r / 100), t)) \n",
    "\n",
    "# printing the values\n",
    "print(\"Principle amount  : \", p)\n",
    "print(\"Interest rate     : \", r)\n",
    "print(\"Time in years     : \", t)\n",
    "print(\"compound Interest : \", ci)"
   ]
  },
  {
   "cell_type": "code",
   "execution_count": 2,
   "metadata": {},
   "outputs": [
    {
     "name": "stdout",
     "output_type": "stream",
     "text": [
      "Enter Number 2\n",
      "SUM of first  2 numbers is:  3\n"
     ]
    }
   ],
   "source": [
    "#7.WAP to print sum of first n natural numbers. (n needs to be taken as input)\n",
    "n = input(\"Enter Number \")\n",
    "n = int (n)\n",
    "sum = 0\n",
    "for num in range(0, n+1, 1):\n",
    "    sum = sum+num\n",
    "print(\"SUM of first \", n, \"numbers is: \", sum )"
   ]
  },
  {
   "cell_type": "code",
   "execution_count": 6,
   "metadata": {},
   "outputs": [
    {
     "name": "stdout",
     "output_type": "stream",
     "text": [
      "Enter value of x: 5\n",
      "Enter value of y: 6\n",
      "using temp variable 6 5\n",
      "using pythonic way 5 6\n"
     ]
    }
   ],
   "source": [
    "#8.WAP to input 2 numbers and swap them. (write using both normal logic with temp variable and also the pythonic way). \n",
    "# Python program to swap two variables\n",
    "\n",
    "#x = 5\n",
    "#y = 10\n",
    "\n",
    "# To take inputs from the user\n",
    "x = input('Enter value of x: ')\n",
    "y = input('Enter value of y: ')\n",
    "\n",
    "temp = x\n",
    "x = y\n",
    "y = temp\n",
    "\n",
    "print(\"using temp variable\",x,y)\n",
    "\n",
    "x, y = y, x   #using pythonic way\n",
    "print(\"using pythonic way\", x, y)\n"
   ]
  },
  {
   "cell_type": "code",
   "execution_count": 27,
   "metadata": {},
   "outputs": [
    {
     "name": "stdout",
     "output_type": "stream",
     "text": [
      "10\n",
      "9\n"
     ]
    }
   ],
   "source": [
    "#9. WAP to print ascii value of all white-space characters present in python. \n",
    "\n",
    "print(ord('\\n'))\n",
    "print(ord('\\t'))\n",
    "\n",
    " "
   ]
  },
  {
   "cell_type": "code",
   "execution_count": 38,
   "metadata": {},
   "outputs": [
    {
     "name": "stdout",
     "output_type": "stream",
     "text": [
      "enter any character:a\n",
      "the ASCII vale of charais: 97\n"
     ]
    }
   ],
   "source": [
    "#10. Input a single character and print its ascii values. \n",
    "ch=input(\"enter any character:\")\n",
    "print(\"the ASCII vale of char\"+ch+\"is:\",ord(ch))\n",
    "\n"
   ]
  },
  {
   "cell_type": "code",
   "execution_count": 42,
   "metadata": {},
   "outputs": [
    {
     "name": "stdout",
     "output_type": "stream",
     "text": [
      "input the radius of the circle: 36\n",
      "Area of a circle=4069.44\n",
      "circumference of a circle=226.08\n"
     ]
    }
   ],
   "source": [
    "#11. WAP that takes area of a circle and gives back the radius and circumference.\n",
    "\n",
    "PI =3.14\n",
    "radius=float(input(\"input the radius of the circle: \"))\n",
    "area = PI * radius * radius\n",
    "circumference = 2 * PI * radius\n",
    "\n",
    "print(\"Area of a circle=%.2f\" %area)\n",
    "print(\"circumference of a circle=%.2f\" %circumference)\n",
    "\n",
    "\n",
    "\n"
   ]
  },
  {
   "cell_type": "code",
   "execution_count": 3,
   "metadata": {},
   "outputs": [
    {
     "name": "stdout",
     "output_type": "stream",
     "text": [
      "enter marks of english:92\n",
      "enter marks of kannada90\n",
      "enter marks of hindi98\n",
      "enter marks of maths96\n",
      "enter marks of science94\n",
      "the percentage of all 5 subjects :  94.0\n"
     ]
    }
   ],
   "source": [
    "#12. We need to input marks in 5 subjects out of 100 and print percentage. \n",
    "\n",
    "sub1=float(input(\"enter marks of english:\"))\n",
    "sub2=float(input(\"enter marks of kannada\"))\n",
    "sub3=float(input(\"enter marks of hindi\"))\n",
    "sub4=float(input(\"enter marks of maths\"))\n",
    "sub5=float(input(\"enter marks of science\"))\n",
    "sum=sub1+sub2+sub3+sub4+sub5\n",
    "percentage=(sum/500)*100\n",
    "print(\"the percentage of all 5 subjects : \",percentage)\n"
   ]
  },
  {
   "cell_type": "code",
   "execution_count": null,
   "metadata": {},
   "outputs": [],
   "source": []
  },
  {
   "cell_type": "code",
   "execution_count": null,
   "metadata": {},
   "outputs": [],
   "source": []
  }
 ],
 "metadata": {
  "kernelspec": {
   "display_name": "Python 3",
   "language": "python",
   "name": "python3"
  },
  "language_info": {
   "codemirror_mode": {
    "name": "ipython",
    "version": 3
   },
   "file_extension": ".py",
   "mimetype": "text/x-python",
   "name": "python",
   "nbconvert_exporter": "python",
   "pygments_lexer": "ipython3",
   "version": "3.7.4"
  }
 },
 "nbformat": 4,
 "nbformat_minor": 2
}
