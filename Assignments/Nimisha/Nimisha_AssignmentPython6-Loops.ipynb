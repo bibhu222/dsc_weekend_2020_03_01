{
 "cells": [
  {
   "cell_type": "markdown",
   "metadata": {},
   "source": [
    "#### 1. WAP to print first n natural numbers (input n from user). "
   ]
  },
  {
   "cell_type": "code",
   "execution_count": 2,
   "metadata": {},
   "outputs": [
    {
     "name": "stdout",
     "output_type": "stream",
     "text": [
      "Enter the Number: 20\n",
      "The List of Natural Numbers from 1 to 20 are\n",
      "1  2  3  4  5  6  7  8  9  10  11  12  13  14  15  16  17  18  19  20  "
     ]
    }
   ],
   "source": [
    "n = int(input(\"Enter the Number: \"))\n",
    "\n",
    "print(\"The List of Natural Numbers from 1 to {0} are\".format(n)) \n",
    "\n",
    "for i in range(1, n + 1):\n",
    "    print (i, end = '  ')"
   ]
  },
  {
   "cell_type": "markdown",
   "metadata": {},
   "source": [
    "#### 2. WAP to find sum of first n natural numbers "
   ]
  },
  {
   "cell_type": "code",
   "execution_count": 7,
   "metadata": {},
   "outputs": [
    {
     "name": "stdout",
     "output_type": "stream",
     "text": [
      "Ente the number: 3\n",
      "6\n"
     ]
    }
   ],
   "source": [
    "n = int(input(\"Ente the number: \"))\n",
    "sum = 0\n",
    "for i in range(0,n+1):\n",
    "    sum = sum+i\n",
    "print(sum)"
   ]
  },
  {
   "cell_type": "markdown",
   "metadata": {},
   "source": [
    "#### 3. WAP to print first n natural numbers in reverse order. "
   ]
  },
  {
   "cell_type": "code",
   "execution_count": 4,
   "metadata": {},
   "outputs": [
    {
     "name": "stdout",
     "output_type": "stream",
     "text": [
      "Enter the Number: 6\n",
      "[6, 5, 4, 3, 2, 1]\n"
     ]
    }
   ],
   "source": [
    "n = int(input(\"Enter the Number: \"))\n",
    "l = []\n",
    "for i in range(1, n+1):\n",
    "    l.append(i)\n",
    "print(l[::-1])    "
   ]
  },
  {
   "cell_type": "markdown",
   "metadata": {},
   "source": [
    "#### 4. WAP to input a number and print its factorial. "
   ]
  },
  {
   "cell_type": "code",
   "execution_count": 5,
   "metadata": {},
   "outputs": [
    {
     "name": "stdout",
     "output_type": "stream",
     "text": [
      "enter a number: 5\n",
      "factorial of  5  is  120\n"
     ]
    }
   ],
   "source": [
    "num = int(input(\"enter a number: \"))\n",
    " \n",
    "fac = 1\n",
    " \n",
    "for i in range(1, num + 1):\n",
    "\tfac = fac * i\n",
    " \n",
    "print(\"factorial of \", num, \" is \", fac)"
   ]
  },
  {
   "cell_type": "markdown",
   "metadata": {},
   "source": [
    "#### 5. WAP to print Fibonacci sequence till n. "
   ]
  },
  {
   "cell_type": "code",
   "execution_count": 16,
   "metadata": {},
   "outputs": [
    {
     "name": "stdout",
     "output_type": "stream",
     "text": [
      "Enetr the number: 6\n",
      "[0, 1, 1, 2, 3, 5]\n"
     ]
    }
   ],
   "source": [
    "n = int(input(\"Enetr the number: \"))\n",
    "s = [0,1]\n",
    "for i in range(0,n-2):\n",
    "    s.append(s[i]+s[i+1])\n",
    "print(s)    "
   ]
  },
  {
   "cell_type": "markdown",
   "metadata": {},
   "source": [
    "#### 6. WAP to print all digits of a number input from user."
   ]
  },
  {
   "cell_type": "code",
   "execution_count": null,
   "metadata": {},
   "outputs": [],
   "source": []
  },
  {
   "cell_type": "markdown",
   "metadata": {},
   "source": [
    "#### 7. WAP to find sum of all digits of a number. "
   ]
  },
  {
   "cell_type": "code",
   "execution_count": 22,
   "metadata": {},
   "outputs": [
    {
     "name": "stdout",
     "output_type": "stream",
     "text": [
      "ENter the number: 3333333\n",
      "\n",
      " Sum of the digits of Given Number = 21\n"
     ]
    }
   ],
   "source": [
    "n = int(input(\"ENter the number: \"))\n",
    "Sum = 0\n",
    "\n",
    "while(n > 0):\n",
    "    Reminder = n % 10\n",
    "    Sum = Sum + Reminder\n",
    "    n = n //10\n",
    "\n",
    "print(\"\\n Sum of the digits of Given Number = %d\" %Sum)"
   ]
  },
  {
   "cell_type": "markdown",
   "metadata": {},
   "source": [
    "#### 8. WAP to find sum of following series given n as input from user 1 + 2! + 3! + 4! + 5! + ….n! \n",
    "                Where n! denotes the factorial of number n. "
   ]
  },
  {
   "cell_type": "code",
   "execution_count": 28,
   "metadata": {},
   "outputs": [
    {
     "name": "stdout",
     "output_type": "stream",
     "text": [
      "enter a no.:6\n",
      "873\n"
     ]
    }
   ],
   "source": [
    "n = int(input(\"Enter the number\"))\n",
    "def fact_num(n):\n",
    "    fac=1\n",
    "    if n==0:\n",
    "        fac=1\n",
    "    if n > 0:\n",
    "        for i in range(1,n+1):\n",
    "            fac=fac*i\n",
    "    return fac\n",
    "\n",
    "\n",
    "sum = 0\n",
    "for i in range(1,n+1):\n",
    "    sum = sum + fact_num(i)\n",
    "    \n",
    "print(sum)"
   ]
  },
  {
   "cell_type": "markdown",
   "metadata": {},
   "source": [
    "#### 9. WAP to input base and exponent and print result without using inbuilt function pow(use for or while loop). "
   ]
  },
  {
   "cell_type": "code",
   "execution_count": 29,
   "metadata": {},
   "outputs": [
    {
     "name": "stdout",
     "output_type": "stream",
     "text": [
      "Enter the base: 6\n",
      "Enter the exponent: 6\n",
      "46656\n"
     ]
    }
   ],
   "source": [
    "base = int(input(\"Enter the base: \"))\n",
    "expo = int(input(\"Enter the exponent: \"))\n",
    "\n",
    "k = 1\n",
    "for n in range(expo):\n",
    "    k = k*base\n",
    "\n",
    "print(k)"
   ]
  },
  {
   "cell_type": "markdown",
   "metadata": {},
   "source": [
    "#### 10. Print following patterns: \n",
    "     *              * * * * *                *                *\n",
    "    * *              * * * *               * *               * *\n",
    "   * * *              * * *              * * *              * * * \n",
    "  * * * *              * *             * * * *             * * * *\n",
    " * * * * *              *            * * * * *            * * * * *"
   ]
  },
  {
   "cell_type": "code",
   "execution_count": 32,
   "metadata": {},
   "outputs": [
    {
     "name": "stdout",
     "output_type": "stream",
     "text": [
      "* \n",
      "* * \n",
      "* * * \n",
      "* * * * \n",
      "* * * * * \n"
     ]
    }
   ],
   "source": [
    "# 10) a\n",
    "#n=int(input(\"Enter the Number: \")) \n",
    "for i in range(5):\n",
    "    for j in range(i+1):\n",
    "        print(\"*\",end=\" \")\n",
    "    print()                       "
   ]
  },
  {
   "cell_type": "code",
   "execution_count": 34,
   "metadata": {},
   "outputs": [
    {
     "name": "stdout",
     "output_type": "stream",
     "text": [
      "* * * * * \n",
      "* * * * \n",
      "* * * \n",
      "* * \n",
      "* \n"
     ]
    }
   ],
   "source": [
    "# 10) b\n",
    "#n=int(input(\"Enter the Number: \"))\n",
    "for i in range(5):\n",
    "    for j in range(5-i):\n",
    "        print(\"*\",end=\" \")\n",
    "    print()                          \n",
    "    "
   ]
  },
  {
   "cell_type": "code",
   "execution_count": 35,
   "metadata": {},
   "outputs": [
    {
     "name": "stdout",
     "output_type": "stream",
     "text": [
      "     *\n",
      "    **\n",
      "   ***\n",
      "  ****\n",
      " *****\n"
     ]
    }
   ],
   "source": [
    "# 10) c\n",
    "for i in range(5):\n",
    "    for j in range(5-i):\n",
    "        print(\" \", end='')\n",
    "    for j in range(i+1):\n",
    "        print(\"*\", end='')\n",
    "    print()"
   ]
  },
  {
   "cell_type": "code",
   "execution_count": 36,
   "metadata": {},
   "outputs": [
    {
     "name": "stdout",
     "output_type": "stream",
     "text": [
      "enter the number5\n",
      "    * \n",
      "   * * \n",
      "  * * * \n",
      " * * * * \n",
      "* * * * * \n"
     ]
    }
   ],
   "source": [
    "# 10) d  \n",
    "\n",
    "num=int(input(\"enter the number\"))\n",
    "for i in range(0,num):\n",
    "    for j in range(0,num-i-1):\n",
    "        print(end=\" \")\n",
    "    for j in range(0,i+1):\n",
    "        print(\"*\",end=\" \")\n",
    "    print()"
   ]
  },
  {
   "cell_type": "code",
   "execution_count": null,
   "metadata": {},
   "outputs": [],
   "source": [
    "#### 11. Print Patterns:\n",
    "    1                  1                      5 \n",
    "   2 2                1 2                    4 4 \n",
    "  3 3 3              1 2 3                  3 3 3  \n",
    " 4 4 4 4            1 2 3 4                2 2 2 2\n",
    "5 5 5 5 5          1 2 3 4 5              1 1 1 1 1\n",
    "    "
   ]
  },
  {
   "cell_type": "code",
   "execution_count": 37,
   "metadata": {},
   "outputs": [
    {
     "name": "stdout",
     "output_type": "stream",
     "text": [
      "1\n",
      "22\n",
      "333\n",
      "4444\n",
      "55555\n"
     ]
    }
   ],
   "source": [
    "#11) a\n",
    "for i in range(1,6):\n",
    "    for j in range(i):\n",
    "        print(i, end='')\n",
    "    print()"
   ]
  },
  {
   "cell_type": "code",
   "execution_count": 38,
   "metadata": {},
   "outputs": [
    {
     "name": "stdout",
     "output_type": "stream",
     "text": [
      "1\n",
      "12\n",
      "123\n",
      "1234\n",
      "12345\n"
     ]
    }
   ],
   "source": [
    "#11) b\n",
    "for i in range(1,6):\n",
    "    for j in range(1,i+1):\n",
    "        print(j, end='')\n",
    "    print()"
   ]
  },
  {
   "cell_type": "code",
   "execution_count": 39,
   "metadata": {},
   "outputs": [
    {
     "name": "stdout",
     "output_type": "stream",
     "text": [
      "5\n",
      "44\n",
      "333\n",
      "2222\n",
      "11111\n"
     ]
    }
   ],
   "source": [
    "#11)c\n",
    "for i in range(5):\n",
    "    for j in range(i+1):\n",
    "        print(5-i, end='')\n",
    "    print()"
   ]
  },
  {
   "cell_type": "code",
   "execution_count": null,
   "metadata": {},
   "outputs": [],
   "source": [
    "### 12. Print Patterns:\n",
    "      A                       A                       A                                  A\n",
    "     A B                     B C                     B B                               A B A\n",
    "    A B C                   D E F                   C C C                            A B C B A\n",
    "   A B C D                 G H I J                 D D D D                        A B C D A C B A\n",
    "  A B C D E               K L M N O               E E E E E                      A B C D E D C B A\n"
   ]
  },
  {
   "cell_type": "code",
   "execution_count": 40,
   "metadata": {},
   "outputs": [
    {
     "name": "stdout",
     "output_type": "stream",
     "text": [
      "    1\n",
      "   22\n",
      "  333\n",
      " 4444\n",
      "55555\n"
     ]
    }
   ],
   "source": [
    "#12)a\n",
    "for i in range(1,6):\n",
    "    for j in range(5-i):\n",
    "        print(\" \", end='')\n",
    "    for j in range(i):\n",
    "        print(i, end='')\n",
    "    print()"
   ]
  },
  {
   "cell_type": "code",
   "execution_count": 41,
   "metadata": {},
   "outputs": [
    {
     "name": "stdout",
     "output_type": "stream",
     "text": [
      "A\n",
      "AB\n",
      "ABC\n",
      "ABCD\n",
      "ABCDE\n"
     ]
    }
   ],
   "source": [
    "#12)b\n",
    "for i in range(5):\n",
    "    for j in range(64,65+i):\n",
    "        print(chr(j+1),end='')\n",
    "    print()"
   ]
  },
  {
   "cell_type": "code",
   "execution_count": 43,
   "metadata": {},
   "outputs": [
    {
     "name": "stdout",
     "output_type": "stream",
     "text": [
      "A\n",
      "BB\n",
      "CCC\n",
      "DDDD\n",
      "EEEEE\n"
     ]
    }
   ],
   "source": [
    "#12)c\n",
    "for i in range(1,6):\n",
    "    for j in range(i):\n",
    "        print(chr(64+i),end='')\n",
    "    print()"
   ]
  },
  {
   "cell_type": "code",
   "execution_count": 42,
   "metadata": {},
   "outputs": [
    {
     "name": "stdout",
     "output_type": "stream",
     "text": [
      "     A\n",
      "    ABA\n",
      "   ABCBA\n",
      "  ABCDCBA\n",
      " ABCDEDCBA\n"
     ]
    }
   ],
   "source": [
    "#12)d\n",
    "n=5\n",
    "for i in range(n):\n",
    "    for j in range(n-i):\n",
    "        print(end=' ')\n",
    "    for j in range(i+1):\n",
    "        print(chr(65+j),end='')\n",
    "    for j in range(i,0,-1):\n",
    "        print(chr(64+j), end='')\n",
    "    print()"
   ]
  }
 ],
 "metadata": {
  "kernelspec": {
   "display_name": "Python 3",
   "language": "python",
   "name": "python3"
  },
  "language_info": {
   "codemirror_mode": {
    "name": "ipython",
    "version": 3
   },
   "file_extension": ".py",
   "mimetype": "text/x-python",
   "name": "python",
   "nbconvert_exporter": "python",
   "pygments_lexer": "ipython3",
   "version": "3.7.4"
  }
 },
 "nbformat": 4,
 "nbformat_minor": 2
}
