{
 "cells": [
  {
   "cell_type": "markdown",
   "metadata": {},
   "source": [
    "#### 1. WAP to input 2 numbers and check whether the first is divisible by the second and print true or false depending on the divisibility. "
   ]
  },
  {
   "cell_type": "code",
   "execution_count": 6,
   "metadata": {},
   "outputs": [
    {
     "name": "stdout",
     "output_type": "stream",
     "text": [
      "Enter 1st number: 7\n",
      "Enter 2nd number: 2\n",
      "The 1st number is divisible by the second number: False\n"
     ]
    }
   ],
   "source": [
    "n1 = int(input('Enter 1st number: '))\n",
    "n2 = int(input('Enter 2nd number: '))\n",
    "print('The 1st number is divisible by the second number:',end = ' ')\n",
    "if n1%n2 == 0:\n",
    "        print(True)\n",
    "else:\n",
    "         print(False)\n"
   ]
  },
  {
   "cell_type": "markdown",
   "metadata": {},
   "source": [
    "#### 2. In the palindrome example, make the code case insensitive.\n"
   ]
  },
  {
   "cell_type": "code",
   "execution_count": 21,
   "metadata": {},
   "outputs": [
    {
     "name": "stdout",
     "output_type": "stream",
     "text": [
      "Enter the string: Naman\n",
      "string NAMAN is palindrome\n"
     ]
    }
   ],
   "source": [
    "s = input('Enter the string: ')\n",
    "s=s.upper()\n",
    "s1=s[::-1]\n",
    "if s1==s:\n",
    "    print(\"string {} is palindrome\".format(s))\n",
    "else:\n",
    "    print(\"string {} is not palindrome\".format(s))\n",
    "    "
   ]
  },
  {
   "cell_type": "markdown",
   "metadata": {},
   "source": [
    "#### 3. WAP to input the sides of a triangle and print whether equilateral(all sides equal), isosceles (2 sides equal), or scalene (no sides equal). \n"
   ]
  },
  {
   "cell_type": "code",
   "execution_count": 4,
   "metadata": {},
   "outputs": [
    {
     "name": "stdout",
     "output_type": "stream",
     "text": [
      "Input lengths of the triangle sides: \n",
      "a: 30\n",
      "b: 60\n",
      "c: 50\n",
      "Scalene triangle\n"
     ]
    }
   ],
   "source": [
    "print(\"Input lengths of the triangle sides: \")\n",
    "a = int(input(\"a: \"))\n",
    "b = int(input(\"b: \"))\n",
    "c = int(input(\"c: \"))\n",
    "\n",
    "if a == b ==c:\n",
    "    print(\"Equilateral triangle\")\n",
    "elif a==b or b==c or c==a:\n",
    "    print(\"Isosceles triangle\")\n",
    "else:\n",
    "    print(\"Scalene triangle\")\n",
    "    "
   ]
  },
  {
   "cell_type": "markdown",
   "metadata": {},
   "source": [
    "#### 4. WAP to input a number and print if it is even or odd. "
   ]
  },
  {
   "cell_type": "code",
   "execution_count": 4,
   "metadata": {},
   "outputs": [
    {
     "name": "stdout",
     "output_type": "stream",
     "text": [
      "Enter a number: 211\n",
      "This is an odd number\n"
     ]
    }
   ],
   "source": [
    "num = int(input(\"Enter a number: \"))\n",
    "mod = num % 2\n",
    "if mod > 0:\n",
    "    print(\"This is an odd number\")\n",
    "else:\n",
    "    print(\"This is an even number\")"
   ]
  },
  {
   "cell_type": "markdown",
   "metadata": {},
   "source": [
    "#### 5. WAP to input age and print the respective text  depending on the age ranges as present in the table. \n",
    "                Age Text to be displayed \n",
    "                0-12 Child \n",
    "                13-17 Teen \n",
    "                18-50 Adult \n",
    "                51-100 Senior Citizen \n",
    "                age > 100 Contratulations \n"
   ]
  },
  {
   "cell_type": "code",
   "execution_count": 13,
   "metadata": {},
   "outputs": [
    {
     "name": "stdout",
     "output_type": "stream",
     "text": [
      "Enter the age: 13\n",
      "Teen\n"
     ]
    }
   ],
   "source": [
    "age = int(input(\"Enter the age: \"))\n",
    "if age>=0 and age<=12:\n",
    "    print(\"Child\")\n",
    "elif age>=13 and age<=17:\n",
    "    print(\"Teen\")\n",
    "elif age>=18 and age<=50:\n",
    "    print(\"Adult\")\n",
    "elif age>=51 and age<=100:\n",
    "    print(\"Senoir Citizen\")\n",
    "else:\n",
    "    print(\"Congratulations\")\n",
    "    \n"
   ]
  },
  {
   "cell_type": "markdown",
   "metadata": {},
   "source": [
    "#### 6. WAP to input year (check if user enters valid year. Should be 4-digit number and should not be negative) and print whether leap year or not.  (If really interested in why you also have to check the divisibility by 400 just google the exact time it takes for the earth to revolve around the sub)"
   ]
  },
  {
   "cell_type": "code",
   "execution_count": 22,
   "metadata": {},
   "outputs": [
    {
     "name": "stdout",
     "output_type": "stream",
     "text": [
      "Enter a year: 2020\n",
      "2020 is a leap year\n"
     ]
    }
   ],
   "source": [
    "year = int(input(\"Enter a year: \"))\n",
    "if (year % 4) ==0:\n",
    "    if (year % 100) == 0:\n",
    "        if (year % 400) == 0:\n",
    "            print(\"{0} is a leap year\".format(year))\n",
    "        else:\n",
    "            print(\"{0} is not a leap year\".format(year))\n",
    "    else:\n",
    "            print(\"{0} is a leap year\".format(year))\n",
    "else:\n",
    "    print(\"{0} is not a leap year\".format(year))\n",
    "                "
   ]
  },
  {
   "cell_type": "markdown",
   "metadata": {},
   "source": [
    "#### 7. WAP to input a string and convert it to Upper Case if number of characters is odd and convert to lower case otherwise"
   ]
  },
  {
   "cell_type": "code",
   "execution_count": 50,
   "metadata": {},
   "outputs": [
    {
     "name": "stdout",
     "output_type": "stream",
     "text": [
      "Enter the String:nimishamba\n",
      "The string is odd \n",
      " upper() NIMISHAMBA\n"
     ]
    }
   ],
   "source": [
    "s=input(\"Enter the String:\")\n",
    "if len(s)%2==0:\n",
    "    print(\"The string is odd \\n upper()\",s.upper())\n",
    "else:\n",
    "    print(\"The string is even \\ns.lower())\",s.lower())"
   ]
  },
  {
   "cell_type": "markdown",
   "metadata": {},
   "source": [
    "#### 8. WAP to input a string and print Veg if the string doesn’t contain the word egg. Otherwise print Non-Veg. As usual eggs can be both big and small"
   ]
  },
  {
   "cell_type": "code",
   "execution_count": 6,
   "metadata": {},
   "outputs": [
    {
     "name": "stdout",
     "output_type": "stream",
     "text": [
      "Enter the string:egg\n",
      "Non-veg\n"
     ]
    }
   ],
   "source": [
    "s = input(\"Enter the string:\")\n",
    "s = s.lower()\n",
    "s1 = 'egg'\n",
    "if s1 in s:\n",
    "    print(\"Non-veg\")\n",
    "else:\n",
    "    print(\"Veg\")"
   ]
  },
  {
   "cell_type": "markdown",
   "metadata": {},
   "source": [
    "#### 9. Give output of:\n"
   ]
  },
  {
   "cell_type": "code",
   "execution_count": 13,
   "metadata": {},
   "outputs": [
    {
     "name": "stdout",
     "output_type": "stream",
     "text": [
      "True\n"
     ]
    }
   ],
   "source": [
    "#9a \n",
    "if not 1:\n",
    "    print(\"False\")\n",
    "else:\n",
    "    print(\"True\")\n"
   ]
  },
  {
   "cell_type": "code",
   "execution_count": 12,
   "metadata": {},
   "outputs": [
    {
     "name": "stdout",
     "output_type": "stream",
     "text": [
      "True\n"
     ]
    }
   ],
   "source": [
    "#9b\n",
    "if 1:\n",
    "    print(\"True\")\n",
    "else:\n",
    "    print(\"False\")"
   ]
  },
  {
   "cell_type": "code",
   "execution_count": 16,
   "metadata": {},
   "outputs": [
    {
     "name": "stdout",
     "output_type": "stream",
     "text": [
      "Weird !!\n"
     ]
    }
   ],
   "source": [
    "#9c\n",
    "if 'a' > 'A':\n",
    "    print('Weird !!')\n",
    "else:\n",
    "    print('Makes Sense')"
   ]
  },
  {
   "cell_type": "code",
   "execution_count": 30,
   "metadata": {},
   "outputs": [
    {
     "name": "stdout",
     "output_type": "stream",
     "text": [
      "[4, 3, 2, 1]\n"
     ]
    }
   ],
   "source": [
    "#9d \n",
    "a = [1,2,3,4]\n",
    "if 1 > 1:\n",
    "    a = a[::-1]\n",
    "else:\n",
    "    a = a[-1::-1]\n",
    "print(a)    "
   ]
  },
  {
   "cell_type": "markdown",
   "metadata": {},
   "source": [
    "#### 10. WAP to input marks in 5 subjects and print the grade as per following logic: \n",
    "                    % between 90-100 Grade-A \n",
    "                    % between 80 - 89 Grade-B \n",
    "                    % between 60 - 79 Grade-C \n",
    "                    % < 60 Grade-F \n",
    " "
   ]
  },
  {
   "cell_type": "code",
   "execution_count": 48,
   "metadata": {},
   "outputs": [
    {
     "name": "stdout",
     "output_type": "stream",
     "text": [
      "Enter marks of english: 89\n",
      "Enter marks of hindi: 89\n",
      "Enter marks of maths: 78\n",
      "Enter marks of science: 45\n",
      "Enter marks of social: 16\n",
      "percentage 63.4\n",
      "grade D\n"
     ]
    }
   ],
   "source": [
    "sub1 = int(input(\"Enter marks of english: \"))\n",
    "sub2 = int(input(\"Enter marks of hindi: \"))\n",
    "sub3 = int(input(\"Enter marks of maths: \"))\n",
    "sub4 = int(input(\"Enter marks of science: \"))\n",
    "sub5 = int(input(\"Enter marks of social: \"))\n",
    "avg = (sub1+sub2+sub3+sub4+sub5)\n",
    "per=(avg/500)*100\n",
    "print(\"percentage\", per)\n",
    "if per>=90:\n",
    "    print(\"grade A\")\n",
    "elif per<90 and per>=80:\n",
    "    print(\"grade B\")\n",
    "elif per<80 and per>=70:\n",
    "    print(\"grade C\")\n",
    "elif per<70 and per>=60:\n",
    "    print(\"grade D\")\n",
    "elif per<60:\n",
    "    print(\"grade F\")\n"
   ]
  },
  {
   "cell_type": "markdown",
   "metadata": {},
   "source": [
    "#### 11. WAP to input age and salary and calculate Tax as per tax rates if following table: \n",
    "    "
   ]
  },
  {
   "cell_type": "markdown",
   "metadata": {},
   "source": [
    "                     Salary Range               Age < 60            Age >= 60 \n",
    "                    0-2,50,000                    0                  0 \n",
    "                    2,50,001-5,00,000            5%                 3%\n",
    "                    5,00,001-10,00,000           10%                8%\n",
    "                    Salary>10,00,001             15%                12%"
   ]
  },
  {
   "cell_type": "code",
   "execution_count": 56,
   "metadata": {},
   "outputs": [
    {
     "name": "stdout",
     "output_type": "stream",
     "text": [
      "Enter Age: 60\n",
      "Enter salary: 7000000\n",
      "tax 840000.0\n"
     ]
    }
   ],
   "source": [
    "age = int(input(\"Enter Age: \"))\n",
    "salary = int(input(\"Enter salary: \"))\n",
    "\n",
    "if age< 60:\n",
    "    if salary<250000:\n",
    "        tax = 0\n",
    "        print(\"Zero tax\")\n",
    "        \n",
    "    elif salary>250000 and salary<=500000:\n",
    "        tax = 0.05* salary\n",
    "        print(\"tax=\", tax)\n",
    "        \n",
    "    elif salary>500000 and salary<1000000:\n",
    "        tax = 0.10*salary\n",
    "        print(\"tax\",tax)\n",
    "      \n",
    "    elif salary>1000001: \n",
    "        tax = 0.15*salary\n",
    "        print(\"tax\",tax)\n",
    "        \n",
    "elif age>=60:\n",
    "    if salary<250000:\n",
    "        tax=0\n",
    "        print(\"zero tax\")\n",
    "    elif salary>250000 and salary<=500000:\n",
    "        tax=0.03*salary\n",
    "        print(\"tax\",tax)\n",
    "    elif salary>500000 and salary<=1000000:\n",
    "        tax=0.08*salary\n",
    "        print(\"tax\",tax)\n",
    "    elif salary>=1000001:\n",
    "        tax=0.12*salary\n",
    "        print(\"tax\",tax)"
   ]
  },
  {
   "cell_type": "markdown",
   "metadata": {},
   "source": [
    "#### 12. Try each of the below statements separately (remember difference between statement and expression)on the python interpreter and guess the output before trying:\n",
    "\n",
    "\n",
    "\n"
   ]
  },
  {
   "cell_type": "code",
   "execution_count": 59,
   "metadata": {},
   "outputs": [
    {
     "name": "stdout",
     "output_type": "stream",
     "text": [
      "10\n"
     ]
    }
   ],
   "source": [
    "print(20 if not 1 == 1 else 10)"
   ]
  },
  {
   "cell_type": "code",
   "execution_count": 60,
   "metadata": {},
   "outputs": [
    {
     "name": "stdout",
     "output_type": "stream",
     "text": [
      "10\n"
     ]
    }
   ],
   "source": [
    "print(30 if not 1 == 1 else 20 if 'a' < 'A' else 10)"
   ]
  },
  {
   "cell_type": "code",
   "execution_count": 61,
   "metadata": {},
   "outputs": [
    {
     "name": "stdout",
     "output_type": "stream",
     "text": [
      "10\n"
     ]
    }
   ],
   "source": [
    "print(40 if not 1 == 1 else 30 if 'a' < 'A' else 20 if '' else 10)"
   ]
  },
  {
   "cell_type": "code",
   "execution_count": 63,
   "metadata": {},
   "outputs": [
    {
     "name": "stdout",
     "output_type": "stream",
     "text": [
      "OMG\n"
     ]
    }
   ],
   "source": [
    "print('No' if not 1 == 1 else ('No' if 'a' < 'A' else ('OMG' if 'oh!' else 'No')))"
   ]
  },
  {
   "cell_type": "markdown",
   "metadata": {},
   "source": [
    "#### 13. WAF: bmi() that takes the weight in kg and height in cm of a person, calculates and returns the BMI. Write code that calls this function after taking height and weight as inputs and then prints underweight, normal, overweight or obese depending on the value of BMI. Refer this link for the ranges:           https://en.wikipedia.org/wiki/Body_mass_index "
   ]
  },
  {
   "cell_type": "code",
   "execution_count": 64,
   "metadata": {},
   "outputs": [
    {
     "name": "stdout",
     "output_type": "stream",
     "text": [
      "Height in cm: 151\n",
      "Weight in kg: 59\n",
      "Overweight\n"
     ]
    }
   ],
   "source": [
    "height = float(input(\"Height in cm: \"))\n",
    "weight = float(input(\"Weight in kg: \"))\n",
    "\n",
    "bmi = (weight/(height**2))*10000\n",
    "if bmi<=18.5:\n",
    "    print(\"Underweight\")\n",
    "elif bmi>18.5 and bmi<25:\n",
    "    print(\"Normal\")\n",
    "elif bmi>25 and bmi<30:\n",
    "    print(\"Overweight\")\n",
    "elif bmi>30:\n",
    "    print(\"obese\")"
   ]
  },
  {
   "cell_type": "markdown",
   "metadata": {},
   "source": [
    "#### 14. Take input of age of 3 people by user and determine oldest and youngest among them."
   ]
  },
  {
   "cell_type": "code",
   "execution_count": 67,
   "metadata": {},
   "outputs": [
    {
     "name": "stdout",
     "output_type": "stream",
     "text": [
      " enter age 1: 10\n",
      "enter age 2: 52\n",
      "enter age 3: 62\n",
      "youngest 10 years\n",
      "oldest 52 years\n",
      "oldest 62 years\n"
     ]
    }
   ],
   "source": [
    "age1 = int(input(\" enter age 1: \"))\n",
    "age2 = int(input(\"enter age 2: \"))\n",
    "age3 = int(input(\"enter age 3: \"))\n",
    "\n",
    "for age in age1,age2,age3:\n",
    "    if age>10:\n",
    "        print(\"oldest\",age,\"years\")\n",
    "    else:\n",
    "        print(\"youngest\",age,\"years\")"
   ]
  },
  {
   "cell_type": "markdown",
   "metadata": {},
   "source": [
    "#### 15. WAP to input a number and check if number is divisible by both 5 and 7"
   ]
  },
  {
   "cell_type": "code",
   "execution_count": 70,
   "metadata": {},
   "outputs": [
    {
     "name": "stdout",
     "output_type": "stream",
     "text": [
      "enter a no: 5\n",
      "no. is not divisible\n"
     ]
    }
   ],
   "source": [
    "n= int(input(\"enter a no: \"))\n",
    "if n%5==0 and n%7==0:\n",
    "    print(\" no. is divisible by both 5 and 7\")\n",
    "else:\n",
    "    print(\"no. is not divisible\")"
   ]
  }
 ],
 "metadata": {
  "kernelspec": {
   "display_name": "Python 3",
   "language": "python",
   "name": "python3"
  },
  "language_info": {
   "codemirror_mode": {
    "name": "ipython",
    "version": 3
   },
   "file_extension": ".py",
   "mimetype": "text/x-python",
   "name": "python",
   "nbconvert_exporter": "python",
   "pygments_lexer": "ipython3",
   "version": "3.7.4"
  }
 },
 "nbformat": 4,
 "nbformat_minor": 2
}
