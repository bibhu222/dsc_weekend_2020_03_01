{
 "cells": [
  {
   "cell_type": "code",
   "execution_count": 34,
   "metadata": {},
   "outputs": [
    {
     "name": "stdout",
     "output_type": "stream",
     "text": [
      "Enter 1st string= Mukul\n",
      "Enter 2nd String= Bisen\n",
      "Bisen Mukul\n"
     ]
    }
   ],
   "source": [
    "\"\"\" 1) WAP to input 2 strings and swap the strings \n",
    "\"\"\"\n",
    "#Answer ->\n",
    "a = input(\"Enter 1st string= \", )\n",
    "b = input(\"Enter 2nd String= \", )\n",
    "a,b = b,a\n",
    "print(a,b)"
   ]
  },
  {
   "cell_type": "code",
   "execution_count": 4,
   "metadata": {},
   "outputs": [
    {
     "name": "stdout",
     "output_type": "stream",
     "text": [
      "[22, 21, 3, 9]\n",
      "13.75\n"
     ]
    }
   ],
   "source": [
    "\"\"\" 2) WAP to generate 4 random numbers in the range 0-26 \n",
    "and print their average\"\"\"\n",
    "\n",
    "#Answer ->\n",
    "import random\n",
    "s=[random.randrange(1,26),random.randrange(1,26),random.randrange(1,26),random.randrange(1,26)]\n",
    "print(s)\n",
    "print(format(sum(s)/len(s)))"
   ]
  },
  {
   "cell_type": "code",
   "execution_count": 28,
   "metadata": {},
   "outputs": [
    {
     "name": "stdout",
     "output_type": "stream",
     "text": [
      "Length of your String = 4\n",
      "a\n",
      "s\n",
      "d\n",
      "f\n",
      "A\n"
     ]
    }
   ],
   "source": [
    "\"\"\" 3) WAP to generate and print a random uppercase or lowercase alphabet. Try these: \n",
    "• Create a string containing all alphabets and then select a random alphabet.\n",
    "• Check the module string\"\"\"\n",
    "\n",
    "import random as R\n",
    "list=[]\n",
    "n = int(input(\"Length of your String = \",))\n",
    "for i in range(0,n):\n",
    "    list.append(input())\n",
    "ChosenUpper = format(list[R.randrange(0,n)])\n",
    "ChosenUpper = ChosenUpper.upper()\n",
    "print(ChosenUpper)"
   ]
  },
  {
   "cell_type": "code",
   "execution_count": 46,
   "metadata": {},
   "outputs": [
    {
     "name": "stdout",
     "output_type": "stream",
     "text": [
      "Amount = 1000\n",
      "Rate = 4\n",
      "Time = 1\n",
      "40.0\n"
     ]
    }
   ],
   "source": [
    "\"\"\" 4) WAF get_si() that takes Principle, Rate and Time as arguments \n",
    "and returns the Simple Interest. \"\"\"\n",
    "\n",
    "#Function\n",
    "def get_si(p,r,t):\n",
    "    SI=((p*r*t)/100)\n",
    "    return SI\n",
    "\n",
    "#Input\n",
    "p=int(input(\"Amount = \"))\n",
    "r=int(input(\"Rate = \"))\n",
    "t=int(input(\"Time = \"))\n",
    "\n",
    "#Output\n",
    "print(get_si(p,r,t))"
   ]
  },
  {
   "cell_type": "code",
   "execution_count": 54,
   "metadata": {},
   "outputs": [
    {
     "name": "stdout",
     "output_type": "stream",
     "text": [
      "Amount = 1000\n",
      "Rate = 1\n",
      "Time = 2\n",
      "Total Amount =  1020.0\n"
     ]
    }
   ],
   "source": [
    "\"\"\" 5) WAF get_amount() that takes Principle, Rate and Time as arguments \n",
    "and returns the Total amount using the get_si() function from above \n",
    "to calculate the SI. Also provide Rate = 10 and Time = 1 as default \n",
    "arguments. \"\"\"\n",
    "\n",
    "# NEED AMENDMENT\n",
    "\n",
    "#Function\n",
    "def get_amount(p,r=10,t=1):\n",
    "    SI=((p*r*t)/100)\n",
    "    A=p+SI\n",
    "    return A\n",
    "\n",
    "#Input\n",
    "p=int(input(\"Amount = \"))\n",
    "r=int(input(\"Rate = \"))\n",
    "t=int(input(\"Time = \"))\n",
    "\n",
    "#Output\n",
    "print(\"Total Amount = \",get_amount(p,r,t))"
   ]
  },
  {
   "cell_type": "code",
   "execution_count": null,
   "metadata": {},
   "outputs": [],
   "source": [
    "\"\"\" 6) WAP get_ci() that takes Principle, Rate and Time as arguments \n",
    "and returns the Compound Interest.\"\"\"\n",
    "\n",
    "# NEED AMENDMENT\n",
    "\n",
    "#Function\n",
    "def get_amount(p,r=10,t=1):\n",
    "    SI=((p*r*t)/100)\n",
    "    A=p+SI\n",
    "    return A\n",
    "\n",
    "#Input\n",
    "p=int(input(\"Amount = \"))\n",
    "r=int(input(\"Rate = \"))\n",
    "t=int(input(\"Time = \"))\n",
    "\n",
    "#Output\n",
    "print(\"Total Amount = \",get_amount(p,r,t))"
   ]
  },
  {
   "cell_type": "code",
   "execution_count": 55,
   "metadata": {},
   "outputs": [
    {
     "name": "stdout",
     "output_type": "stream",
     "text": [
      "(2.5, 10)\n"
     ]
    }
   ],
   "source": [
    "\"\"\" 7) WAP get_q_r() taking 2 numbers as parameters and returns the\n",
    "quotient and remainder in the form of a tuple. \"\"\"\n",
    "\n",
    "# NEED AMENDMENT\n",
    "\n",
    "#Function\n",
    "def get_q_r(a,b):\n",
    "    q=a/b\n",
    "    r=a%b\n",
    "    t=(q,r)\n",
    "    return t\n",
    "\n",
    "Tupla = get_q_r(50,20)\n",
    "print(Tupla)"
   ]
  },
  {
   "cell_type": "code",
   "execution_count": 63,
   "metadata": {},
   "outputs": [
    {
     "name": "stdout",
     "output_type": "stream",
     "text": [
      "5.0\n"
     ]
    }
   ],
   "source": [
    "\"\"\" 8) WAP to find the length of hypotenuse of a right angled\n",
    "triangle, input the height and base from user. \"\"\"\n",
    "import math\n",
    "def pytho(h,b):\n",
    "    L=math.sqrt(h*h+b*b)\n",
    "    return L\n",
    "\n",
    "Var = pytho(4,3)\n",
    "print(Var)"
   ]
  },
  {
   "cell_type": "code",
   "execution_count": null,
   "metadata": {},
   "outputs": [],
   "source": [
    "# 9) "
   ]
  },
  {
   "cell_type": "code",
   "execution_count": 65,
   "metadata": {},
   "outputs": [
    {
     "name": "stdout",
     "output_type": "stream",
     "text": [
      "2 -2\n"
     ]
    }
   ],
   "source": [
    "x=2\n",
    "x*=3\n",
    "x=x%4\n",
    "y=-x\n",
    "print(x,y)"
   ]
  },
  {
   "cell_type": "code",
   "execution_count": 64,
   "metadata": {},
   "outputs": [
    {
     "name": "stdout",
     "output_type": "stream",
     "text": [
      "None\n"
     ]
    }
   ],
   "source": [
    "def f():\n",
    "    pass\n",
    "print(f())"
   ]
  },
  {
   "cell_type": "code",
   "execution_count": null,
   "metadata": {},
   "outputs": [],
   "source": []
  },
  {
   "cell_type": "code",
   "execution_count": null,
   "metadata": {},
   "outputs": [],
   "source": []
  },
  {
   "cell_type": "code",
   "execution_count": null,
   "metadata": {},
   "outputs": [],
   "source": [
    "\"\"\"s = [1,2,3,4]\n",
    "dir(s)\n",
    "\n",
    "a=\"abcd\"\n",
    "dir(a)\"\"\"\n",
    "\n",
    "#ROUGH\n",
    "#f=count(rlist)\n",
    "#print(f)\n",
    "\n",
    "#rS = 0\n",
    "#for i in len(rlist)\n",
    "#   rS = rS+rlist[i]\n",
    "#rA=rS/len(rlist)\n",
    "#print(rA)"
   ]
  }
 ],
 "metadata": {
  "kernelspec": {
   "display_name": "Python 3",
   "language": "python",
   "name": "python3"
  }
 },
 "nbformat": 4,
 "nbformat_minor": 2
}
