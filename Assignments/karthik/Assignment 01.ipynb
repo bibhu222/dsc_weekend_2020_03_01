{
 "cells": [
  {
   "cell_type": "code",
   "execution_count": 8,
   "metadata": {},
   "outputs": [
    {
     "name": "stdout",
     "output_type": "stream",
     "text": [
      "Enter temprature:100\n",
      "Celsius 37.77777777777778\n"
     ]
    }
   ],
   "source": [
    "#1.To convert Fahrenheit to Celsius.\n",
    "F=int(input('Enter temprature:'))\n",
    "c=(F-32)/1.8\n",
    "print('Celsius:',c)"
   ]
  },
  {
   "cell_type": "code",
   "execution_count": 13,
   "metadata": {},
   "outputs": [
    {
     "name": "stdout",
     "output_type": "stream",
     "text": [
      "Enter number:2\n",
      "Square: 4\n"
     ]
    }
   ],
   "source": [
    "#2.Square and Cube\n",
    "s=int(input('Enter number:'))\n",
    "print('Square:',s*s)"
   ]
  },
  {
   "cell_type": "code",
   "execution_count": 14,
   "metadata": {},
   "outputs": [],
   "source": [
    "#3.print the result of following"
   ]
  },
  {
   "cell_type": "code",
   "execution_count": 18,
   "metadata": {},
   "outputs": [
    {
     "name": "stdout",
     "output_type": "stream",
     "text": [
      "Enter n:10\n",
      "Enter m:20\n",
      "500\n"
     ]
    }
   ],
   "source": [
    "n=int(input('Enter n:'))\n",
    "m=int(input('Enter m:'))\n",
    "print(n**2+m**2)"
   ]
  },
  {
   "cell_type": "code",
   "execution_count": 21,
   "metadata": {},
   "outputs": [
    {
     "name": "stdout",
     "output_type": "stream",
     "text": [
      "Enter M:10\n",
      "Enter N:2\n",
      "100\n"
     ]
    }
   ],
   "source": [
    "#4.Input M and N print M^N\n",
    "m=int(input('Enter M:'))\n",
    "n=int(input('Enter N:'))\n",
    "print(m**n)\n",
    "p=pow(m,n)"
   ]
  },
  {
   "cell_type": "code",
   "execution_count": 4,
   "metadata": {},
   "outputs": [
    {
     "name": "stdout",
     "output_type": "stream",
     "text": [
      "Principle Amount:500\n",
      "Rate of interest:5\n",
      "Time:5\n",
      "Simple interest: 125.0\n"
     ]
    }
   ],
   "source": [
    "#5.Simple interest calculator\n",
    "p=int(input('Principle Amount:'))\n",
    "r=int(input('Rate of interest:'))\n",
    "t=int(input('Time:'))\n",
    "SI=(p*r*t)/100\n",
    "print(\"Simple interest:\",SI)"
   ]
  },
  {
   "cell_type": "code",
   "execution_count": 2,
   "metadata": {},
   "outputs": [
    {
     "name": "stdout",
     "output_type": "stream",
     "text": [
      "Principle Amount:6250\n",
      "Rate of interest:8\n",
      "No of year:2\n",
      "Amount: 7290.000000000001\n",
      "Compound inerest: 1040.000000000001\n"
     ]
    }
   ],
   "source": [
    "#6.Compond interest \n",
    "p=int(input('Principle Amount:'))\n",
    "r=int(input('Rate of interest:'))\n",
    "n=int(input('No of year:'))\n",
    "A=p*(1+(r/100))**n\n",
    "print('Amount:',A)\n",
    "c=(A-p)\n",
    "print('Compound inerest:',c)\n"
   ]
  },
  {
   "cell_type": "code",
   "execution_count": 1,
   "metadata": {},
   "outputs": [
    {
     "name": "stdout",
     "output_type": "stream",
     "text": [
      "Enter Num:10\n",
      "55\n"
     ]
    }
   ],
   "source": [
    "#7.n natural number\n",
    "n=int(input('Enter Num:'))\n",
    "m=0\n",
    "for i in range(1,n+1):\n",
    "    m=m+i\n",
    "print(m)"
   ]
  },
  {
   "cell_type": "code",
   "execution_count": 17,
   "metadata": {},
   "outputs": [
    {
     "name": "stdout",
     "output_type": "stream",
     "text": [
      "Enter x value:5\n",
      "Enter y value:8\n",
      "The value of x after swapping: 8\n",
      "The value of y after swapping: 5\n",
      "Enter x value:5\n",
      "Enter y value:8\n",
      "The value of x after swapping(temp variable): 8\n",
      "The value of y after swapping(temp variable): 5\n"
     ]
    }
   ],
   "source": [
    "#8.Swap\n",
    "x=int(input('Enter x value:'))\n",
    "y=int(input('Enter y value:'))\n",
    "x,y=y,x\n",
    "print('The value of x after swapping:',x)\n",
    "print('The value of y after swapping:',y)\n",
    "#temporary variable\n",
    "x=int(input('Enter x value:'))\n",
    "y=int(input('Enter y value:'))\n",
    "temp=x\n",
    "x=y\n",
    "y=temp\n",
    "print ('The value of x after swapping(temp variable):',x)\n",
    "print ('The value of y after swapping(temp variable):',y)"
   ]
  },
  {
   "cell_type": "code",
   "execution_count": 2,
   "metadata": {},
   "outputs": [
    {
     "name": "stdout",
     "output_type": "stream",
     "text": [
      "10\n",
      "9\n"
     ]
    }
   ],
   "source": [
    "#ascii value \n",
    "print(ord('\\n'))\n",
    "print(ord('\\t'))"
   ]
  },
  {
   "cell_type": "code",
   "execution_count": 3,
   "metadata": {},
   "outputs": [
    {
     "name": "stdout",
     "output_type": "stream",
     "text": [
      "Enter a single character:%\n",
      "37\n"
     ]
    }
   ],
   "source": [
    "#single character and print its ascii values\n",
    "char=input('Enter a single character:')\n",
    "print(ord(char))"
   ]
  },
  {
   "cell_type": "code",
   "execution_count": null,
   "metadata": {},
   "outputs": [],
   "source": [
    "#"
   ]
  },
  {
   "cell_type": "code",
   "execution_count": null,
   "metadata": {},
   "outputs": [],
   "source": []
  }
 ],
 "metadata": {
  "kernelspec": {
   "display_name": "Python 3",
   "language": "python",
   "name": "python3"
  },
  "language_info": {
   "codemirror_mode": {
    "name": "ipython",
    "version": 3
   },
   "file_extension": ".py",
   "mimetype": "text/x-python",
   "name": "python",
   "nbconvert_exporter": "python",
   "pygments_lexer": "ipython3",
   "version": "3.7.4"
  }
 },
 "nbformat": 4,
 "nbformat_minor": 2
}
