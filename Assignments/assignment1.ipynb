{
 "cells": [
  {
   "cell_type": "code",
   "execution_count": 2,
   "metadata": {},
   "outputs": [
    {
     "name": "stdout",
     "output_type": "stream",
     "text": [
      "enter the temperature in fahrenheit:75\n",
      "temperature in celsius: 23.88888888888889\n"
     ]
    }
   ],
   "source": [
    "# Input temperature in Fahrenheit in print in Celsius. \n",
    "Fah=int(input(\"enter the temperature in fahrenheit:\"))\n",
    "cel=(Fah-32)/1.8\n",
    "print(\"temperature in celsius:\")"
   ]
  },
  {
   "cell_type": "code",
   "execution_count": 5,
   "metadata": {},
   "outputs": [
    {
     "name": "stdout",
     "output_type": "stream",
     "text": [
      "enter a no.:2\n",
      "square of 2 is 4\n",
      "cube of 2 is 8\n"
     ]
    }
   ],
   "source": [
    "# Write a program to input a number and print its square and cube. \n",
    "num=int(input(\"enter a no.:\"))\n",
    "squ_num=num**2\n",
    "cub_num=num**3\n",
    "print(\"square of {} is {}\".format(num,squ_num));print(\"cube of {} is {}\".format(num,cub_num))\n"
   ]
  },
  {
   "cell_type": "code",
   "execution_count": 6,
   "metadata": {},
   "outputs": [
    {
     "name": "stdout",
     "output_type": "stream",
     "text": [
      "enter a no.:2\n",
      "enter a no.:3\n",
      "13\n"
     ]
    }
   ],
   "source": [
    "#WAP to input a number n and a number m and print the result of following \n",
    "#n2 + m2 \n",
    "n=int(input(\"enter a no.:\"))\n",
    "m=int(input(\"enter a no.:\"))\n",
    "l=n**2+m**2\n",
    "print(l)"
   ]
  },
  {
   "cell_type": "code",
   "execution_count": 7,
   "metadata": {},
   "outputs": [
    {
     "name": "stdout",
     "output_type": "stream",
     "text": [
      "enter a no.:2\n",
      "enter a no.:3\n",
      "exponent of M and N using **: 8\n",
      "exponent of M and N using power function:  8\n"
     ]
    }
   ],
   "source": [
    "#WAP to input a numbers M and N and print result of MN. (use both ** and pow) \n",
    "M=int(input(\"enter a no.:\"))\n",
    "N=int(input(\"enter a no.:\"))\n",
    "L=M**N\n",
    "K=pow(M,N)\n",
    "print(\"exponent of M and N using **:\",L)\n",
    "print(\"exponent of M and N using power function: \",K)"
   ]
  },
  {
   "cell_type": "code",
   "execution_count": 9,
   "metadata": {},
   "outputs": [
    {
     "name": "stdout",
     "output_type": "stream",
     "text": [
      "principal amount:3000\n",
      "rate of interest in decimal:0.09\n",
      "time:5\n",
      "simple interest: 1350.0\n"
     ]
    }
   ],
   "source": [
    "# Write a simple interest calculator\n",
    "P=int(input(\"principal amount:\"))\n",
    "r=float(input(\"rate of interest in decimal:\"))\n",
    "T=int(input(\"time:\"))\n",
    "I=P*r*T\n",
    "print(\"simple interest:\",I)\n"
   ]
  },
  {
   "cell_type": "code",
   "execution_count": 6,
   "metadata": {},
   "outputs": [
    {
     "name": "stdout",
     "output_type": "stream",
     "text": [
      "principal amount:5000\n",
      "rate of interest in decimal:0.08\n",
      "time:2\n",
      "no. of compound paid in year:4\n",
      "compound interest: 5858.296905011329\n"
     ]
    }
   ],
   "source": [
    "#Input Principal, Rate, Time and print Compound Interest and Amount. \n",
    "P=int(input(\"principal amount:\"))\n",
    "r=float(input(\"rate of interest in decimal:\"))\n",
    "T=int(input(\"time:\"))\n",
    "n=int(input(\"no. of compound paid in year:\"))\n",
    "m=n*T\n",
    "k=(1+(r/n))\n",
    "CI=P*(1+(r/n))**m\n",
    "print(\"compound interest:\",CI)"
   ]
  },
  {
   "cell_type": "code",
   "execution_count": 7,
   "metadata": {},
   "outputs": [
    {
     "name": "stdout",
     "output_type": "stream",
     "text": [
      "enter the no:8\n",
      "36\n"
     ]
    }
   ],
   "source": [
    "#WAP to print sum of first n natural numbers. (n needs to be taken as input). \n",
    "n = int(input(\"enter the no:\"))\n",
    "m = 0\n",
    "for i in range(1,n+1):\n",
    "    m = m + i\n",
    "print(m)\n"
   ]
  },
  {
   "cell_type": "code",
   "execution_count": 10,
   "metadata": {},
   "outputs": [
    {
     "name": "stdout",
     "output_type": "stream",
     "text": [
      "enter a = 7 \n",
      "enter b = 10\n",
      "a, b using temp vble  10 7\n",
      "a, b using pythonic way 7 10\n"
     ]
    }
   ],
   "source": [
    "#WAP to input 2 numbers and swap them. (write using both normal logic with temp variable and also the pythonic way). \n",
    "a = int(input(\"enter a = \"))\n",
    "b = int(input(\"enter b = \"))\n",
    "temp = b\n",
    "b = a\n",
    "a = temp\n",
    "print(\"a, b using temp vble \",a, b)\n",
    "\n",
    "a, b = b, a      #### using pythonic way\n",
    "print(\"a, b using pythonic way\", a, b)"
   ]
  },
  {
   "cell_type": "code",
   "execution_count": 19,
   "metadata": {},
   "outputs": [
    {
     "name": "stdout",
     "output_type": "stream",
     "text": [
      "10\n",
      "9\n"
     ]
    }
   ],
   "source": [
    "# WAP to print ascii value of all white-space characters present in python\n",
    "print(ord('\\n'))\n",
    "print(ord('\\t'))\n"
   ]
  },
  {
   "cell_type": "code",
   "execution_count": 13,
   "metadata": {},
   "outputs": [
    {
     "name": "stdout",
     "output_type": "stream",
     "text": [
      "enter a single character:$\n",
      "36\n"
     ]
    }
   ],
   "source": [
    " #Input a single character and print its ascii values. \n",
    "char=input(\"enter a single character:\")\n",
    "print(ord(char))"
   ]
  },
  {
   "cell_type": "code",
   "execution_count": 1,
   "metadata": {
    "scrolled": true
   },
   "outputs": [
    {
     "name": "stdout",
     "output_type": "stream",
     "text": [
      "area of a circle:112\n",
      "radius of circle 5.972335373111359\n",
      "circumference of circle 37.506266143139335\n"
     ]
    }
   ],
   "source": [
    "#WAP that takes area of a circle and gives back the radius and circumference. \n",
    "area=int(input(\"area of a circle:\"))\n",
    "rad=(area/3.14)**(1/2)\n",
    "cir=(2*3.14)*rad\n",
    "print(\"radius of circle\",rad)\n",
    "print(\"circumference of circle\",cir)"
   ]
  },
  {
   "cell_type": "code",
   "execution_count": 5,
   "metadata": {
    "scrolled": true
   },
   "outputs": [
    {
     "name": "stdout",
     "output_type": "stream",
     "text": [
      "marks in eng:40\n",
      "marks in maths1:30\n",
      "marks in maths2:60\n",
      "marks in physics:40\n",
      "marks in chemistry:5\n",
      "percentage 35.0\n"
     ]
    }
   ],
   "source": [
    "#We need to input marks in 5 subjects out of 100 and print percentage.\n",
    "m0=int(input(\"marks in eng:\"))\n",
    "m1=int(input(\"marks in maths1:\"))\n",
    "m2=int(input(\"marks in maths2:\"))\n",
    "m3=int(input(\"marks in physics:\"))\n",
    "m4=int(input(\"marks in chemistry:\"))\n",
    "sum_=m0+m1+m2+m3+m4\n",
    "per=(sum_/500)*100\n",
    "print(\"percentage\", per)\n"
   ]
  },
  {
   "cell_type": "code",
   "execution_count": null,
   "metadata": {},
   "outputs": [],
   "source": []
  }
 ],
 "metadata": {
  "kernelspec": {
   "display_name": "Python 3",
   "language": "python",
   "name": "python3"
  },
  "language_info": {
   "codemirror_mode": {
    "name": "ipython",
    "version": 3
   },
   "file_extension": ".py",
   "mimetype": "text/x-python",
   "name": "python",
   "nbconvert_exporter": "python",
   "pygments_lexer": "ipython3",
   "version": "3.7.4"
  }
 },
 "nbformat": 4,
 "nbformat_minor": 2
}
