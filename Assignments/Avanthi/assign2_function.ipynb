{
 "cells": [
  {
   "cell_type": "code",
   "execution_count": 1,
   "metadata": {},
   "outputs": [
    {
     "name": "stdout",
     "output_type": "stream",
     "text": [
      "string1: abcd\n",
      "string2: edfr\n"
     ]
    },
    {
     "data": {
      "text/plain": [
       "('edfr', 'abcd')"
      ]
     },
     "execution_count": 1,
     "metadata": {},
     "output_type": "execute_result"
    }
   ],
   "source": [
    "# 1.WAP to input 2 strings and swap the strings \n",
    "def swap_str(s,s1):\n",
    "    s,s1=s1,s\n",
    "    return s,s1\n",
    "\n",
    "s = input(\"string1: \")\n",
    "s1 = input(\"string2: \")\n",
    "swap_str(s,s1)"
   ]
  },
  {
   "cell_type": "code",
   "execution_count": 5,
   "metadata": {},
   "outputs": [
    {
     "data": {
      "text/plain": [
       "17.75"
      ]
     },
     "execution_count": 5,
     "metadata": {},
     "output_type": "execute_result"
    }
   ],
   "source": [
    "# 2. WAP to generate 4 random numbers in the range 0-26 and print their average \n",
    "from random import randrange as rr\n",
    "\n",
    "def avg_(n1, n2, n3, n4):\n",
    "    avg = (n1 + n2 + n3 + n4)/4\n",
    "    return avg\n",
    "\n",
    "#n1 = rr(0,26)\n",
    "#n2 = rr(0,26)\n",
    "avg_(rr(0,26), rr(0,26), rr(0,26), rr(0,26))"
   ]
  },
  {
   "cell_type": "code",
   "execution_count": 19,
   "metadata": {},
   "outputs": [
    {
     "name": "stdout",
     "output_type": "stream",
     "text": [
      "g\n",
      "string in upper case ABCDEFGHIJKLMNOPQRSTUVWXYZ\n",
      "string in lower case  abcdefghijklmnopqrstuvwxyz\n",
      "<module 'string' from 'C:\\\\Users\\\\Avanthi\\\\Anaconda3\\\\lib\\\\string.py'>\n"
     ]
    }
   ],
   "source": [
    "# 3. WAP to generate and print a random uppercase or lowercase alphabet. Try these:\n",
    "#• Create a string containing all alphabets and then select a random alphabet. • Check the module string \n",
    "import random as rd\n",
    "def rand_alp( ):\n",
    "    s = \"abcdefghijklmnopqrstuvwxyz\"\n",
    "    rand = rd.choice(s)\n",
    "    return rand\n",
    "\n",
    "print(rand_alp( ))\n",
    "\n",
    "print(\"string in upper case\",s.upper())\n",
    "print(\"string in lower case \",s.lower())\n",
    "\n",
    "\n",
    "def mod():\n",
    "    import string as str_\n",
    "    print(str_)\n",
    "    \n",
    "mod()\n"
   ]
  },
  {
   "cell_type": "code",
   "execution_count": 20,
   "metadata": {},
   "outputs": [
    {
     "data": {
      "text/plain": [
       "36.0"
      ]
     },
     "execution_count": 20,
     "metadata": {},
     "output_type": "execute_result"
    }
   ],
   "source": [
    "# 4. WAF get_si() that takes Principle, Rate and Time as arguments and returns the Simple Interest. \n",
    "\n",
    "def get_si(P, r,T):\n",
    "    si = (P * r * T) / 100\n",
    "    return si\n",
    "\n",
    "\n",
    "get_si(20000,0.09,2)"
   ]
  },
  {
   "cell_type": "code",
   "execution_count": 16,
   "metadata": {},
   "outputs": [
    {
     "data": {
      "text/plain": [
       "4000.0"
      ]
     },
     "execution_count": 16,
     "metadata": {},
     "output_type": "execute_result"
    }
   ],
   "source": [
    "# 5. WAF get_amount() that takes Principle, Rate and Time as arguments and \n",
    "#returns the Total amount using the get_si() function from above to calculate the SI.\n",
    "#Also provide Rate = 10 and Time = 1 as default arguments. \n",
    "def get_amount( P, r = 10, T = 1 ) :\n",
    "    total_amount = get_si(P, r, T)\n",
    "    return total_amount\n",
    "\n",
    "\n",
    "get_amount( P = 20000, r = 20 )\n",
    "    "
   ]
  },
  {
   "cell_type": "code",
   "execution_count": 24,
   "metadata": {},
   "outputs": [
    {
     "data": {
      "text/plain": [
       "35495.9350895996"
      ]
     },
     "execution_count": 24,
     "metadata": {},
     "output_type": "execute_result"
    }
   ],
   "source": [
    "# 6. WAP get_ci() that takes Principle, Rate and Time as arguments and returns the Compound Interest\n",
    "def get_ci( P, r, T, n) :\n",
    "    cm_in = P * (1 + (r/n))**(n*T)\n",
    "    return cm_in\n",
    "\n",
    "get_ci(23000, 0.3, 2, 4)"
   ]
  },
  {
   "cell_type": "code",
   "execution_count": 12,
   "metadata": {},
   "outputs": [
    {
     "data": {
      "text/plain": [
       "(2.0, 0)"
      ]
     },
     "execution_count": 12,
     "metadata": {},
     "output_type": "execute_result"
    }
   ],
   "source": [
    "# 7. WAP get_q_r() taking 2 numbers as parameters and returns the quotient and remainder in the form of a tuple. \n",
    "def get_q_r(a, b):\n",
    "    quo = a / b\n",
    "    rem = a % b\n",
    "    return quo, rem\n",
    "    \n",
    "get_q_r(6,3)\n",
    "        "
   ]
  },
  {
   "cell_type": "code",
   "execution_count": 9,
   "metadata": {},
   "outputs": [
    {
     "name": "stdout",
     "output_type": "stream",
     "text": [
      "height: 3\n",
      "base: 4\n"
     ]
    },
    {
     "data": {
      "text/plain": [
       "5.0"
      ]
     },
     "execution_count": 9,
     "metadata": {},
     "output_type": "execute_result"
    }
   ],
   "source": [
    "# 8. WAP to find the length of hypotenuse of a right angled triangle, input the height and base from user. \n",
    "import math as m\n",
    "def len_hypo(h, b):\n",
    "    \n",
    "    l = m.sqrt(pow(b,2)+pow(h,2))\n",
    "    return l\n",
    "\n",
    "h = int(input(\"height: \"))\n",
    "b = int(input(\"base: \"))\n",
    "len_hypo(h, b)"
   ]
  },
  {
   "cell_type": "code",
   "execution_count": 53,
   "metadata": {},
   "outputs": [
    {
     "name": "stdout",
     "output_type": "stream",
     "text": [
      "0 day 23 hour 53 minute 20 second\n"
     ]
    }
   ],
   "source": [
    "# 9. WAP to input number of seconds and print in days, hours, minutes and seconds ex: input = 10000     \n",
    "#Output = 0 day 2 hour 46 minute 40 second \n",
    "\n",
    "def get_time(sec):\n",
    "    d = sec//86400\n",
    "    hr = (sec%86400)//3600\n",
    "    l = sec%3600\n",
    "    m = l//60\n",
    "    s = l%60\n",
    "    print(f\"{d} day {hr} hour {m} minute {s} second\")\n",
    "\n",
    "    \n",
    "    \n",
    "get_time(86000)\n"
   ]
  },
  {
   "cell_type": "code",
   "execution_count": 4,
   "metadata": {},
   "outputs": [
    {
     "name": "stdout",
     "output_type": "stream",
     "text": [
      "3.7.4 (default, Aug  9 2019, 18:34:13) [MSC v.1915 64 bit (AMD64)]\n"
     ]
    }
   ],
   "source": [
    "# 10. Check your version of python interpreter without opening the interpreter\n",
    "#(Which command needs to be used on the command line). \n",
    "import sys\n",
    "print(sys.version)"
   ]
  },
  {
   "cell_type": "code",
   "execution_count": 1,
   "metadata": {},
   "outputs": [
    {
     "name": "stdout",
     "output_type": "stream",
     "text": [
      "2 -2\n"
     ]
    }
   ],
   "source": [
    "# 11. find output\n",
    "X = 2\n",
    "X *= 3  ## 6\n",
    "X = X % 4   ## 2\n",
    "Y = -X ### -2\n",
    "print(X,Y)"
   ]
  },
  {
   "cell_type": "code",
   "execution_count": 3,
   "metadata": {},
   "outputs": [
    {
     "name": "stdout",
     "output_type": "stream",
     "text": [
      "None\n"
     ]
    }
   ],
   "source": [
    "# 12. find output\n",
    "def func():\n",
    "    pass\n",
    "    \n",
    "print(func()) #continuous loop"
   ]
  },
  {
   "cell_type": "code",
   "execution_count": null,
   "metadata": {},
   "outputs": [],
   "source": [
    "# 13."
   ]
  },
  {
   "cell_type": "code",
   "execution_count": null,
   "metadata": {},
   "outputs": [],
   "source": []
  }
 ],
 "metadata": {
  "kernelspec": {
   "display_name": "Python 3",
   "language": "python",
   "name": "python3"
  },
  "language_info": {
   "codemirror_mode": {
    "name": "ipython",
    "version": 3
   },
   "file_extension": ".py",
   "mimetype": "text/x-python",
   "name": "python",
   "nbconvert_exporter": "python",
   "pygments_lexer": "ipython3",
   "version": "3.7.4"
  }
 },
 "nbformat": 4,
 "nbformat_minor": 2
}
