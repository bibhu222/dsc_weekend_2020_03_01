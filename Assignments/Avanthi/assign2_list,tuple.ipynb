{
 "cells": [
  {
   "cell_type": "code",
   "execution_count": 2,
   "metadata": {},
   "outputs": [
    {
     "data": {
      "text/plain": [
       "list"
      ]
     },
     "execution_count": 2,
     "metadata": {},
     "output_type": "execute_result"
    }
   ],
   "source": [
    "# 1.Convert a Tuple t = (1,2,3,4,5) to a list\n",
    "t=(1,2,3,4,5)\n",
    "t1=list(t)\n",
    "type(t1)"
   ]
  },
  {
   "cell_type": "code",
   "execution_count": 7,
   "metadata": {},
   "outputs": [
    {
     "name": "stdout",
     "output_type": "stream",
     "text": [
      "[[1, 3, 5, 7], (8, 6, 4, 2)]\n"
     ]
    }
   ],
   "source": [
    "# 2.WAP to join a list and a tuple:  L = [1,3,5,7]   T = (8,6,4,2) \n",
    " #Store the result in a list LS \n",
    "L = [1,3,5,7]\n",
    "T = (8,6,4,2)\n",
    "LS=list([L,T])\n",
    "print(LS)\n"
   ]
  },
  {
   "cell_type": "markdown",
   "metadata": {},
   "source": [
    "####3. What is difference between list and tuple. \n",
    "-list-mutable\n",
    "-tuple is immutable"
   ]
  },
  {
   "cell_type": "code",
   "execution_count": 11,
   "metadata": {},
   "outputs": [
    {
     "name": "stdout",
     "output_type": "stream",
     "text": [
      "['C', 'A', 'c', 'd', 'a']\n"
     ]
    }
   ],
   "source": [
    "# 4.Print the list in reverse order  l = [‘a’, ‘d’, ‘c’, ‘A’, ‘C’] \n",
    "l = ['a', 'd', 'c', 'A', 'C']\n",
    "for i in range(0,len(l)//2):\n",
    "    l[i], l[len(l)-1-i]=l[len(l)-1-i], l[i]\n",
    "print(l)"
   ]
  },
  {
   "cell_type": "code",
   "execution_count": 18,
   "metadata": {},
   "outputs": [
    {
     "data": {
      "text/plain": [
       "[10, 20, 30, 40]"
      ]
     },
     "execution_count": 18,
     "metadata": {},
     "output_type": "execute_result"
    }
   ],
   "source": [
    "# 5. Print Elements at Odd indexes from a list (Do not use loop)   \n",
    "l = [10,11,20, 21,30, 31, 40, 41]  \n",
    "l[::2]"
   ]
  },
  {
   "cell_type": "code",
   "execution_count": 22,
   "metadata": {},
   "outputs": [
    {
     "name": "stdout",
     "output_type": "stream",
     "text": [
      "['1', '2', '3', '4']\n",
      "[4, '2', '3', '4'] [4, '2', '3', '4']\n",
      "['a', 'b', 'c', 'd']\n",
      "['a', 'b', 'c', 'd'] ['e', 'b', 'c', 'd']\n"
     ]
    }
   ],
   "source": [
    "# 6. How many ways you can copy a list. \n",
    "\n",
    "#copy by reference\n",
    "l = list(\"1234\")\n",
    "l1=[]\n",
    "l1 = l\n",
    "print(l)\n",
    "l1[0] = 4\n",
    "print(l,l1)\n",
    "\n",
    "#copy by value\n",
    "l =list(\"abcd\")\n",
    "l1 = l.copy()\n",
    "print(l)\n",
    "l1[0] = 'e'\n",
    "print(l,l1)"
   ]
  },
  {
   "cell_type": "code",
   "execution_count": 23,
   "metadata": {},
   "outputs": [
    {
     "name": "stdout",
     "output_type": "stream",
     "text": [
      "a\n",
      "5\n"
     ]
    }
   ],
   "source": [
    "# 7. predict output\n",
    "n_list = ['Happy', [2, 0, 1, 5]]\n",
    "print(n_list[0][1])### a\n",
    "print(n_list[1][3])### 5"
   ]
  },
  {
   "cell_type": "code",
   "execution_count": 24,
   "metadata": {},
   "outputs": [
    {
     "name": "stdout",
     "output_type": "stream",
     "text": [
      "[1, 4, 6, 8]\n",
      "[1, 3, 5, 7]\n"
     ]
    }
   ],
   "source": [
    "# 8. predict output\n",
    "odd = [2, 4, 6, 8]\n",
    "odd[0] = 1\n",
    "print(odd)   #### [1, 4, 6, 8]\n",
    "odd[1:4] = [3, 5, 7]\n",
    "print(odd)    ### [1, 3, 5, 7]"
   ]
  },
  {
   "cell_type": "code",
   "execution_count": 27,
   "metadata": {},
   "outputs": [
    {
     "name": "stdout",
     "output_type": "stream",
     "text": [
      "[1, 3, 5, [7, 9]]\n",
      "[1, 3, 5, [7, 9], 11, 13]\n"
     ]
    },
    {
     "data": {
      "text/plain": [
       "[1, 3, 5, [7, 9], 11, 13]"
      ]
     },
     "execution_count": 27,
     "metadata": {},
     "output_type": "execute_result"
    }
   ],
   "source": [
    "# 9. predict output\n",
    "odd = [1, 3, 5]\n",
    "odd.append([7, 9])\n",
    "print(odd)   ### [1, 3, 5, [7, 9]]\n",
    "odd.extend([11, 13])\n",
    "print(odd)   ### [1,3,5,[7,9],11,13]"
   ]
  },
  {
   "cell_type": "code",
   "execution_count": 26,
   "metadata": {},
   "outputs": [
    {
     "name": "stdout",
     "output_type": "stream",
     "text": [
      "<class 'tuple'>\n",
      "<class 'int'>\n",
      "<class 'int'>\n",
      "<class 'tuple'>\n"
     ]
    }
   ],
   "source": [
    "x = 1, 2, 3\n",
    "print(type(x)) ###<class tuple>\n",
    "x =(1)\n",
    "print(type(x)) ##<class tuple>\n",
    "x=1\n",
    "print(type(x))  ###<class int>\n",
    "x=1,\n",
    "print(type(x))   ### <class tuple>"
   ]
  },
  {
   "cell_type": "code",
   "execution_count": 1,
   "metadata": {},
   "outputs": [
    {
     "name": "stdout",
     "output_type": "stream",
     "text": [
      "[[1, 2, 3], [4, 5, 6], [7, 8, 9]]\n"
     ]
    }
   ],
   "source": [
    "# 11. Try to represent a matrix with following data in python: \n",
    "list_ = [[1,2,3],[4,5,6],[7,8,9]]\n",
    "print(list_)"
   ]
  },
  {
   "cell_type": "code",
   "execution_count": 30,
   "metadata": {},
   "outputs": [
    {
     "name": "stdout",
     "output_type": "stream",
     "text": [
      "('s', 't', 'r', 'i', 'n', 'g')\n",
      "('g', 'n', 'i', 'r', 't', 's')\n",
      "('n', 's')\n"
     ]
    }
   ],
   "source": [
    "# 12. predict output\n",
    "t = tuple('string')\n",
    "print(t)    ###('s', 't', 'r', 'i', 'n', 'g')\n",
    "print(t[::-1]) ###('g', 'n', 'i', 'r', 't', 's')\n",
    "print(t[::2][::-2])   ###('n', 's')"
   ]
  },
  {
   "cell_type": "code",
   "execution_count": 31,
   "metadata": {},
   "outputs": [
    {
     "name": "stdout",
     "output_type": "stream",
     "text": [
      "True\n",
      "False\n",
      "1\n",
      "3\n"
     ]
    }
   ],
   "source": [
    "# 13. predict output\n",
    "t = tuple([10, 20, 30, 40, 50, 60])\n",
    "print(60 in t)    ###True\n",
    "print('60' in t)    ###  False\n",
    "print(t.count(10))  #### 1\n",
    "print(t.index(40))   #### 3"
   ]
  },
  {
   "cell_type": "code",
   "execution_count": 42,
   "metadata": {},
   "outputs": [
    {
     "name": "stdout",
     "output_type": "stream",
     "text": [
      "string:malayalam\n",
      "malayalam is a palindrome\n"
     ]
    }
   ],
   "source": [
    "# 14.Write a program to input a string and print if it is palindrome or not. \n",
    "s = input(\"string:\")\n",
    "s1 = s[::-1]\n",
    "if s==s1:\n",
    "    print(\"{} is a palindrome\".format(s))\n",
    "else:\n",
    "    print(\"{} is not a palindrome\".format(s))\n"
   ]
  },
  {
   "cell_type": "code",
   "execution_count": 56,
   "metadata": {},
   "outputs": [
    {
     "name": "stdout",
     "output_type": "stream",
     "text": [
      "(20, 15, 10, 5)\n"
     ]
    }
   ],
   "source": [
    "# 15. Use the range method and create a tuple containing the following values: (20, 15, 10, 5)\n",
    "t = tuple(range(5,25,5))\n",
    "t1 = t[::-1]\n",
    "print(t1)"
   ]
  },
  {
   "cell_type": "code",
   "execution_count": 57,
   "metadata": {},
   "outputs": [
    {
     "name": "stdout",
     "output_type": "stream",
     "text": [
      "['a', 'b', 'c', 'd', 'e', 'f']\n"
     ]
    }
   ],
   "source": [
    "# 16. WAP to convert string to list of characters\n",
    "s = \"abcdef\"\n",
    "list_ = list(s)\n",
    "print(list_)"
   ]
  },
  {
   "cell_type": "code",
   "execution_count": 58,
   "metadata": {},
   "outputs": [
    {
     "name": "stdout",
     "output_type": "stream",
     "text": [
      "<class 'list'>\n",
      "<class 'NoneType'>\n",
      "<class 'str'>\n",
      "<class 'bool'>\n"
     ]
    }
   ],
   "source": [
    "# 17. What is the return type of:\n",
    "print(type( '1 2'.split() ))   #### string\n",
    "print(type( [1, 3, 2].sort() )) #### list\n",
    "print(type( 'abc'.upper() )) #### string\n",
    "print(type( 1 in [1, 2] )) #### boolean"
   ]
  },
  {
   "cell_type": "code",
   "execution_count": 59,
   "metadata": {},
   "outputs": [
    {
     "data": {
      "text/plain": [
       "['1', '2']"
      ]
     },
     "execution_count": 59,
     "metadata": {},
     "output_type": "execute_result"
    }
   ],
   "source": [
    "'1 2'.split()\n"
   ]
  },
  {
   "cell_type": "code",
   "execution_count": 61,
   "metadata": {},
   "outputs": [
    {
     "name": "stdout",
     "output_type": "stream",
     "text": [
      "None\n"
     ]
    }
   ],
   "source": [
    "print([1, 3, 2].sort())"
   ]
  },
  {
   "cell_type": "code",
   "execution_count": null,
   "metadata": {},
   "outputs": [],
   "source": []
  }
 ],
 "metadata": {
  "kernelspec": {
   "display_name": "Python 3",
   "language": "python",
   "name": "python3"
  },
  "language_info": {
   "codemirror_mode": {
    "name": "ipython",
    "version": 3
   },
   "file_extension": ".py",
   "mimetype": "text/x-python",
   "name": "python",
   "nbconvert_exporter": "python",
   "pygments_lexer": "ipython3",
   "version": "3.7.4"
  }
 },
 "nbformat": 4,
 "nbformat_minor": 2
}
