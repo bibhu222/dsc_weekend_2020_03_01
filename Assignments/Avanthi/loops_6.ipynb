{
 "cells": [
  {
   "cell_type": "code",
   "execution_count": 4,
   "metadata": {},
   "outputs": [
    {
     "name": "stdout",
     "output_type": "stream",
     "text": [
      "enter a no.: 9\n",
      "[0, 1, 2, 3, 4, 5, 6, 7, 8, 9]\n"
     ]
    }
   ],
   "source": [
    "# 1. WAP to print first n natural numbers (input n from user). \n",
    "n = int(input(\"enter a no.: \"))\n",
    "l=[]\n",
    "for i in range(0,n+1):\n",
    "    l.append(i)\n",
    "print(l)"
   ]
  },
  {
   "cell_type": "code",
   "execution_count": 5,
   "metadata": {},
   "outputs": [
    {
     "name": "stdout",
     "output_type": "stream",
     "text": [
      "enter a no.:9\n",
      "45\n"
     ]
    }
   ],
   "source": [
    "# 2. WAP to find sum of first n natural numbers \n",
    "n = int(input(\"enter a no.:\"))\n",
    "sum_=0\n",
    "for i in range(0,n+1):\n",
    "    sum_=sum_+i\n",
    "print(sum_)"
   ]
  },
  {
   "cell_type": "code",
   "execution_count": 6,
   "metadata": {},
   "outputs": [
    {
     "name": "stdout",
     "output_type": "stream",
     "text": [
      "enter a no.: 9\n",
      "[9, 8, 7, 6, 5, 4, 3, 2, 1, 0]\n"
     ]
    }
   ],
   "source": [
    "# 3. WAP to print first n natural numbers in reverse order. \n",
    "n = int(input(\"enter a no.: \"))\n",
    "l=[]\n",
    "for i in range(0,n+1):\n",
    "    l.append(i)\n",
    "print(l[::-1])"
   ]
  },
  {
   "cell_type": "code",
   "execution_count": 2,
   "metadata": {},
   "outputs": [
    {
     "name": "stdout",
     "output_type": "stream",
     "text": [
      "enter a no.:5\n",
      "120\n"
     ]
    }
   ],
   "source": [
    "# 4. WAP to input a number and print its factorial. \n",
    "n = int(input(\"enter a no.:\"))\n",
    "fac=1\n",
    "if n==0:\n",
    "    fact=1\n",
    "if n>0:\n",
    "    for i in range(1,n+1):\n",
    "        fac=fac*i\n",
    "print(fac)"
   ]
  },
  {
   "cell_type": "code",
   "execution_count": 6,
   "metadata": {},
   "outputs": [
    {
     "name": "stdout",
     "output_type": "stream",
     "text": [
      "enter a no.:8\n",
      "[0, 1, 1, 2, 3, 5, 8, 13]\n"
     ]
    }
   ],
   "source": [
    "# 5. WAP to print Fibonacci sequence till n. \n",
    "n = int(input(\"enter a no.:\"))\n",
    "l=[0,1]\n",
    "for i in range(0,n-2):\n",
    "    l.append(l[i]+l[i+1])\n",
    "print(l)\n",
    "    "
   ]
  },
  {
   "cell_type": "code",
   "execution_count": 18,
   "metadata": {},
   "outputs": [
    {
     "name": "stdout",
     "output_type": "stream",
     "text": [
      "enter a no.:193830\n",
      "1 digit 0\n",
      "2 digit 3\n",
      "3 digit 8\n",
      "4 digit 3\n",
      "5 digit 9\n",
      "6 digit 1\n"
     ]
    }
   ],
   "source": [
    "# 6. WAP to print all digits of a number input from user. \n",
    "n = int(input(\"enter a no.:\"))\n",
    "num=0\n",
    "i=1\n",
    "while n >= 1:\n",
    "    num = n%10\n",
    "    print(i,\"digit\", num)\n",
    "    n=n//10\n",
    "    i+=1\n",
    "\n"
   ]
  },
  {
   "cell_type": "code",
   "execution_count": 20,
   "metadata": {},
   "outputs": [
    {
     "name": "stdout",
     "output_type": "stream",
     "text": [
      "enter 4 git no.:18393\n",
      "24\n"
     ]
    }
   ],
   "source": [
    "# 7. WAP to find sum of all digits of a number. \n",
    "n = int(input(\"enter 4 git no.:\"))\n",
    "num=0\n",
    "sum_=0\n",
    "while n >= 1:\n",
    "    num = n%10\n",
    "    sum_=sum_+num\n",
    "    n=n//10\n",
    "print(sum_)"
   ]
  },
  {
   "cell_type": "code",
   "execution_count": 25,
   "metadata": {},
   "outputs": [
    {
     "name": "stdout",
     "output_type": "stream",
     "text": [
      "enter a no.:5\n",
      "153\n"
     ]
    }
   ],
   "source": [
    "# 8. WAP to find sum of following series given n as input from user 1 + 2! + 3! + 4! + 5! + ….n! \n",
    "#Where n! denotes the factorial of number n. \n",
    "n = int(input(\"enter a no.:\"))\n",
    "def fac_num(n):\n",
    "    fac=1\n",
    "    if n==0:\n",
    "        fac=1\n",
    "    if n > 0:\n",
    "        for i in range(1,n+1):\n",
    "            fac=fac*i\n",
    "    return fac\n",
    "\n",
    "\n",
    "sum_=0\n",
    "for i in range(1,n+1):\n",
    "    sum_=sum_+ fac_num(i)\n",
    "    \n",
    "print(sum_)"
   ]
  },
  {
   "cell_type": "code",
   "execution_count": 26,
   "metadata": {},
   "outputs": [
    {
     "name": "stdout",
     "output_type": "stream",
     "text": [
      "base: 3\n",
      "expo:2\n"
     ]
    },
    {
     "data": {
      "text/plain": [
       "9"
      ]
     },
     "execution_count": 26,
     "metadata": {},
     "output_type": "execute_result"
    }
   ],
   "source": [
    "# 9. WAP to input base and exponent and print result without using inbuilt function pow(use for or while loop).\n",
    "base = int(input(\"base: \"))\n",
    "expo = int(input(\"expo:\"))\n",
    "\n",
    "def power(base, expo):\n",
    "    pow_=1\n",
    "    for i in range(1,expo+1):\n",
    "        pow_ = pow_ * base \n",
    "    return pow_\n",
    "\n",
    "power(base, expo)"
   ]
  },
  {
   "cell_type": "code",
   "execution_count": 28,
   "metadata": {
    "scrolled": true
   },
   "outputs": [
    {
     "name": "stdout",
     "output_type": "stream",
     "text": [
      "*\n",
      "**\n",
      "***\n",
      "****\n",
      "*****\n"
     ]
    }
   ],
   "source": [
    "# 10.print the patterns\n",
    "for i in range(5):\n",
    "    for j in range(i+1):\n",
    "        print(\"*\", end='')\n",
    "    print()"
   ]
  },
  {
   "cell_type": "code",
   "execution_count": 29,
   "metadata": {
    "scrolled": true
   },
   "outputs": [
    {
     "name": "stdout",
     "output_type": "stream",
     "text": [
      "*****\n",
      "****\n",
      "***\n",
      "**\n",
      "*\n"
     ]
    }
   ],
   "source": [
    "for i in range(5):\n",
    "    for j in range(5-i):\n",
    "        print(\"*\", end='')\n",
    "    print()"
   ]
  },
  {
   "cell_type": "code",
   "execution_count": 30,
   "metadata": {},
   "outputs": [
    {
     "name": "stdout",
     "output_type": "stream",
     "text": [
      "     *\n",
      "    **\n",
      "   ***\n",
      "  ****\n",
      " *****\n"
     ]
    }
   ],
   "source": [
    "for i in range(5):\n",
    "    for j in range(5-i):\n",
    "        print(\" \", end='')\n",
    "    for j in range(i+1):\n",
    "        print(\"*\", end='')\n",
    "    print()\n",
    "                   "
   ]
  },
  {
   "cell_type": "code",
   "execution_count": 3,
   "metadata": {},
   "outputs": [
    {
     "name": "stdout",
     "output_type": "stream",
     "text": [
      "      * \n",
      "     * * \n",
      "    * * * \n",
      "   * * * * \n"
     ]
    }
   ],
   "source": [
    "n=4\n",
    "k=2*n-2\n",
    "for i in range(n):\n",
    "    for j in range(k):\n",
    "        print(\" \", end='')\n",
    "    k=k-1\n",
    "    for j in range(i+1):\n",
    "        print(\"* \", end='')\n",
    "    \n",
    "    print()\n",
    "    \n",
    "    \n",
    "    \n",
    "    \n",
    "   "
   ]
  },
  {
   "cell_type": "code",
   "execution_count": 39,
   "metadata": {},
   "outputs": [
    {
     "name": "stdout",
     "output_type": "stream",
     "text": [
      "1\n",
      "22\n",
      "333\n",
      "4444\n",
      "55555\n"
     ]
    }
   ],
   "source": [
    "# 11. print patterns\n",
    "for i in range(1,6):\n",
    "    for j in range(i):\n",
    "        print(i, end='')\n",
    "    print()"
   ]
  },
  {
   "cell_type": "code",
   "execution_count": 43,
   "metadata": {},
   "outputs": [
    {
     "name": "stdout",
     "output_type": "stream",
     "text": [
      "1\n",
      "12\n",
      "123\n",
      "1234\n",
      "12345\n"
     ]
    }
   ],
   "source": [
    "for i in range(1,6):\n",
    "    for j in range(1,i+1):\n",
    "        print(j, end='')\n",
    "    print()"
   ]
  },
  {
   "cell_type": "code",
   "execution_count": 46,
   "metadata": {},
   "outputs": [
    {
     "name": "stdout",
     "output_type": "stream",
     "text": [
      "5\n",
      "44\n",
      "333\n",
      "2222\n",
      "11111\n"
     ]
    }
   ],
   "source": [
    "for i in range(5):\n",
    "    for j in range(i+1):\n",
    "        print(5-i, end='')\n",
    "    print()"
   ]
  },
  {
   "cell_type": "code",
   "execution_count": 49,
   "metadata": {},
   "outputs": [
    {
     "name": "stdout",
     "output_type": "stream",
     "text": [
      "    1\n",
      "   22\n",
      "  333\n",
      " 4444\n",
      "55555\n"
     ]
    }
   ],
   "source": [
    "for i in range(1,6):\n",
    "    for j in range(5-i):\n",
    "        print(\" \", end='')\n",
    "    for j in range(i):\n",
    "        print(i, end='')\n",
    "    print()"
   ]
  },
  {
   "cell_type": "code",
   "execution_count": 59,
   "metadata": {},
   "outputs": [
    {
     "name": "stdout",
     "output_type": "stream",
     "text": [
      "A\n",
      "AB\n",
      "ABC\n",
      "ABCD\n",
      "ABCDE\n"
     ]
    }
   ],
   "source": [
    "# 12. pattern\n",
    "for i in range(5):\n",
    "    for j in range(64,65+i):\n",
    "        print(chr(j+1),end='')\n",
    "    print()"
   ]
  },
  {
   "cell_type": "code",
   "execution_count": 10,
   "metadata": {},
   "outputs": [
    {
     "name": "stdout",
     "output_type": "stream",
     "text": [
      "A\n",
      "BC\n",
      "DEF\n",
      "GHIJ\n",
      "KLMNO\n"
     ]
    }
   ],
   "source": [
    "k=0\n",
    "for i in range(5):\n",
    "    \n",
    "    for j in range(i+1):\n",
    "        print(chr(65+k),end='')\n",
    "        k+=1\n",
    "    print()"
   ]
  },
  {
   "cell_type": "code",
   "execution_count": 61,
   "metadata": {},
   "outputs": [
    {
     "name": "stdout",
     "output_type": "stream",
     "text": [
      "A\n",
      "BB\n",
      "CCC\n",
      "DDDD\n",
      "EEEEE\n"
     ]
    }
   ],
   "source": [
    "\n",
    "for i in range(1,6):\n",
    "    for j in range(i):\n",
    "        print(chr(64+i),end='')\n",
    "    print()"
   ]
  },
  {
   "cell_type": "code",
   "execution_count": 30,
   "metadata": {},
   "outputs": [
    {
     "name": "stdout",
     "output_type": "stream",
     "text": [
      "     A\n",
      "    ABA\n",
      "   ABCBA\n",
      "  ABCDCBA\n",
      " ABCDEDCBA\n"
     ]
    }
   ],
   "source": [
    "n=5\n",
    "for i in range(n):\n",
    "    for j in range(n-i):\n",
    "        print(end=' ')\n",
    "    for j in range(i+1):\n",
    "        print(chr(65+j),end='')\n",
    "    for j in range(i,0,-1):\n",
    "        print(chr(64+j), end='')\n",
    "    print()"
   ]
  }
 ],
 "metadata": {
  "kernelspec": {
   "display_name": "Python 3",
   "language": "python",
   "name": "python3"
  },
  "language_info": {
   "codemirror_mode": {
    "name": "ipython",
    "version": 3
   },
   "file_extension": ".py",
   "mimetype": "text/x-python",
   "name": "python",
   "nbconvert_exporter": "python",
   "pygments_lexer": "ipython3",
   "version": "3.7.4"
  }
 },
 "nbformat": 4,
 "nbformat_minor": 2
}
