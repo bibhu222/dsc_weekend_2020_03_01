{
 "cells": [
  {
   "cell_type": "code",
   "execution_count": 2,
   "metadata": {},
   "outputs": [
    {
     "name": "stdout",
     "output_type": "stream",
     "text": [
      "enter the no.4\n",
      "enter the no.2\n",
      "True\n"
     ]
    }
   ],
   "source": [
    "# WAP to input 2 numbers and check whether the first is divisible by the second and\n",
    "#print true or false depending on the divisibility\n",
    "n1 = int(input(\"enter the no.\"))\n",
    "n2 = int(input(\"enter the no.\"))\n",
    "if n1 % n2 == 0:\n",
    "    print(\"True\")\n",
    "else:\n",
    "    print(\"False\")"
   ]
  },
  {
   "cell_type": "code",
   "execution_count": 7,
   "metadata": {},
   "outputs": [
    {
     "name": "stdout",
     "output_type": "stream",
     "text": [
      "enter the string:malayalam\n",
      "malayalam is palindrome\n"
     ]
    }
   ],
   "source": [
    "# palindrome\n",
    "s = input(\"enter the string:\")\n",
    "s=s.lower()\n",
    "s1=s[::-1]\n",
    "if s==s1:\n",
    "    print(\"{} is palindrome\".format(s))\n",
    "else:\n",
    "    print(\"{} is not palindrome\".format(s))\n",
    "\n"
   ]
  },
  {
   "cell_type": "code",
   "execution_count": 8,
   "metadata": {},
   "outputs": [
    {
     "name": "stdout",
     "output_type": "stream",
     "text": [
      "enter side of triangle3\n",
      "enter side of triangle4\n",
      "enter side of triangle3\n",
      "2sides are equal\n"
     ]
    }
   ],
   "source": [
    "#WAP to input the sides of a triangle and print whether equilateral(all sides equal), \n",
    "#isosceles (2 sides equal), or scalene (no sides equal). \n",
    "side1=int(input(\"enter side of triangle\"))\n",
    "side2=int(input(\"enter side of triangle\"))\n",
    "side3=int(input(\"enter side of triangle\"))\n",
    "if side1==side2 and side2==side3:\n",
    "    print(\"all sides are equal\")\n",
    "elif side1==side2 or side2==side3 or side3==side1:\n",
    "    print(\"2sides are equal\")\n",
    "else:\n",
    "    print(\"no sides are equal\")"
   ]
  },
  {
   "cell_type": "code",
   "execution_count": 9,
   "metadata": {},
   "outputs": [
    {
     "name": "stdout",
     "output_type": "stream",
     "text": [
      "enter the no.7\n",
      "odd\n"
     ]
    }
   ],
   "source": [
    "#WAP to input a number and print if it is even or odd. \n",
    "n=int(input(\"enter the no.\"))\n",
    "if n%2:\n",
    "    print(\"odd\")\n",
    "else:\n",
    "    print(\"even\")"
   ]
  },
  {
   "cell_type": "code",
   "execution_count": 10,
   "metadata": {},
   "outputs": [
    {
     "name": "stdout",
     "output_type": "stream",
     "text": [
      "enter the age:89\n",
      "Senior citizen\n"
     ]
    }
   ],
   "source": [
    "#WAP to input age and print respective text\n",
    "age=int(input(\"enter the age:\"))\n",
    "if age>=0 and age<13:\n",
    "    print(\"child\")\n",
    "elif age>=13 and age<18:\n",
    "    print(\"Teen\")\n",
    "elif age>=18 and age<51:\n",
    "    print(\"Adult\")\n",
    "elif age>=51 and age<101:\n",
    "    print(\"Senior citizen\")\n",
    "elif age>=101:\n",
    "    print(\"Congratulations\")\n"
   ]
  },
  {
   "cell_type": "code",
   "execution_count": 14,
   "metadata": {},
   "outputs": [
    {
     "name": "stdout",
     "output_type": "stream",
     "text": [
      "year:2004\n",
      "2004 is leap year\n"
     ]
    }
   ],
   "source": [
    "#WAP to input year (check if user enters valid year. Should be 4-digit number and should not be negative) and print whether leap year or not. \n",
    "#(If really interested in why you also have to check the divisibility by 400 just google the exact time it takes for the earth to revolve around the sub) \n",
    "year=int(input(\"year:\"))\n",
    "if year>=1000 and year>0:\n",
    "    if year%4==0 and year%100!=0 or year%400==0:\n",
    "        print(\"{} is leap year\".format(year))\n",
    "    else:\n",
    "        print(\"{} is not leap year\". format(year))\n",
    "else:\n",
    "    print(\"invalid year\")"
   ]
  },
  {
   "cell_type": "code",
   "execution_count": 16,
   "metadata": {},
   "outputs": [
    {
     "name": "stdout",
     "output_type": "stream",
     "text": [
      "string:smjdios\n",
      "odd -- s.upper() SMJDIOS\n"
     ]
    }
   ],
   "source": [
    "#WAP to input a string and convert it to Upper Case if number of characters is odd and convert to lower case otherwise\n",
    "s=input(\"string:\")\n",
    "if len(s)%2:\n",
    "    print(\"odd -- s.upper()\",s.upper())\n",
    "else:\n",
    "    print(\"even-- s.lower())\",s.lower())"
   ]
  },
  {
   "cell_type": "code",
   "execution_count": 18,
   "metadata": {},
   "outputs": [
    {
     "name": "stdout",
     "output_type": "stream",
     "text": [
      "string: Egg is good for health egg\n",
      "Non-Veg\n"
     ]
    }
   ],
   "source": [
    "#WAP to input a string and print Veg if the string doesn’t contain the word egg. \n",
    "#Otherwise print Non-Veg. As usual eggs can be both big and small. \n",
    "s=input(\"string: \")\n",
    "s=s.lower()\n",
    "s1='egg'\n",
    "if s1 in s:\n",
    "    print(\"Non-Veg\")\n",
    "else:\n",
    "    print(\"Veg\")"
   ]
  },
  {
   "cell_type": "code",
   "execution_count": 19,
   "metadata": {},
   "outputs": [
    {
     "name": "stdout",
     "output_type": "stream",
     "text": [
      "True\n"
     ]
    }
   ],
   "source": [
    "if not 1:  #### if 0----True\n",
    "    print(\"False\")\n",
    "else:\n",
    "    print(\"True\")"
   ]
  },
  {
   "cell_type": "code",
   "execution_count": 1,
   "metadata": {},
   "outputs": [
    {
     "name": "stdout",
     "output_type": "stream",
     "text": [
      "True\n"
     ]
    }
   ],
   "source": [
    "if 1:  ###----True\n",
    "    print(\"True\")\n",
    "else:\n",
    "    print(\"False\")"
   ]
  },
  {
   "cell_type": "code",
   "execution_count": 2,
   "metadata": {},
   "outputs": [
    {
     "name": "stdout",
     "output_type": "stream",
     "text": [
      "Weird!!\n"
     ]
    }
   ],
   "source": [
    "if 'a'>'A':   ####---> ord('a')=97 ,ord('A')=65 o/p-weird!!\n",
    "    print(\"Weird!!\")\n",
    "else:\n",
    "    print(\"Makes sense\")"
   ]
  },
  {
   "cell_type": "code",
   "execution_count": 3,
   "metadata": {},
   "outputs": [
    {
     "name": "stdout",
     "output_type": "stream",
     "text": [
      "[4, 3, 2, 1]\n"
     ]
    }
   ],
   "source": [
    "a=[1,2,3,4]\n",
    "if 1>1: ###false\n",
    "    a=a[::-1]\n",
    "else:\n",
    "    a=a[-1::-1]\n",
    "print(a)"
   ]
  },
  {
   "cell_type": "code",
   "execution_count": 4,
   "metadata": {},
   "outputs": [
    {
     "name": "stdout",
     "output_type": "stream",
     "text": [
      "marks in eng:45\n",
      "marks in maths1:86\n",
      "marks in maths2:80\n",
      "marks in physics:46\n",
      "marks in chemistry:75\n",
      "percentage 66.4\n",
      "grade D\n"
     ]
    }
   ],
   "source": [
    "#print the grade\n",
    "m0=int(input(\"marks in eng:\"))\n",
    "m1=int(input(\"marks in maths1:\"))\n",
    "m2=int(input(\"marks in maths2:\"))\n",
    "m3=int(input(\"marks in physics:\"))\n",
    "m4=int(input(\"marks in chemistry:\"))\n",
    "sum_=m0+m1+m2+m3+m4\n",
    "per=(sum_/500)*100\n",
    "print(\"percentage\", per)\n",
    "if per>=90:\n",
    "    print(\"grade A\")\n",
    "elif per<90 and per>=80:\n",
    "    print(\"grade B\")\n",
    "elif per<80 and per>=70:\n",
    "    print(\"grade C\")\n",
    "elif per<70 and per>=60:\n",
    "    print(\"grade D\")\n",
    "elif per<60:\n",
    "    print(\"grade F\")\n",
    "    \n"
   ]
  },
  {
   "cell_type": "code",
   "execution_count": 6,
   "metadata": {},
   "outputs": [
    {
     "name": "stdout",
     "output_type": "stream",
     "text": [
      "age: 89\n",
      "salary: 789907\n",
      "tax =  63192.560000000005\n"
     ]
    }
   ],
   "source": [
    "#calculate tax as per age\n",
    "age=int(input(\"age: \"))\n",
    "sal=int(input(\"salary: \"))\n",
    "if age < 60 :\n",
    "    if sal<250000:\n",
    "        tax=0\n",
    "        print(\"zero tax\")\n",
    "    elif sal>250000 and sal<=500000:\n",
    "        tax=0.05*sal\n",
    "        print(\"tax= \", tax)\n",
    "    elif sal>500000 and sal<=1000000:\n",
    "        tax=0.10*sal\n",
    "        print(\"tax = \",tax)\n",
    "    elif sal>1000001:\n",
    "        tax=0.15*sal\n",
    "        print(\"tax = \",tax)\n",
    "elif age >= 60 :\n",
    "    if sal<250000:\n",
    "        tax=0\n",
    "        print(\"zero tax\")\n",
    "    elif sal>250000 and sal<=500000:\n",
    "        tax=0.03*sal\n",
    "        print(\"tax= \", tax)\n",
    "    elif sal>500000 and sal<=1000000:\n",
    "        tax=0.08*sal\n",
    "        print(\"tax = \",tax)\n",
    "    elif sal>1000001:\n",
    "        tax=0.12*sal\n",
    "        print(\"tax = \",tax)\n",
    "     "
   ]
  },
  {
   "cell_type": "code",
   "execution_count": 10,
   "metadata": {},
   "outputs": [
    {
     "name": "stdout",
     "output_type": "stream",
     "text": [
      "10\n"
     ]
    }
   ],
   "source": [
    "print(20 if not 1==1 else 10)"
   ]
  },
  {
   "cell_type": "code",
   "execution_count": 11,
   "metadata": {},
   "outputs": [
    {
     "name": "stdout",
     "output_type": "stream",
     "text": [
      "10\n"
     ]
    }
   ],
   "source": [
    "print(30 if not 1==1 else 20 if 'a'<'A' else 10 )"
   ]
  },
  {
   "cell_type": "code",
   "execution_count": 12,
   "metadata": {},
   "outputs": [
    {
     "name": "stdout",
     "output_type": "stream",
     "text": [
      "10\n"
     ]
    }
   ],
   "source": [
    "print(40 if not 1==1 else 30 if 'a'<'A' else 20 if '' else 10)"
   ]
  },
  {
   "cell_type": "code",
   "execution_count": 13,
   "metadata": {},
   "outputs": [
    {
     "name": "stdout",
     "output_type": "stream",
     "text": [
      "OMG\n"
     ]
    }
   ],
   "source": [
    "print('No' if not 1==1 else ('No' if 'a'<'A' else ('OMG' if 'oh!!' else 'No')))"
   ]
  },
  {
   "cell_type": "code",
   "execution_count": 33,
   "metadata": {},
   "outputs": [
    {
     "name": "stdout",
     "output_type": "stream",
     "text": [
      "height in cm: 167.64\n",
      "weight in kg: 56\n",
      "Normal\n"
     ]
    }
   ],
   "source": [
    "# WAF: bmi() that takes the weight in kg and height in cm of a person, \n",
    "#calculates and returns the BMI. Write code that calls this function after taking height and weight as inputs and then prints\n",
    "#underweight, normal, overweight or obese depending on the value of BMI. \n",
    "height = float(input(\"height in cm: \"))\n",
    "weight =int(input(\"weight in kg: \"))\n",
    "\n",
    "bmi = (weight/(height**2))*10000\n",
    "if bmi<=18.5:\n",
    "    print(\"Underweight\")\n",
    "elif bmi>18.5 and bmi<25:\n",
    "    print(\"Normal\")\n",
    "elif bmi>25 and bmi<30:\n",
    "    print(\"overweight\")\n",
    "elif bmi>30:\n",
    "    print(\"Obese\")"
   ]
  },
  {
   "cell_type": "code",
   "execution_count": 20,
   "metadata": {},
   "outputs": [
    {
     "name": "stdout",
     "output_type": "stream",
     "text": [
      "age:6\n",
      "age:8\n",
      "age:11\n",
      "youngest 6 years\n",
      "youngest 8 years\n",
      "oldest 11 years\n"
     ]
    }
   ],
   "source": [
    "#Take input of age of 3 people by user and determine oldest and youngest among them\n",
    "age1 = int(input(\"age:\"))\n",
    "age2 = int(input(\"age:\"))\n",
    "age3 = int(input(\"age:\"))\n",
    "\n",
    "for age in age1,age2,age3:\n",
    "    if age>10:\n",
    "        print(\"oldest\",age,\"years\")\n",
    "    else:\n",
    "        print(\"youngest\",age,\"years\")"
   ]
  },
  {
   "cell_type": "code",
   "execution_count": 16,
   "metadata": {},
   "outputs": [
    {
     "name": "stdout",
     "output_type": "stream",
     "text": [
      "enter a no: 35\n",
      " no. is divisible by both 5 and 7\n"
     ]
    }
   ],
   "source": [
    "#WAP to input a number and check if number is divisible by both 5 and 7.\n",
    "n= int(input(\"enter a no: \"))\n",
    "if n%5==0 and n%7==0:\n",
    "    print(\" no. is divisible by both 5 and 7\")\n",
    "else:\n",
    "    print(\"no. is not divisible\")"
   ]
  }
 ],
 "metadata": {
  "kernelspec": {
   "display_name": "Python 3",
   "language": "python",
   "name": "python3"
  },
  "language_info": {
   "codemirror_mode": {
    "name": "ipython",
    "version": 3
   },
   "file_extension": ".py",
   "mimetype": "text/x-python",
   "name": "python",
   "nbconvert_exporter": "python",
   "pygments_lexer": "ipython3",
   "version": "3.7.4"
  }
 },
 "nbformat": 4,
 "nbformat_minor": 2
}
