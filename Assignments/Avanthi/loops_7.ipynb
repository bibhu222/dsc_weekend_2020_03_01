{
 "cells": [
  {
   "cell_type": "code",
   "execution_count": 1,
   "metadata": {},
   "outputs": [
    {
     "name": "stdout",
     "output_type": "stream",
     "text": [
      "string: ajdhuwh\n",
      "a\n",
      "j\n",
      "d\n",
      "h\n",
      "u\n",
      "w\n",
      "h\n"
     ]
    }
   ],
   "source": [
    "# 1. WAP to input a string and print individual characters in the string using for loop.\n",
    "string = input(\"string: \")\n",
    "for ch in string:\n",
    "    print(ch)"
   ]
  },
  {
   "cell_type": "code",
   "execution_count": 3,
   "metadata": {},
   "outputs": [
    {
     "name": "stdout",
     "output_type": "stream",
     "text": [
      "string: aicfiofoif\n",
      "a 97\n",
      "i 105\n",
      "c 99\n",
      "f 102\n",
      "i 105\n",
      "o 111\n",
      "f 102\n",
      "o 111\n",
      "i 105\n",
      "f 102\n"
     ]
    }
   ],
   "source": [
    "# 2. WAP to input a string and print the ASCII value of each character in the string.\n",
    "string = input(\"string: \")\n",
    "for ch in string:\n",
    "    print(ch, ord(ch))"
   ]
  },
  {
   "cell_type": "code",
   "execution_count": 5,
   "metadata": {},
   "outputs": [
    {
     "name": "stdout",
     "output_type": "stream",
     "text": [
      "12455\n"
     ]
    },
    {
     "ename": "TypeError",
     "evalue": "int() argument must be a string, a bytes-like object or a number, not 'list'",
     "output_type": "error",
     "traceback": [
      "\u001b[1;31m---------------------------------------------------------------------------\u001b[0m",
      "\u001b[1;31mTypeError\u001b[0m                                 Traceback (most recent call last)",
      "\u001b[1;32m<ipython-input-5-0eb2612f66c4>\u001b[0m in \u001b[0;36m<module>\u001b[1;34m\u001b[0m\n\u001b[0;32m     11\u001b[0m \u001b[1;33m\u001b[0m\u001b[0m\n\u001b[0;32m     12\u001b[0m \u001b[1;33m\u001b[0m\u001b[0m\n\u001b[1;32m---> 13\u001b[1;33m \u001b[0msum_odd\u001b[0m\u001b[1;33m(\u001b[0m\u001b[0mlist\u001b[0m\u001b[1;33m(\u001b[0m\u001b[0minput\u001b[0m\u001b[1;33m(\u001b[0m\u001b[1;34m\"\"\u001b[0m\u001b[1;33m)\u001b[0m\u001b[1;33m)\u001b[0m\u001b[1;33m)\u001b[0m\u001b[1;33m\u001b[0m\u001b[1;33m\u001b[0m\u001b[0m\n\u001b[0m",
      "\u001b[1;32m<ipython-input-5-0eb2612f66c4>\u001b[0m in \u001b[0;36msum_odd\u001b[1;34m(lst)\u001b[0m\n\u001b[0;32m      3\u001b[0m \u001b[1;32mdef\u001b[0m \u001b[0msum_odd\u001b[0m\u001b[1;33m(\u001b[0m\u001b[0mlst\u001b[0m\u001b[1;33m)\u001b[0m\u001b[1;33m:\u001b[0m\u001b[1;33m\u001b[0m\u001b[1;33m\u001b[0m\u001b[0m\n\u001b[0;32m      4\u001b[0m     \u001b[0msum_\u001b[0m \u001b[1;33m=\u001b[0m \u001b[1;36m0\u001b[0m\u001b[1;33m\u001b[0m\u001b[1;33m\u001b[0m\u001b[0m\n\u001b[1;32m----> 5\u001b[1;33m     \u001b[0mlst\u001b[0m \u001b[1;33m=\u001b[0m \u001b[0mint\u001b[0m\u001b[1;33m(\u001b[0m\u001b[0mlst\u001b[0m\u001b[1;33m)\u001b[0m\u001b[1;33m\u001b[0m\u001b[1;33m\u001b[0m\u001b[0m\n\u001b[0m\u001b[0;32m      6\u001b[0m     \u001b[0modd\u001b[0m \u001b[1;33m=\u001b[0m \u001b[1;33m[\u001b[0m\u001b[0mi\u001b[0m\u001b[1;33m%\u001b[0m\u001b[1;36m2\u001b[0m \u001b[1;32mfor\u001b[0m \u001b[0mi\u001b[0m \u001b[1;32min\u001b[0m \u001b[0mlst\u001b[0m\u001b[1;33m]\u001b[0m\u001b[1;33m\u001b[0m\u001b[1;33m\u001b[0m\u001b[0m\n\u001b[0;32m      7\u001b[0m     \u001b[0mprint\u001b[0m\u001b[1;33m(\u001b[0m\u001b[0modd\u001b[0m\u001b[1;33m)\u001b[0m\u001b[1;33m\u001b[0m\u001b[1;33m\u001b[0m\u001b[0m\n",
      "\u001b[1;31mTypeError\u001b[0m: int() argument must be a string, a bytes-like object or a number, not 'list'"
     ]
    }
   ],
   "source": [
    "# 3. Write a function that takes a list of numbers from user as argument and returns the sum of only odd numbers\n",
    "#(Use only for loop. No need to use if statement). \n",
    "def sum_odd(lst):\n",
    "    sum_ = 0\n",
    "    lst = int(lst)\n",
    "    odd = [i%2 for i in lst]\n",
    "    print(odd)\n",
    "    for i in lst[odd]:\n",
    "        sum_ = sum_ + lst[i]\n",
    "    return sum_\n",
    "\n",
    "\n",
    "sum_odd(list(input(\"\")))"
   ]
  },
  {
   "cell_type": "code",
   "execution_count": 7,
   "metadata": {},
   "outputs": [
    {
     "name": "stdout",
     "output_type": "stream",
     "text": [
      "1 3 5 6 9\n",
      "('1', ' ', '3', ' ', '5', ' ', '6', ' ', '9')\n",
      "3\n",
      "2\n"
     ]
    }
   ],
   "source": [
    "# 4. WAP to input a list of numbers and store in a tuple. Now input another number and\n",
    "#print the index of this number in the tuple. [Use index function] \n",
    "l = list(input(\"\"))\n",
    "t = tuple(l)\n",
    "print(t)\n",
    "print(t.index(input(\"\")))"
   ]
  },
  {
   "cell_type": "code",
   "execution_count": 30,
   "metadata": {},
   "outputs": [
    {
     "name": "stdout",
     "output_type": "stream",
     "text": [
      "[ 7 10  8  6  6  5  4  1  8  3]\n",
      "sum of all numbers:  58\n",
      "avgerage:  5.8\n",
      "[7 8 6 4 8]\n"
     ]
    }
   ],
   "source": [
    "# 5. Create a list of 10 random numbers and then print the list, sum of all numbers and average. \n",
    "#Use a for loop. Also print elements at only even indexes in the list. \n",
    "import numpy as np\n",
    "lst = np.random.randint(1,11,10)\n",
    "print(lst)\n",
    "sum_ = 0\n",
    "for i in lst:\n",
    "    sum_ = sum_ + i\n",
    "avg = sum_/len(lst)\n",
    "print(\"sum of all numbers: \", sum_)\n",
    "print(\"avgerage: \", avg)\n",
    "print(lst[::2])"
   ]
  },
  {
   "cell_type": "code",
   "execution_count": 31,
   "metadata": {},
   "outputs": [
    {
     "name": "stdout",
     "output_type": "stream",
     "text": [
      "no.:1\n",
      "no.:2\n",
      "no.:4\n",
      "no.:6\n",
      "no.:7\n",
      "no.:8\n",
      "no.:9\n",
      "no.:2\n",
      "no.:3\n",
      "no.:5\n",
      "list = [1, 2, 4, 6, 7, 8, 9, 2, 3, 5], sum_ = 47\n"
     ]
    }
   ],
   "source": [
    "# 6. WAP to input 10 numbers repeatedly (using range based for loop) and store them in a list. \n",
    "#Print the list and sum of numbers in the list.\n",
    "l = []\n",
    "sum_ = 0\n",
    "for i in range(10):\n",
    "    n = int(input(\"no.:\"))\n",
    "    l.append(n)\n",
    "    sum_ = sum_ + n\n",
    "    \n",
    "print(\"list = {}, sum_ = {}\". format(l, sum_))"
   ]
  },
  {
   "cell_type": "code",
   "execution_count": 18,
   "metadata": {},
   "outputs": [
    {
     "name": "stdout",
     "output_type": "stream",
     "text": [
      "no.:7\n",
      "7 * 1 = 7\n",
      "7 * 2 = 14\n",
      "7 * 3 = 21\n",
      "7 * 4 = 28\n",
      "7 * 5 = 35\n",
      "7 * 6 = 42\n",
      "7 * 7 = 49\n",
      "7 * 8 = 56\n",
      "7 * 9 = 63\n",
      "7 * 10 = 70\n"
     ]
    }
   ],
   "source": [
    "# 7. WAP to input a number and print its table. Ex: if user enters the number as 7, output should be \n",
    "n = int(input(\"no.:\"))\n",
    "for i in range(1,11):\n",
    "    print(f\"{n} * {i} = {n*i}\")"
   ]
  },
  {
   "cell_type": "code",
   "execution_count": 16,
   "metadata": {},
   "outputs": [
    {
     "name": "stdout",
     "output_type": "stream",
     "text": [
      "this is my name\n",
      "3\n"
     ]
    }
   ],
   "source": [
    "# 8. WAP to print total number of spaces in a string (Use for loop to iterate over the string. Don’t use count function). \n",
    "string = input(\"\")\n",
    "count = 0\n",
    "for i in string:\n",
    "    if i == ' ':\n",
    "        count+=1\n",
    "print(count)"
   ]
  },
  {
   "cell_type": "code",
   "execution_count": 36,
   "metadata": {},
   "outputs": [
    {
     "name": "stdout",
     "output_type": "stream",
     "text": [
      "aieiwjAIE\n",
      "aieiwjaie\n",
      "7\n"
     ]
    }
   ],
   "source": [
    "# 9. WAP to input a string and count number of vowels in the string. \n",
    "#[Note: it should work for both capital and small alphabets]\n",
    "string = input(\"\")\n",
    "count = 0\n",
    "string = string.lower()\n",
    "print(string)\n",
    "for i in string:\n",
    "    if i == 'a' or i =='i' or i =='e' or i =='o' or i == 'u':\n",
    "        count+=1\n",
    "print(count)"
   ]
  },
  {
   "cell_type": "code",
   "execution_count": 47,
   "metadata": {},
   "outputs": [
    {
     "name": "stdout",
     "output_type": "stream",
     "text": [
      "ahieidJOIO\n",
      "['a', 'h', 'i', 'e', 'i', 'd', 'j', 'o', 'i', 'o']\n",
      "['_', 'h', '_', '_', '_', 'd', 'j', '_', '_', '_']\n",
      "ahieidjoio['_', 'h', '_', '_', '_', 'd', 'j', '_', '_', '_']\n"
     ]
    }
   ],
   "source": [
    "# 10. WAP to input a string and replace all vowels with ‘_’.\n",
    "#[Hint: Convert string to list. Remember!! Strings are immutable. Replace in the list and then join]\n",
    "string = input(\"\")\n",
    "string = string.lower()\n",
    "l_str = list(string)\n",
    "print(l_str)\n",
    "for i in l_str:\n",
    "    if i == 'a' or i =='i' or i =='e' or i =='o' or i == 'u':\n",
    "        l_str[l_str.index(i)] = '_'\n",
    "print(l_str)\n",
    "string1 = string + str(l_str)\n",
    "print(string1)"
   ]
  },
  {
   "cell_type": "code",
   "execution_count": 41,
   "metadata": {},
   "outputs": [
    {
     "name": "stdout",
     "output_type": "stream",
     "text": [
      "Num:  0\n",
      "loop ends\n"
     ]
    }
   ],
   "source": [
    "# 11. find output\n",
    "for num in range(10):\n",
    "    print(\"Num: \", num)\n",
    "    if num%4 == 0:\n",
    "        break\n",
    "print(\"loop ends\") # till num 4 loop ends"
   ]
  },
  {
   "cell_type": "code",
   "execution_count": 42,
   "metadata": {},
   "outputs": [
    {
     "name": "stdout",
     "output_type": "stream",
     "text": [
      "Num:  0\n"
     ]
    },
    {
     "ename": "SystemExit",
     "evalue": "",
     "output_type": "error",
     "traceback": [
      "An exception has occurred, use %tb to see the full traceback.\n",
      "\u001b[1;31mSystemExit\u001b[0m\n"
     ]
    },
    {
     "name": "stderr",
     "output_type": "stream",
     "text": [
      "C:\\Users\\Avanthi\\Anaconda3\\lib\\site-packages\\IPython\\core\\interactiveshell.py:3334: UserWarning: To exit: use 'exit', 'quit', or Ctrl-D.\n",
      "  warn(\"To exit: use 'exit', 'quit', or Ctrl-D.\", stacklevel=1)\n"
     ]
    }
   ],
   "source": [
    "import sys\n",
    "for num in range(10):\n",
    "    print(\"Num: \", num)\n",
    "    if num%4 == 0:\n",
    "        sys.exit()\n",
    "print(\"loop ends\")"
   ]
  },
  {
   "cell_type": "code",
   "execution_count": 55,
   "metadata": {},
   "outputs": [
    {
     "ename": "SyntaxError",
     "evalue": "keyword can't be an expression (<ipython-input-55-b63cb0298c68>, line 4)",
     "output_type": "error",
     "traceback": [
      "\u001b[1;36m  File \u001b[1;32m\"<ipython-input-55-b63cb0298c68>\"\u001b[1;36m, line \u001b[1;32m4\u001b[0m\n\u001b[1;33m    print(\"*\". end='')\u001b[0m\n\u001b[1;37m         ^\u001b[0m\n\u001b[1;31mSyntaxError\u001b[0m\u001b[1;31m:\u001b[0m keyword can't be an expression\n"
     ]
    }
   ],
   "source": [
    "# 12. find output\n",
    "for i1 in range(1,6):\n",
    "    for i2 in range(5):\n",
    "        print(\"*\". end='')\n",
    "    print()\n",
    "\n"
   ]
  },
  {
   "cell_type": "code",
   "execution_count": 44,
   "metadata": {},
   "outputs": [
    {
     "name": "stdout",
     "output_type": "stream",
     "text": [
      "1\n",
      "22\n",
      "333\n",
      "4444\n",
      "55555\n"
     ]
    }
   ],
   "source": [
    "for i1 in range(1,6):\n",
    "    print(str(i1)*i1)"
   ]
  },
  {
   "cell_type": "code",
   "execution_count": 50,
   "metadata": {},
   "outputs": [
    {
     "name": "stdout",
     "output_type": "stream",
     "text": [
      "1\n",
      "22\n",
      "333\n",
      "4444\n",
      "55555\n"
     ]
    }
   ],
   "source": [
    "for i1 in range(1,6):\n",
    "    for i2 in range(i1):\n",
    "        print(i1, end='')\n",
    "    print()"
   ]
  },
  {
   "cell_type": "code",
   "execution_count": 54,
   "metadata": {},
   "outputs": [
    {
     "ename": "SyntaxError",
     "evalue": "keyword can't be an expression (<ipython-input-54-1840a1d9154a>, line 3)",
     "output_type": "error",
     "traceback": [
      "\u001b[1;36m  File \u001b[1;32m\"<ipython-input-54-1840a1d9154a>\"\u001b[1;36m, line \u001b[1;32m3\u001b[0m\n\u001b[1;33m    print(\"*\". end='')\u001b[0m\n\u001b[1;37m         ^\u001b[0m\n\u001b[1;31mSyntaxError\u001b[0m\u001b[1;31m:\u001b[0m keyword can't be an expression\n"
     ]
    }
   ],
   "source": [
    "for i1 in range(1,6):\n",
    "    for i2 in range(i1+1):\n",
    "        print(\"*\". end='')\n",
    "    print()"
   ]
  }
 ],
 "metadata": {
  "kernelspec": {
   "display_name": "Python 3",
   "language": "python",
   "name": "python3"
  },
  "language_info": {
   "codemirror_mode": {
    "name": "ipython",
    "version": 3
   },
   "file_extension": ".py",
   "mimetype": "text/x-python",
   "name": "python",
   "nbconvert_exporter": "python",
   "pygments_lexer": "ipython3",
   "version": "3.7.4"
  }
 },
 "nbformat": 4,
 "nbformat_minor": 2
}
