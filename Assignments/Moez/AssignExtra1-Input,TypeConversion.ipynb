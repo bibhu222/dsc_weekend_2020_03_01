{
 "cells": [
  {
   "cell_type": "code",
   "execution_count": 90,
   "metadata": {},
   "outputs": [
    {
     "name": "stdout",
     "output_type": "stream",
     "text": [
      "98\n",
      "Temperature in celcius:  36.666666666666664\n"
     ]
    }
   ],
   "source": [
    "#Question1:Input temperature in Fahrenheit and print in celsius\n",
    "Farhent = int(input())\n",
    "Celcius = print(\"Temperature in celcius: \",((Farhent-32) *5 /9))"
   ]
  },
  {
   "cell_type": "code",
   "execution_count": 52,
   "metadata": {},
   "outputs": [
    {
     "name": "stdout",
     "output_type": "stream",
     "text": [
      "2\n",
      "4\n",
      "4\n",
      "8\n",
      "8\n"
     ]
    }
   ],
   "source": [
    "#Question2:WAP to input a number and print its square and cube\n",
    "\n",
    "a = int(input())\n",
    "print(pow(a, 2))\n",
    "print(a**2)\n",
    "print(pow(a, 3))\n",
    "print(a**3)"
   ]
  },
  {
   "cell_type": "code",
   "execution_count": 91,
   "metadata": {},
   "outputs": [
    {
     "name": "stdout",
     "output_type": "stream",
     "text": [
      "2\n",
      "4\n",
      "20\n"
     ]
    }
   ],
   "source": [
    "#Question3:WAP to input a number N and a number M and print the result of following N2 + M2\n",
    "N = int(input())\n",
    "M = int(input())\n",
    "T = print((N**2) + (M**2))"
   ]
  },
  {
   "cell_type": "code",
   "execution_count": 2,
   "metadata": {},
   "outputs": [
    {
     "name": "stdout",
     "output_type": "stream",
     "text": [
      "2\n",
      "4\n",
      "16\n",
      "16\n"
     ]
    }
   ],
   "source": [
    "#Question4:WAP to input a numbers M and N and print result of pow(M, N) (use both ** and pow())\n",
    "M = int(input())\n",
    "N = int(input())\n",
    "print(M**N)\n",
    "print(pow(M, N))"
   ]
  },
  {
   "cell_type": "code",
   "execution_count": 81,
   "metadata": {},
   "outputs": [
    {
     "name": "stdout",
     "output_type": "stream",
     "text": [
      "Enter principal amount1500\n",
      "Enter rate of interest: 5\n",
      "Time: 1\n",
      "Interest :  75.0\n"
     ]
    }
   ],
   "source": [
    "#Question5:Write a simple interest calculator\n",
    "P = int(input(\"Enter principal amount\"))\n",
    "R = float(input(\"Enter rate of interest: \"))\n",
    "T = int(input(\"Time: \"))\n",
    "SI = (P*R*T)/100\n",
    "print(\"Interest : \", SI)"
   ]
  },
  {
   "cell_type": "code",
   "execution_count": 96,
   "metadata": {},
   "outputs": [
    {
     "name": "stdout",
     "output_type": "stream",
     "text": [
      "Enter principal amount: 5000\n",
      "Enter interest rate: 5\n",
      "Enter the time: 1\n",
      "Total Amount:  5250.0\n",
      "Compound interest:  250.0\n"
     ]
    }
   ],
   "source": [
    "#Question6:Input Principal, rate, Time and print the compound interest and amount \n",
    "P = int(input(\"Enter principal amount: \"))\n",
    "R = float(input(\"Enter interest rate: \"))\n",
    "T = int(input(\"Enter the time: \"))\n",
    "A = P * (1 + R / 100)**T\n",
    "print(\"Total Amount: \", A)\n",
    "CI = print(\"Compound interest: \", A-P)"
   ]
  },
  {
   "cell_type": "code",
   "execution_count": 85,
   "metadata": {},
   "outputs": [
    {
     "name": "stdout",
     "output_type": "stream",
     "text": [
      "Enter a number: 10\n",
      "55\n"
     ]
    }
   ],
   "source": [
    "#Question7:WAP to print sum of first n natural numbers (n needs to be taken as input)\n",
    "n = int(input(\"Enter a number: \"))\n",
    "sum = 0\n",
    "for i in range(0, n+1):\n",
    "    sum += i\n",
    "print(sum)"
   ]
  },
  {
   "cell_type": "code",
   "execution_count": 86,
   "metadata": {},
   "outputs": [
    {
     "name": "stdout",
     "output_type": "stream",
     "text": [
      "Enter a number a : 2\n",
      "Enter a number b : 4\n",
      "a and b swap using temp way:  4 2\n",
      "Enter a : 2\n",
      "Enter b : 4\n",
      "a and b swap using pythonic way :  4 2\n"
     ]
    }
   ],
   "source": [
    "#Question8:WAP to input 2 numbers and swap them using normal logic with temp variable\n",
    "a = int(input(\"Enter a number a : \"))\n",
    "b = int(input(\"Enter a number b : \"))\n",
    "temp = a\n",
    "a = b\n",
    "b = temp\n",
    "print(\"a and b swap using temp way: \", a,b)\n",
    "\n",
    "a = int(input(\"Enter a : \"))\n",
    "b = int(input(\"Enter b : \"))\n",
    "(a, b) = (b, a)\n",
    "print(\"a and b swap using pythonic way : \", a, b)"
   ]
  },
  {
   "cell_type": "code",
   "execution_count": 22,
   "metadata": {},
   "outputs": [
    {
     "name": "stdout",
     "output_type": "stream",
     "text": [
      "10\n",
      "9\n",
      "32\n"
     ]
    }
   ],
   "source": [
    "#Question9:WAP to print ascii value of all white-space characters present in python\n",
    "print(ord('\\n'))\n",
    "print(ord('\\t'))\n",
    "print(ord(' '))"
   ]
  },
  {
   "cell_type": "code",
   "execution_count": 97,
   "metadata": {},
   "outputs": [
    {
     "name": "stdout",
     "output_type": "stream",
     "text": [
      "Enter a character: A\n",
      "65\n"
     ]
    }
   ],
   "source": [
    "#Question10:Input a single character and print its ascii values. \n",
    "character = input(\"Enter a character: \")\n",
    "print(ord(character))"
   ]
  },
  {
   "cell_type": "code",
   "execution_count": 45,
   "metadata": {},
   "outputs": [
    {
     "name": "stdout",
     "output_type": "stream",
     "text": [
      "Area of circle: 5\n",
      "Radius of circle:  1.2618861628126719\n",
      "Circumference of cirlce:  7.92464510246358\n"
     ]
    }
   ],
   "source": [
    "#Questoin11:WAP that takes area of a circle and gives back the radius and circumference. \n",
    "A = int(input(\"Area of circle: \"))\n",
    "R = (A/3.14)**0.5\n",
    "C = 2*3.14*R\n",
    "print(\"Radius of circle: \", R)\n",
    "print(\"Circumference of cirlce: \", C)"
   ]
  },
  {
   "cell_type": "code",
   "execution_count": 4,
   "metadata": {},
   "outputs": [
    {
     "name": "stdout",
     "output_type": "stream",
     "text": [
      "Enter marks of subject1: 25\n",
      "Enter marks of subject2: 35\n",
      "Enter marks of subject3: 45\n",
      "Enter marks of subject4: 55\n",
      "Enter marks of subject5: 65\n",
      "Total Marks:  225\n",
      "Percentage:  45.0\n"
     ]
    }
   ],
   "source": [
    "#Question12:We need to input marks in 5 subjects out of 100 and print percentage.\n",
    "a1 = int(input(\"Enter marks of subject1: \"))\n",
    "a2 = int(input(\"Enter marks of subject2: \"))\n",
    "a3 = int(input(\"Enter marks of subject3: \"))\n",
    "a4 = int(input(\"Enter marks of subject4: \"))\n",
    "a5 = int(input(\"Enter marks of subject5: \"))\n",
    "\n",
    "Total = a1+a2+a3+a4+a5\n",
    "Percentage = (Total/500)*100\n",
    "print(\"Total Marks: \", Total)\n",
    "print(\"Percentage: \", Percentage)"
   ]
  }
 ],
 "metadata": {
  "kernelspec": {
   "display_name": "Python 3",
   "language": "python",
   "name": "python3"
  },
  "language_info": {
   "codemirror_mode": {
    "name": "ipython",
    "version": 3
   },
   "file_extension": ".py",
   "mimetype": "text/x-python",
   "name": "python",
   "nbconvert_exporter": "python",
   "pygments_lexer": "ipython3",
   "version": "3.7.4"
  }
 },
 "nbformat": 4,
 "nbformat_minor": 2
}
