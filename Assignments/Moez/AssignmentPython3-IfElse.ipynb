{
 "cells": [
  {
   "cell_type": "code",
   "execution_count": 10,
   "metadata": {},
   "outputs": [
    {
     "name": "stdout",
     "output_type": "stream",
     "text": [
      "Enter a number: 8\n",
      "Enter a number: 4\n",
      "True\n"
     ]
    }
   ],
   "source": [
    "#Question1: WAP to input 2 numbers and check the first is divisible by second and print True or False depending on divisiblilty\n",
    "a = int(input(\"Enter a number: \"))\n",
    "b = int(input(\"Enter a number: \"))\n",
    "if a%b == 0:\n",
    "    print(\"True\")\n",
    "else:\n",
    "    print(\"False\")"
   ]
  },
  {
   "cell_type": "code",
   "execution_count": 38,
   "metadata": {},
   "outputs": [
    {
     "name": "stdout",
     "output_type": "stream",
     "text": [
      "naman\n",
      "String is Palindrome\n"
     ]
    }
   ],
   "source": [
    "#Question2: In the palindrome example make the code case insensitive. That is Naman should be treated as palindrome\n",
    "a = \"Naman\"\n",
    "b = a.lower()\n",
    "print(b)\n",
    "c = reversed(b)\n",
    "if list(b) == list(c):\n",
    "    print(\"String is Palindrome\")\n",
    "else:\n",
    "    print(\"String is not Palindrome\")"
   ]
  },
  {
   "cell_type": "code",
   "execution_count": 2,
   "metadata": {},
   "outputs": [
    {
     "name": "stdout",
     "output_type": "stream",
     "text": [
      "Enter side1: 1\n",
      "Enter side2: 2\n",
      "Enter side3: 3\n",
      "Triangle is Scalene\n"
     ]
    }
   ],
   "source": [
    "#Question3: WAP to input the sides of the triangle and print whether it is equilateral or isosceles or scalene\n",
    "side1 = int(input(\"Enter side1: \"))\n",
    "side2 = int(input(\"Enter side2: \"))\n",
    "side3 = int(input(\"Enter side3: \"))\n",
    "if side1 == side2 == side3:\n",
    "    print(\"Triangle is Equilateral\")\n",
    "elif (side1 == side2 and side1 != side3) or (side1 == side3 and side1 != side2) or (side2 == side3 and side2 != side1):\n",
    "    print(\"Triangle is Isosceles\")\n",
    "elif side1 != side2 != side3:\n",
    "    print(\"Triangle is Scalene\")"
   ]
  },
  {
   "cell_type": "code",
   "execution_count": 37,
   "metadata": {},
   "outputs": [
    {
     "name": "stdout",
     "output_type": "stream",
     "text": [
      "Enter a number: 3\n",
      "Number is odd\n"
     ]
    }
   ],
   "source": [
    "#Question4: WAP to input a number and print if it is odd or even\n",
    "a = int(input(\"Enter a number: \"))\n",
    "if a%2 == 0:\n",
    "    print(\"Number is even\")\n",
    "else:\n",
    "    print(\"Number is odd\")"
   ]
  },
  {
   "cell_type": "code",
   "execution_count": 54,
   "metadata": {},
   "outputs": [
    {
     "name": "stdout",
     "output_type": "stream",
     "text": [
      "Enter an Age: 101\n",
      "congratulations\n"
     ]
    }
   ],
   "source": [
    "#Question5: WAP to input Age and print the respective text depending on the Age ranges as shown in the tabe\n",
    "Age = int(input(\"Enter an Age: \"))\n",
    "if Age in range(0, 13):\n",
    "    print(\"Child\")\n",
    "elif Age in range(13, 18):\n",
    "    print(\"Teen\")\n",
    "elif Age in range(18, 51):\n",
    "    print(\"Adult\")\n",
    "elif Age in range(51, 101):\n",
    "    print(\"Senior citizen\")\n",
    "elif Age>100:\n",
    "    print(\"Congratulations\")\n"
   ]
  },
  {
   "cell_type": "code",
   "execution_count": 37,
   "metadata": {},
   "outputs": [
    {
     "name": "stdout",
     "output_type": "stream",
     "text": [
      "Enter a year: 2081\n",
      "2081 It is a non leap year\n"
     ]
    }
   ],
   "source": [
    "#Question6: WAP to input year and print whether leap year or not \n",
    "Year = int(input(\"Enter a year: \"))\n",
    "if Year%4 == 0:\n",
    "    print(Year, \"It is a Leap year\")\n",
    "elif Year%100 == 0:\n",
    "    print(Year, \"It is a Leap Year\")\n",
    "elif Year%400 == 0:\n",
    "    print(Year, \"It is a Leap Year\")\n",
    "else:\n",
    "    print(Year, \"It is a non leap year\")\n"
   ]
  },
  {
   "cell_type": "code",
   "execution_count": 10,
   "metadata": {},
   "outputs": [
    {
     "name": "stdout",
     "output_type": "stream",
     "text": [
      "Enter a string: asvde\n",
      "ASVDE\n"
     ]
    }
   ],
   "source": [
    "#Question7: WAP to input a string and convert it to upper case if number of characters is odd and convert to lower case otherwise\n",
    "a = input(\"Enter a string: \")\n",
    "if len(a)%2 == 0:\n",
    "    print(a.lower())\n",
    "else:\n",
    "    print(a.upper())"
   ]
  },
  {
   "cell_type": "code",
   "execution_count": 4,
   "metadata": {},
   "outputs": [
    {
     "name": "stdout",
     "output_type": "stream",
     "text": [
      "Enter a string: I had bread this morning\n",
      "Veg\n"
     ]
    }
   ],
   "source": [
    "#Question8: WAP to input a string and print Veg if the string doesn't contain the word egg. Otherwise print Non-Veg\n",
    "a = input(\"Enter a string: \")\n",
    "a = a.lower()\n",
    "a1 = \"egg\"\n",
    "if a1 in a:\n",
    "    print(\"Non Veg\")\n",
    "else:\n",
    "    print(\"Veg\")"
   ]
  },
  {
   "cell_type": "code",
   "execution_count": 7,
   "metadata": {},
   "outputs": [
    {
     "name": "stdout",
     "output_type": "stream",
     "text": [
      "True\n"
     ]
    }
   ],
   "source": [
    "#Question9: Give output of\n",
    "if not 1:\n",
    "    print(\"False\")\n",
    "else:\n",
    "    print(\"True\")"
   ]
  },
  {
   "cell_type": "code",
   "execution_count": 8,
   "metadata": {},
   "outputs": [
    {
     "name": "stdout",
     "output_type": "stream",
     "text": [
      "True\n"
     ]
    }
   ],
   "source": [
    "#Question9: Give output of\n",
    "if 1:\n",
    "    print(\"True\")\n",
    "else:\n",
    "    print(\"False\")"
   ]
  }
 ],
 "metadata": {
  "kernelspec": {
   "display_name": "Python 3",
   "language": "python",
   "name": "python3"
  },
  "language_info": {
   "codemirror_mode": {
    "name": "ipython",
    "version": 3
   },
   "file_extension": ".py",
   "mimetype": "text/x-python",
   "name": "python",
   "nbconvert_exporter": "python",
   "pygments_lexer": "ipython3",
   "version": "3.7.4"
  }
 },
 "nbformat": 4,
 "nbformat_minor": 2
}
