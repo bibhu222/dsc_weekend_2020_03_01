{
 "cells": [
  {
   "cell_type": "code",
   "execution_count": 8,
   "metadata": {},
   "outputs": [
    {
     "name": "stdout",
     "output_type": "stream",
     "text": [
      "Enter degrees in Fahrenheit = 33\n",
      "Degree in Celsius = 0.5555555555555556 °C\n"
     ]
    }
   ],
   "source": [
    "\"\"\" 1 .Input temperature in Fahrenheit in print in Celsius.\n",
    "   --> Formula : (°F − 32) × 5/9 = °C \"\"\"\n",
    "\n",
    "Fahrenheit = float(input(\"Enter degrees in Fahrenheit = \"))\n",
    "Celsius = (Fahrenheit-32) * (5/9)\n",
    "print(\"Degree in Celsius = \"+ str(Celsius) + \" °C\")\n"
   ]
  },
  {
   "cell_type": "code",
   "execution_count": 11,
   "metadata": {},
   "outputs": [
    {
     "name": "stdout",
     "output_type": "stream",
     "text": [
      "Enter an integer = 2\n",
      "It's square is  4\n",
      "It's cube is  8\n"
     ]
    }
   ],
   "source": [
    "\"\"\" 2. Write a program to input a number and print its square and cube.\"\"\"\n",
    "\n",
    "num = int(input(\"Enter an integer = \"))\n",
    "print(\"It's square is \", str(pow(num,2)))\n",
    "print(\"It's cube is \", str(num**3))"
   ]
  },
  {
   "cell_type": "code",
   "execution_count": 12,
   "metadata": {},
   "outputs": [
    {
     "name": "stdout",
     "output_type": "stream",
     "text": [
      "Enter first number = 2\n",
      "Enter second number = 2\n",
      "n^2 + m^2 =  8.0\n"
     ]
    }
   ],
   "source": [
    "\"\"\" 3. WAP to input a number n and a number m and print the result of following\n",
    "                n2 + m2 \"\"\"\n",
    "\n",
    "n = float(input(\"Enter first number = \"))\n",
    "m = float(input(\"Enter second number = \"))\n",
    "print(\"n^2 + m^2 = \", str((n**2) + (m**2)))\n"
   ]
  },
  {
   "cell_type": "code",
   "execution_count": 14,
   "metadata": {},
   "outputs": [
    {
     "name": "stdout",
     "output_type": "stream",
     "text": [
      "Enter first number = 2.2\n",
      "Enter second number = 3.2\n",
      "M^N =  12.466730713250179\n"
     ]
    }
   ],
   "source": [
    "\"\"\" 4. WAP to input a numbers M and N and print result of M^N. (use both ** and pow) \"\"\"\n",
    "\n",
    "M = float(input(\"Enter first number = \"))\n",
    "N = float(input(\"Enter second number = \"))\n",
    "print(\"M^N = \", (M**N))"
   ]
  },
  {
   "cell_type": "code",
   "execution_count": 6,
   "metadata": {},
   "outputs": [
    {
     "name": "stdout",
     "output_type": "stream",
     "text": [
      "Enter Principal amount = 2000\n",
      "Enter rate of intrest in % = 1.2\n",
      "Enter time in years = 0.3\n",
      "Total Amount =  2719.9999999999995\n",
      "Rate_of_intrest =  1.1999999999999997\n"
     ]
    }
   ],
   "source": [
    "\"\"\" 5. Write a simple interest calculator. A = P (1 + rt)\"\"\"\n",
    "\n",
    "Principal = float(input(\"Enter Principal amount = \"))\n",
    "Interest_Rate = float(input(\"Enter rate of intrest in % = \"))\n",
    "Time = float(input(\"Enter time in years = \"))\n",
    "Total_Amount = Principal * (1 + (Interest_Rate * Time))\n",
    "print(\"Total Amount = \", str(Total_Amount))\n",
    "print(\"Rate_of_intrest = \", str((1/Time) * (Total_Amount / Principal -1)))"
   ]
  },
  {
   "cell_type": "code",
   "execution_count": 10,
   "metadata": {},
   "outputs": [
    {
     "name": "stdout",
     "output_type": "stream",
     "text": [
      "Enter Principal amount = 2000\n",
      "Enter rate of intrest in % = 1.3\n",
      "Enter time in years = 2.3\n",
      "Number of times intrest applied per time period = 2\n",
      "Compound Intrest =  1.3279240694786398\n",
      "Total Amound =  3375.136969693015\n"
     ]
    }
   ],
   "source": [
    "\"\"\"6.Input Principal, Rate, Time and print Compound Interest and Amount.A = P(1 + \\frac{r}{n})^{nt};r = n[(A/P) ^ (1/n*t) - 1]\"\"\"\n",
    "\n",
    "Principal = float(input(\"Enter Principal amount = \"))\n",
    "Interest_Rate = float(input(\"Enter rate of intrest in % = \"))\n",
    "Time = float(input(\"Enter time in years = \"))\n",
    "Intrest = float(input(\"Number of times intrest applied per time period = \"))\n",
    "Total_Amount = Principal*(1+(Interest_Rate/Intrest)**(Intrest/Time))\n",
    "Compound_Intrest = Intrest * ((Total_Amount/Principal)**(1/(Intrest*Time)-1))\n",
    "print(\"Compound Intrest = \",Compound_Intrest)\n",
    "print(\"Total Amound = \", Total_Amount)"
   ]
  },
  {
   "cell_type": "code",
   "execution_count": 33,
   "metadata": {},
   "outputs": [
    {
     "name": "stdout",
     "output_type": "stream",
     "text": [
      "Enter n = 6\n",
      "21\n"
     ]
    }
   ],
   "source": [
    "\"\"\" 7. WAP to print sum of first n natural numbers. (n needs to be taken as input).\"\"\"\n",
    "\n",
    "n = int(input(\"Enter n = \"))\n",
    "sum = 0 \n",
    "if n <= 0:\n",
    "    print(\"Enter a positive number\")\n",
    "else:\n",
    "    while n > 0:\n",
    "        sum = sum + n\n",
    "        n = n - 1\n",
    "print(sum)  "
   ]
  },
  {
   "cell_type": "code",
   "execution_count": 5,
   "metadata": {},
   "outputs": [
    {
     "name": "stdout",
     "output_type": "stream",
     "text": [
      "Enter 1st number = 12\n",
      "Enter 2nd number = 13\n",
      "num1 =  13\n",
      "num2 =  12\n"
     ]
    }
   ],
   "source": [
    "\"\"\" 8. WAP to input 2 numbers and swap them. (write using both normal logic with temp variable and\n",
    "also the pythonic way).\"\"\"\n",
    "\n",
    "num1 = int(input(\"Enter 1st number = \"))\n",
    "num2 = int(input(\"Enter 2nd number = \"))\n",
    "\n",
    "#temp = num1\n",
    "#num1 = num2; print(\"n1 =  \", num1)\n",
    "#num2 = temp; print(\"n2 =  \", num2)\n",
    "\n",
    "num1 , num2 = num2 , num1\n",
    "print(\"num1 = \", num1); print(\"num2 = \", num2)"
   ]
  },
  {
   "cell_type": "code",
   "execution_count": 3,
   "metadata": {},
   "outputs": [
    {
     "name": "stdout",
     "output_type": "stream",
     "text": [
      "Enter the white space value :  \n",
      "White space value of   is 32\n"
     ]
    }
   ],
   "source": [
    "\"\"\" 9. WAP to print ascii value of all white-space characters present in python. \"\"\"\n",
    "\n",
    "val = input(\"Enter the white space value : \")\n",
    "print(\"White space value of \" + val + \" is\" , ord(val))"
   ]
  },
  {
   "cell_type": "code",
   "execution_count": 12,
   "metadata": {},
   "outputs": [
    {
     "name": "stdout",
     "output_type": "stream",
     "text": [
      "Area of Circle = 26\n",
      "Radius of Circle =  2.876813695875796\n",
      "Circumference of circle =  18.075553545419805\n"
     ]
    }
   ],
   "source": [
    "\"\"\" 11. WAP that takes area of a circle and gives back the radius and circumference.\"\"\"\n",
    "from math import pi\n",
    "A = int(input(\"Area of Circle = \"))\n",
    "r = pow ((A/pi),(1/2))\n",
    "print(\"Radius of Circle = \", r)\n",
    "print(\"Circumference of circle = \", str(2 * pi * r))"
   ]
  },
  {
   "cell_type": "code",
   "execution_count": 13,
   "metadata": {},
   "outputs": [
    {
     "name": "stdout",
     "output_type": "stream",
     "text": [
      "Marks Obtained - English = 35\n",
      "Marks Obtained - Physics = 35\n",
      "Marks Obtained - Chemistry = 35\n",
      "Marks Obtained - Maths = 35\n",
      "Marks Obtained - Biology = 35\n",
      "Precentage (%) 35.0\n"
     ]
    }
   ],
   "source": [
    "\"\"\" 12. We need to input marks in 5 subjects out of 100 and print percentage.\"\"\"\n",
    "\n",
    "Eng = int(input(\"Marks Obtained - English = \"))\n",
    "Phy = int(input(\"Marks Obtained - Physics = \"))\n",
    "Che = int(input(\"Marks Obtained - Chemistry = \"))\n",
    "Mat = int(input(\"Marks Obtained - Maths = \"))\n",
    "Bio = int(input(\"Marks Obtained - Biology = \"))\n",
    "\n",
    "Precentage = ((Eng+Phy+Che+Mat+Bio)/500) *100\n",
    "print(\"Precentage (%)\", str(Precentage))\n"
   ]
  },
  {
   "cell_type": "code",
   "execution_count": null,
   "metadata": {},
   "outputs": [],
   "source": []
  }
 ],
 "metadata": {
  "kernelspec": {
   "display_name": "Python 3",
   "language": "python",
   "name": "python3"
  },
  "language_info": {
   "codemirror_mode": {
    "name": "ipython",
    "version": 3
   },
   "file_extension": ".py",
   "mimetype": "text/x-python",
   "name": "python",
   "nbconvert_exporter": "python",
   "pygments_lexer": "ipython3",
   "version": "3.7.6"
  }
 },
 "nbformat": 4,
 "nbformat_minor": 2
}
