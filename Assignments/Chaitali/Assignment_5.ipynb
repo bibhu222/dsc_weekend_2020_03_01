{
 "cells": [
  {
   "cell_type": "code",
   "execution_count": 1,
   "metadata": {},
   "outputs": [
    {
     "name": "stdout",
     "output_type": "stream",
     "text": [
      "qwerty\n",
      "poiuyt\n",
      "poiuyt\n",
      "qwerty\n"
     ]
    }
   ],
   "source": [
    "''' 1. WAP to input 2 strings and swap the strings'''\n",
    "a = input('')\n",
    "b = input('')\n",
    "a,b = b,a\n",
    "print(a)\n",
    "print(b)"
   ]
  },
  {
   "cell_type": "code",
   "execution_count": 7,
   "metadata": {},
   "outputs": [
    {
     "name": "stdout",
     "output_type": "stream",
     "text": [
      "35\n",
      "8.75\n"
     ]
    }
   ],
   "source": [
    "\"\"\" 2. WAP to generate 4 random numbers in the range 0-26 and print their average\"\"\"\n",
    "\n",
    "import random\n",
    "seed=123\n",
    "r = random.randint(0,26) + random.randint(0,26) + random.randint(0,26) + random.randint(0,26)\n",
    "print(r)\n",
    "avg = r/4\n",
    "print(avg)"
   ]
  },
  {
   "cell_type": "code",
   "execution_count": 58,
   "metadata": {},
   "outputs": [
    {
     "name": "stdout",
     "output_type": "stream",
     "text": [
      "['a', 'b', 'c', 'd', 'e', 'f', 'g', 'h', 'i', 'j', 'k', 'l', 'm', 'n', 'o', 'p', 'q', 'r', 's', 't', 'u', 'v', 'w', 'x', 'y', 'z', 'A', 'B', 'C', 'D', 'E', 'F', 'G', 'H', 'I', 'J', 'K', 'L', 'M', 'N', 'O', 'P', 'Q', 'R', 'S', 'T', 'U', 'V', 'W', 'X', 'Y', 'Z']\n"
     ]
    },
    {
     "data": {
      "text/plain": [
       "'GjEVA'"
      ]
     },
     "execution_count": 58,
     "metadata": {},
     "output_type": "execute_result"
    }
   ],
   "source": [
    "'''3. WAP to generate and print a random uppercase or lowercase alphabet. Try these:\n",
    "• Create a string containing all alphabets and then select a random alphabet. a = 97; z= 122; A = 65; Z = 90\n",
    "• Check the module string'''\n",
    "\n",
    "import random\n",
    "lst = []\n",
    "for n in range (97,123):\n",
    "    lst.append(chr(n))\n",
    "for m in range (65,91):\n",
    "    lst.append(chr(m))\n",
    "print(lst)\n",
    "random.choice(lst)+random.choice(lst)+random.choice(lst)+random.choice(lst)+random.choice(lst)\n"
   ]
  },
  {
   "cell_type": "code",
   "execution_count": 1,
   "metadata": {},
   "outputs": [
    {
     "name": "stdout",
     "output_type": "stream",
     "text": [
      "P = 1000\n",
      "R = 2\n",
      "T = 2\n"
     ]
    },
    {
     "data": {
      "text/plain": [
       "40.0"
      ]
     },
     "execution_count": 1,
     "metadata": {},
     "output_type": "execute_result"
    }
   ],
   "source": [
    "''' 4. WAF get_si() that takes Principle, Rate and Time as arguments and returns the Simple\n",
    "Interest.'''\n",
    "\n",
    "def  get_si(P,R,T):\n",
    "    SI = (P*R*T) / 100\n",
    "    return SI\n",
    "\n",
    "p = float(input('P = '  ))\n",
    "r = float(input('R = ' ))\n",
    "t = float(input('T = ' ))\n",
    "\n",
    "get_si(p,r,t)\n",
    "    \n",
    "    "
   ]
  },
  {
   "cell_type": "code",
   "execution_count": 66,
   "metadata": {},
   "outputs": [
    {
     "data": {
      "text/plain": [
       "5"
      ]
     },
     "execution_count": 66,
     "metadata": {},
     "output_type": "execute_result"
    }
   ],
   "source": [
    "def addd(a,b):\n",
    "    c=a+b\n",
    "    return c\n",
    "addd(2,3)"
   ]
  },
  {
   "cell_type": "code",
   "execution_count": 12,
   "metadata": {},
   "outputs": [
    {
     "data": {
      "text/plain": [
       "1100.0"
      ]
     },
     "execution_count": 12,
     "metadata": {},
     "output_type": "execute_result"
    }
   ],
   "source": [
    "''' 5. WAF get_amount() that takes Principle, Rate and Time as arguments and returns the\n",
    "Total amount using the get_si() function from above to calculate the SI. Also provide\n",
    "Rate = 10 and Time = 1 as default arguments''' #get_si() + P\n",
    "\n",
    "def get_amount(P,R = 10,T = 1):\n",
    "    A = P + get_si(P,R,T)\n",
    "    return A\n",
    "\n",
    "get_amount(1000)\n",
    "   "
   ]
  },
  {
   "cell_type": "code",
   "execution_count": 18,
   "metadata": {},
   "outputs": [
    {
     "data": {
      "text/plain": [
       "1040.4"
      ]
     },
     "execution_count": 18,
     "metadata": {},
     "output_type": "execute_result"
    }
   ],
   "source": [
    "'''6. WAP get_ci() that takes Principle, Rate and Time as arguments and returns the\n",
    "Compound Interest.'''\n",
    "\n",
    "def get_ci(P,R,T, N=1):\n",
    "    C = P * pow((1 + ((R/100)/N)),(N*T))\n",
    "    return C\n",
    "\n",
    "get_ci(1000,2,2)"
   ]
  },
  {
   "cell_type": "code",
   "execution_count": 22,
   "metadata": {},
   "outputs": [
    {
     "data": {
      "text/plain": [
       "(3.3333333333333335, 1)"
      ]
     },
     "execution_count": 22,
     "metadata": {},
     "output_type": "execute_result"
    }
   ],
   "source": [
    "'''7. WAP get_q_r() taking 2 numbers as parameters and returns the quotient and\n",
    "remainder in the form of a tuple.'''\n",
    "\n",
    "def get_q_r(q,r):\n",
    "    Q = q/r\n",
    "    R = q%r\n",
    "    return Q,R\n",
    "get_q_r(10,3)\n",
    "    "
   ]
  },
  {
   "cell_type": "code",
   "execution_count": 31,
   "metadata": {},
   "outputs": [
    {
     "name": "stdout",
     "output_type": "stream",
     "text": [
      "2\n",
      "2\n",
      "2.8284271247461903\n"
     ]
    }
   ],
   "source": [
    "'''8. WAP to find the length of hypotenuse of a right angled triangle, input the height and\n",
    "base from user.''' # h2 = a2 + b2\n",
    "import math\n",
    "h = int(input(''))\n",
    "b = int(input(''))\n",
    "hyp=math.sqrt((h**2) + (b**2))\n",
    "print(hyp)\n"
   ]
  },
  {
   "cell_type": "code",
   "execution_count": 78,
   "metadata": {},
   "outputs": [
    {
     "name": "stdout",
     "output_type": "stream",
     "text": [
      "Enter seconds: 10000\n",
      "0 days 2 hours 46 minutes 40 seconds\n"
     ]
    }
   ],
   "source": [
    "'''9. WAP to input number of seconds and print in days, hours, minutes and seconds\n",
    "ex: input = 10000; Output = 0 day 2 hour 46 minute 40 second'''\n",
    "\n",
    "sec = int(input('Enter seconds: '))\n",
    "day= sec/86400\n",
    "sec=sec % 86400 \n",
    "hrs = sec/ 3600\n",
    "sec= sec% 3600\n",
    "mint= sec/ 60 \n",
    "sec =sec% 60   \n",
    "\n",
    "print(f\"{int(day)} days {int(hrs)} hours {int(mint)} minutes {int(sec)} seconds\")"
   ]
  },
  {
   "cell_type": "code",
   "execution_count": 83,
   "metadata": {},
   "outputs": [
    {
     "name": "stdout",
     "output_type": "stream",
     "text": [
      "3.7.6 (default, Jan  8 2020, 20:23:39) [MSC v.1916 64 bit (AMD64)]\n",
      "sys.version_info(major=3, minor=7, micro=6, releaselevel='final', serial=0)\n"
     ]
    }
   ],
   "source": [
    "''' 10. Check your version of python interpreter without opening the interpreter (Which\n",
    "command needs to be used on the command line).'''\n",
    "import sys\n",
    "print(sys.version)\n",
    "print(sys.version_info)"
   ]
  },
  {
   "cell_type": "code",
   "execution_count": 84,
   "metadata": {},
   "outputs": [
    {
     "name": "stdout",
     "output_type": "stream",
     "text": [
      "2 -2\n"
     ]
    }
   ],
   "source": [
    "\"\"\"#11\"\"\"\n",
    "\n",
    "x = 2\n",
    "x*=3\n",
    "x = x%4\n",
    "y = -x\n",
    "print(x,y)"
   ]
  },
  {
   "cell_type": "code",
   "execution_count": 85,
   "metadata": {},
   "outputs": [
    {
     "name": "stdout",
     "output_type": "stream",
     "text": [
      "None\n"
     ]
    }
   ],
   "source": [
    "def funct():\n",
    "    pass\n",
    "print(funct())"
   ]
  },
  {
   "cell_type": "code",
   "execution_count": null,
   "metadata": {},
   "outputs": [],
   "source": []
  },
  {
   "cell_type": "code",
   "execution_count": null,
   "metadata": {},
   "outputs": [],
   "source": []
  }
 ],
 "metadata": {
  "kernelspec": {
   "display_name": "Python 3",
   "language": "python",
   "name": "python3"
  },
  "language_info": {
   "codemirror_mode": {
    "name": "ipython",
    "version": 3
   },
   "file_extension": ".py",
   "mimetype": "text/x-python",
   "name": "python",
   "nbconvert_exporter": "python",
   "pygments_lexer": "ipython3",
   "version": "3.7.6"
  }
 },
 "nbformat": 4,
 "nbformat_minor": 4
}
