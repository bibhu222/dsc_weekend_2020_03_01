{
 "cells": [
  {
   "cell_type": "code",
   "execution_count": null,
   "metadata": {},
   "outputs": [],
   "source": [
    "\"\"\"1. WAP to input 2 numbers and check whether the first is divisible by the second and print true or\n",
    "false depending on the divisibility.\"\"\"\n",
    "\n",
    "num1 = int(input(\"Enter 1st number: \"))\n",
    "num2 = int(input(\"Enter 2nd number: \"))\n",
    "if num1 % num2 == 0:\n",
    "    print(True)\n",
    "else:\n",
    "    print(False)\n"
   ]
  },
  {
   "cell_type": "code",
   "execution_count": null,
   "metadata": {},
   "outputs": [],
   "source": [
    "\"\"\"2. In the palindrome example, make the code case insensitive.\n",
    "i.e. Naman should also be treated as a palindrome (HINT: first convert to either upper or\n",
    "lower case).\"\"\"\n",
    "\n",
    "pal = input(\"Enter a palindrome string: \")\n",
    "print(pal.lower())\n",
    "s = pal[::-1]\n",
    "print(s.capitalize())"
   ]
  },
  {
   "cell_type": "code",
   "execution_count": null,
   "metadata": {},
   "outputs": [],
   "source": [
    "\"\"\"3. WAP to input the sides of a triangle and print whether equilateral(all sides equal), isosceles (2\n",
    "sides equal), or scalene (no sides equal).\"\"\"\n",
    "\n",
    "s = input(\"Input three sides of traingel = \")\n",
    "l = s.split(\",\")\n",
    "print(l)\n",
    "if(l[0] == l[1] == l[-1]):\n",
    "    print(\"Equilateral Triangle\")\n",
    "elif(l[0] == l[1] or l[0] == l[-1] or l[1] == l[-1]):\n",
    "    print(\"Isosceles Triangle\")\n",
    "else:\n",
    "    print(\"Scalene Traingle\")"
   ]
  },
  {
   "cell_type": "code",
   "execution_count": null,
   "metadata": {},
   "outputs": [],
   "source": [
    "\"\"\"4. WAP to input a number and print if it is even or odd.\"\"\"\n",
    "num = int(input(\"Enter a number: \"))\n",
    "if num % 2 == 0:\n",
    "    print(\"Even Number\")\n",
    "else:\n",
    "    print(\"Odd Number\")"
   ]
  },
  {
   "cell_type": "code",
   "execution_count": null,
   "metadata": {},
   "outputs": [],
   "source": [
    "\"\"\" 5. WAP to input age and print the respective text\n",
    "depending on the age ranges as present in the table.\"\"\"\n",
    "\n",
    "age = int(input(\"Enter age: \"))\n",
    "\n",
    "if age>= 0 and age <= 12:\n",
    "    print(\"Child\")\n",
    "elif age >= 13 and age <= 17:\n",
    "    print(\"Teen\")\n",
    "elif age >= 18 and age <= 50:\n",
    "    print(\"Adult\")\n",
    "elif age >= 51 and age <= 100:\n",
    "    print(\"Senior Citizen\")\n",
    "elif age > 100:\n",
    "    print(\"Contratulations\")\n",
    "else:\n",
    "    print(\"Invalid age\")"
   ]
  },
  {
   "cell_type": "code",
   "execution_count": null,
   "metadata": {},
   "outputs": [],
   "source": [
    "\"\"\" 6. WAP to input year (check if user enters valid year. Should be 4-digit number and should not be\n",
    "negative) and print whether leap year or not. (If really interested in why you also have to check\n",
    "the divisibility by 400 just google the exact time it takes for the earth to revolve around the sub)\"\"\"\n",
    "\n",
    "year = int(input(\"Enter a year = \"))\n",
    "if year > 0000 and year < 10000:\n",
    "    if year % 4 == 0:\n",
    "        if year % 100 == 0:\n",
    "            if year % 400 == 0:\n",
    "                print(year,\" is a leap year.\")\n",
    "            else:\n",
    "                print(year, \" is not a leap year.\")\n",
    "        else:\n",
    "            print(year,\" is a leap year.\")\n",
    "    else:\n",
    "        print(year,\" is not a leap year.\")\n",
    "else:\n",
    "    print(\"Invalid year!\")\n"
   ]
  },
  {
   "cell_type": "code",
   "execution_count": null,
   "metadata": {},
   "outputs": [],
   "source": [
    "\"\"\" 7. WAP to input a string and convert it to Upper Case if number of characters is odd and convert to\n",
    "lower case otherwise.\"\"\"\n",
    "\n",
    "s = input(\"Enter a string: \")\n",
    "if len(s) % 2 == 0:\n",
    "    print(s.lower())\n",
    "else:\n",
    "    print(s.upper())"
   ]
  },
  {
   "cell_type": "code",
   "execution_count": null,
   "metadata": {},
   "outputs": [],
   "source": [
    "\"\"\" 8. WAP to input a string and print Veg if the string doesn’t contain the word egg. Otherwise print\n",
    "Non-Veg. As usual eggs can be both big and small.\"\"\"\n",
    "\n",
    "gen = input(\"Enter food type: \")\n",
    "g = gen.lower()\n",
    "print(\"Non-Veg\" if \"egg\" in g else \"Veg\")\n"
   ]
  },
  {
   "cell_type": "code",
   "execution_count": null,
   "metadata": {},
   "outputs": [],
   "source": [
    "if not 1:\n",
    "    print (\"False\")\n",
    "else:\n",
    "    print(\"True\")"
   ]
  },
  {
   "cell_type": "code",
   "execution_count": null,
   "metadata": {},
   "outputs": [],
   "source": [
    "if 1:\n",
    "    print (\"True\")\n",
    "else:\n",
    "    print(\"False\")"
   ]
  },
  {
   "cell_type": "code",
   "execution_count": null,
   "metadata": {},
   "outputs": [],
   "source": [
    "if 'a' > 'A':\n",
    "    print(\"Weird!\")\n",
    "else:\n",
    "    print(\"Make Sense\")"
   ]
  },
  {
   "cell_type": "code",
   "execution_count": null,
   "metadata": {},
   "outputs": [],
   "source": [
    "a = [1,2,3,4]\n",
    "if 1>1:\n",
    "    a = a[::-1]\n",
    "else:\n",
    "    a = a[-1::-1]\n",
    "print(a)"
   ]
  },
  {
   "cell_type": "code",
   "execution_count": null,
   "metadata": {},
   "outputs": [],
   "source": [
    "\"\"\" 10. WAP to input marks in 5 subjects and print the grade as per following logic:\n",
    "% between 90-100 Grade-A\n",
    "% between 80 - 89 Grade-B\n",
    "% between 60 - 79 Grade-C\n",
    "% < 60 Grade-F\"\"\"\n",
    "\n",
    "sub = int(input('Enter number of subjects: '))\n",
    "l = []\n",
    "for n in range(sub):\n",
    "    s = int(input('Enter marks = '))\n",
    "    l.append(s)\n",
    "per = (sum(l)/500) *100\n",
    "print('Percentage = ', per)\n",
    "    \n",
    "if per >= 90 and per <= 100:\n",
    "    print('Grade-A')\n",
    "elif per >= 80 and per <= 89:\n",
    "    print('Grade-B')\n",
    "elif per >= 60 and per <= 79:\n",
    "    print('Grade-C')\n",
    "else:\n",
    "    print('Grade-F')\n"
   ]
  },
  {
   "cell_type": "code",
   "execution_count": null,
   "metadata": {},
   "outputs": [],
   "source": [
    "sub = (input('Enter 5 subject Marks:'))\n",
    "sub1=sub.split(' ')\n",
    "f1=int(sub1[0])\n",
    "f2=int(sub1[1])\n",
    "f3=int(sub1[2])\n",
    "f4=int(sub1[3])\n",
    "f5=int(sub1[4])\n",
    "per = ((f1+f2+f3+f4+f5)/500) *100\n",
    "print('Percentage = ', per)\n",
    "    \n",
    "if per >= 90 and per <= 100:\n",
    "    print('Grade-A')\n",
    "elif per >= 80 and per <= 89:\n",
    "    print('Grade-B')\n",
    "elif per >= 60 and per <= 79:\n",
    "    print('Grade-C')\n",
    "else:\n",
    "    print('Grade-F')\n"
   ]
  },
  {
   "cell_type": "code",
   "execution_count": null,
   "metadata": {},
   "outputs": [],
   "source": [
    "\"\"\" 11. WAP to input age and salary and calculate Tax as per tax rates if following table:\"\"\"\n",
    "\n",
    "age = int(input('Enter employee age: '))\n",
    "sal = float(input('Enter employee salary: '))\n",
    "\n",
    "if age < 60:\n",
    "    if (sal <= 250000):\n",
    "        print(\"Not Applicable for Tax payment!\")\n",
    "    elif (sal >= 250001 and sal<= 500000):\n",
    "        print(\"Tax payable: \", str(sal*0.05))\n",
    "    elif (sal >= 500001 and sal<= 1000000):\n",
    "        print(\"Tax payable: \", str(sal*0.10))\n",
    "    else:\n",
    "        print(\"Tax payable: \", str(sal*0.15))\n",
    "if age >= 60:\n",
    "    if (sal <= 250000):\n",
    "        print(\"Not Applicable for Tax payment!\")\n",
    "    elif (sal >= 250001 and sal<= 500000):\n",
    "        print(\"Tax payable: \", str(sal*0.03))\n",
    "    elif (sal >= 500001 and sal<= 1000000):\n",
    "        print(\"Tax payable: \", str(sal*0.08))\n",
    "    else:\n",
    "        print(\"Tax payable: \", str(sal*0.12))"
   ]
  },
  {
   "cell_type": "code",
   "execution_count": null,
   "metadata": {},
   "outputs": [],
   "source": [
    "\"\"\"12. Try each of the below statements separately (remember difference between statement and\n",
    "expression) on the python interpreter and guess the output before trying:\"\"\"\n",
    "\n",
    "print(20 if not 1 == 1 else 10)\n",
    "print(30 if not 1==1 else 20 if 'a' < 'A' else 10)\n",
    "print(40 if not 1==1 else 30 if 'a' < 'A' else 20 if '' else 10)\n",
    "print('No' if not 1 == 1 else('No' if 'a' < 'A' else ('OMG' if 'oh!' else 'No')))"
   ]
  },
  {
   "cell_type": "code",
   "execution_count": 7,
   "metadata": {},
   "outputs": [
    {
     "name": "stdout",
     "output_type": "stream",
     "text": [
      "Enter weight in kg = 65\n",
      "Enter height in cm = 155\n",
      "27.055150884495315\n",
      "Overweight\n"
     ]
    }
   ],
   "source": [
    "\"\"\" 13. WAF: bmi() that takes the weight in kg and height in cm of a person, calculates and returns the BMI.\n",
    "Write code that calls this function after taking height and weight as inputs and then prints\n",
    "underweight, normal, overweight or obese depending on the value of BMI.\"\"\"\n",
    "\"\"\"BMI Categories:\n",
    "Underweight = <18.5\n",
    "Normal weight = 18.5–24.9\n",
    "Overweight = 25–29.9\n",
    "Obesity = BMI of 30 or greater\"\"\"\n",
    "\n",
    "\n",
    "def bmi(w,h):\n",
    "    BMI = (w/((h/100)**2))\n",
    "    return BMI\n",
    "weight = float(input('Enter weight in kg = '))\n",
    "height = float(input('Enter height in cm = '))\n",
    "bmi1=bmi(weight,height)\n",
    "print(bmi1)\n",
    "print(\"Underweight\" if bmi1 < 18.5 else(\"Normal weight\" if bmi1 >= 18.5 and bmi1 <= 24.9 else('Overweight' if bmi1 >= 25 and bmi1 <= 29.9 else 'Obesity' )))\n",
    "\n",
    "\n",
    "    "
   ]
  },
  {
   "cell_type": "code",
   "execution_count": 11,
   "metadata": {},
   "outputs": [
    {
     "name": "stdout",
     "output_type": "stream",
     "text": [
      "Enter age = 12\n",
      "Enter age = 12\n",
      "Enter age = 12\n",
      "All are of same age!\n"
     ]
    }
   ],
   "source": [
    "\"\"\" 14. Take input of age of 3 people by user and determine oldest and youngest among them.\"\"\"\n",
    "a1 = int(input('Enter age = '))\n",
    "a2 = int(input('Enter age = '))\n",
    "a3 = int(input('Enter age = '))\n",
    "\n",
    "if(a1 < a2 and a1 < a3):\n",
    "    print(a1,'is yongest')\n",
    "if(a2 < a1 and a2 < a3):\n",
    "    print(a3, 'is youngest')\n",
    "if(a3 < a1 and a3 < a2):\n",
    "    print(a3, 'is yongest')\n",
    "if(a1 > a2 and a1 > a3):\n",
    "    print(a1,'is oldest')\n",
    "if(a2 > a1 and a2 > a3):\n",
    "    print(a3, 'is oldest')\n",
    "if(a3 > a1 and a3 > a2):\n",
    "    print(a3, 'is oldest')\n",
    "else:\n",
    "    print('All are of same age!')"
   ]
  },
  {
   "cell_type": "code",
   "execution_count": 26,
   "metadata": {},
   "outputs": [
    {
     "name": "stdout",
     "output_type": "stream",
     "text": [
      "Enter an integer = 35\n",
      "Input number 35 is divisible by both 5 and 7\n"
     ]
    }
   ],
   "source": [
    "\"\"\" 15. WAP to input a number and check if number is divisible by both 5 and 7.\"\"\"\n",
    "r = int(input('Enter an integer = '))\n",
    "if (r % 5 and r % 7) == 0:\n",
    "    print(\"Input number %d is divisible by both 5 and 7\"%r)\n",
    "else:\n",
    "    print('Input number %d is not divisible by 5 and 7'%r)"
   ]
  },
  {
   "cell_type": "code",
   "execution_count": null,
   "metadata": {},
   "outputs": [],
   "source": []
  }
 ],
 "metadata": {
  "kernelspec": {
   "display_name": "Python 3",
   "language": "python",
   "name": "python3"
  },
  "language_info": {
   "codemirror_mode": {
    "name": "ipython",
    "version": 3
   },
   "file_extension": ".py",
   "mimetype": "text/x-python",
   "name": "python",
   "nbconvert_exporter": "python",
   "pygments_lexer": "ipython3",
   "version": "3.7.6"
  }
 },
 "nbformat": 4,
 "nbformat_minor": 4
}
