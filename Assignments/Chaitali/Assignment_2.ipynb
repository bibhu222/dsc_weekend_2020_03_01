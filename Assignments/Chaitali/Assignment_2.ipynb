{
 "cells": [
  {
   "cell_type": "code",
   "execution_count": null,
   "metadata": {},
   "outputs": [],
   "source": [
    "s='Python is Object Oriented'\n",
    "s[:-1]"
   ]
  },
  {
   "cell_type": "code",
   "execution_count": null,
   "metadata": {},
   "outputs": [],
   "source": [
    "s = 'Qwery'\n",
    "print(s[1])"
   ]
  },
  {
   "cell_type": "code",
   "execution_count": null,
   "metadata": {},
   "outputs": [],
   "source": [
    "s='a b cd'\n",
    "print(len(s))\n",
    "print(s[::2])\n",
    "print(len(s[::2]))"
   ]
  },
  {
   "cell_type": "code",
   "execution_count": 16,
   "metadata": {},
   "outputs": [
    {
     "name": "stdout",
     "output_type": "stream",
     "text": [
      "['a#b#c#d#']\n",
      "['a', 'b', 'c', 'd', '']\n",
      "a$b$c$d$\n"
     ]
    }
   ],
   "source": [
    "s=\"a#b#c#d#\"\n",
    "print(s.split())\n",
    "print(s.split('#'))\n",
    "l=s.split('#')\n",
    "s='$'.join(l)\n",
    "print(s)"
   ]
  },
  {
   "cell_type": "code",
   "execution_count": null,
   "metadata": {},
   "outputs": [],
   "source": [
    "S='QWERTY'\n",
    "S=S[::-2][::-2]\n",
    "print(S)"
   ]
  },
  {
   "cell_type": "code",
   "execution_count": null,
   "metadata": {},
   "outputs": [],
   "source": [
    "print(1>2)"
   ]
  },
  {
   "cell_type": "code",
   "execution_count": null,
   "metadata": {},
   "outputs": [],
   "source": [
    "print(4%2, 5%2, 2%5, sep=',')"
   ]
  },
  {
   "cell_type": "code",
   "execution_count": null,
   "metadata": {},
   "outputs": [],
   "source": [
    "s='abcba'\n",
    "print(s.upper())\n",
    "print(s)\n",
    "print(s.count('A'), end = ' ,')\n",
    "print(s.count('A', 2,4) , end = ' ,')\n",
    "print(s.count('a', 2,4) , end = ' ,')"
   ]
  },
  {
   "cell_type": "code",
   "execution_count": null,
   "metadata": {},
   "outputs": [],
   "source": [
    "\"\"\" 5. WAP to input a string and remove all spaces from it.\"\"\"\n",
    "inp = input(\"Enter a string = \")\n",
    "print(inp.replace(\" \",\"\"))"
   ]
  },
  {
   "cell_type": "code",
   "execution_count": null,
   "metadata": {},
   "outputs": [],
   "source": [
    "\"\"\"7. WAP to print all methods(functions/operations) available in a string (Hint : dir()) \"\"\"\n",
    "\n",
    "import string\n",
    "print(dir(string))\n"
   ]
  },
  {
   "cell_type": "code",
   "execution_count": null,
   "metadata": {},
   "outputs": [],
   "source": [
    "\"\"\"8. Write statement to check if rstrip method is available in the str class.\n",
    "(Hint : Use the find function or in) \"\"\"\n",
    "\n",
    "dir(str())"
   ]
  },
  {
   "cell_type": "code",
   "execution_count": null,
   "metadata": {},
   "outputs": [],
   "source": [
    "a = \"QWEE ERF FFG\"\n",
    "print(a.rstrip())"
   ]
  },
  {
   "cell_type": "code",
   "execution_count": 30,
   "metadata": {},
   "outputs": [
    {
     "name": "stdout",
     "output_type": "stream",
     "text": [
      "*****\n",
      "  *  \n",
      "  *  \n",
      "  *  \n",
      "  *  \n"
     ]
    }
   ],
   "source": [
    "\"\"\" 9. WAP to store the following patterns in a string variable and then print them:\"\"\"\n",
    "\n",
    "for row in range (5):\n",
    "    for col in range (5):\n",
    "        if col == 2 or (row == 0 and col != 2):\n",
    "            print(\"*\", end = \"\")\n",
    "        else:\n",
    "            print(\" \", end = \"\")\n",
    "    print()"
   ]
  },
  {
   "cell_type": "code",
   "execution_count": null,
   "metadata": {
    "scrolled": true
   },
   "outputs": [],
   "source": [
    "for row1 in range (7):\n",
    "    for col1 in range (7):\n",
    "        if col1 == 0 or col1 == 6  or  (row1 == col1 and (col1 > 0 and col1 < 4)) or (row1 == 1 and col1 == 5) or (row1 == 2 and col1 == 4):\n",
    "            print(\"*\", end = \"\")\n",
    "        else:\n",
    "            print(\" \", end =\"\")\n",
    "    print()"
   ]
  },
  {
   "cell_type": "code",
   "execution_count": null,
   "metadata": {},
   "outputs": [],
   "source": [
    "for row3 in range (7):\n",
    "    for col3 in range (7):\n",
    "        if (col3 == 0 and (row3 != col3) and (row3 != 6 and col3 != 1)) or (row3 == 0  and (col3 > 0 and col3 < 6)) or (row3 == 6  and (col3 > 0 and col3 < 6)): \n",
    "            print(\"*\", end = \"\") \n",
    "        else:\n",
    "            print(\" \", end = \"\")\n",
    "    print()"
   ]
  },
  {
   "cell_type": "code",
   "execution_count": 15,
   "metadata": {},
   "outputs": [
    {
     "name": "stdout",
     "output_type": "stream",
     "text": [
      "\t\t_____\n",
      "              |     |\n",
      "              o     |\n",
      "            / | \\   |\n",
      "             / \\    |\n",
      "          __________|\n",
      "\n"
     ]
    }
   ],
   "source": [
    "print(\"\"\"\\t\\t_____\n",
    "              |     |\n",
    "              o     |\n",
    "            / | \\   |\n",
    "             / \\    |\n",
    "          __________|\n",
    "\"\"\")"
   ]
  },
  {
   "cell_type": "code",
   "execution_count": null,
   "metadata": {},
   "outputs": [],
   "source": [
    "\"\"\"10. WAP to input a string and replace all space with new lines (\\n) and print again.\"\"\"\n",
    "\n",
    "s = input(\"Enter a string: \")\n",
    "\n",
    "print(s.replace(\" \",\"\\n\"))"
   ]
  },
  {
   "cell_type": "code",
   "execution_count": null,
   "metadata": {},
   "outputs": [],
   "source": [
    "\"\"\"11. WAP to input complete name(first and last name separated by space) and print first and last\n",
    "name separately along with their length in upper case.\"\"\"\n",
    "\n",
    "Name = input(\"Enter full name: \")\n",
    "Name = Name.upper(); \n",
    "N = Name.split(\" \")\n",
    "N1 = N[0],len(N[0]); print(N1)\n",
    "N2 = N[-1],len(N[-1]); print(N2)\n",
    "\n"
   ]
  },
  {
   "cell_type": "code",
   "execution_count": 29,
   "metadata": {},
   "outputs": [
    {
     "name": "stdout",
     "output_type": "stream",
     "text": [
      "Enter a string = qwert\n",
      "2\n",
      "qw\n",
      "rt\n",
      "\n"
     ]
    }
   ],
   "source": [
    "\"\"\" 12. WAP to input a string and split it into 2 halves. The string can be of any length \"\"\"\n",
    "Str = input(\"Enter a string = \")\n",
    "div = len(Str)//2; print(div)\n",
    "\n",
    "if div / 2 == 1:\n",
    "    print(Str[0:div])\n",
    "    print(Str[div+1:100])\n",
    "\n",
    "else:\n",
    "    print(Str[0:div])\n",
    "    print(Str[div:100])\n",
    "print()\n",
    "\n",
    "    "
   ]
  },
  {
   "cell_type": "code",
   "execution_count": null,
   "metadata": {},
   "outputs": [],
   "source": []
  },
  {
   "cell_type": "code",
   "execution_count": null,
   "metadata": {},
   "outputs": [],
   "source": []
  },
  {
   "cell_type": "code",
   "execution_count": null,
   "metadata": {},
   "outputs": [],
   "source": []
  }
 ],
 "metadata": {
  "kernelspec": {
   "display_name": "Python 3",
   "language": "python",
   "name": "python3"
  },
  "language_info": {
   "codemirror_mode": {
    "name": "ipython",
    "version": 3
   },
   "file_extension": ".py",
   "mimetype": "text/x-python",
   "name": "python",
   "nbconvert_exporter": "python",
   "pygments_lexer": "ipython3",
   "version": "3.7.6"
  }
 },
 "nbformat": 4,
 "nbformat_minor": 2
}
