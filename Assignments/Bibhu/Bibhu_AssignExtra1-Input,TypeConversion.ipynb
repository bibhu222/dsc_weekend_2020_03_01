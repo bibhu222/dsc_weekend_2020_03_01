{
 "cells": [
  {
   "cell_type": "markdown",
   "metadata": {},
   "source": [
    "#### 1.Input temperature in Fahrenheit in print in Celsius."
   ]
  },
  {
   "cell_type": "code",
   "execution_count": 4,
   "metadata": {},
   "outputs": [
    {
     "name": "stdout",
     "output_type": "stream",
     "text": [
      "enter the temperature in fahrenheit:56\n",
      "temperature in celsius: 13.333333333333332\n"
     ]
    }
   ],
   "source": [
    "Fah=int(input(\"enter the temperature in fahrenheit:\"))\n",
    "cel=(Fah-32)/1.8\n",
    "print(\"temperature in celsius:\",cel)"
   ]
  },
  {
   "cell_type": "markdown",
   "metadata": {},
   "source": [
    "#### 2.Write a program to input a number and print its square and cube."
   ]
  },
  {
   "cell_type": "code",
   "execution_count": 5,
   "metadata": {},
   "outputs": [
    {
     "name": "stdout",
     "output_type": "stream",
     "text": [
      "enter a no.:5\n",
      "square of 5 is 25\n",
      "cube of 5 is 125\n"
     ]
    }
   ],
   "source": [
    "num=int(input(\"enter a no.:\"))\n",
    "squ_num=num**2\n",
    "cub_num=num**3\n",
    "print(\"square of {} is {}\".format(num,squ_num));print(\"cube of {} is {}\".format(num,cub_num))\n"
   ]
  },
  {
   "cell_type": "markdown",
   "metadata": {},
   "source": [
    "#### 3.WAP to input a number n and a number m and print the result of following \n",
    "    n**2 + m**2"
   ]
  },
  {
   "cell_type": "code",
   "execution_count": 8,
   "metadata": {},
   "outputs": [
    {
     "name": "stdout",
     "output_type": "stream",
     "text": [
      "enter number n::5\n",
      "enter number m:6\n",
      "61\n"
     ]
    }
   ],
   "source": [
    "n=int(input(\"enter number n::\"))\n",
    "m=int(input(\"enter number m:\"))\n",
    "l=n**2+m**2\n",
    "print(l)"
   ]
  },
  {
   "cell_type": "markdown",
   "metadata": {},
   "source": [
    "#### 4.WAP to input a numbers M and N and print result of M**N. (use both ** and pow) "
   ]
  },
  {
   "cell_type": "code",
   "execution_count": 12,
   "metadata": {
    "scrolled": true
   },
   "outputs": [
    {
     "name": "stdout",
     "output_type": "stream",
     "text": [
      "enter number M:5\n",
      "enter number N:3\n",
      "exponent of M:5 and N:3 using ** is:125\n",
      "exponent of M:5 and N:3 using ** is:125\n"
     ]
    }
   ],
   "source": [
    "M=int(input(\"enter number M:\"))\n",
    "N=int(input(\"enter number N:\"))\n",
    "print(\"exponent of M:{} and N:{} using ** is:{}\".format(M,N,M**N))\n",
    "print(\"exponent of M:{} and N:{} using ** is:{}\".format(M,N,pow(M,N)))"
   ]
  },
  {
   "cell_type": "markdown",
   "metadata": {},
   "source": [
    "#### 5.Write a simple interest calculator"
   ]
  },
  {
   "cell_type": "code",
   "execution_count": 13,
   "metadata": {},
   "outputs": [
    {
     "name": "stdout",
     "output_type": "stream",
     "text": [
      "principal amount:50000\n",
      "rate of interest:15\n",
      "time:3\n",
      "simple interest: 22500.0\n"
     ]
    }
   ],
   "source": [
    "P=int(input(\"principal amount:\"))\n",
    "r=float(input(\"rate of interest:\"))\n",
    "T=int(input(\"time:\"))\n",
    "I=(P*r*T)/100\n",
    "print(\"simple interest:\",I)"
   ]
  },
  {
   "cell_type": "markdown",
   "metadata": {},
   "source": [
    "#### 6.Input Principal, Rate, Time and print Compound Interest and Amount."
   ]
  },
  {
   "cell_type": "code",
   "execution_count": 15,
   "metadata": {},
   "outputs": [
    {
     "name": "stdout",
     "output_type": "stream",
     "text": [
      "principal amount:50000\n",
      "rate of interest:7\n",
      "time:1\n",
      "no. of compound paid in year:2\n",
      "compound interest: 53561.24999999999\n"
     ]
    }
   ],
   "source": [
    "P=int(input(\"principal amount:\"))\n",
    "r=float(input(\"rate of interest:\"))\n",
    "r=r/100\n",
    "T=int(input(\"time:\"))\n",
    "n=int(input(\"no. of compound paid in year:\"))\n",
    "m=n*T\n",
    "k=(1+(r/n))\n",
    "CI=P*(1+(r/n))**m\n",
    "print(\"compound interest:\",CI)"
   ]
  },
  {
   "cell_type": "markdown",
   "metadata": {},
   "source": [
    "#### 7.WAP to print sum of first n natural numbers. (n needs to be taken as input). "
   ]
  },
  {
   "cell_type": "code",
   "execution_count": 17,
   "metadata": {},
   "outputs": [
    {
     "name": "stdout",
     "output_type": "stream",
     "text": [
      "enter the no:10\n",
      "55\n"
     ]
    }
   ],
   "source": [
    "n = int(input(\"enter the no:\"))\n",
    "sum_ = 0\n",
    "for i in range(1,n+1):\n",
    "    sum_ = sum_ + i\n",
    "print(sum_)\n"
   ]
  },
  {
   "cell_type": "markdown",
   "metadata": {},
   "source": [
    "#### 8.WAP to input 2 numbers and swap them. (write using both normal logic with temp variable and also the pythonic way). "
   ]
  },
  {
   "cell_type": "code",
   "execution_count": 19,
   "metadata": {},
   "outputs": [
    {
     "name": "stdout",
     "output_type": "stream",
     "text": [
      "enter a = 56\n",
      "enter b = 45\n",
      "using temp variable  45 56\n",
      "using pythonic way 56 45\n"
     ]
    }
   ],
   "source": [
    "a = int(input(\"enter a = \"))\n",
    "b = int(input(\"enter b = \"))\n",
    "temp = b\n",
    "b = a\n",
    "a = temp\n",
    "print(\"using temp variable \",a, b)\n",
    "\n",
    "a, b = b, a      # using pythonic way\n",
    "print(\"using pythonic way\", a, b)"
   ]
  },
  {
   "cell_type": "markdown",
   "metadata": {},
   "source": [
    "#### 9.WAP to print ascii value of all white-space characters present in python"
   ]
  },
  {
   "cell_type": "code",
   "execution_count": 19,
   "metadata": {},
   "outputs": [
    {
     "name": "stdout",
     "output_type": "stream",
     "text": [
      "10\n",
      "9\n"
     ]
    }
   ],
   "source": [
    "print(ord('\\n'))\n",
    "print(ord('\\t'))\n"
   ]
  },
  {
   "cell_type": "markdown",
   "metadata": {},
   "source": [
    "#### 10.Input a single character and print its ascii values."
   ]
  },
  {
   "cell_type": "code",
   "execution_count": 13,
   "metadata": {
    "scrolled": false
   },
   "outputs": [
    {
     "name": "stdout",
     "output_type": "stream",
     "text": [
      "enter a single character:$\n",
      "36\n"
     ]
    }
   ],
   "source": [
    "char=input(\"enter a single character:\")\n",
    "print(ord(char))"
   ]
  },
  {
   "cell_type": "markdown",
   "metadata": {},
   "source": [
    "#### 11.WAP that takes area of a circle and gives back the radius and circumference. "
   ]
  },
  {
   "cell_type": "code",
   "execution_count": 21,
   "metadata": {
    "scrolled": true
   },
   "outputs": [
    {
     "name": "stdout",
     "output_type": "stream",
     "text": [
      "area of a circle:144\n",
      "radius of circle 6.771991775797204\n",
      "circumference of circle 42.52810835200644\n"
     ]
    }
   ],
   "source": [
    "area=int(input(\"area of a circle:\"))\n",
    "rad=(area/3.14)**(1/2)\n",
    "cir=(2*3.14)*rad\n",
    "print(\"radius of circle\",rad)\n",
    "print(\"circumference of circle\",cir)"
   ]
  },
  {
   "cell_type": "markdown",
   "metadata": {},
   "source": [
    "#### 12.We need to input marks in 5 subjects out of 100 and print percentage."
   ]
  },
  {
   "cell_type": "code",
   "execution_count": 5,
   "metadata": {
    "scrolled": true
   },
   "outputs": [
    {
     "name": "stdout",
     "output_type": "stream",
     "text": [
      "marks in eng:40\n",
      "marks in maths1:30\n",
      "marks in maths2:60\n",
      "marks in physics:40\n",
      "marks in chemistry:5\n",
      "percentage 35.0\n"
     ]
    }
   ],
   "source": [
    "m0=int(input(\"marks in eng:\"))\n",
    "m1=int(input(\"marks in maths1:\"))\n",
    "m2=int(input(\"marks in maths2:\"))\n",
    "m3=int(input(\"marks in physics:\"))\n",
    "m4=int(input(\"marks in chemistry:\"))\n",
    "sum_=m0+m1+m2+m3+m4\n",
    "per=(sum_/500)*100\n",
    "print(\"percentage\", per)\n"
   ]
  }
 ],
 "metadata": {
  "kernelspec": {
   "display_name": "Python 3",
   "language": "python",
   "name": "python3"
  },
  "language_info": {
   "codemirror_mode": {
    "name": "ipython",
    "version": 3
   },
   "file_extension": ".py",
   "mimetype": "text/x-python",
   "name": "python",
   "nbconvert_exporter": "python",
   "pygments_lexer": "ipython3",
   "version": "3.7.4"
  }
 },
 "nbformat": 4,
 "nbformat_minor": 2
}
