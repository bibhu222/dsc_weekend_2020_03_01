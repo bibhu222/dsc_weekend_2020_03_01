{
 "cells": [
  {
   "cell_type": "markdown",
   "metadata": {},
   "source": [
    "# AssignmentPython4-List,Tuple"
   ]
  },
  {
   "cell_type": "markdown",
   "metadata": {},
   "source": [
    "#### 1. Convert a Tuple t = (1,2,3,4,5) to a list"
   ]
  },
  {
   "cell_type": "code",
   "execution_count": 1,
   "metadata": {},
   "outputs": [
    {
     "name": "stdout",
     "output_type": "stream",
     "text": [
      "(1, 2, 3, 4, 5) <class 'tuple'>\n",
      "[1, 2, 3, 4, 5] <class 'list'>\n"
     ]
    }
   ],
   "source": [
    "t = (1,2,3,4,5)\n",
    "print(t,type(t))\n",
    "t=list(t)\n",
    "print(t,type(t))"
   ]
  },
  {
   "cell_type": "markdown",
   "metadata": {},
   "source": [
    "#### 2. WAP to join a list and a tuple:\n",
    "        L = [1,3,5,7]\n",
    "        T = (8,6,4,2)\n",
    "        Store the result in a list LS"
   ]
  },
  {
   "cell_type": "code",
   "execution_count": 10,
   "metadata": {},
   "outputs": [
    {
     "name": "stdout",
     "output_type": "stream",
     "text": [
      "[1, 3, 5, 7, 8, 6, 4, 2]\n"
     ]
    }
   ],
   "source": [
    "L = [1,3,5,7]\n",
    "T = (8,6,4,2)\n",
    "LS=L+(list(T))\n",
    "print(LS)"
   ]
  },
  {
   "cell_type": "markdown",
   "metadata": {},
   "source": [
    "#### 3. What is difference between list and tuple."
   ]
  },
  {
   "cell_type": "markdown",
   "metadata": {},
   "source": [
    "#### Answer-\n",
<<<<<<< HEAD
    "                     LIST \n",
    "                     \n",
    "         1\tLists are mutable\t                                       \n",
    "         2\tImplication of iterations is Time-consuming\t              \n",
    "         3\tThe list is better for performing operations,\n",
    "              such as insertion and deletion.                                          \n",
    "         4\tLists consume more memory\t                                \n",
    "         5\tLists have several built-in methods\t                      \n",
    "         6\tThe unexpected changes and errors                            \n",
    "              are more likely to occur\n",
    "                    TUPLE\n",
    "                    \n",
    "         1  Tuple are immutable\n",
    "         2  Implication of iterations is comparatively Faster\n",
    "         3  Tuple data type is appropriate for accessing the elements\n",
    "         4  Tuple consume less memory as compared to the list\n",
    "         5  Tuple does no have must built-in methods.\n",
    "         6  In tuple, it is hard to take place."
=======
    "                  LIST                                                   \t  TUPLE\n",
    "    1\tLists are mutable\t                                        1 Tuple are immutable\n",
    "    2\tImplication of iterations is Time-consuming\t              2 Implication of iterations is comparatively Faster\n",
    "    3\tThe list is better for performing operations,                3 Tuple data type is appropriate 
          \tsuch as insertion and deletion.\t                               \tfor accessing the elements\n",
    "    4\tLists consume more memory\t                                4 Tuple consume less memory as compared to the list\n",
    "    5\tLists have several built-in methods\t                      5 Tuple does no have must built-in methods.\n",
    "    6\tThe unexpected changes and errors                            6 In tuple, it is hard to take place.\n",
    "        are more likely to occur"
>>>>>>> 79256c1d38d3472603d52e5db3ba5175944d5e42
   ]
  },
  {
   "cell_type": "markdown",
   "metadata": {},
   "source": [
    "#### 4. Print the list in reverse order\n",
    "     l = [‘a’, ‘d’, ‘c’, ‘A’, ‘C’]"
   ]
  },
  {
   "cell_type": "code",
   "execution_count": 26,
   "metadata": {},
   "outputs": [
    {
     "data": {
      "text/plain": [
       "['C', 'A', 'c', 'd', 'a']"
      ]
     },
     "execution_count": 26,
     "metadata": {},
     "output_type": "execute_result"
    }
   ],
   "source": [
    "l = ['a', 'd','c', 'A', 'C']\n",
    "l[::-1]"
   ]
  },
  {
   "cell_type": "markdown",
   "metadata": {},
   "source": [
    "#### 5. Print Elements at Odd indexes from a list (Do not use loop)\n",
    "      l = [10,11,20, 21,30, 31, 40, 41]"
   ]
  },
  {
   "cell_type": "code",
   "execution_count": 28,
   "metadata": {},
   "outputs": [
    {
     "data": {
      "text/plain": [
       "[11, 21, 31, 41]"
      ]
     },
     "execution_count": 28,
     "metadata": {},
     "output_type": "execute_result"
    }
   ],
   "source": [
    "l = [10,11,20, 21,30, 31, 40, 41]\n",
    "l[1::2]"
   ]
  },
  {
   "cell_type": "markdown",
   "metadata": {},
   "source": [
    "#### 6. How many ways you can copy a list.\n",
    "#### Answer-\n",
    "  - by using assignment operator e.g.-list1=list2 this will copy each element of list2 to list1 without changing index\n",
    "  - by using list1.append(list[list index]) ,here we can use loop to append each elements of list 2 to list 1.but in this case     it the original index value will change.\n",
    "  - by using list1=list2.copy()\n",
    "  - by using slicing method list1=list2[:]"
   ]
  },
  {
   "cell_type": "markdown",
   "metadata": {},
   "source": [
    "#### 7. Predict output"
   ]
  },
  {
   "cell_type": "code",
   "execution_count": 31,
   "metadata": {},
   "outputs": [
    {
     "name": "stdout",
     "output_type": "stream",
     "text": [
      "a\n",
      "5\n"
     ]
    }
   ],
   "source": [
    "n_list = ['Happy', [2, 0, 1, 5]]\n",
    "print(n_list[0][1])\n",
    "#Answer- a\n",
    "print(n_list[1][3])\n",
    "#Answer- 5"
   ]
  },
  {
   "cell_type": "markdown",
   "metadata": {},
   "source": [
    "#### 8. predict output"
   ]
  },
  {
   "cell_type": "code",
   "execution_count": 32,
   "metadata": {},
   "outputs": [
    {
     "name": "stdout",
     "output_type": "stream",
     "text": [
      "[1, 4, 6, 8]\n",
      "[1, 3, 5, 7]\n"
     ]
    }
   ],
   "source": [
    "odd = [2, 4, 6, 8]\n",
    "odd[0] = 1\n",
    "print(odd)   \n",
    "#Answer- [1, 4, 6, 8]\n",
    "odd[1:4] = [3, 5, 7]\n",
    "print(odd)    \n",
    "#Answer- [1, 3, 5, 7]"
   ]
  },
  {
   "cell_type": "markdown",
   "metadata": {},
   "source": [
    "#### 9. predict output"
   ]
  },
  {
   "cell_type": "code",
   "execution_count": 36,
   "metadata": {},
   "outputs": [
    {
     "name": "stdout",
     "output_type": "stream",
     "text": [
      "[1, 3, 5, [7, 9]]\n",
      "[1, 3, 5, [7, 9], 11, 13]\n"
     ]
    }
   ],
   "source": [
    "odd = [1, 3, 5]\n",
    "odd.append([7, 9])\n",
    "print(odd)   \n",
    "#Answer- [1, 3, 5, [7, 9]]\n",
    "odd.extend([11, 13])\n",
    "print(odd)   \n",
    "#Answer- [1,3,5,[7,9],11,13]"
   ]
  },
  {
   "cell_type": "markdown",
   "metadata": {},
   "source": [
    "#### 10. predict output"
   ]
  },
  {
   "cell_type": "code",
   "execution_count": 37,
   "metadata": {},
   "outputs": [
    {
     "name": "stdout",
     "output_type": "stream",
     "text": [
      "<class 'tuple'>\n",
      "<class 'int'>\n",
      "<class 'int'>\n",
      "<class 'tuple'>\n"
     ]
    }
   ],
   "source": [
    "x = 1, 2, 3\n",
    "print(type(x)) \n",
    "#Answer- <class tuple>\n",
    "x =(1)\n",
    "print(type(x)) \n",
    "#Answer- <class tuple>\n",
    "x=1\n",
    "print(type(x))  \n",
    "#Answer- <class int>\n",
    "x=1,\n",
    "print(type(x))   \n",
    "#Answer- <class tuple>"
   ]
  },
  {
   "cell_type": "markdown",
   "metadata": {},
   "source": [
    "#### 11. Try to represent a matrix with following data in python:\n",
    "    1 2 3\n",
    "    4 5 6\n",
    "    7 8 9"
   ]
  },
  {
   "cell_type": "code",
   "execution_count": 44,
   "metadata": {},
   "outputs": [
    {
     "name": "stdout",
     "output_type": "stream",
     "text": [
      "[[1, 2, 3], [4, 5, 6], [7, 8, 9]] \n",
      "\n",
      "[[1 2 3]\n",
      " [4 5 6]\n",
      " [7 8 9]] \n",
      "\n"
     ]
    }
   ],
   "source": [
    "lst=[[1,2,3],[4,5,6],[7,8,9]]\n",
    "import numpy as np\n",
    "print(lst,'\\n')\n",
    "print(np.array(lst),'\\n')"
   ]
  },
  {
   "cell_type": "markdown",
   "metadata": {},
   "source": [
    "#### # 12. predict output"
   ]
  },
  {
   "cell_type": "code",
   "execution_count": 45,
   "metadata": {},
   "outputs": [
    {
     "name": "stdout",
     "output_type": "stream",
     "text": [
      "('s', 't', 'r', 'i', 'n', 'g')\n",
      "('g', 'n', 'i', 'r', 't', 's')\n",
      "('n', 's')\n"
     ]
    }
   ],
   "source": [
    "t = tuple('string')\n",
    "print(t)    \n",
    "#Answer- ('s', 't', 'r', 'i', 'n', 'g')\n",
    "print(t[::-1]) \n",
    "#Answer- ('g', 'n', 'i', 'r', 't', 's')\n",
    "print(t[::2][::-2])   \n",
    "#Answer- ('n', 's')"
   ]
  },
  {
   "cell_type": "markdown",
   "metadata": {},
   "source": [
    "#### 13. predict output"
   ]
  },
  {
   "cell_type": "code",
   "execution_count": 46,
   "metadata": {},
   "outputs": [
    {
     "name": "stdout",
     "output_type": "stream",
     "text": [
      "True\n",
      "False\n",
      "1\n",
      "3\n"
     ]
    }
   ],
   "source": [
    "t = tuple([10, 20, 30, 40, 50, 60])\n",
    "print(60 in t)    \n",
    "#Answer- True\n",
    "print('60' in t)\n",
    "#Answer-  False\n",
    "print(t.count(10))  \n",
    "#Answer-  1\n",
    "print(t.index(40))   \n",
    "#Answer-  3"
   ]
  },
  {
   "cell_type": "markdown",
   "metadata": {},
   "source": [
    "#### 14. Write a program to input a string and print if it is palindrome or not."
   ]
  },
  {
   "cell_type": "code",
   "execution_count": 49,
   "metadata": {},
   "outputs": [
    {
     "name": "stdout",
     "output_type": "stream",
     "text": [
      "Enter a string:Nan\n",
      "The string is palindrome\n"
     ]
    }
   ],
   "source": [
    "s=input('Enter a string:')\n",
    "s=s.lower()\n",
    "s2=s[::-1]\n",
    "if s==s2:\n",
    "    print('The string is palindrome')\n",
    "else:\n",
    "    print('The string is not palindrome')"
   ]
  },
  {
   "cell_type": "markdown",
   "metadata": {},
   "source": [
    "#### 15. Use the range method and create a tuple containing the following values:\n",
    "        (20, 15, 10, 5)"
   ]
  },
  {
   "cell_type": "code",
   "execution_count": 51,
   "metadata": {},
   "outputs": [
    {
     "data": {
      "text/plain": [
       "(20, 15, 10, 5)"
      ]
     },
     "execution_count": 51,
     "metadata": {},
     "output_type": "execute_result"
    }
   ],
   "source": [
    "tpl=tuple(range(20,4,-5))\n",
    "tpl"
   ]
  },
  {
   "cell_type": "markdown",
   "metadata": {},
   "source": [
    "#### 16. WAP to convert string to list of characters."
   ]
  },
  {
   "cell_type": "code",
   "execution_count": 56,
   "metadata": {},
   "outputs": [
    {
     "name": "stdout",
     "output_type": "stream",
     "text": [
      "Enter a string:bibhu\n"
     ]
    },
    {
     "data": {
      "text/plain": [
       "['b', 'i', 'b', 'h', 'u']"
      ]
     },
     "execution_count": 56,
     "metadata": {},
     "output_type": "execute_result"
    }
   ],
   "source": [
    "s=input('Enter a string:')\n",
    "list(s)"
   ]
  },
  {
   "cell_type": "markdown",
   "metadata": {},
   "source": [
    "#### 17. What is the return type of:"
   ]
  },
  {
   "cell_type": "code",
   "execution_count": 57,
   "metadata": {},
   "outputs": [
    {
     "name": "stdout",
     "output_type": "stream",
     "text": [
      "<class 'list'>\n",
      "<class 'NoneType'>\n",
      "<class 'str'>\n",
      "<class 'bool'>\n"
     ]
    }
   ],
   "source": [
    "print(type( '1 2'.split() ))   \n",
    "#Answer-   list\n",
    "print(type( [1, 3, 2].sort() )) \n",
    "#Answer-   list\n",
    "print(type( 'abc'.upper() )) \n",
    "#Answer-   string\n",
    "print(type( 1 in [1, 2] )) \n",
    "#Answer-   boolean"
   ]
  },
  {
   "cell_type": "markdown",
   "metadata": {},
   "source": [
    "####  Test Case for 'print(type( [1, 3, 2].sort() ))'' #####"
   ]
  },
  {
   "cell_type": "code",
   "execution_count": 61,
   "metadata": {},
   "outputs": [
    {
     "data": {
      "text/plain": [
       "[1, 2, 5, 10, 45]"
      ]
     },
     "execution_count": 61,
     "metadata": {},
     "output_type": "execute_result"
    }
   ],
   "source": [
    "b=[1,10,5,45,2]\n",
    "b.sort()\n",
    "b"
   ]
  },
  {
   "cell_type": "markdown",
   "metadata": {},
   "source": [
    "# END"
   ]
  }
 ],
 "metadata": {
  "kernelspec": {
   "display_name": "Python 3",
   "language": "python",
   "name": "python3"
  },
  "language_info": {
   "codemirror_mode": {
    "name": "ipython",
    "version": 3
   },
   "file_extension": ".py",
   "mimetype": "text/x-python",
   "name": "python",
   "nbconvert_exporter": "python",
   "pygments_lexer": "ipython3",
   "version": "3.7.6"
  }
 },
 "nbformat": 4,
 "nbformat_minor": 4
}
