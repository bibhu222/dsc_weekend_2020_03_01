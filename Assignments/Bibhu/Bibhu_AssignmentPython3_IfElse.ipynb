{
 "cells": [
  {
   "cell_type": "markdown",
   "metadata": {},
   "source": [
    "#### 1. WAP to input 2 numbers and check whether the first is divisible by the second and print true or false depending on the divisibility."
   ]
  },
  {
   "cell_type": "code",
   "execution_count": 4,
   "metadata": {},
   "outputs": [
    {
     "name": "stdout",
     "output_type": "stream",
     "text": [
      "Enter 1st number:10\n",
      "Enter 2nd number:5\n",
      "The first number is divisible by the second number: True\n"
     ]
    }
   ],
   "source": [
    "n1=int(input('Enter 1st number:'))\n",
    "n2=int(input('Enter 2nd number:'))\n",
    "print('The first number is divisible by the second number:',end = ' ')\n",
    "if n1%n2==0:\n",
    "    print(True)\n",
    "else:\n",
    "    print(False)"
   ]
  },
  {
   "cell_type": "markdown",
   "metadata": {},
   "source": [
    "#### 2. In the palindrome example, make the code case insensitive.\n",
    "#### i.e. Naman should also be treated as a palindrome (HINT: first convert to either upper or lower case)."
   ]
  },
  {
   "cell_type": "code",
   "execution_count": 7,
   "metadata": {},
   "outputs": [
    {
     "name": "stdout",
     "output_type": "stream",
     "text": [
      "Enter a string:Naman\n",
      "String is palindrome\n"
     ]
    }
   ],
   "source": [
    "s=input('Enter a string:')\n",
    "s=s.lower()\n",
    "rev=s[::-1]\n",
    "if rev==s:\n",
    "    print('String is palindrome')\n",
    "else:\n",
    "    print('String is not palindrome')"
   ]
  },
  {
   "cell_type": "markdown",
   "metadata": {},
   "source": [
    "#### 3. WAP to input the sides of a triangle and print whether equilateral(all sides equal), isosceles (2sides equal), or scalene (no sides equal)."
   ]
  },
  {
   "cell_type": "code",
   "execution_count": 12,
   "metadata": {},
   "outputs": [
    {
     "name": "stdout",
     "output_type": "stream",
     "text": [
      "Enter 1st side of a triangle:5\n",
      "Enter 2nd side of a triangle:6\n",
      "Enter 3rd side of a triangle:5\n",
      "It is an isosceles triangle\n"
     ]
    }
   ],
   "source": [
    "s1=int(input('Enter 1st side of a triangle:'))\n",
    "s2=int(input('Enter 2nd side of a triangle:'))\n",
    "s3=int(input('Enter 3rd side of a triangle:'))\n",
    "if s1==s2==s3:\n",
    "    print('It is an equilateral triangle')\n",
    "elif (s1==s2) or (s2==s3) or (s3==s1):\n",
    "    print('It is an isosceles triangle')\n",
    "else:\n",
    "    print('It is a scalene triangle')"
   ]
  },
  {
   "cell_type": "markdown",
   "metadata": {},
   "source": [
    "#### 4. WAP to input a number and print if it is even or odd."
   ]
  },
  {
   "cell_type": "code",
   "execution_count": 13,
   "metadata": {},
   "outputs": [
    {
     "name": "stdout",
     "output_type": "stream",
     "text": [
      "Enter a number:5\n",
      "The number is odd.\n"
     ]
    }
   ],
   "source": [
    "n1=int(input('Enter a number:'))\n",
    "if n1%2==0:\n",
    "    print('The number is even.')\n",
    "else:\n",
    "    print('The number is odd.')"
   ]
  },
  {
   "cell_type": "markdown",
   "metadata": {},
   "source": [
    "#### 5. WAP to input age and print the respective text depending on the age ranges as present in the table.\n",
    "        Age      Text to be displayed\n",
    "        0-12       Child\n",
    "        13-17      Teen\n",
    "        18-50      Adult\n",
    "        51-100     Senior Citizen\n",
    "        age > 100  Contratulations"
   ]
  },
  {
   "cell_type": "code",
   "execution_count": 26,
   "metadata": {},
   "outputs": [
    {
     "name": "stdout",
     "output_type": "stream",
     "text": [
      "Enter the age of a person:0\n",
      "Invalid Age\n"
     ]
    }
   ],
   "source": [
    "age=int(input('Enter the age of a person:'))\n",
    "if age<=0:\n",
    "    print('Invalid Age')\n",
    "elif age<=12:\n",
    "    print('Child')\n",
    "elif (age>12) & (age<=17):\n",
    "    print('Teen')\n",
    "elif (age>17) & (age<=50):\n",
    "    print('Adult')\n",
    "elif (age>50) & (age<=100):\n",
    "    print('Senior Citizen')\n",
    "else:\n",
    "    print('Contratulations')\n"
   ]
  },
  {
   "cell_type": "markdown",
   "metadata": {},
   "source": [
    "#### 6.WAP to input year (check if user enters valid year. Should be 4-digit number and should not be negative) and print whether leap year or not. (If really interested in why you also have to check the divisibility by 400 just google the exact time it takes for the earth to revolve around the sun)"
   ]
  },
  {
   "cell_type": "code",
   "execution_count": 4,
   "metadata": {},
   "outputs": [
    {
     "name": "stdout",
     "output_type": "stream",
     "text": [
      "Enter a Year:1700\n",
      "1700 is not a leap year\n"
     ]
    }
   ],
   "source": [
    "year=int(input('Enter a Year:'))\n",
    "if (year<1000) | (year>9999) | (year<=0):\n",
    "    print('Invalid Year:')\n",
    "    year=int(input('Enter a Year:'))\n",
    "else:\n",
    "    if (year % 4) == 0:\n",
    "        if (year % 100) == 0:\n",
    "            if (year % 400) == 0:\n",
    "                print(\"{0} is a leap year\".format(year))\n",
    "            else:\n",
    "                print(\"{0} is not a leap year\".format(year))\n",
    "        else:\n",
    "            print(\"{0} is a leap year\".format(year))\n",
    "    else:\n",
    "       print(\"{0} is not a leap year\".format(year))\n",
    "    "
   ]
  },
  {
   "cell_type": "markdown",
   "metadata": {},
   "source": [
    "#### 7. WAP to input a string and convert it to Upper Case if number of characters is odd and convert to lower case otherwise."
   ]
  },
  {
   "cell_type": "code",
   "execution_count": 6,
   "metadata": {},
   "outputs": [
    {
     "name": "stdout",
     "output_type": "stream",
     "text": [
      "Enter a string:Bibh\n",
      "bibh\n"
     ]
    }
   ],
   "source": [
    "s=input('Enter a string:')\n",
    "l=len(s)\n",
    "if l%2!=0:\n",
    "    s=s.upper()\n",
    "    print(s)\n",
    "else:\n",
    "    s=s.lower()\n",
    "    print(s)"
   ]
  },
  {
   "cell_type": "markdown",
   "metadata": {},
   "source": [
    "#### 8. WAP to input a string and print Veg if the string doesn’t contain the word egg. Otherwise print Non-Veg. As usual eggs can be both big and small."
   ]
  },
  {
   "cell_type": "code",
   "execution_count": 3,
   "metadata": {},
   "outputs": [
    {
     "name": "stdout",
     "output_type": "stream",
     "text": [
      "Enter a string:EggLess Cake\n",
      "Non Veg\n"
     ]
    }
   ],
   "source": [
    "s=input('Enter a string:')\n",
    "s=s.lower()\n",
    "flag=s.find('egg')\n",
    "\n",
    "if flag<0:\n",
    "    print('Veg')\n",
    "else:\n",
    "    print('Non Veg')"
   ]
  },
  {
   "cell_type": "markdown",
   "metadata": {},
   "source": [
    "#### 9. Give output of:"
   ]
  },
  {
   "cell_type": "code",
   "execution_count": 4,
   "metadata": {},
   "outputs": [
    {
     "name": "stdout",
     "output_type": "stream",
     "text": [
      "True\n"
     ]
    }
   ],
   "source": [
    "if not 1:  \n",
    "    print(\"False\")\n",
    "else:\n",
    "    print(\"True\")\n",
    "\n",
    "#Answer: True          (if takes true by default but 'not 1' gives false)"
   ]
  },
  {
   "cell_type": "code",
   "execution_count": 7,
   "metadata": {},
   "outputs": [
    {
     "name": "stdout",
     "output_type": "stream",
     "text": [
      "True\n"
     ]
    }
   ],
   "source": [
    "if 1:  \n",
    "    print(\"True\")\n",
    "else:\n",
    "    print(\"False\")\n",
    "\n",
    "#Answer: True            (if takes true by default and '1'-> true)"
   ]
  },
  {
   "cell_type": "code",
   "execution_count": 8,
   "metadata": {},
   "outputs": [
    {
     "name": "stdout",
     "output_type": "stream",
     "text": [
      "Weird!!\n"
     ]
    }
   ],
   "source": [
    "if 'a'>'A':\n",
    "    print(\"Weird!!\")\n",
    "else:\n",
    "    print(\"Makes sense\")\n",
    "    \n",
    "#Answer: Weird!!          (ord('a')=97 ,ord('A')=65)"
   ]
  },
  {
   "cell_type": "code",
   "execution_count": 9,
   "metadata": {},
   "outputs": [
    {
     "name": "stdout",
     "output_type": "stream",
     "text": [
      "[4, 3, 2, 1]\n"
     ]
    }
   ],
   "source": [
    "a=[1,2,3,4]\n",
    "if 1>1: \n",
    "    a=a[::-1]\n",
    "else:\n",
    "    a=a[-1::-1]\n",
    "print(a)\n",
    "\n",
    "#Answer: [4,3,2,1] "
   ]
  },
  {
   "cell_type": "markdown",
   "metadata": {},
   "source": [
    "#### 10. WAP to input marks in 5 subjects and print the grade as per following logic:\n",
    "            % between 90-100 Grade-A\n",
    "            % between 80 - 89 Grade-B\n",
    "            % between 60 - 79 Grade-C\n",
    "            % < 60 Grade-F"
   ]
  },
  {
   "cell_type": "code",
   "execution_count": 26,
   "metadata": {},
   "outputs": [
    {
     "name": "stdout",
     "output_type": "stream",
     "text": [
      "Enter the mark(0 to 100) in Subject1:-789\n",
      "\n",
      "\tInvalid mark entered for subject1\n",
      "Enter valid mark(0 to 100) for Subject1:78\n",
      "Enter the mark(0 to 100) in Subject2:45\n",
      "Enter the mark(0 to 100) in Subject3:99\n",
      "Enter the mark(0 to 100) in Subject4:100\n",
      "Enter the mark(0 to 100) in Subject5:63\n",
      "Grade-C in subject1\n",
      "Grade-F in subject2\n",
      "Grade-A in subject3\n",
      "Grade-A in subject4\n",
      "Grade-C in subject5\n",
      "Total marks obtained 385.0 out of 500\n",
      "Grade-C\n"
     ]
    }
   ],
   "source": [
    "m=[]\n",
    "sum_=0\n",
    "flag=False\n",
    "for each in range(1,6):\n",
    "    b=(float(input('Enter the mark(0 to 100) in Subject{}:'.format(each))))\n",
    "    if (b>100) | (b<0):\n",
    "        print('\\n\\tInvalid mark entered for subject{}'.format(each))\n",
    "        b=(float(input('Enter valid mark(0 to 100) for Subject{}:'.format(each))))\n",
    "        if (b>100) | (b<0):\n",
    "            flag=True\n",
    "            break\n",
    "    \n",
    "    m.append(b)\n",
    "i=1\n",
    "if flag==False:\n",
    "    for each in m:\n",
    "        if (each>=90) & (each<=100):\n",
    "            print('Grade-A in subject{}'.format(i))\n",
    "        if (each>=80) & (each<=89):\n",
    "            print('Grade-B in subject{}'.format(i))\n",
    "        if (each>=60) & (each<=79):\n",
    "            print('Grade-C in subject{}'.format(i))\n",
    "        if (each<60):\n",
    "            print('Grade-F in subject{}'.format(i))\n",
    "        i+=1\n",
    "    sum_=sum(m)\n",
    "    percent=(sum_/500)*100\n",
    "    print('Total marks obtained {} out of 500'.format(sum_))\n",
    "    if (percent>=90) & (percent<=100):\n",
    "        print('Grade-A')\n",
    "    if (percent>=80) & (percent<=89):\n",
    "        print('Grade-B')\n",
    "    if (percent>=60) & (percent<=79):\n",
    "        print('Grade-C')\n",
    "    if (percent<60):\n",
    "        print('Grade-F')"
   ]
  },
  {
   "cell_type": "markdown",
   "metadata": {},
   "source": [
    "#### 11. WAP to input age and salary and calculate Tax as per tax rates if following table:\n",
    "        Salary Range         Age < 60         Age >= 60\n",
    "        0-2,50,000              0                 0\n",
    "        2,50,001-5,00,000       5%                3%\n",
    "        5,00,001-10,00,000      10%               8%\n",
    "        Salary>10,00,001        15%               12%"
   ]
  },
  {
   "cell_type": "code",
   "execution_count": 29,
   "metadata": {},
   "outputs": [
    {
     "name": "stdout",
     "output_type": "stream",
     "text": [
      "Enter age: 78\n",
      "Enter salary: 2500000\n",
      "tax =  300000.0\n"
     ]
    }
   ],
   "source": [
    "age=int(input(\"Enter age: \"))\n",
    "if age<=0:\n",
    "    print('Invalid Age !')\n",
    "    age=int(input(\"Enter valid age: \"))\n",
    "    \n",
    "sal=int(input(\"Enter salary: \"))\n",
    "if age < 60 :\n",
    "    if sal<250000:\n",
    "        tax=0\n",
    "        print(\"zero tax\")\n",
    "    elif sal>250000 and sal<=500000:\n",
    "        tax=0.05*sal\n",
    "        print(\"tax= \", tax)\n",
    "    elif sal>500000 and sal<=1000000:\n",
    "        tax=0.10*sal\n",
    "        print(\"tax = \",tax)\n",
    "    elif sal>1000001:\n",
    "        tax=0.15*sal\n",
    "        print(\"tax = \",tax)\n",
    "elif age >= 60 :\n",
    "    if sal<250000:\n",
    "        tax=0\n",
    "        print(\"zero tax\")\n",
    "    elif sal>250000 and sal<=500000:\n",
    "        tax=0.03*sal\n",
    "        print(\"tax= \", tax)\n",
    "    elif sal>500000 and sal<=1000000:\n",
    "        tax=0.08*sal\n",
    "        print(\"tax = \",tax)\n",
    "    elif sal>1000001:\n",
    "        tax=0.12*sal\n",
    "        print(\"tax = \",tax)"
   ]
  },
  {
   "cell_type": "markdown",
   "metadata": {},
   "source": [
    "#### 12. Try each of the below statements separately (remember difference between statement and expression) on the python interpreter and guess the output before trying:"
   ]
  },
  {
   "cell_type": "code",
   "execution_count": 31,
   "metadata": {},
   "outputs": [
    {
     "name": "stdout",
     "output_type": "stream",
     "text": [
      "10\n"
     ]
    }
   ],
   "source": [
    "print(20 if not 1==1 else 10)\n",
    "\n",
    "#Answer: 10"
   ]
  },
  {
   "cell_type": "code",
   "execution_count": 32,
   "metadata": {},
   "outputs": [
    {
     "name": "stdout",
     "output_type": "stream",
     "text": [
      "10\n"
     ]
    }
   ],
   "source": [
    "print(30 if not 1==1 else 20 if 'a'<'A' else 10 )\n",
    "\n",
    "#Answer: 10"
   ]
  },
  {
   "cell_type": "code",
   "execution_count": 33,
   "metadata": {},
   "outputs": [
    {
     "name": "stdout",
     "output_type": "stream",
     "text": [
      "10\n"
     ]
    }
   ],
   "source": [
    "print(40 if not 1==1 else 30 if 'a'<'A' else 20 if '' else 10)\n",
    "\n",
    "#Answer: 10"
   ]
  },
  {
   "cell_type": "code",
   "execution_count": 34,
   "metadata": {},
   "outputs": [
    {
     "name": "stdout",
     "output_type": "stream",
     "text": [
      "OMG\n"
     ]
    }
   ],
   "source": [
    "print('No' if not 1==1 else ('No' if 'a'<'A' else ('OMG' if 'oh!!' else 'No')))\n",
    "\n",
    "#Answer: OMG"
   ]
  },
  {
   "cell_type": "markdown",
   "metadata": {},
   "source": [
    "#### 13.WAF: bmi() that takes the weight in kg and height in cm of a person, calculates and returns the BMI.\n",
    "    Write code that calls this function after taking height and weight as inputs and then prints\n",
    "    underweight, normal, overweight or obese depending on the value of BMI."
   ]
  },
  {
   "cell_type": "code",
   "execution_count": 47,
   "metadata": {},
   "outputs": [
    {
     "name": "stdout",
     "output_type": "stream",
     "text": [
      "Enter height in cm: 172\n",
      "Enter weight in kg: 65\n",
      "Normal,BMI= 21.971335857220122\n"
     ]
    }
   ],
   "source": [
    "def bmi(height,weight):\n",
    "    bmi = (weight/(height**2))\n",
    "    if bmi<=18.5:\n",
    "        print(\"Underweight,BMI=\",bmi)\n",
    "    elif bmi>18.5 and bmi<=25:\n",
    "        print(\"Normal,BMI=\",bmi)\n",
    "    elif bmi>25 and bmi<=30:\n",
    "        print(\"overweight,BMI=\",bmi)\n",
    "    elif bmi>30:\n",
    "        print(\"Obese,BMI=\",bmi)\n",
    "        \n",
    "height = float(input(\"Enter height in cm: \"))\n",
    "height=height/100\n",
    "weight =int(input(\"Enter weight in kg: \"))\n",
    "if (height<=0) | (weight<=0):\n",
    "    print('Invalid Input')\n",
    "else:\n",
    "    bmi(height,weight)"
   ]
  },
  {
   "cell_type": "markdown",
   "metadata": {},
   "source": [
    "#### 14. Take input of age of 3 people by user and determine oldest and youngest among them."
   ]
  },
  {
   "cell_type": "code",
   "execution_count": 48,
   "metadata": {},
   "outputs": [
    {
     "name": "stdout",
     "output_type": "stream",
     "text": [
      "Enter age of 1st person:45\n",
      "Enter age of 2nd person:89\n",
      "Enter age of 3rd person:75\n",
      "2nd person is the oldest,age: 89\n",
      "1st person is the youngest,age: 45\n"
     ]
    }
   ],
   "source": [
    "age1 = int(input(\"Enter age of 1st person:\"))\n",
    "age2 = int(input(\"Enter age of 2nd person:\"))\n",
    "age3 = int(input(\"Enter age of 3rd person:\"))\n",
    "if (age1>age2) & (age1>age3):\n",
    "    print('1st person is the oldest,age:',age1)\n",
    "elif (age2>age1) & (age2>age3):\n",
    "    print('2nd person is the oldest,age:',age2)\n",
    "else:\n",
    "    print('3rd person is the oldest,age:',age3)\n",
    "\n",
    "if (age1<age2) & (age1<age3):\n",
    "    print('1st person is the youngest,age:',age1)\n",
    "elif (age2<age1) & (age2<age3):\n",
    "    print('2nd person is the youngest,age:',age2)\n",
    "else:\n",
    "    print('3rd person is the youngest,age:',age3)\n"
   ]
  },
  {
   "cell_type": "markdown",
   "metadata": {},
   "source": [
    "#### 15. WAP to input a number and check if number is divisible by both 5 and 7."
   ]
  },
  {
   "cell_type": "code",
   "execution_count": 49,
   "metadata": {},
   "outputs": [
    {
     "name": "stdout",
     "output_type": "stream",
     "text": [
      "Enter a number:35\n",
      "The number:35 is divisible by both 5 and 7\n"
     ]
    }
   ],
   "source": [
    "n=int(input('Enter a number:'))\n",
    "if (n%5==0) & (n%7==0):\n",
    "    print('The number:{} is divisible by both 5 and 7'.format(n))\n",
    "else:\n",
    "    print('The number:{} is not divisible by both 5 and 7'.format(n))"
   ]
  }
 ],
 "metadata": {
  "kernelspec": {
   "display_name": "Python 3",
   "language": "python",
   "name": "python3"
  },
  "language_info": {
   "codemirror_mode": {
    "name": "ipython",
    "version": 3
   },
   "file_extension": ".py",
   "mimetype": "text/x-python",
   "name": "python",
   "nbconvert_exporter": "python",
   "pygments_lexer": "ipython3",
   "version": "3.7.4"
  }
 },
 "nbformat": 4,
 "nbformat_minor": 2
}
