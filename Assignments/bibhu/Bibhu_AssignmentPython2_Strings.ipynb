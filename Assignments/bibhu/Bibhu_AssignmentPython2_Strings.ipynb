{
 "cells": [
  {
   "cell_type": "markdown",
   "metadata": {},
   "source": [
    "#### 1. Guess output of each slice:\n",
    "s=‘Python is Object Oriented’\n",
    "1. s[-1] 2. s[::-1] 3. s[:-1] 4. s[1:1] 5. s[4:10]"
   ]
  },
  {
   "cell_type": "code",
   "execution_count": 1,
   "metadata": {},
   "outputs": [
    {
     "name": "stdout",
     "output_type": "stream",
     "text": [
      "d\n",
      "detneirO tcejbO si nohtyP\n",
      "Python is Object Oriente\n",
      "\n",
      "on is \n"
     ]
    }
   ],
   "source": [
    "s='Python is Object Oriented'\n",
    "#1\n",
    "print(s[-1])\n",
    "#Answer: d\n",
    "\n",
    "#2\n",
    "print(s[::-1])\n",
    "#Answer: detneirO tcejbO si nohtyP\n",
    "\n",
    "#3\n",
    "print(s[:-1])\n",
    "#Answer: Python is Object Oriente\n",
    "\n",
    "#4\n",
    "print(s[1:1])\n",
    "#Answer: \n",
    "\n",
    "#5\n",
    "print(s[4:10])\n",
    "#Answer: on is "
   ]
  },
  {
   "cell_type": "markdown",
   "metadata": {},
   "source": [
    "#### 2. What error do you see for following statements:\n",
    "    s= ''\n",
    "    print(s[1])"
   ]
  },
  {
   "cell_type": "markdown",
   "metadata": {},
   "source": [
    "#### Answer: string index out of range"
   ]
  },
  {
   "cell_type": "code",
   "execution_count": 2,
   "metadata": {},
   "outputs": [
    {
     "ename": "IndexError",
     "evalue": "string index out of range",
     "output_type": "error",
     "traceback": [
      "\u001b[1;31m---------------------------------------------------------------------------\u001b[0m",
      "\u001b[1;31mIndexError\u001b[0m                                Traceback (most recent call last)",
      "\u001b[1;32m<ipython-input-2-5629eee38b0d>\u001b[0m in \u001b[0;36m<module>\u001b[1;34m\u001b[0m\n\u001b[0;32m      1\u001b[0m \u001b[1;31m#Answer: string index out of range\u001b[0m\u001b[1;33m\u001b[0m\u001b[1;33m\u001b[0m\u001b[1;33m\u001b[0m\u001b[0m\n\u001b[0;32m      2\u001b[0m \u001b[0ms\u001b[0m\u001b[1;33m=\u001b[0m \u001b[1;34m''\u001b[0m\u001b[1;33m\u001b[0m\u001b[1;33m\u001b[0m\u001b[0m\n\u001b[1;32m----> 3\u001b[1;33m \u001b[0mprint\u001b[0m\u001b[1;33m(\u001b[0m\u001b[0ms\u001b[0m\u001b[1;33m[\u001b[0m\u001b[1;36m1\u001b[0m\u001b[1;33m]\u001b[0m\u001b[1;33m)\u001b[0m\u001b[1;33m\u001b[0m\u001b[1;33m\u001b[0m\u001b[0m\n\u001b[0m",
      "\u001b[1;31mIndexError\u001b[0m: string index out of range"
     ]
    }
   ],
   "source": [
    "s= ''\n",
    "print(s[1])"
   ]
  },
  {
   "cell_type": "markdown",
   "metadata": {},
   "source": [
    "#### 3. Do you get any error for the following code, if not give the output:\n",
    "    S='Gaurav'\n",
    "    print(s[1])"
   ]
  },
  {
   "cell_type": "markdown",
   "metadata": {},
   "source": [
    "#### Answer: name s is not defined"
   ]
  },
  {
   "cell_type": "code",
   "execution_count": 1,
   "metadata": {},
   "outputs": [
    {
     "ename": "NameError",
     "evalue": "name 's' is not defined",
     "output_type": "error",
     "traceback": [
      "\u001b[1;31m---------------------------------------------------------------------------\u001b[0m",
      "\u001b[1;31mNameError\u001b[0m                                 Traceback (most recent call last)",
      "\u001b[1;32m<ipython-input-1-545502d6b23c>\u001b[0m in \u001b[0;36m<module>\u001b[1;34m\u001b[0m\n\u001b[0;32m      1\u001b[0m \u001b[0mS\u001b[0m\u001b[1;33m=\u001b[0m\u001b[1;34m'Gaurav'\u001b[0m\u001b[1;33m\u001b[0m\u001b[1;33m\u001b[0m\u001b[0m\n\u001b[1;32m----> 2\u001b[1;33m \u001b[0mprint\u001b[0m\u001b[1;33m(\u001b[0m\u001b[0ms\u001b[0m\u001b[1;33m[\u001b[0m\u001b[1;36m1\u001b[0m\u001b[1;33m]\u001b[0m\u001b[1;33m)\u001b[0m\u001b[1;33m\u001b[0m\u001b[1;33m\u001b[0m\u001b[0m\n\u001b[0m",
      "\u001b[1;31mNameError\u001b[0m: name 's' is not defined"
     ]
    }
   ],
   "source": [
    "S='Gaurav'\n",
    "print(s[1])"
   ]
  },
  {
   "cell_type": "markdown",
   "metadata": {},
   "source": [
    "#### 4. Find output of the following:\n",
    "    a) s=‘a b cd’\n",
    "    print(len(s))\n",
    "    print(s[::2])\n",
    "    print(len(s[::2]))"
   ]
  },
  {
   "cell_type": "markdown",
   "metadata": {},
   "source": [
    "#### Answer: \n",
    "            6\n",
    "            abc\n",
    "            3"
   ]
  },
  {
   "cell_type": "code",
   "execution_count": 3,
   "metadata": {},
   "outputs": [
    {
     "name": "stdout",
     "output_type": "stream",
     "text": [
      "6\n",
      "abc\n",
      "3\n"
     ]
    }
   ],
   "source": [
    "s='a b cd'\n",
    "print(len(s))\n",
    "print(s[::2])\n",
    "print(len(s[::2]))"
   ]
  },
  {
   "cell_type": "markdown",
   "metadata": {},
   "source": [
    "    b) s=‘a#b#c#d#’\n",
    "    print(s.split())\n",
    "    print(s.split(‘#’))\n",
    "    l=s.split(‘#’)\n",
    "    s=‘$’.join(l)\n",
    "    print(s)"
   ]
  },
  {
   "cell_type": "markdown",
   "metadata": {},
   "source": [
    "#### Answer:\n",
    "            'a#b#c#d#'\n",
    "            'a','b','c','d'\n",
    "            'a$b$c$d$'"
   ]
  },
  {
   "cell_type": "code",
   "execution_count": 12,
   "metadata": {},
   "outputs": [
    {
     "name": "stdout",
     "output_type": "stream",
     "text": [
      "['a#b#c#d#']\n",
      "['a', 'b', 'c', 'd', '']\n",
      "a$b$c$d$\n"
     ]
    },
    {
     "data": {
      "text/plain": [
       "'$$'"
      ]
     },
     "execution_count": 12,
     "metadata": {},
     "output_type": "execute_result"
    }
   ],
   "source": [
    "s='a#b#c#d#'\n",
    "print(s.split())\n",
    "print(s.split('#'))\n",
    "l=s.split('#')\n",
    "s='$'.join(l)\n",
    "print(s)"
   ]
  },
  {
   "cell_type": "markdown",
   "metadata": {},
   "source": [
    "    c) S=‘Gaurav’\n",
    "    S=S[::-2][::-2]\n",
    "    print(S)"
   ]
  },
  {
   "cell_type": "markdown",
   "metadata": {},
   "source": [
    "#### Answer: av\n",
    "            "
   ]
  },
  {
   "cell_type": "code",
   "execution_count": 15,
   "metadata": {},
   "outputs": [
    {
     "name": "stdout",
     "output_type": "stream",
     "text": [
      "av\n"
     ]
    }
   ],
   "source": [
    "S='Gaurav'\n",
    "S=S[::-2][::-2]\n",
    "print(S)"
   ]
  },
  {
   "cell_type": "markdown",
   "metadata": {},
   "source": [
    "d) print(1>2)"
   ]
  },
  {
   "cell_type": "markdown",
   "metadata": {},
   "source": [
    "#### Answer: \n",
    "           False"
   ]
  },
  {
   "cell_type": "code",
   "execution_count": 16,
   "metadata": {},
   "outputs": [
    {
     "name": "stdout",
     "output_type": "stream",
     "text": [
      "False\n"
     ]
    }
   ],
   "source": [
    "print(1>2)"
   ]
  },
  {
   "cell_type": "markdown",
   "metadata": {},
   "source": [
    "e) print(4%2, 5%2, 2%5, sep=‘, ’)"
   ]
  },
  {
   "cell_type": "markdown",
   "metadata": {},
   "source": [
    "#### Answer:\n",
    "            0,1,2\n",
    "            "
   ]
  },
  {
   "cell_type": "code",
   "execution_count": 18,
   "metadata": {},
   "outputs": [
    {
     "name": "stdout",
     "output_type": "stream",
     "text": [
      "0,1,2\n"
     ]
    }
   ],
   "source": [
    "print(4%2, 5%2, 2%5, sep=',')"
   ]
  },
  {
   "cell_type": "markdown",
   "metadata": {},
   "source": [
    "    f) s=‘abcba’\n",
    "    s.upper()\n",
    "    print(s)\n",
    "    print(s.count(‘A’), end = ‘ ,’)\n",
    "    print(s.count(‘A’, 2,4) , end = ‘ ,’)\n",
    "    print(s.count(‘a’, 2,4) , end = ‘ ,’)"
   ]
  },
  {
   "cell_type": "markdown",
   "metadata": {},
   "source": [
    "#### Answer:\n",
    "            abcba\n",
    "            0,0,0,"
   ]
  },
  {
   "cell_type": "code",
   "execution_count": 20,
   "metadata": {},
   "outputs": [
    {
     "name": "stdout",
     "output_type": "stream",
     "text": [
      "abcba\n",
      "0,0,0,"
     ]
    }
   ],
   "source": [
    "s='abcba'\n",
    "s.upper()\n",
    "print(s)\n",
    "print(s.count('A'), end = ',')\n",
    "print(s.count('A', 2,4) , end = ',')\n",
    "print(s.count('a', 2,4) , end = ',')"
   ]
  },
  {
   "cell_type": "markdown",
   "metadata": {},
   "source": [
    "#### 5. WAP to input a string and remove all spaces from it."
   ]
  },
  {
   "cell_type": "code",
   "execution_count": 26,
   "metadata": {},
   "outputs": [
    {
     "name": "stdout",
     "output_type": "stream",
     "text": [
      "enter a string:bibhu prasad\n",
      "The string without white space is:  bibhuprasad\n"
     ]
    }
   ],
   "source": [
    "s=input('enter a string:')\n",
    "s=s.split()\n",
    "s=''.join(s)\n",
    "print('The string without white space is: ',s)\n",
    "#or\n",
    "# ss=''\n",
    "# for each in s:\n",
    "#     ss+=each\n",
    "#print('The string without white space is: ',ss)"
   ]
  },
  {
   "cell_type": "markdown",
   "metadata": {},
   "source": [
    "#### 6. What does this symbol denote:[]"
   ]
  },
  {
   "cell_type": "markdown",
   "metadata": {},
   "source": [
    "#### Answer: list"
   ]
  },
  {
   "cell_type": "code",
   "execution_count": 28,
   "metadata": {},
   "outputs": [
    {
     "data": {
      "text/plain": [
       "list"
      ]
     },
     "execution_count": 28,
     "metadata": {},
     "output_type": "execute_result"
    }
   ],
   "source": [
    "a=[]\n",
    "type(a)"
   ]
  },
  {
   "cell_type": "markdown",
   "metadata": {},
   "source": [
    "#### 7. WAP to print all methods(functions/operations) available in a string (Hint : dir())"
   ]
  },
  {
   "cell_type": "code",
   "execution_count": 30,
   "metadata": {},
   "outputs": [
    {
     "name": "stdout",
     "output_type": "stream",
     "text": [
      "['__add__', '__class__', '__contains__', '__delattr__', '__dir__', '__doc__', '__eq__', '__format__', '__ge__', '__getattribute__', '__getitem__', '__getnewargs__', '__gt__', '__hash__', '__init__', '__init_subclass__', '__iter__', '__le__', '__len__', '__lt__', '__mod__', '__mul__', '__ne__', '__new__', '__reduce__', '__reduce_ex__', '__repr__', '__rmod__', '__rmul__', '__setattr__', '__sizeof__', '__str__', '__subclasshook__', 'capitalize', 'casefold', 'center', 'count', 'encode', 'endswith', 'expandtabs', 'find', 'format', 'format_map', 'index', 'isalnum', 'isalpha', 'isascii', 'isdecimal', 'isdigit', 'isidentifier', 'islower', 'isnumeric', 'isprintable', 'isspace', 'istitle', 'isupper', 'join', 'ljust', 'lower', 'lstrip', 'maketrans', 'partition', 'replace', 'rfind', 'rindex', 'rjust', 'rpartition', 'rsplit', 'rstrip', 'split', 'splitlines', 'startswith', 'strip', 'swapcase', 'title', 'translate', 'upper', 'zfill']\n"
     ]
    }
   ],
   "source": [
    "print(dir(str))"
   ]
  },
  {
   "cell_type": "markdown",
   "metadata": {},
   "source": [
    "#### 8. Write statement to check if rstrip method is available in the str class.\n",
    "(Hint : Use the find function or in)"
   ]
  },
  {
   "cell_type": "code",
   "execution_count": 33,
   "metadata": {},
   "outputs": [
    {
     "data": {
      "text/plain": [
       "True"
      ]
     },
     "execution_count": 33,
     "metadata": {},
     "output_type": "execute_result"
    }
   ],
   "source": [
    "'rstrip' in dir(str)"
   ]
  },
  {
   "attachments": {},
   "cell_type": "markdown",
   "metadata": {},
   "source": [
    "#### 9. WAP to store the following patterns in a string variable and then print them:\n",
    "     (a) *****\n",
    "           *\n",
    "           *\n",
    "           *\n",
    "           *\n",
    "     \n",
    "    (b) *       *\n",
    "        * *   * *\n",
    "        *   *   *\n",
    "        *       *\n",
    "\n",
    "    (c) print-hangman"
   ]
  },
  {
   "cell_type": "markdown",
   "metadata": {},
   "source": [
    "#### (a) store a pattern 'T' of any length ,without using loop:\n",
    "    *****\n",
    "      *\n",
    "      *\n",
    "      *\n",
    "      *"
   ]
  },
  {
   "cell_type": "code",
   "execution_count": 117,
   "metadata": {},
   "outputs": [
    {
     "name": "stdout",
     "output_type": "stream",
     "text": [
      "enter an odd integer number>1:5\n",
      "*****\n",
      "  *\n",
      "  *\n",
      "  *\n",
      "  *\n",
      "\n"
     ]
    }
   ],
   "source": [
    "n=int(input('enter an odd integer number>1:'))\n",
    "if n%2==0:\n",
    "    n=n-1\n",
    "n2=n//2\n",
    "# print('*'*n)\n",
    "# print(((' '*n2)+'*'+'\\n')*(n-1))\n",
    "s=('*'*n)+'\\n'+((' '*n2)+'*'+'\\n')*(n-1)\n",
    "print(s)"
   ]
  },
  {
   "cell_type": "code",
   "execution_count": 109,
   "metadata": {},
   "outputs": [
    {
     "name": "stdout",
     "output_type": "stream",
     "text": [
      "*****\n",
      "  *  \n",
      "  *  \n",
      "  *  \n",
      "  *  \n",
      "\n"
     ]
    }
   ],
   "source": [
    "#to store the pattern in a string\n",
    "s=''\n",
    "for row in range(0,5):\n",
    "    for col in range(0,5):\n",
    "        if row==0:\n",
    "            s=s+'*'\n",
    "        elif col==2:\n",
    "            s+='*'\n",
    "        else:\n",
    "            s+=' '\n",
    "    s=s+'\\n'\n",
    "print(s)"
   ]
  },
  {
   "cell_type": "markdown",
   "metadata": {},
   "source": [
    "    *       *\n",
    "    * *   * *\n",
    "    *   *   *\n",
    "    *       *   "
   ]
  },
  {
   "cell_type": "code",
   "execution_count": 105,
   "metadata": {},
   "outputs": [
    {
     "name": "stdout",
     "output_type": "stream",
     "text": [
      "*       *\n",
      "* *   * *\n",
      "*   *   *\n",
      "*       *\n",
      "\n"
     ]
    }
   ],
   "source": [
    "s=''\n",
    "for row in range(0,4):\n",
    "    for col in range(0,9):\n",
    "        if (col==0)|(col==8):\n",
    "            s=s+'*'\n",
    "        elif ((col==2)|(col==6)|(col==8))&(row==1):\n",
    "            s+='*'\n",
    "        elif (col==4) & (row==2):\n",
    "            s+='*'\n",
    "        else:\n",
    "            s+=' '\n",
    "    s=s+'\\n'   \n",
    "print(s)"
   ]
  },
  {
   "cell_type": "markdown",
   "metadata": {},
   "source": [
    "#### 10. WAP to input a string and replace all space with new lines (\\n) and print again."
   ]
  },
  {
   "cell_type": "code",
   "execution_count": 96,
   "metadata": {},
   "outputs": [
    {
     "name": "stdout",
     "output_type": "stream",
     "text": [
      "enter a string :bibhu prasad is a student at learnbay\n",
      "After replacing the white spaces with new line: \n",
      " bibhu\n",
      "prasad\n",
      "is\n",
      "a\n",
      "student\n",
      "at\n",
      "learnbay\n"
     ]
    }
   ],
   "source": [
    "s=input(\"enter a string :\")\n",
    "s=s.split()\n",
    "s='\\n'.join(s)\n",
    "print('After replacing the white spaces with new line: \\n',s)"
   ]
  },
  {
   "cell_type": "markdown",
   "metadata": {},
   "source": [
    "#### 11. WAP to input complete name(first and last name separated by space) and print first and last name separately along with their length in upper case."
   ]
  },
  {
   "cell_type": "code",
   "execution_count": 47,
   "metadata": {},
   "outputs": [
    {
     "name": "stdout",
     "output_type": "stream",
     "text": [
      "Enter your first and last name separated by space:BIBHU PRASAD SAHOO\n",
      "Your First Name is:BIBHU of length:5 \n",
      "Last Name is:SAHOO of length:5\n"
     ]
    }
   ],
   "source": [
    "s=input('Enter your first and last name separated by space:')\n",
    "s=s.split()\n",
    "print('Your First Name is:{} of length:{} \\nLast Name is:{} of length:{}'.format(s[0],len(s[0]),s[-1],len(s[-1])))\n",
    "   #we can use (' '.join(s[1:])) ,if last name considered to be all words except first word"
   ]
  },
  {
   "cell_type": "markdown",
   "metadata": {},
   "source": [
    "#### 12. WAP to input a string and split it into 2 halves. The string can be of any length\n",
    "\n",
    "        Ex-1: Input = “String”\n",
    "               S1 = Str\n",
    "               S2 = ing\n",
    "        Ex-2: Input = “words”\n",
    "               S1 = wo\n",
    "               S2 = ds"
   ]
  },
  {
   "cell_type": "code",
   "execution_count": 112,
   "metadata": {},
   "outputs": [
    {
     "name": "stdout",
     "output_type": "stream",
     "text": [
      "enter a string:bibhu\n",
      "1st half of the string is: bi\n",
      "2nd half of the string is: hu\n"
     ]
    }
   ],
   "source": [
    "s=input('enter a string:')\n",
    "l=len(s)//2\n",
    "if (len(s)%2)==0:\n",
    "    print('1st half of the string is:',s[:l])\n",
    "    print('2nd half of the string is:',s[l:])\n",
    "else:\n",
    "    print('1st half of the string is:',s[:l])\n",
    "    print('2nd half of the string is:',s[l+1:])"
   ]
  }
 ],
 "metadata": {
  "kernelspec": {
   "display_name": "Python 3",
   "language": "python",
   "name": "python3"
  },
  "language_info": {
   "codemirror_mode": {
    "name": "ipython",
    "version": 3
   },
   "file_extension": ".py",
   "mimetype": "text/x-python",
   "name": "python",
   "nbconvert_exporter": "python",
   "pygments_lexer": "ipython3",
   "version": "3.7.4"
  }
 },
 "nbformat": 4,
 "nbformat_minor": 2
}
