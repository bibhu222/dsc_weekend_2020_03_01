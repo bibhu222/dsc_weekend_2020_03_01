{
 "cells": [
  {
   "cell_type": "code",
   "execution_count": 2,
   "metadata": {},
   "outputs": [],
   "source": [
    "#Q1\n",
    "#1 d\n",
    "#2 detneiro tcejbo si nohtyP\n",
    "#3 Python is object oriente\n",
    "#4 \n",
    "#5 on is "
   ]
  },
  {
   "cell_type": "code",
   "execution_count": 3,
   "metadata": {},
   "outputs": [],
   "source": [
    "#Q2\n",
    "# IndexError: string index out of range  "
   ]
  },
  {
   "cell_type": "code",
   "execution_count": 4,
   "metadata": {},
   "outputs": [],
   "source": [
    "#Q3\n",
    "# IndexError: string index out of range      # it should be error like s not defined?"
   ]
  },
  {
   "cell_type": "code",
   "execution_count": 12,
   "metadata": {},
   "outputs": [],
   "source": [
    "#Q4 a\n",
    "#6\n",
    "#abc\n",
    "#3\n",
    "\n",
    "#Q4 b\n",
    "# ['a#b#c#d#']\n",
    "# ['a', 'b', 'c', 'd', '']\n",
    "# a$b$c$d$\n",
    "\n",
    "#Q4 c\n",
    "# av\n",
    "\n",
    "#Q4 d\n",
    "# False\n",
    "\n",
    "#Q4 e\n",
    "1,2,3\n",
    "\n",
    "#Q4 f\n",
    "#abcba\n",
    "#0,0,0, "
   ]
  },
  {
   "cell_type": "code",
   "execution_count": 14,
   "metadata": {},
   "outputs": [
    {
     "name": "stdin",
     "output_type": "stream",
     "text": [
      "Enter ab cd  efg\n"
     ]
    },
    {
     "name": "stdout",
     "output_type": "stream",
     "text": [
      "['ab', 'cd', 'efg']\n"
     ]
    }
   ],
   "source": [
    "#Q5\n",
    "s=input(\"Enter\")\n",
    "print(s.split())\n",
    "#print(s.split(\" \"))"
   ]
  },
  {
   "cell_type": "code",
   "execution_count": null,
   "metadata": {},
   "outputs": [],
   "source": [
    "#Q6\n",
    "#List"
   ]
  },
  {
   "cell_type": "code",
   "execution_count": 18,
   "metadata": {},
   "outputs": [
    {
     "name": "stdout",
     "output_type": "stream",
     "text": [
      "['Formatter', 'Template', '_ChainMap', '_TemplateMetaclass', '__all__', '__builtins__', '__cached__', '__doc__', '__file__', '__loader__', '__name__', '__package__', '__spec__', '_re', '_string', 'ascii_letters', 'ascii_lowercase', 'ascii_uppercase', 'capwords', 'digits', 'hexdigits', 'octdigits', 'printable', 'punctuation', 'whitespace']\n"
     ]
    }
   ],
   "source": [
    "#Q7\n",
    "print(dir(string))"
   ]
  },
  {
   "cell_type": "code",
   "execution_count": 19,
   "metadata": {},
   "outputs": [
    {
     "name": "stdout",
     "output_type": "stream",
     "text": [
      "['__add__', '__class__', '__contains__', '__delattr__', '__dir__', '__doc__', '__eq__', '__format__', '__ge__', '__getattribute__', '__getitem__', '__getnewargs__', '__gt__', '__hash__', '__init__', '__init_subclass__', '__iter__', '__le__', '__len__', '__lt__', '__mod__', '__mul__', '__ne__', '__new__', '__reduce__', '__reduce_ex__', '__repr__', '__rmod__', '__rmul__', '__setattr__', '__sizeof__', '__str__', '__subclasshook__', 'capitalize', 'casefold', 'center', 'count', 'encode', 'endswith', 'expandtabs', 'find', 'format', 'format_map', 'index', 'isalnum', 'isalpha', 'isascii', 'isdecimal', 'isdigit', 'isidentifier', 'islower', 'isnumeric', 'isprintable', 'isspace', 'istitle', 'isupper', 'join', 'ljust', 'lower', 'lstrip', 'maketrans', 'partition', 'replace', 'rfind', 'rindex', 'rjust', 'rpartition', 'rsplit', 'rstrip', 'split', 'splitlines', 'startswith', 'strip', 'swapcase', 'title', 'translate', 'upper', 'zfill']\n",
      "Present\n"
     ]
    }
   ],
   "source": [
    "#Q8\n",
    "l=str(dir(str))\n",
    "print(l)\n",
    "b=l.find('rstrip')\n",
    "if b>-1:\n",
    "    print('Present')     #what is the default value of variable?\n",
    "else:\n",
    "    print('not present')"
   ]
  },
  {
   "cell_type": "code",
   "execution_count": 64,
   "metadata": {},
   "outputs": [
    {
     "name": "stdout",
     "output_type": "stream",
     "text": [
      "*****\n",
      "  *  \n",
      "  *  \n",
      "  *  \n",
      "  *  \n",
      "\n"
     ]
    }
   ],
   "source": [
    "#Q9\n",
    "a='*****\\n'+('  *  \\n')*4\n",
    "print(a)"
   ]
  },
  {
   "cell_type": "code",
   "execution_count": 65,
   "metadata": {},
   "outputs": [
    {
     "name": "stdout",
     "output_type": "stream",
     "text": [
      "*     *\n",
      "* * * *\n",
      "*  *  *\n",
      "*     *\n"
     ]
    }
   ],
   "source": [
    "a='*     *\\n'+'* * * *\\n'+'*  *  *\\n'+'*     *'\n",
    "print(a)"
   ]
  },
  {
   "cell_type": "code",
   "execution_count": 83,
   "metadata": {},
   "outputs": [
    {
     "name": "stdout",
     "output_type": "stream",
     "text": [
      "______\n",
      " |    |\n",
      " o    |\n",
      "/|\\   |\n",
      "/ \\   |\n",
      "______|\n"
     ]
    }
   ],
   "source": [
    "a='______\\n'+' |    |\\n'+' o    |\\n'+'/|\\   |\\n'+'/ \\   |\\n'+'______|'\n",
    "print(a)"
   ]
  },
  {
   "cell_type": "code",
   "execution_count": 98,
   "metadata": {},
   "outputs": [
    {
     "name": "stdin",
     "output_type": "stream",
     "text": [
      "Enter a string:  gh byt gh\n"
     ]
    },
    {
     "name": "stdout",
     "output_type": "stream",
     "text": [
      "['gh', 'byt', 'gh']\n",
      "gh\n",
      "byt\n",
      "gh\n"
     ]
    }
   ],
   "source": [
    "#Q10\n",
    "a=input(\"Enter a string: \")\n",
    "l=a.split()\n",
    "print(l)\n",
    "print('\\n'.join(l))"
   ]
  },
  {
   "cell_type": "code",
   "execution_count": 1,
   "metadata": {},
   "outputs": [
    {
     "name": "stdin",
     "output_type": "stream",
     "text": [
      "Enter first name:  Ankit Neelu\n",
      "Enter last name:  Neelu\n"
     ]
    },
    {
     "name": "stdout",
     "output_type": "stream",
     "text": [
      "ANKIT NEELU 11\n",
      "NEELU 5\n"
     ]
    }
   ],
   "source": [
    "3Q11\n",
    "a=input(\"Enter first name: \")\n",
    "b=input(\"Enter last name: \")\n",
    "#How to seprate name and lastname by space?\n",
    "print(a.upper(),len(a))\n",
    "print(b.upper(),len(b))"
   ]
  },
  {
   "cell_type": "code",
   "execution_count": 7,
   "metadata": {},
   "outputs": [
    {
     "name": "stdin",
     "output_type": "stream",
     "text": [
      "Enter a string:  ankit\n"
     ]
    },
    {
     "name": "stdout",
     "output_type": "stream",
     "text": [
      "2\n",
      "an\n",
      "k\n"
     ]
    }
   ],
   "source": [
    "a=input(\"Enter a string: \")\n",
    "l=int(len(a)/2)\n",
    "print(l)\n",
    "i=0\n",
    "s1=''\n",
    "s2=''\n",
    "while i<l:\n",
    "    s1=s1+a[i]\n",
    "    i=i+1\n",
    "else:\n",
    "    s2=s2+a[i]\n",
    "    i=i+1\n",
    "print(s1)\n",
    "print(s2)"
   ]
  },
  {
   "cell_type": "code",
   "execution_count": null,
   "metadata": {},
   "outputs": [],
   "source": []
  }
 ],
 "metadata": {
  "kernelspec": {
   "display_name": "Python 3",
   "language": "python",
   "name": "python3"
  },
  "language_info": {
   "codemirror_mode": {
    "name": "ipython",
    "version": 3
   },
   "file_extension": ".py",
   "mimetype": "text/x-python",
   "name": "python",
   "nbconvert_exporter": "python",
   "pygments_lexer": "ipython3",
   "version": "3.7.4"
  }
 },
 "nbformat": 4,
 "nbformat_minor": 4
}
