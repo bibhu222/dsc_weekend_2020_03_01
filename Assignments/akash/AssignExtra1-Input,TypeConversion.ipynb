{
 "cells": [
  {
   "cell_type": "code",
   "execution_count": 1,
   "metadata": {},
   "outputs": [
    {
     "name": "stdout",
     "output_type": "stream",
     "text": [
      "enter the temperature in fahrenheit:56\n",
      "temperature in celsius: 13.333333333333332\n"
     ]
    }
   ],
   "source": [
    "# Input temperature in Fahrenheit in print in Celsius. \n",
    "Fah=int(input(\"enter the temperature in fahrenheit:\"))\n",
    "cel=(Fah-32)/1.8\n",
    "print(\"temperature in celsius:\",cel)"
   ]
  },
  {
   "cell_type": "code",
   "execution_count": 2,
   "metadata": {},
   "outputs": [
    {
     "name": "stdout",
     "output_type": "stream",
     "text": [
      "enter a no.:10\n",
      "square of 10 is 100\n",
      "cube of 10 is 1000\n"
     ]
    }
   ],
   "source": [
    "# Write a program to input a number and print its square and cube. \n",
    "num=int(input(\"enter a no.:\"))\n",
    "squ_num=num**2\n",
    "cub_num=num**3\n",
    "print(\"square of {} is {}\".format(num,squ_num));print(\"cube of {} is {}\".format(num,cub_num))"
   ]
  },
  {
   "cell_type": "code",
   "execution_count": 3,
   "metadata": {},
   "outputs": [
    {
     "name": "stdout",
     "output_type": "stream",
     "text": [
      "enter a no.:256\n",
      "square of 256 is 65536\n",
      "cube of 256 is 16777216\n"
     ]
    }
   ],
   "source": [
    "# Write a program to input a number and print its square and cube. \n",
    "num=int(input(\"enter a no.:\"))\n",
    "squ_num=num**2\n",
    "cub_num=num**3\n",
    "print(\"square of {} is {}\".format(num,squ_num));print(\"cube of {} is {}\".format(num,cub_num))"
   ]
  },
  {
   "cell_type": "code",
   "execution_count": 4,
   "metadata": {},
   "outputs": [
    {
     "name": "stdout",
     "output_type": "stream",
     "text": [
      "enter a no.:48\n",
      "enter a no.:67\n",
      "exponent of M and N using **: 43970651873136900459572924707056431379652991511726784821935409221399153260974134475373524968179697239131760361472\n",
      "exponent of M and N using power function:  43970651873136900459572924707056431379652991511726784821935409221399153260974134475373524968179697239131760361472\n"
     ]
    }
   ],
   "source": [
    "#WAP to input a numbers M and N and print result of MN. (use both ** and pow) \n",
    "M=int(input(\"enter a no.:\"))\n",
    "N=int(input(\"enter a no.:\"))\n",
    "L=M**N\n",
    "K=pow(M,N)\n",
    "print(\"exponent of M and N using **:\",L)\n",
    "print(\"exponent of M and N using power function: \",K)"
   ]
  },
  {
   "cell_type": "code",
   "execution_count": 5,
   "metadata": {},
   "outputs": [
    {
     "name": "stdout",
     "output_type": "stream",
     "text": [
      "principal amount:6000\n",
      "rate of interest in decimal:.3\n",
      "time:20\n",
      "simple interest: 36000.0\n"
     ]
    }
   ],
   "source": [
    "# Write a simple interest calculator\n",
    "P=int(input(\"principal amount:\"))\n",
    "r=float(input(\"rate of interest in decimal:\"))\n",
    "T=int(input(\"time:\"))\n",
    "I=P*r*T\n",
    "print(\"simple interest:\",I)"
   ]
  },
  {
   "cell_type": "code",
   "execution_count": 6,
   "metadata": {},
   "outputs": [
    {
     "name": "stdout",
     "output_type": "stream",
     "text": [
      "principal amount:5203\n",
      "rate of interest in decimal:.32\n",
      "time:10\n",
      "no. of compound paid in year:2\n",
      "compound interest: 101254.33143470282\n"
     ]
    }
   ],
   "source": [
    "#Input Principal, Rate, Time and print Compound Interest and Amount. \n",
    "P=int(input(\"principal amount:\"))\n",
    "r=float(input(\"rate of interest in decimal:\"))\n",
    "T=int(input(\"time:\"))\n",
    "n=int(input(\"no. of compound paid in year:\"))\n",
    "m=n*T\n",
    "k=(1+(r/n))\n",
    "CI=P*(1+(r/n))**m\n",
    "print(\"compound interest:\",CI)"
   ]
  },
  {
   "cell_type": "code",
   "execution_count": 7,
   "metadata": {},
   "outputs": [
    {
     "name": "stdout",
     "output_type": "stream",
     "text": [
      "enter the no:656\n",
      "215496\n"
     ]
    }
   ],
   "source": [
    "#WAP to print sum of first n natural numbers. (n needs to be taken as input). \n",
    "n = int(input(\"enter the no:\"))\n",
    "m = 0\n",
    "for i in range(1,n+1):\n",
    "    m = m + i\n",
    "print(m)"
   ]
  },
  {
   "cell_type": "code",
   "execution_count": 8,
   "metadata": {},
   "outputs": [
    {
     "name": "stdout",
     "output_type": "stream",
     "text": [
      "enter a = 556\n",
      "enter b = 598\n",
      "a, b using temp vble  598 556\n",
      "a, b using pythonic way 556 598\n"
     ]
    }
   ],
   "source": [
    "\n",
    "#WAP to input 2 numbers and swap them. (write using both normal logic with temp variable and also the pythonic way). \n",
    "a = int(input(\"enter a = \"))\n",
    "b = int(input(\"enter b = \"))\n",
    "temp = b\n",
    "b = a\n",
    "a = temp\n",
    "print(\"a, b using temp vble \",a, b)\n",
    "\n",
    "a, b = b, a      #### using pythonic way\n",
    "print(\"a, b using pythonic way\", a, b)"
   ]
  },
  {
   "cell_type": "code",
   "execution_count": 9,
   "metadata": {},
   "outputs": [
    {
     "name": "stdout",
     "output_type": "stream",
     "text": [
      "10\n",
      "9\n"
     ]
    }
   ],
   "source": [
    "# WAP to print ascii value of all white-space characters present in python\n",
    "print(ord('\\n'))\n",
    "print(ord('\\t'))"
   ]
  },
  {
   "cell_type": "code",
   "execution_count": 10,
   "metadata": {},
   "outputs": [
    {
     "name": "stdout",
     "output_type": "stream",
     "text": [
      "enter a single character:l\n",
      "108\n"
     ]
    }
   ],
   "source": [
    "#Input a single character and print its ascii values. \n",
    "char=input(\"enter a single character:\")\n",
    "print(ord(char))"
   ]
  },
  {
   "cell_type": "code",
   "execution_count": 11,
   "metadata": {},
   "outputs": [
    {
     "name": "stdout",
     "output_type": "stream",
     "text": [
      "area of a circle:42\n",
      "radius of circle 3.657293559224355\n",
      "circumference of circle 22.96780355192895\n"
     ]
    }
   ],
   "source": [
    "#WAP that takes area of a circle and gives back the radius and circumference. \n",
    "area=int(input(\"area of a circle:\"))\n",
    "rad=(area/3.14)**(1/2)\n",
    "cir=(2*3.14)*rad\n",
    "print(\"radius of circle\",rad)\n",
    "print(\"circumference of circle\",cir)"
   ]
  },
  {
   "cell_type": "code",
   "execution_count": 12,
   "metadata": {},
   "outputs": [
    {
     "name": "stdout",
     "output_type": "stream",
     "text": [
      "marks in eng:10\n",
      "marks in maths1:20\n",
      "marks in maths2:30\n",
      "marks in physics:40\n",
      "marks in chemistry:5\n",
      "percentage 21.0\n"
     ]
    }
   ],
   "source": [
    "#We need to input marks in 5 subjects out of 100 and print percentage.\n",
    "m0=int(input(\"marks in eng:\"))\n",
    "m1=int(input(\"marks in maths1:\"))\n",
    "m2=int(input(\"marks in maths2:\"))\n",
    "m3=int(input(\"marks in physics:\"))\n",
    "m4=int(input(\"marks in chemistry:\"))\n",
    "sum_=m0+m1+m2+m3+m4\n",
    "per=(sum_/500)*100\n",
    "print(\"percentage\", per)\n"
   ]
  },
  {
   "cell_type": "code",
   "execution_count": null,
   "metadata": {},
   "outputs": [],
   "source": []
  }
 ],
 "metadata": {
  "kernelspec": {
   "display_name": "Python 3",
   "language": "python",
   "name": "python3"
  },
  "language_info": {
   "codemirror_mode": {
    "name": "ipython",
    "version": 3
   },
   "file_extension": ".py",
   "mimetype": "text/x-python",
   "name": "python",
   "nbconvert_exporter": "python",
   "pygments_lexer": "ipython3",
   "version": "3.7.6"
  }
 },
 "nbformat": 4,
 "nbformat_minor": 4
}
