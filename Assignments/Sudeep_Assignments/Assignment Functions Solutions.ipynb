{
 "cells": [
  {
   "cell_type": "markdown",
   "metadata": {},
   "source": [
    "#  Assignment Functions Solutions"
   ]
  },
  {
   "cell_type": "code",
   "execution_count": 10,
   "metadata": {},
   "outputs": [
    {
     "name": "stdout",
     "output_type": "stream",
     "text": [
      "Enter the Characters : sudeep\n",
      "Enter the Characters : sagar\n",
      "SUDEEP\n",
      "SAGAR\n"
     ]
    }
   ],
   "source": [
    "# 1. WAP to input 2 strings and swap the strings\n",
    "\n",
    "import string\n",
    "a1 = str(input(\"Enter the Characters : \"))\n",
    "a2 = str(input(\"Enter the Characters : \"))\n",
    "print(a1.swapcase())\n",
    "print(a2.swapcase())"
   ]
  },
  {
   "cell_type": "code",
   "execution_count": 49,
   "metadata": {},
   "outputs": [
    {
     "name": "stdout",
     "output_type": "stream",
     "text": [
      "Random Integer : 5\n",
      "Random Integer : 22\n",
      "Random Integer : 20\n",
      "Random Integer : 11\n",
      "Random integers values :  14.5\n"
     ]
    }
   ],
   "source": [
    "# 2. WAP to generate 4 random numbers in the range 0-26 and print their average\n",
    "\n",
    "import random\n",
    "num1 = random.randint(0,26)\n",
    "num2 = random.randint(0,26)\n",
    "num3 = random.randint(0,26)\n",
    "num4 = random.randint(0,26)\n",
    "A = num1\n",
    "B = num2\n",
    "C = num3\n",
    "D = num4\n",
    "print(\"Random Integer :\", A)\n",
    "print(\"Random Integer :\", B)\n",
    "print(\"Random Integer :\", C)\n",
    "print(\"Random Integer :\", D)\n",
    "Avg = (A + B + C + D) / 4\n",
    "print(\"Random integers values : \", Avg)"
   ]
  },
  {
   "cell_type": "code",
   "execution_count": 51,
   "metadata": {},
   "outputs": [
    {
     "name": "stdout",
     "output_type": "stream",
     "text": [
      "string containing all Upper case alphabets : ABCDEFGHIJKLMNOPQRSTUVWXYZ\n",
      "string containing all Lower Case alphabets : abcdefghijklmnopqrstuvwxyz\n",
      "select a random alphabet Upper case:  D\n",
      "select a random alphabet Lower Case:  y\n",
      "<module 'string' from 'C:\\\\Users\\\\sudee\\\\Anaconda3\\\\lib\\\\string.py'>\n"
     ]
    }
   ],
   "source": [
    "# 3. WAP to generate and print a random uppercase or lowercase alphabet. Try these:\n",
    "# • Create a string containing all alphabets and then select a random alphabet.\n",
    "# • Check the module string\n",
    "\n",
    "a = string.ascii_uppercase\n",
    "b = string.ascii_lowercase\n",
    "A1 = a\n",
    "B2 = b\n",
    "print(\"string containing all Upper case alphabets :\", A1)\n",
    "print(\"string containing all Lower Case alphabets :\" ,B2)\n",
    "C1 = random.choice(a)\n",
    "D1 = random.choice(b)\n",
    "print(\"select a random alphabet Upper case: \", C1)\n",
    "print(\"select a random alphabet Lower Case: \", D1)\n",
    "\n",
    "def mod():\n",
    "    print(string)\n",
    "mod()"
   ]
  },
  {
   "cell_type": "code",
   "execution_count": 62,
   "metadata": {},
   "outputs": [
    {
     "name": "stdout",
     "output_type": "stream",
     "text": [
      "Enter the Principal Amount : 10000\n",
      "Enter the Rate : 10\n",
      "Enter the Time in years : 1\n",
      "Total Accrued Amount is :  INR 11000\n"
     ]
    }
   ],
   "source": [
    "# 4. WAF get_si() that takes Principle, Rate and Time as arguments and returns the Simple Interest.\n",
    "\n",
    "def amount(P,R,T):\n",
    "    amount = (P) * (1 + (r * T))\n",
    "    return amount\n",
    "P = int(input(\"Enter the Principal Amount : \"))\n",
    "R = float(input(\"Enter the Rate : \"))\n",
    "T = int(input(\"Enter the Time in years : \"))\n",
    "r = R / 100\n",
    "print('Total Accrued Amount is : ','INR', round(amount(P,r,T)))"
   ]
  },
  {
   "cell_type": "code",
   "execution_count": 45,
   "metadata": {},
   "outputs": [
    {
     "name": "stdout",
     "output_type": "stream",
     "text": [
      "Enter the Principal Amount : 50000\n",
      "Enter the Rate : 10\n",
      "Enter the Time in years : 1\n",
      "Total simple interest is :  INR 5000\n"
     ]
    }
   ],
   "source": [
    "# 5. WAP get_amount() that takes Principle, Rate and Time as arguments and returns the Total amount using the get_si() \n",
    "# function from above to calculate the SI. Also provide Rate = 10 and Time = 1 as default arguments.\n",
    "\n",
    "def get_si(P,R,T):\n",
    "    simpleinterest = P * R * T / 100\n",
    "    return simpleinterest\n",
    "P = int(input(\"Enter the Principal Amount : \"))\n",
    "R = float(input(\"Enter the Rate : \"))\n",
    "T = int(input(\"Enter the Time in years : \"))\n",
    "print('Total simple interest is : ','INR', round(get_si(P,R,T)))"
   ]
  },
  {
   "cell_type": "code",
   "execution_count": 86,
   "metadata": {},
   "outputs": [
    {
     "name": "stdout",
     "output_type": "stream",
     "text": [
      "Enter the Principal Amount : 5000\n",
      "Enter the Rate : 10\n",
      "Enter Number of times that interest is compounded : 1\n",
      "Enter the Time in years : 3\n",
      "The value of the initial investment of 5000 after the period of 3 years will become INR 6655\n"
     ]
    }
   ],
   "source": [
    "# 6. WAP get_ci() that takes Principle, Rate and Time as arguments and returns the Compound Interest.\n",
    "\n",
    "def get_ci(P,R,N,T):\n",
    "    compoundinterest = P * (1 + (r/N)) ** (N*T)\n",
    "    return compoundinterest\n",
    "P = int(input(\"Enter the Principal Amount : \"))\n",
    "R = float(input(\"Enter the Rate : \"))\n",
    "N = int(input(\"Enter Number of times that interest is compounded : \"))\n",
    "T = int(input(\"Enter the Time in years : \"))\n",
    "r = R / 100\n",
    "print(\"The value of the initial investment of\", P ,\"after the period of\", T, \"years will become\",'INR', round(get_ci(P,R,N,T)))"
   ]
  },
  {
   "cell_type": "code",
   "execution_count": 11,
   "metadata": {},
   "outputs": [
    {
     "name": "stdout",
     "output_type": "stream",
     "text": [
      "Enter the Number : 18\n",
      "Enter the Number : 6\n",
      "(3.0, 0)\n"
     ]
    }
   ],
   "source": [
    "# 7. WAP get_q_r() taking 2 numbers as parameters and returns the quotient and remainder in the form of a tuple.\n",
    "\n",
    "def q_r(a,b):\n",
    "    q = a / b\n",
    "    r = a % b\n",
    "    return q,r\n",
    "a = int(input(\"Enter the Number : \"))\n",
    "b = int(input(\"Enter the Number : \"))\n",
    "print(q_r(a,b))"
   ]
  },
  {
   "cell_type": "code",
   "execution_count": 20,
   "metadata": {},
   "outputs": [
    {
     "name": "stdout",
     "output_type": "stream",
     "text": [
      "Enter the Height of the Triangle : 5\n",
      "Enter the Base of the Triangle : 12\n",
      "The length of hypotenuse of a right angled triangle is :  13.0 Units\n"
     ]
    }
   ],
   "source": [
    "# 8. WAP to find the length of hypotenuse of a right angled triangle, input the height and base from user.\n",
    "\n",
    "import math\n",
    "def len_hyp_right_ang_triangle(H,B):\n",
    "    # L = √(H² + B²)\n",
    "    L = math.sqrt(H ** 2 + B ** 2)\n",
    "    return L\n",
    "\n",
    "H = int(input(\"Enter the Height of the Triangle : \"))\n",
    "B = int(input(\"Enter the Base of the Triangle : \"))\n",
    "print(\"The length of hypotenuse of a right angled triangle is : \", len_hyp_right_ang_triangle(H,B), \"Units\")"
   ]
  },
  {
   "cell_type": "code",
   "execution_count": 38,
   "metadata": {},
   "outputs": [
    {
     "name": "stdout",
     "output_type": "stream",
     "text": [
      "Enter the Time in Seconds : 9547863\n",
      "110 Days 12 Hours 11 Minutes 3 Seconds\n"
     ]
    }
   ],
   "source": [
    "# 9. WAP to input number of seconds and print in days, hours, minutes and seconds\n",
    "\n",
    "def sec(S):\n",
    "    # Per Days = 86400 Seconds\n",
    "    # Per Hour = 3600 Seconds\n",
    "    # Per Minute = 60 Seconds\n",
    "    D = S // 86400\n",
    "    s1 = S % 86400\n",
    "    H = s1 // 3600\n",
    "    s2 = s1 % 3600\n",
    "    M = s2 // 60\n",
    "    s3 = s2 % 60\n",
    "    return (f\"{D} Days {H} Hours {M} Minutes {s3} Seconds\")\n",
    "\n",
    "S = int(input(\"Enter the Time in Seconds : \"))\n",
    "print(sec(S))"
   ]
  },
  {
   "cell_type": "code",
   "execution_count": 39,
   "metadata": {},
   "outputs": [
    {
     "name": "stdout",
     "output_type": "stream",
     "text": [
      "3.7.4 (default, Aug  9 2019, 18:34:13) [MSC v.1915 64 bit (AMD64)]\n"
     ]
    }
   ],
   "source": [
    "# 10. Check your version of python interpreter without opening the interpreter (Which command needs to be used on the command line).\n",
    "\n",
    "import sys\n",
    "print(sys.version)"
   ]
  },
  {
   "cell_type": "code",
   "execution_count": 43,
   "metadata": {},
   "outputs": [
    {
     "name": "stdout",
     "output_type": "stream",
     "text": [
      "-2 2\n"
     ]
    }
   ],
   "source": [
    "# 11. Find output:\n",
    "\n",
    "X = 2\n",
    "\n",
    "X*= 3 # 2*3 = 6\n",
    "\n",
    "X = X % 4 # Dividend is \"6\" and Divisor is \"4\" and Remainder is \"2\" --> X = 2\n",
    "\n",
    "Y = -X # y = -2\n",
    "print(Y,X)"
   ]
  },
  {
   "cell_type": "code",
   "execution_count": 44,
   "metadata": {},
   "outputs": [
    {
     "name": "stdout",
     "output_type": "stream",
     "text": [
      "None\n"
     ]
    }
   ],
   "source": [
    "# 12. Find output:\n",
    "\n",
    "def funct():\n",
    "    pass\n",
    "print(funct())"
   ]
  },
  {
   "cell_type": "markdown",
   "metadata": {},
   "source": [
    "#  Assignment Functions Solutions_End"
   ]
  }
 ],
 "metadata": {
  "kernelspec": {
   "display_name": "Python 3",
   "language": "python",
   "name": "python3"
  },
  "language_info": {
   "codemirror_mode": {
    "name": "ipython",
    "version": 3
   },
   "file_extension": ".py",
   "mimetype": "text/x-python",
   "name": "python",
   "nbconvert_exporter": "python",
   "pygments_lexer": "ipython3",
   "version": "3.7.4"
  }
 },
 "nbformat": 4,
 "nbformat_minor": 2
}
