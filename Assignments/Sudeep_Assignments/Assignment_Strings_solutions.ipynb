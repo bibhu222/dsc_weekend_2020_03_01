{
 "cells": [
  {
   "cell_type": "markdown",
   "metadata": {},
   "source": [
    "# Assignment_Strings_Solutions "
   ]
  },
  {
   "cell_type": "code",
   "execution_count": null,
   "metadata": {},
   "outputs": [],
   "source": [
    "#1 . Guess the Ouput :\n",
    "\n",
    "s=‘Python is Object Oriented’\n",
    "\n",
    "# Output :\n",
    "# 1. print(s[-1]) --> \"d\"\n",
    "# 2. print(s[::-1]) --> \"detneirO tcejbO eht si nohtyP\"\n",
    "# 3. print(s[:-1]) --> \"Python is the Object Oriente\"\n",
    "# 4. print(s[1:1]) --> \" \"\n",
    "# 5. print(s[4:10]) --> \"on is\""
   ]
  },
  {
   "cell_type": "code",
   "execution_count": 5,
   "metadata": {},
   "outputs": [
    {
     "ename": "IndexError",
     "evalue": "string index out of range",
     "output_type": "error",
     "traceback": [
      "\u001b[1;31m---------------------------------------------------------------------------\u001b[0m",
      "\u001b[1;31mIndexError\u001b[0m                                Traceback (most recent call last)",
      "\u001b[1;32m<ipython-input-5-ebec521bbb23>\u001b[0m in \u001b[0;36m<module>\u001b[1;34m\u001b[0m\n\u001b[0;32m      2\u001b[0m \u001b[1;33m\u001b[0m\u001b[0m\n\u001b[0;32m      3\u001b[0m \u001b[0ms\u001b[0m\u001b[1;33m=\u001b[0m \u001b[1;34m' '\u001b[0m\u001b[1;33m\u001b[0m\u001b[1;33m\u001b[0m\u001b[0m\n\u001b[1;32m----> 4\u001b[1;33m \u001b[0mprint\u001b[0m\u001b[1;33m(\u001b[0m\u001b[0ms\u001b[0m\u001b[1;33m[\u001b[0m\u001b[1;36m1\u001b[0m\u001b[1;33m]\u001b[0m\u001b[1;33m)\u001b[0m\u001b[1;33m\u001b[0m\u001b[1;33m\u001b[0m\u001b[0m\n\u001b[0m",
      "\u001b[1;31mIndexError\u001b[0m: string index out of range"
     ]
    }
   ],
   "source": [
    "#2. What error do you see for following statements:\n",
    "\n",
    "s= ' '\n",
    "print(s[1])"
   ]
  },
  {
   "cell_type": "code",
   "execution_count": null,
   "metadata": {},
   "outputs": [],
   "source": [
    "# 3. Do you get any error for the following code, if not give the output:\n",
    "\n",
    "S=‘Sudeep’\n",
    "print(s[1])\n",
    "\n",
    "# Output:\n",
    "# \"NameError\" --> Reason we have assigned with \"Capital 'S'\" and we are asking to print \"Small 's'\" where it is not defined."
   ]
  },
  {
   "cell_type": "code",
   "execution_count": 2,
   "metadata": {},
   "outputs": [
    {
     "name": "stdout",
     "output_type": "stream",
     "text": [
      "6\n",
      "abc\n",
      "3\n"
     ]
    }
   ],
   "source": [
    "# 4. a .Find output of the following:\n",
    "    S = 'a b cd'\n",
    "print(len(S))\n",
    "A = (S[::2])\n",
    "print(A)\n",
    "print(len(A))"
   ]
  },
  {
   "cell_type": "code",
   "execution_count": 8,
   "metadata": {},
   "outputs": [
    {
     "name": "stdout",
     "output_type": "stream",
     "text": [
      "['a#b#c#d#']\n",
      "['a', 'b', 'c', 'd', '']\n",
      "a$b$c$d$\n"
     ]
    }
   ],
   "source": [
    "# 4. b. Find output of the following:\n",
    "\n",
    "S = 'a#b#c#d#'\n",
    "print(S.split())\n",
    "print(S.split('#'))\n",
    "A = S.split('#')\n",
    "S = '$'.join(A)\n",
    "print(S)"
   ]
  },
  {
   "cell_type": "code",
   "execution_count": 10,
   "metadata": {},
   "outputs": [
    {
     "name": "stdout",
     "output_type": "stream",
     "text": [
      "up\n"
     ]
    }
   ],
   "source": [
    "# 4. c. Find output of the following: \n",
    "# I have changed code for my understanding.\n",
    "\n",
    "S = 'Sudeep'\n",
    "A = S[::-2]\n",
    "print(A[::-2])"
   ]
  },
  {
   "cell_type": "code",
   "execution_count": 11,
   "metadata": {},
   "outputs": [
    {
     "name": "stdout",
     "output_type": "stream",
     "text": [
      "False\n"
     ]
    }
   ],
   "source": [
    "# 4. d. Find output of the following:\n",
    "\n",
    "print(1>2)"
   ]
  },
  {
   "cell_type": "code",
   "execution_count": 12,
   "metadata": {},
   "outputs": [
    {
     "name": "stdout",
     "output_type": "stream",
     "text": [
      "0, 1, 2\n"
     ]
    }
   ],
   "source": [
    "# 4. e. Find output of the following:\n",
    "\n",
    "print(4%2, 5%2, 2%5, sep=', ')"
   ]
  },
  {
   "cell_type": "code",
   "execution_count": 13,
   "metadata": {},
   "outputs": [
    {
     "name": "stdout",
     "output_type": "stream",
     "text": [
      "abcba\n",
      "0 ,0 ,0 ,"
     ]
    }
   ],
   "source": [
    "# 4. e. Find output of the following:\n",
    "\n",
    "s='abcba'\n",
    "s.upper()\n",
    "print(s)\n",
    "print(s.count('A'), end = ' ,')\n",
    "print(s.count('A', 2,4) , end = ' ,')\n",
    "print(s.count('a', 2,4) , end = ' ,')"
   ]
  },
  {
   "cell_type": "code",
   "execution_count": 23,
   "metadata": {},
   "outputs": [
    {
     "name": "stdout",
     "output_type": "stream",
     "text": [
      "Enter the characters with spaces : sU         DE        E    P\n",
      "sUDEEP\n"
     ]
    }
   ],
   "source": [
    "# 5.WAP to input a string and remove all spaces from it.\n",
    "\n",
    "String = str(input(\"Enter the characters with spaces : \"))\n",
    "print(String.replace(\" \",\"\"))"
   ]
  },
  {
   "cell_type": "code",
   "execution_count": null,
   "metadata": {},
   "outputs": [],
   "source": [
    "# 6. What does this symbol denote:\n",
    "\n",
    "[] --> Answer empty list"
   ]
  },
  {
   "cell_type": "code",
   "execution_count": 30,
   "metadata": {},
   "outputs": [
    {
     "name": "stdout",
     "output_type": "stream",
     "text": [
      "['__add__', '__class__', '__contains__', '__delattr__', '__dir__', '__doc__', '__eq__', '__format__', '__ge__', '__getattribute__', '__getitem__', '__getnewargs__', '__gt__', '__hash__', '__init__', '__init_subclass__', '__iter__', '__le__', '__len__', '__lt__', '__mod__', '__mul__', '__ne__', '__new__', '__reduce__', '__reduce_ex__', '__repr__', '__rmod__', '__rmul__', '__setattr__', '__sizeof__', '__str__', '__subclasshook__', 'capitalize', 'casefold', 'center', 'count', 'encode', 'endswith', 'expandtabs', 'find', 'format', 'format_map', 'index', 'isalnum', 'isalpha', 'isascii', 'isdecimal', 'isdigit', 'isidentifier', 'islower', 'isnumeric', 'isprintable', 'isspace', 'istitle', 'isupper', 'join', 'ljust', 'lower', 'lstrip', 'maketrans', 'partition', 'replace', 'rfind', 'rindex', 'rjust', 'rpartition', 'rsplit', 'rstrip', 'split', 'splitlines', 'startswith', 'strip', 'swapcase', 'title', 'translate', 'upper', 'zfill']\n"
     ]
    }
   ],
   "source": [
    "# 7. WAP to print all methods(functions/operations) available in a string\n",
    "print(dir(String))"
   ]
  },
  {
   "cell_type": "code",
   "execution_count": 36,
   "metadata": {},
   "outputs": [
    {
     "name": "stdout",
     "output_type": "stream",
     "text": [
      "['__add__', '__class__', '__contains__', '__delattr__', '__dir__', '__doc__', '__eq__', '__format__', '__ge__', '__getattribute__', '__getitem__', '__getnewargs__', '__gt__', '__hash__', '__init__', '__init_subclass__', '__iter__', '__le__', '__len__', '__lt__', '__mod__', '__mul__', '__ne__', '__new__', '__reduce__', '__reduce_ex__', '__repr__', '__rmod__', '__rmul__', '__setattr__', '__sizeof__', '__str__', '__subclasshook__', 'capitalize', 'casefold', 'center', 'count', 'encode', 'endswith', 'expandtabs', 'find', 'format', 'format_map', 'index', 'isalnum', 'isalpha', 'isascii', 'isdecimal', 'isdigit', 'isidentifier', 'islower', 'isnumeric', 'isprintable', 'isspace', 'istitle', 'isupper', 'join', 'ljust', 'lower', 'lstrip', 'maketrans', 'partition', 'replace', 'rfind', 'rindex', 'rjust', 'rpartition', 'rsplit', 'rstrip', 'split', 'splitlines', 'startswith', 'strip', 'swapcase', 'title', 'translate', 'upper', 'zfill']\n"
     ]
    }
   ],
   "source": [
    "# 8. Write statement to check if rstrip method is available in the str class\n",
    "print(dir(str))\n",
    "\n",
    "# Unable to find using the find function."
   ]
  },
  {
   "cell_type": "code",
   "execution_count": null,
   "metadata": {},
   "outputs": [],
   "source": [
    "# 9. WAP to store the following patterns in a string variable and then print them:\n",
    "\n",
    "# unable to understand the question."
   ]
  },
  {
   "cell_type": "code",
   "execution_count": 27,
   "metadata": {},
   "outputs": [
    {
     "name": "stdout",
     "output_type": "stream",
     "text": [
      "Enter the characters : AB VB NM BH BV CDNN MM\n",
      "AB\n",
      "VB\n",
      "NM\n",
      "BH\n",
      "BV\n",
      "CDNN\n",
      "MM\n"
     ]
    }
   ],
   "source": [
    "# 10.WAP to input a string and replace all space with new lines (\\n) and print again.\n",
    "\n",
    "String = str(input(\"Enter the characters : \"))\n",
    "NewLine = String.replace(\" \", \"\\n\")\n",
    "A = print(NewLine)"
   ]
  },
  {
   "cell_type": "code",
   "execution_count": 35,
   "metadata": {},
   "outputs": [
    {
     "name": "stdout",
     "output_type": "stream",
     "text": [
      "Enter the Full Name : Gumma Sudeep\n",
      "Lenght of First Name GUMMA is 5\n",
      "Length of Second Name SUDEEP is 6\n"
     ]
    }
   ],
   "source": [
    "# 11. WAP to input complete name(first and last name separated by space) and print first and last\n",
    "# name separately along with their length in upper case.\n",
    "\n",
    "Name = str(input(\"Enter the Full Name : \"))\n",
    "Second_Name = []\n",
    "A = Name.index(' ')\n",
    "First_Name = Name[:A]\n",
    "Second_Name = Name[A + 1:]\n",
    "First = len(First_Name)\n",
    "Second = len(Second_Name)\n",
    "print(\"Lenght of First Name\", First_Name.upper(), \"is\",First)\n",
    "print(\"Length of Second Name\", Second_Name.upper(), \"is\", Second)"
   ]
  },
  {
   "cell_type": "code",
   "execution_count": 58,
   "metadata": {},
   "outputs": [
    {
     "name": "stdout",
     "output_type": "stream",
     "text": [
      "Enter the Characters: Sudeep\n",
      "First Split of entered Characters Sud\n",
      "Second Split of entered Characters eep\n"
     ]
    }
   ],
   "source": [
    "# 12. WAP to input a string and split it into 2 halves. The string can be of any length\n",
    "word = str(input(\"Enter the Characters: \"))\n",
    "L = len(word)\n",
    "M = word[:L//2]\n",
    "print(\"First Split of entered Characters\", M)\n",
    "G = word[L//2:]\n",
    "print(\"Second Split of entered Characters\", G)"
   ]
  },
  {
   "cell_type": "markdown",
   "metadata": {},
   "source": [
    "# Assignment_Strings_End "
   ]
  }
 ],
 "metadata": {
  "kernelspec": {
   "display_name": "Python 3",
   "language": "python",
   "name": "python3"
  },
  "language_info": {
   "codemirror_mode": {
    "name": "ipython",
    "version": 3
   },
   "file_extension": ".py",
   "mimetype": "text/x-python",
   "name": "python",
   "nbconvert_exporter": "python",
   "pygments_lexer": "ipython3",
   "version": "3.7.4"
  }
 },
 "nbformat": 4,
 "nbformat_minor": 2
}
