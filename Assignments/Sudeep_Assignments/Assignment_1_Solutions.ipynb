{
 "cells": [
  {
   "cell_type": "markdown",
   "metadata": {},
   "source": [
    "# Assignment 1 #"
   ]
  },
  {
   "cell_type": "code",
   "execution_count": 26,
   "metadata": {},
   "outputs": [
    {
     "name": "stdout",
     "output_type": "stream",
     "text": [
      "Enter the Degrees in the Fahrenheit : 68\n",
      " 68°F degree =  20°C Celsius\n"
     ]
    }
   ],
   "source": [
    "#1. WAP to input temperature in Fahrenheit and print in Celsius.\n",
    "\n",
    "degree = float(input('Enter the Degrees in the Fahrenheit : '))\n",
    "\n",
    "#conv_fac = degree°F − 32 * 5/9\n",
    "\n",
    "Celsius = (degree -32) * (5/9)\n",
    "\n",
    "print('% 0.0f°F degree = % 0.0f°C Celsius' %(degrees,Celsius))"
   ]
  },
  {
   "cell_type": "code",
   "execution_count": 25,
   "metadata": {},
   "outputs": [
    {
     "name": "stdout",
     "output_type": "stream",
     "text": [
      "Enter the number : 3\n",
      "Base 3 to the power of 2 is :  9\n",
      "Base 3 to the power of 3 is :  27\n"
     ]
    }
   ],
   "source": [
    "#2. Write a program to input a number and print its square and cube.\n",
    "\n",
    "N1 = int(input('Enter the number : '))\n",
    "\n",
    "Exponent_Square = 2\n",
    "Exponent_Cube = 3\n",
    "\n",
    "x = (pow(N1,Exponent_Square))\n",
    "y = (pow(N1,Exponent_Cube))\n",
    "\n",
    "print('Base', N1, 'to the power of', Exponent_Square, 'is : ', x)\n",
    "print('Base', N1, 'to the power of', Exponent_Cube, 'is : ', y)"
   ]
  },
  {
   "cell_type": "code",
   "execution_count": 33,
   "metadata": {},
   "outputs": [
    {
     "name": "stdout",
     "output_type": "stream",
     "text": [
      "Enter the \"n\" number : 3\n",
      "Enter the \"m\" number : 2\n",
      "n2 + m2 =  13\n"
     ]
    }
   ],
   "source": [
    "#3. WAP to input a number n and a number m and print the result of following n2 + m2\n",
    "\n",
    "n = int(input('Enter the \"n\" number : '))\n",
    "m = int(input('Enter the \"m\" number : '))\n",
    "\n",
    "Square = 2\n",
    "\n",
    "x = pow(n,Square)\n",
    "y = pow(m,Square)\n",
    "\n",
    "z = x + y\n",
    "\n",
    "print('n2 + m2 = ', z)"
   ]
  },
  {
   "cell_type": "code",
   "execution_count": 6,
   "metadata": {},
   "outputs": [
    {
     "name": "stdout",
     "output_type": "stream",
     "text": [
      "Enter the base number : 3\n",
      "Enter the exponent number : 2\n",
      "M**N is : 9\n",
      "pow(M,N) is : 9\n"
     ]
    }
   ],
   "source": [
    "#4. WAP to input a numbers M and N and print result of M N using both ** , pow #\n",
    "\n",
    "M = int(input('Enter the base number : '))\n",
    "N = int(input('Enter the exponent number : '))\n",
    "\n",
    "x = M ** N\n",
    "y = pow(M,N)\n",
    "\n",
    "print(\"M**N is :\", x )\n",
    "\n",
    "print(\"pow(M,N) is :\", y )"
   ]
  },
  {
   "cell_type": "code",
   "execution_count": 10,
   "metadata": {},
   "outputs": [
    {
     "name": "stdout",
     "output_type": "stream",
     "text": [
      "Enter the principal amount : 10000.00\n",
      "Enter the rate : 3.875\n",
      "Enter the years : 5\n",
      "Total Accrued Amount is :  INR 11937.5\n"
     ]
    }
   ],
   "source": [
    "# 5. Write a simple interest calculator #\n",
    "\n",
    "Principal_p = float(input('Enter the principal amount : '))\n",
    "Rate_R = float(input('Enter the rate : '))\n",
    "Time_t = int(input('Enter the years : '))\n",
    "\n",
    "# Simple Interest Equation --> A = P(1 + rt) #\n",
    "# Where A --> Total Accrued Amount\n",
    "#       p --> Principal Amount\n",
    "#       r --> Rate of Interest per year as a decimal\n",
    "#       t --> Time Period involved in years\n",
    "\n",
    "r = Rate_R / 100\n",
    "\n",
    "# R(Rate_R) --> Rate of Interest per year as a percent\n",
    "\n",
    "A = (Principal_p) * (1 + (r * Time_t))\n",
    "\n",
    "print('Total Accrued Amount is : ','INR', A)"
   ]
  },
  {
   "cell_type": "code",
   "execution_count": 42,
   "metadata": {},
   "outputs": [
    {
     "name": "stdout",
     "output_type": "stream",
     "text": [
      "Initial value of investment : 5000\n",
      "Rate of Return : 10\n",
      "Number of years for which investment is done : 3\n",
      "Number of the times compounded : 1\n",
      "Future value of the investment :  INR 6655.000000000002\n"
     ]
    }
   ],
   "source": [
    "# 6. WAP to Input Principal, Rate, Time and print Compound Interest and Amount. #\n",
    "\n",
    "Principal_p = float(input('Initial value of investment : '))\n",
    "Rate_R = float(input('Rate of Return : '))\n",
    "Time_t = int(input('Number of years for which investment is done : '))\n",
    "Compounded_m = int(input('Number of the times compounded : '))\n",
    "\n",
    "# Simple Interest Equation --> A = P(1 + r/m) ** mt #\n",
    "# Where A --> Future value of the investment\n",
    "#       p --> Initial value of investment\n",
    "#       r --> Rate of Return as a decimal\n",
    "#       t --> Number of years for which investment is done\n",
    "#       m --> Number of the times compounded\n",
    "\n",
    "r = Rate_R / 100\n",
    "\n",
    "C = Compounded_m * Time_t\n",
    "\n",
    "B = (1 + (r / Compounded_m))\n",
    "\n",
    "A = Principal_p * pow(B,C)\n",
    "\n",
    "print('Future value of the investment : ','INR',A)"
   ]
  },
  {
   "cell_type": "code",
   "execution_count": 52,
   "metadata": {},
   "outputs": [
    {
     "name": "stdout",
     "output_type": "stream",
     "text": [
      "Enter a number: 6\n",
      "The sum of first 6 natural numbers is : 21\n"
     ]
    }
   ],
   "source": [
    "# 7. WAP to print sum of first n natural numbers. #\n",
    "\n",
    "n = int(input('Enter a number: '))\n",
    "Number = n\n",
    "if n < 0:\n",
    "    print('Enter the positive number')\n",
    "else:\n",
    "    sum = 0\n",
    "    while(n > 0):\n",
    "        sum = sum + n\n",
    "        n = n - 1\n",
    "    print(\"The sum of first\",Number,\"natural numbers is :\", sum)"
   ]
  },
  {
   "cell_type": "code",
   "execution_count": 56,
   "metadata": {},
   "outputs": [
    {
     "name": "stdout",
     "output_type": "stream",
     "text": [
      "Enter the number x : 5\n",
      "Enter the number y : 10\n",
      "The value of x after swapping: 10\n",
      "The value of y after swapping: 5\n",
      "Enter the number a : 5\n",
      "Enter the number b : 10\n",
      "The value of a after swapping  10\n",
      "The value of b after swapping  5\n"
     ]
    }
   ],
   "source": [
    "# 8. WAP to input 2 numbers and swap them using the normal logic with temp variable #\n",
    "\n",
    "Num1 = input('Enter the number x : ')\n",
    "Num2 = input('Enter the number y : ')\n",
    "temp = Num1\n",
    "Num1 = Num2\n",
    "Num2 = temp\n",
    "print('The value of x after swapping : {}'.format(Num1))\n",
    "print('The value of y after swapping : {}'.format(Num2))\n",
    "\n",
    "# 8. WAP to input 2 numbers and swap them using the without temp variable #\n",
    "\n",
    "a = int(input('Enter the number a : '))\n",
    "b = int(input('Enter the number b : '))\n",
    "\n",
    "a = a + b\n",
    "b = a - b\n",
    "a = a - b\n",
    "\n",
    "print(\"The value of a after swapping : \", a)\n",
    "print(\"The value of b after swapping : \", b)"
   ]
  },
  {
   "cell_type": "code",
   "execution_count": null,
   "metadata": {},
   "outputs": [],
   "source": [
    "# 9. WAP to print ascii value of all white-space characters present in python.#\n",
    "\n",
    "# notable to understand question and notable to code #"
   ]
  },
  {
   "cell_type": "code",
   "execution_count": 62,
   "metadata": {},
   "outputs": [
    {
     "name": "stdout",
     "output_type": "stream",
     "text": [
      "Enter the character : R\n",
      "The ASCII value of the R is : 82\n"
     ]
    }
   ],
   "source": [
    "# 10. WAP to input a single character and print its ascii values.\n",
    "\n",
    "n = str(input('Enter the character : '))\n",
    "m = ord(n)\n",
    "print(\"The ASCII value of the\",n, \"is :\",m)"
   ]
  },
  {
   "cell_type": "code",
   "execution_count": 73,
   "metadata": {},
   "outputs": [
    {
     "name": "stdout",
     "output_type": "stream",
     "text": [
      "Enter the Area of circle value : 14\n",
      "The Raidus of the Circle is :  2.1110050143673917\n",
      "The Circumference of the circle is :  13.263824486172908\n"
     ]
    }
   ],
   "source": [
    "# 11.WAP that takes area of a circle and gives back the radius and circumference #\n",
    "\n",
    "Area_Circle = float(input(\"Enter the Area of circle value : \"))\n",
    "\n",
    "Pi = 3.14159\n",
    "\n",
    "# If you know the area then how to find raidus --> R =sqrt(A/Pi)\n",
    "\n",
    "Raidus_R = (Area_Circle / Pi) ** 0.5\n",
    "\n",
    "print(\"The Raidus of the Circle is : \",Raidus_R)\n",
    "\n",
    "# If you know the Radius and how to find the circumference --> C = R * 2 * Pi\n",
    "\n",
    "Circumference_C = Raidus_R * 2 * Pi\n",
    "\n",
    "print(\"The Circumference of the circle is : \",Circumference_C)"
   ]
  },
  {
   "cell_type": "code",
   "execution_count": 75,
   "metadata": {},
   "outputs": [
    {
     "name": "stdout",
     "output_type": "stream",
     "text": [
      "Please enter English Marks: 65\n",
      "Please enter Math score: 76\n",
      "Please enter Computer Marks: 87\n",
      "Please enter Physics Marks: 86\n",
      "Please enter Chemistry Marks: 58\n",
      "Marks Percentage = 74.40\n"
     ]
    }
   ],
   "source": [
    "# 12. WAP to input marks in 5 subjects out of 100 and print percentage.#\n",
    "\n",
    "Mathematics = float(input(\"Please enter Mathematics Marks: \"))\n",
    "Physics = float(input(\"Please enter Physics score: \"))\n",
    "English = float(input(\"Please enter English Marks: \"))\n",
    "Computers = float(input(\"Please enter Computers Marks: \"))\n",
    "Chemistry = float(input(\"Please enter Chemistry Marks: \"))\n",
    "\n",
    "Total = English + Mathematics + Computers + Physics + Chemistry\n",
    "\n",
    "Percentage = (Total / 500) * 100\n",
    "\n",
    "print(\"Over all Marks in Percentage = %.2f\"  %Percentage)"
   ]
  },
  {
   "cell_type": "markdown",
   "metadata": {},
   "source": [
    "# End of the Assignment"
   ]
  }
 ],
 "metadata": {
  "kernelspec": {
   "display_name": "Python 3",
   "language": "python",
   "name": "python3"
  },
  "language_info": {
   "codemirror_mode": {
    "name": "ipython",
    "version": 3
   },
   "file_extension": ".py",
   "mimetype": "text/x-python",
   "name": "python",
   "nbconvert_exporter": "python",
   "pygments_lexer": "ipython3",
   "version": "3.7.4"
  }
 },
 "nbformat": 4,
 "nbformat_minor": 2
}
