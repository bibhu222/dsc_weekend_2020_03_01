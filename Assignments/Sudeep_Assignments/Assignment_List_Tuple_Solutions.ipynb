{
 "cells": [
  {
   "cell_type": "markdown",
   "metadata": {},
   "source": [
    "# Assignment_List_Tuple_Solutions "
   ]
  },
  {
   "cell_type": "code",
   "execution_count": 1,
   "metadata": {},
   "outputs": [
    {
     "name": "stdout",
     "output_type": "stream",
     "text": [
      "[1, 2, 3, 4, 5]\n"
     ]
    }
   ],
   "source": [
    "# 1. Convert a Tuple t = (1,2,3,4,5) to a list\n",
    "Tuple_t = (1,2,3,4,5)\n",
    "List_L = list(Tuple_t)\n",
    "print(List_L)"
   ]
  },
  {
   "cell_type": "code",
   "execution_count": 24,
   "metadata": {},
   "outputs": [
    {
     "data": {
      "text/plain": [
       "[(1, 8), (3, 6), (5, 4), (7, 2)]"
      ]
     },
     "execution_count": 24,
     "metadata": {},
     "output_type": "execute_result"
    }
   ],
   "source": [
    "# 2. WAP to join a list and a tuple:\n",
    "# L = [1,3,5,7]\n",
    "# T = (8,6,4,2)\n",
    "\n",
    "List_L = [1,3,5,7]\n",
    "Tuple_T = (8,6,4,2)\n",
    "[(List_L[i],Tuple_T[i]) for i in range(len(Tuple_T))]"
   ]
  },
  {
   "cell_type": "code",
   "execution_count": null,
   "metadata": {},
   "outputs": [],
   "source": [
    "# 3. What is difference between list and tuple.\n",
    "# Lists are surrounded by square brackets []. Tuples are surrounded by parenthesis ().\n",
    "# List-mutable. Tuple is immutable"
   ]
  },
  {
   "cell_type": "code",
   "execution_count": 23,
   "metadata": {},
   "outputs": [
    {
     "name": "stdout",
     "output_type": "stream",
     "text": [
      "Using the reverse function reversing the List :  ['C', 'A', 'c', 'd', 'a']\n",
      "C A c d a  : Using the For loop reversing the List\n"
     ]
    }
   ],
   "source": [
    "# 4 . Print the list in reverse order\n",
    "# l = [‘a’, ‘d’, ‘c’, ‘A’, ‘C’]\n",
    "\n",
    "l = ['a', 'd', 'c', 'A', 'C']\n",
    "l.reverse()\n",
    "print(\"Using the reverse function reversing the List : \", l)\n",
    "\n",
    "l = ['a', 'd','c','A','C']\n",
    "for List in reversed(l):\n",
    "    print(List ,end=\" \")\n",
    "print(\" : Using the For loop reversing the List\")"
   ]
  },
  {
   "cell_type": "code",
   "execution_count": 30,
   "metadata": {},
   "outputs": [
    {
     "name": "stdout",
     "output_type": "stream",
     "text": [
      "[10, 20, 30, 40]\n"
     ]
    }
   ],
   "source": [
    "# 5. Print Elements at Odd indexes from a list (Do not use loop)\n",
    "# l = [10,11,20, 21,30, 31, 40, 41]\n",
    "\n",
    "l = [10,11,20,21,30,31,40,41]\n",
    "A = l[::2]\n",
    "print(A)"
   ]
  },
  {
   "cell_type": "code",
   "execution_count": 31,
   "metadata": {},
   "outputs": [
    {
     "name": "stdout",
     "output_type": "stream",
     "text": [
      "[1, 2, 3, 4, 5, 10]\n",
      "[1, 2, 3, 4, 5, 10]\n",
      "[1, 2, 3, 4, 5, 10]\n"
     ]
    }
   ],
   "source": [
    "# 6. How many ways you can copy a list.\n",
    "\n",
    "import copy\n",
    "A = [1,2,3,4,5,10]\n",
    "B = A.copy()\n",
    "C = copy.copy(A)\n",
    "D = A[:]\n",
    "print(B)\n",
    "print(C)\n",
    "print(D)"
   ]
  },
  {
   "cell_type": "code",
   "execution_count": 32,
   "metadata": {},
   "outputs": [
    {
     "name": "stdout",
     "output_type": "stream",
     "text": [
      "['a']\n",
      "5\n"
     ]
    }
   ],
   "source": [
    "# 7. Predict output\n",
    "\n",
    "n_list = [\"Happy\", [2,0,1,5]]\n",
    "print([n_list[0][1]])\n",
    "print(n_list[1][3])"
   ]
  },
  {
   "cell_type": "code",
   "execution_count": 33,
   "metadata": {},
   "outputs": [
    {
     "name": "stdout",
     "output_type": "stream",
     "text": [
      "[1, 4, 6, 8]\n",
      "[1, 3, 5, 7]\n"
     ]
    }
   ],
   "source": [
    "# 8. Predict output\n",
    "\n",
    "odd = [2,4,6,8]\n",
    "odd[0] = 1\n",
    "print(odd)\n",
    "odd[1:4] = [3,5,7]\n",
    "print(odd)"
   ]
  },
  {
   "cell_type": "code",
   "execution_count": 34,
   "metadata": {},
   "outputs": [
    {
     "name": "stdout",
     "output_type": "stream",
     "text": [
      "[1, 3, 5, [7, 9]]\n",
      "[1, 3, 5, [7, 9], 11, 13]\n"
     ]
    }
   ],
   "source": [
    "# 9. Predict output\n",
    "\n",
    "odd = [1,3,5]\n",
    "odd.append([7,9])\n",
    "print(odd)\n",
    "odd.extend([11,13])\n",
    "print(odd)"
   ]
  },
  {
   "cell_type": "code",
   "execution_count": 35,
   "metadata": {},
   "outputs": [
    {
     "name": "stdout",
     "output_type": "stream",
     "text": [
      "<class 'tuple'>\n",
      "<class 'int'>\n",
      "<class 'int'>\n",
      "<class 'tuple'>\n"
     ]
    }
   ],
   "source": [
    "# 10. notePredict output\n",
    "\n",
    "x = 1, 2, 3\n",
    "print(type(x)) \n",
    "x =(1)\n",
    "print(type(x)) \n",
    "x=1\n",
    "print(type(x))  \n",
    "x=1,\n",
    "print(type(x))"
   ]
  },
  {
   "cell_type": "code",
   "execution_count": 36,
   "metadata": {},
   "outputs": [
    {
     "ename": "SyntaxError",
     "evalue": "invalid syntax (<ipython-input-36-0bc24b676ff8>, line 2)",
     "output_type": "error",
     "traceback": [
      "\u001b[1;36m  File \u001b[1;32m\"<ipython-input-36-0bc24b676ff8>\"\u001b[1;36m, line \u001b[1;32m2\u001b[0m\n\u001b[1;33m    1 2 3\u001b[0m\n\u001b[1;37m      ^\u001b[0m\n\u001b[1;31mSyntaxError\u001b[0m\u001b[1;31m:\u001b[0m invalid syntax\n"
     ]
    }
   ],
   "source": [
    "# 11. Try to represent a matrix with following data in python:\n",
    "1 2 3\n",
    "4 5 6\n",
    "7 8 9\n",
    "list_1 = [1,2, 3], [4,5,6], [7,8,9]"
   ]
  },
  {
   "cell_type": "code",
   "execution_count": 37,
   "metadata": {},
   "outputs": [
    {
     "name": "stdout",
     "output_type": "stream",
     "text": [
      "('s', 't', 'r', 'i', 'n', 'g')\n",
      "('g', 'n', 'i', 'r', 't', 's')\n",
      "('n', 's')\n"
     ]
    }
   ],
   "source": [
    "# 12. Predict output\n",
    "\n",
    "t = tuple('string')\n",
    "print(t)#('s', 't', 'r', 'i', 'n', 'g')\n",
    "print(t[::-1])#('g', 'n', 'i', 'r', 't', 's')\n",
    "print(t[::2][::-2]) #('n', 's')"
   ]
  },
  {
   "cell_type": "code",
   "execution_count": 38,
   "metadata": {},
   "outputs": [
    {
     "name": "stdout",
     "output_type": "stream",
     "text": [
      "True\n",
      "False\n",
      "1\n",
      "3\n"
     ]
    }
   ],
   "source": [
    "# 13. predict output\n",
    "t = tuple([10, 20, 30, 40, 50, 60])\n",
    "print(60 in t)#True\n",
    "print('60' in t)#  False\n",
    "print(t.count(10))# 1\n",
    "print(t.index(40))# 3"
   ]
  },
  {
   "cell_type": "code",
   "execution_count": 39,
   "metadata": {},
   "outputs": [
    {
     "name": "stdout",
     "output_type": "stream",
     "text": [
      "Enter the Characters : SUDEEP\n",
      "SUDEEP is not a palindrome\n"
     ]
    }
   ],
   "source": [
    "#14. Write a program to input a string and print if it is palindrome or not.\n",
    "\n",
    "string = str(input(\"Enter the Characters : \"))\n",
    "string_1 = string[::-1]\n",
    "if string == string_1:\n",
    "    print(f\"{string} is a palindrome\")\n",
    "else:\n",
    "    print(f\"{string} is not a palindrome\")"
   ]
  },
  {
   "cell_type": "code",
   "execution_count": 44,
   "metadata": {},
   "outputs": [
    {
     "name": "stdout",
     "output_type": "stream",
     "text": [
      "(20, 15, 10, 5)\n"
     ]
    }
   ],
   "source": [
    "# 15. Use the range method and create a tuple containing the following values:\n",
    "# (20, 15, 10, 5)\n",
    "\n",
    "Num = tuple(range(5,25,5))\n",
    "Num_1 = Num[::-1]\n",
    "print(Num_1)"
   ]
  },
  {
   "cell_type": "code",
   "execution_count": 46,
   "metadata": {},
   "outputs": [
    {
     "name": "stdout",
     "output_type": "stream",
     "text": [
      "['S', 'U', 'D', 'E', 'E', 'P']\n"
     ]
    }
   ],
   "source": [
    "# 16. WAP to convert string to list of characters.\n",
    "\n",
    "string = \"SUDEEP\"\n",
    "list_string = list(string)\n",
    "print(list_string)"
   ]
  },
  {
   "cell_type": "code",
   "execution_count": 47,
   "metadata": {},
   "outputs": [
    {
     "name": "stdout",
     "output_type": "stream",
     "text": [
      "<class 'list'>\n",
      "<class 'NoneType'>\n",
      "<class 'str'>\n",
      "<class 'bool'>\n"
     ]
    }
   ],
   "source": [
    "# 17. What is the return type of:\n",
    "print(type( '1 2'.split() ))   #### string\n",
    "print(type( [1, 3, 2].sort() )) #### list\n",
    "print(type( 'abc'.upper() )) #### string\n",
    "print(type( 1 in [1, 2] )) #### boolean"
   ]
  },
  {
   "cell_type": "markdown",
   "metadata": {},
   "source": [
    "# Assignment_List_Tuple_Solutions_End"
   ]
  }
 ],
 "metadata": {
  "kernelspec": {
   "display_name": "Python 3",
   "language": "python",
   "name": "python3"
  },
  "language_info": {
   "codemirror_mode": {
    "name": "ipython",
    "version": 3
   },
   "file_extension": ".py",
   "mimetype": "text/x-python",
   "name": "python",
   "nbconvert_exporter": "python",
   "pygments_lexer": "ipython3",
   "version": "3.7.4"
  }
 },
 "nbformat": 4,
 "nbformat_minor": 2
}
