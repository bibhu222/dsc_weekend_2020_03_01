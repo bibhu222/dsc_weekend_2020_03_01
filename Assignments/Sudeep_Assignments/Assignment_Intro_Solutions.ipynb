{
 "cells": [
  {
   "cell_type": "markdown",
   "metadata": {},
   "source": [
    " # Assignment_Intro_Solutions "
   ]
  },
  {
   "cell_type": "code",
   "execution_count": null,
   "metadata": {},
   "outputs": [],
   "source": [
    "#1. Predict Output:\n",
    "\n",
    "Name1 = 'Sudeep'\n",
    "Name2 = 'gumma.sudeep@gmail.com'\n",
    "print(len(Name1),len(Name2))\n",
    "\n",
    "# Output:\n",
    "#Name1 will be --> 6\n",
    "#Name2 will be --> 22"
   ]
  },
  {
   "cell_type": "code",
   "execution_count": 2,
   "metadata": {},
   "outputs": [
    {
     "name": "stdout",
     "output_type": "stream",
     "text": [
      "Enter the characters : $UDEEP\n",
      "The lenght of the characters : 6\n"
     ]
    }
   ],
   "source": [
    "# 2. WAP to input a string and print its length\n",
    "\n",
    "Name1 = str(input('Enter the characters : '))\n",
    "print('The lenght of the characters :', len(Name1))"
   ]
  },
  {
   "cell_type": "code",
   "execution_count": 3,
   "metadata": {},
   "outputs": [
    {
     "name": "stdout",
     "output_type": "stream",
     "text": [
      "Enter the First Number : 67\n",
      "Enter the Second the Number : 42\n",
      "The Sum of two Numbers is :  109\n",
      "The Difference of the two Numbers is :  25\n"
     ]
    }
   ],
   "source": [
    "# 3. WAP to input 2 numbers and print their sum and difference.\n",
    "\n",
    "Num1 = int(input('Enter the First Number : '))\n",
    "Num2 = int(input('Enter the Second the Number : '))\n",
    "Sum = Num1 + Num2\n",
    "Difference = Num1 - Num2\n",
    "print(\"The Sum of two Numbers is : \", Sum)\n",
    "print(\"The Difference of the two Numbers is : \", Difference)"
   ]
  },
  {
   "cell_type": "code",
   "execution_count": null,
   "metadata": {},
   "outputs": [],
   "source": [
    "# 4. Predict output:\n",
    "\n",
    "A = 'Sud'\n",
    "B = 'eep'\n",
    "C = A + B\n",
    "print(C)\n",
    "\n",
    "# Output :\n",
    "# C = Sudeep\n",
    "\n",
    "# 5. Same as Question 4 (Repeated)"
   ]
  },
  {
   "cell_type": "code",
   "execution_count": null,
   "metadata": {},
   "outputs": [],
   "source": [
    "# 6. Predict output:\n",
    "\n",
    "S1 = 'ab'*4\n",
    "print(S1)\n",
    "\n",
    "# Output :\n",
    "# S1 = abababab"
   ]
  },
  {
   "cell_type": "code",
   "execution_count": null,
   "metadata": {},
   "outputs": [],
   "source": [
    "# 7.Predict output:\n",
    "\n",
    "S1 = 'ab\\n' * 4\n",
    "print(S1)\n",
    "\n",
    "# Output :\n",
    "# S1 = \n",
    "# ab\n",
    "# ab\n",
    "# ab\n",
    "# ab\n"
   ]
  },
  {
   "cell_type": "code",
   "execution_count": 31,
   "metadata": {},
   "outputs": [
    {
     "name": "stdout",
     "output_type": "stream",
     "text": [
      "Enter the Characters : AB\n",
      "Enter the number : 3\n",
      "A\n",
      "B\n",
      "A\n",
      "B\n",
      "A\n",
      "B\n"
     ]
    }
   ],
   "source": [
    "# 8.WAP to input a string s and a number n. Print the string n times on the screen, each should\n",
    "appear in a separate line\n",
    "\n",
    "String_S = str(input('Enter the Characters : '))\n",
    "Number_N = int(input('Enter the number : '))\n",
    "A = String_S * Number_N\n",
    "print(*A, sep='\\n')"
   ]
  },
  {
   "cell_type": "code",
   "execution_count": null,
   "metadata": {},
   "outputs": [],
   "source": [
    "# 9. Predict Output:\n",
    "res = print('Sudeep')\n",
    "print(res)\n",
    "\n",
    "# Output:\n",
    "# Sudeep\n",
    "# None"
   ]
  },
  {
   "cell_type": "code",
   "execution_count": null,
   "metadata": {},
   "outputs": [],
   "source": [
    "# 10. Predict Output:\n",
    "\n",
    "res = len(\"gummasudeepyadav@gmail.com\")\n",
    "print(type(res))\n",
    "\n",
    "# Output :\n",
    "# int --> len of \"gummasudeepyadav@gmail.com\" is \"22\". This type \"22\" is the \"int\""
   ]
  },
  {
   "cell_type": "code",
   "execution_count": null,
   "metadata": {},
   "outputs": [],
   "source": [
    "#11. Predict Output:\n",
    "\n",
    "S1 = 'Sudeep'\n",
    "S2 = 'gummasudeepyadav@gmail.com'\n",
    "A = S1 + '\\n' + S2\n",
    "print(type(A))\n",
    "print(len(A))\n",
    "\n",
    "# Output:\n",
    "# str\n",
    "# 33"
   ]
  },
  {
   "cell_type": "code",
   "execution_count": null,
   "metadata": {},
   "outputs": [],
   "source": [
    "# 12. Find the name of function to find the square root.\n",
    "\n",
    "# Answer is \"sqrt\""
   ]
  },
  {
   "cell_type": "code",
   "execution_count": 41,
   "metadata": {},
   "outputs": [
    {
     "name": "stdout",
     "output_type": "stream",
     "text": [
      "Enter the Number : 4\n",
      "The Square root of 4 is :  2.0\n"
     ]
    }
   ],
   "source": [
    "# 13. WAP to input a number and print its square root ().\n",
    "\n",
    "import math\n",
    "Number = int(input('Enter the Number : '))\n",
    "SquareRoot = math.sqrt(Number)\n",
    "print(\"The Square root of\",Number,\"is : \",SquareRoot)"
   ]
  },
  {
   "cell_type": "code",
   "execution_count": 58,
   "metadata": {},
   "outputs": [
    {
     "name": "stdout",
     "output_type": "stream",
     "text": [
      "Enter the first number : 2\n",
      "Enter the second number : 4\n",
      "Enter the third number : 6\n",
      "Enter the fourth number : 8\n",
      "6\n"
     ]
    }
   ],
   "source": [
    "# 14. WAP to input 4 numbers from user and print their average\n",
    "\n",
    "import statistics\n",
    "Num1 = int(input('Enter the first number : '))\n",
    "Num2 = int(input('Enter the second number : '))\n",
    "Num3 = int(input('Enter the third number : '))\n",
    "Num4 = int(input('Enter the fourth number : '))\n",
    "Data = [ Num1 , Num2 , Num3 , Num4 , Num5 ]\n",
    "Average = statistics.mean(Data)\n",
    "print(Average)"
   ]
  },
  {
   "cell_type": "code",
   "execution_count": null,
   "metadata": {},
   "outputs": [],
   "source": [
    "# 15. Use the help function to check what the abs function in python does.\n",
    "\n",
    "# Output --> Help on built-in function abs in module builtins:\n",
    "# abs(x, /)\n",
    "#   Return the absolute value of the argument.\n",
    "# Example\n",
    "# abs(-43) the output would be \"43\""
   ]
  },
  {
   "cell_type": "code",
   "execution_count": null,
   "metadata": {},
   "outputs": [],
   "source": [
    "# 16. What is the output of this code when run from python interpreter.\n",
    "\n",
    "print(__name__)\n",
    "\n",
    "# output :\n",
    "\n",
    "__main__"
   ]
  },
  {
   "cell_type": "code",
   "execution_count": 59,
   "metadata": {},
   "outputs": [
    {
     "name": "stdout",
     "output_type": "stream",
     "text": [
      "__main__\n"
     ]
    }
   ],
   "source": [
    "# 17.What is the output of this code when run from a python script.\n",
    "\n",
    "print(__name__)"
   ]
  },
  {
   "cell_type": "code",
   "execution_count": null,
   "metadata": {},
   "outputs": [],
   "source": [
    "# 18. Does the dir of int class contain an attribute __name__ (Y/N).\n",
    "\n",
    "# Answer is \"N\"\n",
    "\n",
    "# Because __name is the speical variable, will get from dir()"
   ]
  },
  {
   "cell_type": "code",
   "execution_count": null,
   "metadata": {},
   "outputs": [],
   "source": [
    "# 19.Predict the output of :\n",
    "\n",
    "# 1. print(__name__)\n",
    "# Output :\n",
    "__main__\n",
    "\n",
    "# 2. print(__builtins__.__name__)\n",
    "# Output :\n",
    "builtins\n",
    "\n",
    "# 3. print(int.__name__)\n",
    "# Output :\n",
    "int"
   ]
  },
  {
   "cell_type": "markdown",
   "metadata": {},
   "source": [
    "# End of the Assignment_Intro_Solutions"
   ]
  }
 ],
 "metadata": {
  "kernelspec": {
   "display_name": "Python 3",
   "language": "python",
   "name": "python3"
  },
  "language_info": {
   "codemirror_mode": {
    "name": "ipython",
    "version": 3
   },
   "file_extension": ".py",
   "mimetype": "text/x-python",
   "name": "python",
   "nbconvert_exporter": "python",
   "pygments_lexer": "ipython3",
   "version": "3.7.4"
  }
 },
 "nbformat": 4,
 "nbformat_minor": 2
}
