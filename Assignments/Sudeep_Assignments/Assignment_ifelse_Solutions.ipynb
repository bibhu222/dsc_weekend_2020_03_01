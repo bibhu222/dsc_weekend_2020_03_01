{
 "cells": [
  {
   "cell_type": "markdown",
   "metadata": {},
   "source": [
    "#  Assignment_ifelse_Solutions"
   ]
  },
  {
   "cell_type": "code",
   "execution_count": 21,
   "metadata": {},
   "outputs": [
    {
     "name": "stdout",
     "output_type": "stream",
     "text": [
      "Enter the First Number : 20\n",
      "Enter the Second Number : 5\n",
      "True\n"
     ]
    }
   ],
   "source": [
    "# 1. WAP to input 2 numbers and check whether the first is divisible by the second and print true or\n",
    "# false depending on the divisibility.\n",
    "\n",
    "N1 = int(input(\"Enter the First Number : \"))\n",
    "N2 = int(input(\"Enter the Second Number : \"))\n",
    "if N1 % N2 == 0:\n",
    "    print(\"True\")\n",
    "else:\n",
    "    print(\"False\")"
   ]
  },
  {
   "cell_type": "code",
   "execution_count": 57,
   "metadata": {},
   "outputs": [
    {
     "name": "stdout",
     "output_type": "stream",
     "text": [
      "Enter the Name : BNCDERTYUPOE\n",
      "BNCDERTYUPOE is not palindrome\n"
     ]
    }
   ],
   "source": [
    "# 2. In the palindrome\n",
    "\n",
    "Name = str(input(\"Enter the Name : \"))\n",
    "A = Name[::-1]\n",
    "B = Name.upper()\n",
    "if A == B:\n",
    "    print(Name, \"is palindrome\")\n",
    "else:\n",
    "    print(Name, \"is not palindrome\")"
   ]
  },
  {
   "cell_type": "code",
   "execution_count": 62,
   "metadata": {},
   "outputs": [
    {
     "name": "stdout",
     "output_type": "stream",
     "text": [
      "Enter the Side1 of the Triangle : 2\n",
      "Enter the Side2 of the Triangle : 7\n",
      "Enter the side3 of the Triangle : 2\n",
      "Two sides of the triangle is Equal and Isosceles Triangle\n"
     ]
    }
   ],
   "source": [
    "# 3. WAP to input the sides of a triangle and print whether equilateral(all sides equal), isosceles (2\n",
    "# sides equal), or scalene (no sides equal).\n",
    "S1 = int(input(\"Enter the Side1 of the Triangle : \"))\n",
    "S2 = int(input(\"Enter the Side2 of the Triangle : \"))\n",
    "S3 = int(input(\"Enter the side3 of the Triangle : \"))\n",
    "if S1 == S2 and S2 == S3 and S1 == S3:\n",
    "    print(\"All the sides of the Triangle is Equal and {}\".format(\"Equilateral Triangle\"))\n",
    "elif S1 == S2 or S2 == S3 or S1 == S3:\n",
    "    print(\"Two sides of the triangle is Equal and {}\".format(\"Isosceles Triangle\"))\n",
    "else:\n",
    "    print(\"Sides are not Equal and {}\".format(\"Scalene Triangle\"))"
   ]
  },
  {
   "cell_type": "code",
   "execution_count": 72,
   "metadata": {},
   "outputs": [
    {
     "name": "stdout",
     "output_type": "stream",
     "text": [
      "Enter the number : 6\n",
      "6 The Number is Even\n"
     ]
    }
   ],
   "source": [
    "# 4. WAP to input a number and print if it is even or odd.\n",
    "\n",
    "Number = int(input(\"Enter the number : \"))\n",
    "if (Number % 2) == 0:\n",
    "    print(\"{} The Number is Even\".format(Number))\n",
    "else:\n",
    "    print(\"{} The Number is ODD\".format(Number))"
   ]
  },
  {
   "cell_type": "code",
   "execution_count": 150,
   "metadata": {},
   "outputs": [
    {
     "name": "stdout",
     "output_type": "stream",
     "text": [
      "Enter the Age : 12\n",
      "CHILD\n"
     ]
    }
   ],
   "source": [
    "# 5. WAP to input age\n",
    "\n",
    "Age = float(input(\"Enter the Age : \"))\n",
    "if Age >= 0 and Age <= 12:\n",
    "    print(\"CHILD\")\n",
    "elif Age >=13 and Age <= 18:\n",
    "    print(\"TEEN\")\n",
    "elif Age >=19 and Age <= 50:\n",
    "    print(\"ADULT\")\n",
    "elif Age >=51 and Age <= 100:\n",
    "    print(\"Senior Citizen\")\n",
    "else:\n",
    "    print(\"Contratulations\")"
   ]
  },
  {
   "cell_type": "code",
   "execution_count": 157,
   "metadata": {},
   "outputs": [
    {
     "name": "stdout",
     "output_type": "stream",
     "text": [
      "Enter the year :2012\n",
      "2012 Year is the Leap year\n"
     ]
    }
   ],
   "source": [
    "# 6. WAP to input year to check whether leap year or not\n",
    "\n",
    "year = int(input('Enter the year :'))\n",
    "if year % 4 == 0:\n",
    "    if year % 100 == 0:\n",
    "        if year % 400 == 0:\n",
    "            print('{0} Year is the Leap Year'.format(year))\n",
    "        else:\n",
    "            print('{0} Year is not a Leap Year'.format(year))\n",
    "    else:\n",
    "        print('{0} Year is the Leap year'.format(year))\n",
    "else:\n",
    "    print('{0} Year is not a Leap Year'.format(year))"
   ]
  },
  {
   "cell_type": "code",
   "execution_count": 163,
   "metadata": {},
   "outputs": [
    {
     "name": "stdout",
     "output_type": "stream",
     "text": [
      "Enter the Characters : SUDEEPGUMMA\n",
      "11 is ODD Number so Characters are lower case sudeepgumma\n"
     ]
    }
   ],
   "source": [
    "String = str(input(\"Enter the Characters : \"))\n",
    "L = len(String)\n",
    "if L % 2 == 0:\n",
    "    print(L,\"is EVEN Number so Characters are Upper case\", String.Upper())\n",
    "else:\n",
    "    print(L, \"is ODD Number so Characters are lower case\", String.lower())"
   ]
  },
  {
   "cell_type": "code",
   "execution_count": 174,
   "metadata": {},
   "outputs": [
    {
     "name": "stdout",
     "output_type": "stream",
     "text": [
      "Enter the word: EGG\n",
      "Non-Veg\n"
     ]
    }
   ],
   "source": [
    "Word = str(input(\"Enter the word: \"))\n",
    "Word = Word.lower()\n",
    "Word_1='egg'\n",
    "if Word_1 in Word:\n",
    "    print(\"Non-Veg\")\n",
    "else:\n",
    "    print(\"Veg\")"
   ]
  },
  {
   "cell_type": "code",
   "execution_count": null,
   "metadata": {},
   "outputs": [],
   "source": [
    "if not 1:  \n",
    "    print(\"False\")\n",
    "else:\n",
    "    print(\"True\")\n",
    "# Other an \"1\" all are True\n",
    "\n",
    "if 1:  \n",
    "    print(\"True\")\n",
    "else:\n",
    "    print(\"False\")\n",
    "# Only \"1\" will be True all other Numbers will be false.\n",
    "\n",
    "# Unable to Understand\n",
    "if 'a'>'A':   \n",
    "    print(\"Weird!!\")\n",
    "else:\n",
    "    print(\"Makes sense\")\n",
    "\n",
    "# Unable to Understand\n",
    "a=[1,2,3,4]\n",
    "if 1>1:\n",
    "    a=a[::-1]\n",
    "else:\n",
    "    a=a[-1::-1]\n",
    "print(a)"
   ]
  },
  {
   "cell_type": "code",
   "execution_count": 183,
   "metadata": {},
   "outputs": [
    {
     "name": "stdout",
     "output_type": "stream",
     "text": [
      "Enter marks in Maths:100\n",
      "marks in Physics:90\n",
      "marks in Social:80\n",
      "marks in Chemsitry:75\n",
      "marks in English:67\n",
      "82.39999999999999 % in Grade A\n"
     ]
    }
   ],
   "source": [
    "Sub_1 = int(input(\"Enter marks in Maths: \"))\n",
    "Sub_2 = int(input(\"Enter marks in Physics: \"))\n",
    "Sub_3 = int(input(\"Enter marks in Social: \"))\n",
    "Sub_4 = int(input(\"Enter marks in Chemsitry: \"))\n",
    "Sub_5 = int(input(\"Enter marks in English: \")) \n",
    "Sum = (Sub_1 + Sub_2 + Sub_3 + Sub_4 + Sub_5) / 500\n",
    "Percentage = Sum * 100\n",
    "A = list(range(90,101))\n",
    "if A:\n",
    "    print(Percentage,\"% as Grade A\")\n",
    "elif Percentage<90 and Percentage>=80:\n",
    "    print(Percentage,\"% as Grade B\")\n",
    "elif Percentage<80 and Percentage>=70:\n",
    "    print(Percentage,\"% as Grade C\")\n",
    "elif Percentage<70 and Percentage>=60:\n",
    "    print(Percentage,\"% as Grade D\")\n",
    "elif Percentage<60:\n",
    "    print(Percentage,\"% as Grade F\")\n",
    "else:\n",
    "    print(\"Out of the School\")"
   ]
  },
  {
   "cell_type": "code",
   "execution_count": 198,
   "metadata": {},
   "outputs": [
    {
     "name": "stdout",
     "output_type": "stream",
     "text": [
      "Enter the Age : 25\n",
      "Enter Annual Income : 312856\n",
      "The Tax Amount on your Annual Income  312856 = 15643.0\n"
     ]
    }
   ],
   "source": [
    "# 11. WAP to input age and salary and calculate Tax as per tax rates\n",
    "\n",
    "Age = int(input(\"Enter the Age : \"))\n",
    "Salary = int(input(\"Enter Annual Income : \"))\n",
    "Income_Per_Month = Salary /12\n",
    "if Age <= 60:\n",
    "    if Salary <= 250000:\n",
    "        Tax_Amount = 0 * salary\n",
    "        print(\"Tax is Zero\")\n",
    "    elif Salary > 250000 and Salary <= 500000:\n",
    "        Tax_Amount = 0.05 * Salary\n",
    "        print(\"The Tax Amount on your Annual Income \", (Salary), \"=\", round(Tax_Amount,0))\n",
    "    elif Salary > 500000 and Salary <= 1000000:\n",
    "        Tax_Amount = 0.1 * Salary\n",
    "        print(\"The Tax Amount on your Annual Income \", (Salary), \"=\", Tax_Amount)\n",
    "    elif Salary > 1000000:\n",
    "        Tax_Amount = 0.15 * Salary\n",
    "        print(\"The Tax Amount on your Annual Income \", (Salary), \"=\", Tax_Amount)\n",
    "elif Age > 60:\n",
    "    if Salary <= 250000:\n",
    "        Tax_Amount = 0 * salary\n",
    "        print(\"Tax is Zero\")\n",
    "    elif Salary > 250000 and Salary <= 500000:\n",
    "        Tax_Amount = 0.05 * Salary\n",
    "        print(\"The Tax Amount on your Annual Income \", (Salary), \"=\", round(Tax_Amount,0))\n",
    "    elif Salary > 500000 and Salary <= 1000000:\n",
    "        Tax_Amount = 0.1 * Salary\n",
    "        print(\"The Tax Amount on your Annual Income \", (Salary), \"=\", Tax_Amount)\n",
    "    elif Salary > 1000000:\n",
    "        Tax_Amount = 0.15 * Salary\n",
    "        print(\"The Tax Amount on your Annual Income \", (Salary), \"=\", Tax_Amount)"
   ]
  },
  {
   "cell_type": "code",
   "execution_count": null,
   "metadata": {},
   "outputs": [],
   "source": [
    "# print(20 if not 1==1 else 10)\n",
    "# Output = 10\n",
    "\n",
    "# print(30 if not 1==1 else 20 if 'a'<'A' else 10 )\n",
    "# Output = 10\n",
    "\n",
    "# print(40 if not 1==1 else 30 if 'a'<'A' else 20 if '' else 10)\n",
    "# Output = 10\n",
    "\n",
    "# print('No' if not 1==1 else ('No' if 'a'<'A' else ('OMG' if 'oh!!' else 'No')))\n",
    "# Output = OMG"
   ]
  },
  {
   "cell_type": "code",
   "execution_count": 212,
   "metadata": {},
   "outputs": [
    {
     "name": "stdout",
     "output_type": "stream",
     "text": [
      "Enter the your Weight in Kgs : 75\n",
      "Enter the your in Cms : 180\n",
      "Value of BMI is 23.0 and it is Overweight\n"
     ]
    }
   ],
   "source": [
    "# 13. WAP: bmi() that takes the weight in kg and height in cm of a person, calculates and returns the BMI.\n",
    "\n",
    "Weight = float(input(\"Enter the your Weight in Kgs : \"))\n",
    "Height = float(input(\"Enter the your in Cms : \"))\n",
    "Conversion = Height / 100\n",
    "BMI = Weight / (Conversion) ** 2\n",
    "if BMI <= 18.5:\n",
    "    print(\"Value of BMI is\",round(BMI,0),\"and it is Underweight\")\n",
    "elif BMI > 18.5 and BMI <= 23:\n",
    "    print(\"Value of BMI is\",round(BMI,0),\"and it is Normal\")\n",
    "elif BMI > 23 and BMI <= 25:\n",
    "    print(\"Value of BMI is\",round(BMI,0),\"and it is Overweight\")\n",
    "elif BMI > 25 and BMI <= 30:\n",
    "    print(\"Value of BMI is\",round(BMI,0),\"and it is Overweight—Moderately Obese\")\n",
    "elif BMI > 30:\n",
    "    print(\"Value of BMI is\",round(BMI,0),\"and it is Overweight—Severely Obese\")"
   ]
  },
  {
   "cell_type": "code",
   "execution_count": 214,
   "metadata": {},
   "outputs": [
    {
     "name": "stdout",
     "output_type": "stream",
     "text": [
      "Enter the first persons age: 15\n",
      "Enter the Second persons age: 18\n",
      "Enter the Third person age: 30\n",
      "Youngest 15 Years\n",
      "Youngest 18 Years\n",
      "Oldest 30 Years\n"
     ]
    }
   ],
   "source": [
    "# 14. Take input of age of 3 people by user and determine oldest and youngest among them.\n",
    "Age_1 = int(input(\"Enter the first persons age: \"))\n",
    "Age_2 = int(input(\"Enter the Second persons age: \"))\n",
    "Age_3 = int(input(\"Enter the Third person age: \"))\n",
    "\n",
    "for Age in Age_1,Age_2,Age_3:\n",
    "    if Age > 20:\n",
    "        print(\"Oldest\",Age,\"Years\")\n",
    "    else:\n",
    "        print(\"Youngest\",Age,\"Years\")"
   ]
  },
  {
   "cell_type": "code",
   "execution_count": 218,
   "metadata": {},
   "outputs": [
    {
     "name": "stdout",
     "output_type": "stream",
     "text": [
      "Enter a number : 35\n",
      "Number is divisible by both 5 and 7\n"
     ]
    }
   ],
   "source": [
    "# 15. WAP to input a number and check if number is divisible by both 5 and 7.\n",
    "\n",
    "Number = int(input(\"Enter a number : \"))\n",
    "if Number % 5 == 0 and Number % 7 == 0:\n",
    "    print(\"Number is divisible by both 5 and 7\")\n",
    "else:\n",
    "    print(\"Number is not divisible\")"
   ]
  },
  {
   "cell_type": "markdown",
   "metadata": {},
   "source": [
    "#  Assignment_ifelse_Solutions_End"
   ]
  }
 ],
 "metadata": {
  "kernelspec": {
   "display_name": "Python 3",
   "language": "python",
   "name": "python3"
  },
  "language_info": {
   "codemirror_mode": {
    "name": "ipython",
    "version": 3
   },
   "file_extension": ".py",
   "mimetype": "text/x-python",
   "name": "python",
   "nbconvert_exporter": "python",
   "pygments_lexer": "ipython3",
   "version": "3.7.4"
  }
 },
 "nbformat": 4,
 "nbformat_minor": 2
}
