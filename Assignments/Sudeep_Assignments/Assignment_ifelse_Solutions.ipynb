{
 "cells": [
  {
   "cell_type": "markdown",
   "metadata": {},
   "source": [
    "#  Assignment_ifelse_Solutions"
   ]
  },
  {
   "cell_type": "code",
   "execution_count": 21,
   "metadata": {},
   "outputs": [
    {
     "name": "stdout",
     "output_type": "stream",
     "text": [
      "Enter the First Number : 20\n",
      "Enter the Second Number : 5\n",
      "True\n"
     ]
    }
   ],
   "source": [
    "# 1. WAP to input 2 numbers and check whether the first is divisible by the second and print true or\n",
    "# false depending on the divisibility.\n",
    "\n",
    "N1 = int(input(\"Enter the First Number : \"))\n",
    "N2 = int(input(\"Enter the Second Number : \"))\n",
    "if N1 % N2 == 0:\n",
    "    print(\"True\")\n",
    "else:\n",
    "    print(\"False\")"
   ]
  },
  {
   "cell_type": "code",
   "execution_count": 57,
   "metadata": {},
   "outputs": [
    {
     "name": "stdout",
     "output_type": "stream",
     "text": [
      "Enter the Name : BNCDERTYUPOE\n",
      "BNCDERTYUPOE is not palindrome\n"
     ]
    }
   ],
   "source": [
    "# 2. In the palindrome\n",
    "\n",
    "Name = str(input(\"Enter the Name : \"))\n",
    "A = Name[::-1]\n",
    "B = Name.upper()\n",
    "if A == B:\n",
    "    print(Name, \"is palindrome\")\n",
    "else:\n",
    "    print(Name, \"is not palindrome\")"
   ]
  },
  {
   "cell_type": "code",
   "execution_count": 62,
   "metadata": {},
   "outputs": [
    {
     "name": "stdout",
     "output_type": "stream",
     "text": [
      "Enter the Side1 of the Triangle : 2\n",
      "Enter the Side2 of the Triangle : 7\n",
      "Enter the side3 of the Triangle : 2\n",
      "Two sides of the triangle is Equal and Isosceles Triangle\n"
     ]
    }
   ],
   "source": [
    "# 3. WAP to input the sides of a triangle and print whether equilateral(all sides equal), isosceles (2\n",
    "# sides equal), or scalene (no sides equal).\n",
    "S1 = int(input(\"Enter the Side1 of the Triangle : \"))\n",
    "S2 = int(input(\"Enter the Side2 of the Triangle : \"))\n",
    "S3 = int(input(\"Enter the side3 of the Triangle : \"))\n",
    "if S1 == S2 and S2 == S3 and S1 == S3:\n",
    "    print(\"All the sides of the Triangle is Equal and {}\".format(\"Equilateral Triangle\"))\n",
    "elif S1 == S2 or S2 == S3 or S1 == S3:\n",
    "    print(\"Two sides of the triangle is Equal and {}\".format(\"Isosceles Triangle\"))\n",
    "else:\n",
    "    print(\"Sides are not Equal and {}\".format(\"Scalene Triangle\"))"
   ]
  },
  {
   "cell_type": "code",
   "execution_count": 72,
   "metadata": {},
   "outputs": [
    {
     "name": "stdout",
     "output_type": "stream",
     "text": [
      "Enter the number : 6\n",
      "6 The Number is Even\n"
     ]
    }
   ],
   "source": [
    "# 4. WAP to input a number and print if it is even or odd.\n",
    "\n",
    "Number = int(input(\"Enter the number : \"))\n",
    "if (Number % 2) == 0:\n",
    "    print(\"{} The Number is Even\".format(Number))\n",
    "else:\n",
    "    print(\"{} The Number is ODD\".format(Number))"
   ]
  },
  {
   "cell_type": "code",
   "execution_count": 150,
   "metadata": {},
   "outputs": [
    {
     "name": "stdout",
     "output_type": "stream",
     "text": [
      "Enter the Age : 12\n",
      "CHILD\n"
     ]
    }
   ],
   "source": [
    "# 5. WAP to input age\n",
    "\n",
    "Age = float(input(\"Enter the Age : \"))\n",
    "if Age >= 0 and Age <= 12:\n",
    "    print(\"CHILD\")\n",
    "elif Age >=13 and Age <= 18:\n",
    "    print(\"TEEN\")\n",
    "elif Age >=19 and Age <= 50:\n",
    "    print(\"ADULT\")\n",
    "elif Age >=51 and Age <= 100:\n",
    "    print(\"Senior Citizen\")\n",
    "else:\n",
    "    print(\"Contratulations\")"
   ]
  },
  {
   "cell_type": "code",
   "execution_count": 157,
   "metadata": {},
   "outputs": [
    {
     "name": "stdout",
     "output_type": "stream",
     "text": [
      "Enter the year :2012\n",
      "2012 Year is the Leap year\n"
     ]
    }
   ],
   "source": [
    "# 6. WAP to input year to check whether leap year or not\n",
    "\n",
    "year = int(input('Enter the year :'))\n",
    "if year % 4 == 0:\n",
    "    if year % 100 == 0:\n",
    "        if year % 400 == 0:\n",
    "            print('{0} Year is the Leap Year'.format(year))\n",
    "        else:\n",
    "            print('{0} Year is not a Leap Year'.format(year))\n",
    "    else:\n",
    "        print('{0} Year is the Leap year'.format(year))\n",
    "else:\n",
    "    print('{0} Year is not a Leap Year'.format(year))"
   ]
  },
  {
   "cell_type": "code",
   "execution_count": 163,
   "metadata": {},
   "outputs": [
    {
     "name": "stdout",
     "output_type": "stream",
     "text": [
      "Enter the Characters : SUDEEPGUMMA\n",
      "11 is ODD Number so Characters are lower case sudeepgumma\n"
     ]
    }
   ],
   "source": [
    "String = str(input(\"Enter the Characters : \"))\n",
    "L = len(String)\n",
    "if L % 2 == 0:\n",
    "    print(L,\"is EVEN Number so Characters are Upper case\", String.Upper())\n",
    "else:\n",
    "    print(L, \"is ODD Number so Characters are lower case\", String.lower())"
   ]
  },
  {
   "cell_type": "code",
   "execution_count": 174,
   "metadata": {},
   "outputs": [
    {
     "name": "stdout",
     "output_type": "stream",
     "text": [
      "Enter the word: EGG\n",
      "Non-Veg\n"
     ]
    }
   ],
   "source": [
    "Word = str(input(\"Enter the word: \"))\n",
    "Word = Word.lower()\n",
    "Word_1='egg'\n",
    "if Word_1 in Word:\n",
    "    print(\"Non-Veg\")\n",
    "else:\n",
    "    print(\"Veg\")"
   ]
  },
  {
   "cell_type": "code",
   "execution_count": null,
   "metadata": {},
   "outputs": [],
   "source": [
    "if not 1:  \n",
    "    print(\"False\")\n",
    "else:\n",
    "    print(\"True\")\n",
    "# Other an \"1\" all are True\n",
    "\n",
    "if 1:  \n",
    "    print(\"True\")\n",
    "else:\n",
    "    print(\"False\")\n",
    "# Only \"1\" will be True all other Numbers will be false.\n",
    "\n",
    "# Unable to Understand\n",
    "if 'a'>'A':   \n",
    "    print(\"Weird!!\")\n",
    "else:\n",
    "    print(\"Makes sense\")\n",
    "\n",
    "# Unable to Understand\n",
    "a=[1,2,3,4]\n",
    "if 1>1:\n",
    "    a=a[::-1]\n",
    "else:\n",
    "    a=a[-1::-1]\n",
    "print(a)"
   ]
  },
  {
   "cell_type": "code",
   "execution_count": 183,
   "metadata": {},
   "outputs": [
    {
     "name": "stdout",
     "output_type": "stream",
     "text": [
      "Enter marks in Maths:100\n",
      "marks in Physics:90\n",
      "marks in Social:80\n",
      "marks in Chemsitry:75\n",
      "marks in English:67\n",
      "82.39999999999999 % in Grade A\n"
     ]
    }
   ],
   "source": [
    "Sub_1 = int(input(\"Enter marks in Maths: \"))\n",
    "Sub_2 = int(input(\"Enter marks in Physics: \"))\n",
    "Sub_3 = int(input(\"Enter marks in Social: \"))\n",
    "Sub_4 = int(input(\"Enter marks in Chemsitry: \"))\n",
    "Sub_5 = int(input(\"Enter marks in English: \")) \n",
    "Sum = (Sub_1 + Sub_2 + Sub_3 + Sub_4 + Sub_5) / 500\n",
    "Percentage = Sum * 100\n",
    "A = list(range(90,101))\n",
    "if A:\n",
    "    print(Percentage,\"% as Grade A\")\n",
    "elif Percentage<90 and Percentage>=80:\n",
    "    print(Percentage,\"% as Grade B\")\n",
    "elif Percentage<80 and Percentage>=70:\n",
    "    print(Percentage,\"% as Grade C\")\n",
    "elif Percentage<70 and Percentage>=60:\n",
    "    print(Percentage,\"% as Grade D\")\n",
    "elif Percentage<60:\n",
    "    print(Percentage,\"% as Grade F\")\n",
    "else:\n",
    "    print(\"Out of the School\")"
   ]
  },
  {
   "cell_type": "code",
   "execution_count": null,
   "metadata": {},
   "outputs": [],
   "source": []
  }
 ],
 "metadata": {
  "kernelspec": {
   "display_name": "Python 3",
   "language": "python",
   "name": "python3"
  },
  "language_info": {
   "codemirror_mode": {
    "name": "ipython",
    "version": 3
   },
   "file_extension": ".py",
   "mimetype": "text/x-python",
   "name": "python",
   "nbconvert_exporter": "python",
   "pygments_lexer": "ipython3",
   "version": "3.7.4"
  }
 },
 "nbformat": 4,
 "nbformat_minor": 2
}
