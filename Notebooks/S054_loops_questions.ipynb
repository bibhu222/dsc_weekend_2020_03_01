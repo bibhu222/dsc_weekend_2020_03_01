{
 "cells": [
  {
   "cell_type": "code",
   "execution_count": 4,
   "metadata": {},
   "outputs": [
    {
     "name": "stdout",
     "output_type": "stream",
     "text": [
      "1\n",
      "2\n",
      "3\n",
      "4\n",
      "5\n",
      "6\n",
      "7\n",
      "8\n",
      "9\n",
      "10\n"
     ]
    }
   ],
   "source": [
    "i =  1 # initialization\n",
    "\n",
    "while i <= 10:\n",
    "    print(i)\n",
    "    i += 1\n",
    "\n",
    "# i 1 2 3... 10 11\n",
    "# 1 2 3 .. 9 10"
   ]
  },
  {
   "cell_type": "code",
   "execution_count": 8,
   "metadata": {},
   "outputs": [
    {
     "name": "stdout",
     "output_type": "stream",
     "text": [
      "Enter a number: 5\n",
      "15\n"
     ]
    }
   ],
   "source": [
    "i =  1 # initialization\n",
    "s = 0\n",
    "n = int(input(\"Enter a number: \"))\n",
    "while i <= n:\n",
    "    s = s + i\n",
    "    i += 1\n",
    "\n",
    "print(s)\n",
    "# i 1 2 3 4 5 6\n",
    "# s 0 1 3 6 10 15\n",
    "# n 5"
   ]
  },
  {
   "cell_type": "code",
   "execution_count": null,
   "metadata": {},
   "outputs": [],
   "source": [
    "def funct(a):\n",
    "    s =  0\n",
    "    e =  len(a) - 1\n",
    "    \n",
    "    while s < e:\n",
    "        a[s],a[e] = a[e], a[s]\n",
    "        s += 1\n",
    "        e -= 1\n",
    "        \n",
    "arr  = [10,20,30,40,50]\n",
    "r  = funct(arr)\n",
    "print(arr)\n",
    "print(r)\n",
    "\n",
    "arr  = [10,20,30,40]\n",
    "r  = funct(arr)\n",
    "print(arr)\n",
    "print(r)\n",
    "\n",
    "arr  = []\n",
    "r  = funct(arr)\n",
    "print(arr)\n",
    "print(r)"
   ]
  },
  {
   "cell_type": "code",
   "execution_count": null,
   "metadata": {},
   "outputs": [],
   "source": [
    "import string\n",
    "\n",
    "def funct(s):\n",
    "    i = 0\n",
    "    count =  0\n",
    "    while i < len(s):\n",
    "        if s[i] in string.whitespace:\n",
    "            count += 1\n",
    "        i += 1\n",
    "            \n",
    "    return count\n",
    "\n",
    "ss = \"\"\"\n",
    "this is a \n",
    "string.\n",
    "with whitespaces\n",
    "\n",
    "\"\"\"\n",
    "print(funct(ss))\n",
    "print(funct(input(\"Enter some string: \")))\n"
   ]
  },
  {
   "cell_type": "code",
   "execution_count": null,
   "metadata": {},
   "outputs": [],
   "source": []
  },
  {
   "cell_type": "code",
   "execution_count": null,
   "metadata": {},
   "outputs": [],
   "source": []
  }
 ],
 "metadata": {
  "kernelspec": {
   "display_name": "Python 3",
   "language": "python",
   "name": "python3"
  },
  "language_info": {
   "codemirror_mode": {
    "name": "ipython",
    "version": 3
   },
   "file_extension": ".py",
   "mimetype": "text/x-python",
   "name": "python",
   "nbconvert_exporter": "python",
   "pygments_lexer": "ipython3",
   "version": "3.7.4"
  }
 },
 "nbformat": 4,
 "nbformat_minor": 2
}
