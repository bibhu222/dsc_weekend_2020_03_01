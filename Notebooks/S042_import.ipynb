{
 "cells": [
  {
   "cell_type": "code",
   "execution_count": 53,
   "metadata": {},
   "outputs": [
    {
     "name": "stdout",
     "output_type": "stream",
     "text": [
      "8\n",
      "13\n",
      "13\n"
     ]
    }
   ],
   "source": [
    "import random\n",
    "print(random.randrange(10)) # 0-9\n",
    "print(random.randrange(5,15)) # 5-14\n",
    "print(random.randrange(5,15,2)) # 5,7,9,11,13"
   ]
  },
  {
   "cell_type": "code",
   "execution_count": 56,
   "metadata": {},
   "outputs": [
    {
     "name": "stdout",
     "output_type": "stream",
     "text": [
      "gaurav\n",
      "u\n"
     ]
    }
   ],
   "source": [
    "# WAP to input a string and print one random character from that string\n",
    "s  = input()\n",
    "idx = random.randrange(len(s))\n",
    "print(s[idx])"
   ]
  },
  {
   "cell_type": "code",
   "execution_count": 68,
   "metadata": {},
   "outputs": [
    {
     "name": "stdout",
     "output_type": "stream",
     "text": [
      "X\n"
     ]
    }
   ],
   "source": [
    "# WAP to print a random alphabet\n",
    "num = random.randrange(65,91)\n",
    "print(chr(num))\n",
    "\n",
    "# try using string module and randrange index\n",
    "# try using string module and choice function"
   ]
  },
  {
   "cell_type": "code",
   "execution_count": 76,
   "metadata": {},
   "outputs": [
    {
     "name": "stdout",
     "output_type": "stream",
     "text": [
      "3\n"
     ]
    }
   ],
   "source": [
    "print(random.randint(3,5)) # 3-5"
   ]
  },
  {
   "cell_type": "code",
   "execution_count": 81,
   "metadata": {},
   "outputs": [
    {
     "name": "stdout",
     "output_type": "stream",
     "text": [
      "3.3932951270852456\n",
      "0.31716317973485975\n"
     ]
    }
   ],
   "source": [
    "print(random.uniform(3,5)) # float between 3-5\n",
    "print(random.random()) # float between 0-1"
   ]
  },
  {
   "cell_type": "code",
   "execution_count": null,
   "metadata": {},
   "outputs": [],
   "source": [
    "# Ways to import a module\n",
    "import <module1>, <module2>\n",
    "import <module> as <alias>\n",
    "from <module> import <name1>, <name2>\n",
    "from <moudle> import <name> as <alias>\n",
    "from <module> import *"
   ]
  },
  {
   "cell_type": "code",
   "execution_count": 82,
   "metadata": {},
   "outputs": [],
   "source": [
    "import random as rd\n",
    "from random import randint\n",
    "from random import randint as ri\n",
    "from random import *"
   ]
  },
  {
   "cell_type": "code",
   "execution_count": 1,
   "metadata": {},
   "outputs": [
    {
     "name": "stdout",
     "output_type": "stream",
     "text": [
      "['__builtins__', '__cached__', '__doc__', '__file__', '__loader__', '__name__', '__package__', '__spec__', 'x']\n",
      "3.14\n"
     ]
    }
   ],
   "source": [
    "import test\n",
    "print(dir(test))\n",
    "print(test.x)"
   ]
  }
 ],
 "metadata": {
  "kernelspec": {
   "display_name": "Python 3",
   "language": "python",
   "name": "python3"
  },
  "language_info": {
   "codemirror_mode": {
    "name": "ipython",
    "version": 3
   },
   "file_extension": ".py",
   "mimetype": "text/x-python",
   "name": "python",
   "nbconvert_exporter": "python",
   "pygments_lexer": "ipython3",
   "version": "3.7.4"
  }
 },
 "nbformat": 4,
 "nbformat_minor": 2
}
