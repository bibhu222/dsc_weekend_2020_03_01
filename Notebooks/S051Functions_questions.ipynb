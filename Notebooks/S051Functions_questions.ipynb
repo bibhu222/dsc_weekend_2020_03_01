{
 "cells": [
  {
   "cell_type": "code",
   "execution_count": 3,
   "metadata": {},
   "outputs": [
    {
     "name": "stdout",
     "output_type": "stream",
     "text": [
      "True\n",
      "False\n"
     ]
    }
   ],
   "source": [
    "def is_even(num):\n",
    "    if num % 2 == 0:\n",
    "        return True # first\n",
    "    \n",
    "    return False # second\n",
    "    \n",
    "print(is_even(10))\n",
    "print(is_even(11))"
   ]
  },
  {
   "cell_type": "code",
   "execution_count": null,
   "metadata": {},
   "outputs": [],
   "source": [
    "# a function can have 0-n return statements\n",
    "# but only one can get executed in a function call\n",
    "# whenever a return is executed.. function terminates"
   ]
  },
  {
   "cell_type": "code",
   "execution_count": 2,
   "metadata": {},
   "outputs": [
    {
     "name": "stdout",
     "output_type": "stream",
     "text": [
      "1\n",
      "1\n",
      "1\n",
      "1\n"
     ]
    }
   ],
   "source": [
    "def func1():\n",
    "    return 1\n",
    "    return \"abcd\"\n",
    "\n",
    "print(func1())\n",
    "print(func1())\n",
    "print(func1())\n",
    "print(func1())"
   ]
  },
  {
   "cell_type": "code",
   "execution_count": 4,
   "metadata": {},
   "outputs": [
    {
     "name": "stdout",
     "output_type": "stream",
     "text": [
      "None\n",
      "None\n",
      "None\n",
      "None\n"
     ]
    }
   ],
   "source": [
    "def func1():\n",
    "    return\n",
    "\n",
    "print(func1())\n",
    "print(func1())\n",
    "print(func1())\n",
    "print(func1())"
   ]
  },
  {
   "cell_type": "code",
   "execution_count": 8,
   "metadata": {},
   "outputs": [
    {
     "name": "stdout",
     "output_type": "stream",
     "text": [
      "None\n",
      "None\n",
      "None\n",
      "None\n"
     ]
    }
   ],
   "source": [
    "def func1():\n",
    "    pass\n",
    "\n",
    "print(func1())\n",
    "print(func1())\n",
    "print(func1())\n",
    "print(func1())"
   ]
  },
  {
   "cell_type": "code",
   "execution_count": 9,
   "metadata": {},
   "outputs": [
    {
     "name": "stdout",
     "output_type": "stream",
     "text": [
      "1 2\n"
     ]
    }
   ],
   "source": [
    "a = 1,2\n",
    "n1, n2 = a # tuple unpacking\n",
    "print(n1, n2)\n"
   ]
  },
  {
   "cell_type": "code",
   "execution_count": 10,
   "metadata": {},
   "outputs": [
    {
     "name": "stdout",
     "output_type": "stream",
     "text": [
      "2 1\n"
     ]
    }
   ],
   "source": [
    "a = 1\n",
    "b = 2\n",
    "a,b=b,a\n",
    "print(a,b)"
   ]
  },
  {
   "cell_type": "code",
   "execution_count": 13,
   "metadata": {},
   "outputs": [
    {
     "name": "stdout",
     "output_type": "stream",
     "text": [
      "(3.3333333333333335, 1)\n"
     ]
    }
   ],
   "source": [
    "def funct(n1, n2):\n",
    "    q =n1/n2\n",
    "    r  =  n1%n2\n",
    "    return q,r\n",
    "\n",
    "print(funct(10,3))"
   ]
  },
  {
   "cell_type": "code",
   "execution_count": 18,
   "metadata": {},
   "outputs": [
    {
     "name": "stdout",
     "output_type": "stream",
     "text": [
      "<function f at 0x0000021F2004C1F8>\n",
      "<function f at 0x0000021F2004C1F8>\n",
      "My name is f\n",
      "None\n",
      "My name is f\n"
     ]
    }
   ],
   "source": [
    "def f():\n",
    "    print(\"My name is\", f.__name__)\n",
    "\n",
    "print(f)\n",
    "q1 = f\n",
    "print(q1)\n",
    "q2 = f()\n",
    "print(q2)\n",
    "q1()"
   ]
  },
  {
   "cell_type": "code",
   "execution_count": 20,
   "metadata": {},
   "outputs": [
    {
     "name": "stdout",
     "output_type": "stream",
     "text": [
      "My name is f\n"
     ]
    }
   ],
   "source": [
    "def f():\n",
    "    print(\"My name is\", f.__name__)\n",
    "\n",
    "f()"
   ]
  },
  {
   "cell_type": "code",
   "execution_count": 22,
   "metadata": {},
   "outputs": [
    {
     "name": "stdout",
     "output_type": "stream",
     "text": [
      "My name is f\n"
     ]
    }
   ],
   "source": [
    "def f():\n",
    "    print(\"My name is\", f.__name__)\n",
    "\n",
    "q1 = f\n",
    "q1()"
   ]
  },
  {
   "cell_type": "code",
   "execution_count": 21,
   "metadata": {},
   "outputs": [
    {
     "name": "stdout",
     "output_type": "stream",
     "text": [
      "Hello\n"
     ]
    }
   ],
   "source": [
    "def f1():\n",
    "    print(\"Hello\")\n",
    "    \n",
    "def funct(f):\n",
    "    f()\n",
    "    \n",
    "funct(f1)"
   ]
  },
  {
   "cell_type": "code",
   "execution_count": 24,
   "metadata": {},
   "outputs": [
    {
     "name": "stdout",
     "output_type": "stream",
     "text": [
      "30\n",
      "-10\n",
      "30\n"
     ]
    }
   ],
   "source": [
    "def add(x,y):\n",
    "    return x + y\n",
    "def sub(x,y):\n",
    "    return x - y\n",
    "\n",
    "def operate(op1, op2, funct =  add):\n",
    "    return funct(op1, op2)\n",
    "\n",
    "print(operate(10,20))\n",
    "print(operate(10,20, sub))\n",
    "print(operate(10,20, add))"
   ]
  },
  {
   "cell_type": "code",
   "execution_count": 29,
   "metadata": {},
   "outputs": [
    {
     "name": "stdout",
     "output_type": "stream",
     "text": [
      "Enter operation(+,-,*,/):+\n",
      "Add called\n",
      "Enter n1:2\n",
      "Enter n2:3\n",
      "5\n"
     ]
    }
   ],
   "source": [
    "def add(x,y):\n",
    "    return x + y\n",
    "def sub(x,y):\n",
    "    return x - y\n",
    "def mul(x,y):\n",
    "    return x * y\n",
    "def div(x,y):\n",
    "    return x / y\n",
    "\n",
    "def get_funct(op):\n",
    "    if op == \"+\":\n",
    "        return add\n",
    "    if op == \"-\":\n",
    "        return sub\n",
    "    if op == \"*\":\n",
    "        return mul\n",
    "    if op == \"/\":\n",
    "        return div\n",
    "\n",
    "op =  input(\"Enter operation(+,-,*,/):\")\n",
    "\n",
    "funct = get_funct(op)\n",
    "if funct: # check if None\n",
    "    n1  =  int(input(\"Enter n1:\"))\n",
    "    n2  =  int(input(\"Enter n2:\"))\n",
    "    print(funct(n1, n2))\n",
    "else:\n",
    "    print(\"Invalid Operation\")"
   ]
  }
 ],
 "metadata": {
  "kernelspec": {
   "display_name": "Python 3",
   "language": "python",
   "name": "python3"
  },
  "language_info": {
   "codemirror_mode": {
    "name": "ipython",
    "version": 3
   },
   "file_extension": ".py",
   "mimetype": "text/x-python",
   "name": "python",
   "nbconvert_exporter": "python",
   "pygments_lexer": "ipython3",
   "version": "3.7.4"
  }
 },
 "nbformat": 4,
 "nbformat_minor": 2
}
