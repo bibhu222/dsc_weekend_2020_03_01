{
 "cells": [
  {
   "cell_type": "code",
   "execution_count": 6,
   "metadata": {},
   "outputs": [
    {
     "name": "stdout",
     "output_type": "stream",
     "text": [
      "[14, 14, 15, 12, 13]\n"
     ]
    }
   ],
   "source": [
    "# WAP to generate a list of 5 random integer b/w 10-20\n",
    "\n",
    "import random\n",
    "a = []\n",
    "a.append(random.randint(10,20))\n",
    "a.append(random.randint(10,20))\n",
    "a.append(random.randint(10,20))\n",
    "a.append(random.randint(10,20))\n",
    "a.append(random.randint(10,20))\n",
    "print(a)"
   ]
  },
  {
   "cell_type": "code",
   "execution_count": 8,
   "metadata": {},
   "outputs": [
    {
     "name": "stdout",
     "output_type": "stream",
     "text": [
      "[15, 17, 15, 20, 16]\n"
     ]
    }
   ],
   "source": [
    "# WAP to generate a list of 5 random integer b/w 10-20\n",
    "\n",
    "import random\n",
    "a = [random.randint(10,20),random.randint(10,20),random.randint(10,20),random.randint(10,20),random.randint(10,20)]\n",
    "print(a)"
   ]
  },
  {
   "cell_type": "markdown",
   "metadata": {},
   "source": [
    "## strings"
   ]
  },
  {
   "cell_type": "code",
   "execution_count": 27,
   "metadata": {},
   "outputs": [
    {
     "name": "stdout",
     "output_type": "stream",
     "text": [
      "ab,.cd pq r,.12 1,. ['ab,.cd', 'pq', 'r,.12', '1,.']\n",
      "ab,.cd pq r,.12 1,. ['ab', 'cd pq r', '12 1', '']\n",
      "ab,.cd pq r,.12 1,. ['ab,.cd pq r,.12 1,.'] 1\n",
      "ab,.cd pq r,.12 1,. ['ab', 'cd pq r', '12 1', ''] 4\n",
      "\n",
      "ab cd pq\n",
      "ab==cd==pq\n",
      "abcdpq\n",
      "1fsf\n"
     ]
    }
   ],
   "source": [
    "s = 'ab,.cd pq r,.12 1,.'\n",
    "r  = s.split()\n",
    "print(s, r)\n",
    "r  = s.split(',.')\n",
    "print(s, r)\n",
    "r  = s.split('=')\n",
    "print(s, r, len(r))\n",
    "r  = s.rsplit(',.')\n",
    "print(s, r, len(r))\n",
    "\n",
    "print()\n",
    "a = ['ab','cd', 'pq']\n",
    "print(' '.join(a))\n",
    "print('=='.join(a))\n",
    "print(''.join(a))\n",
    "print(''.join((\"1\",\"fsf\")))"
   ]
  },
  {
   "cell_type": "code",
   "execution_count": 29,
   "metadata": {},
   "outputs": [
    {
     "name": "stdout",
     "output_type": "stream",
     "text": [
      "['1', '2', '3 4']\n",
      "['1 2', '3', '4']\n"
     ]
    }
   ],
   "source": [
    "s = \"1 2 3 4\"\n",
    "print(s.split(' ', maxsplit=2))\n",
    "print(s.rsplit(' ', maxsplit=2))"
   ]
  },
  {
   "cell_type": "code",
   "execution_count": 20,
   "metadata": {},
   "outputs": [
    {
     "name": "stdout",
     "output_type": "stream",
     "text": [
      "True\n",
      "False\n",
      "False\n",
      "True\n"
     ]
    }
   ],
   "source": [
    "print(\"abcd\".startswith(\"ab\"))\n",
    "print(\"abcd\".startswith(\"A\"))\n",
    "print(\"abcd\".endswith(\"Cd\"))\n",
    "print(\"abcd\".endswith(\"bcd\"))"
   ]
  },
  {
   "cell_type": "code",
   "execution_count": 32,
   "metadata": {},
   "outputs": [
    {
     "name": "stdout",
     "output_type": "stream",
     "text": [
      "2\n",
      "2\n",
      "-1\n"
     ]
    },
    {
     "ename": "ValueError",
     "evalue": "substring not found",
     "output_type": "error",
     "traceback": [
      "\u001b[1;31m---------------------------------------------------------------------------\u001b[0m",
      "\u001b[1;31mValueError\u001b[0m                                Traceback (most recent call last)",
      "\u001b[1;32m<ipython-input-32-e9ba6414b788>\u001b[0m in \u001b[0;36m<module>\u001b[1;34m\u001b[0m\n\u001b[0;32m      2\u001b[0m \u001b[0mprint\u001b[0m\u001b[1;33m(\u001b[0m\u001b[1;34m\"abcdABCD\"\u001b[0m\u001b[1;33m.\u001b[0m\u001b[0mindex\u001b[0m\u001b[1;33m(\u001b[0m\u001b[1;34m\"cd\"\u001b[0m\u001b[1;33m)\u001b[0m\u001b[1;33m)\u001b[0m\u001b[1;33m\u001b[0m\u001b[1;33m\u001b[0m\u001b[0m\n\u001b[0;32m      3\u001b[0m \u001b[0mprint\u001b[0m\u001b[1;33m(\u001b[0m\u001b[1;34m\"abcdABCD\"\u001b[0m\u001b[1;33m.\u001b[0m\u001b[0mfind\u001b[0m\u001b[1;33m(\u001b[0m\u001b[1;34m\"AA\"\u001b[0m\u001b[1;33m)\u001b[0m\u001b[1;33m)\u001b[0m\u001b[1;33m\u001b[0m\u001b[1;33m\u001b[0m\u001b[0m\n\u001b[1;32m----> 4\u001b[1;33m \u001b[0mprint\u001b[0m\u001b[1;33m(\u001b[0m\u001b[1;34m\"abcdABCD\"\u001b[0m\u001b[1;33m.\u001b[0m\u001b[0mindex\u001b[0m\u001b[1;33m(\u001b[0m\u001b[1;34m\"AA\"\u001b[0m\u001b[1;33m)\u001b[0m\u001b[1;33m)\u001b[0m\u001b[1;33m\u001b[0m\u001b[1;33m\u001b[0m\u001b[0m\n\u001b[0m",
      "\u001b[1;31mValueError\u001b[0m: substring not found"
     ]
    }
   ],
   "source": [
    "print(\"abcdABCD\".find(\"cd\"))\n",
    "print(\"abcdABCD\".index(\"cd\"))\n",
    "print(\"abcdABCD\".find(\"AA\"))\n",
    "print(\"abcdABCD\".index(\"AA\"))"
   ]
  },
  {
   "cell_type": "markdown",
   "metadata": {},
   "source": [
    "## general behavior of sequences"
   ]
  },
  {
   "cell_type": "code",
   "execution_count": 21,
   "metadata": {},
   "outputs": [
    {
     "name": "stdout",
     "output_type": "stream",
     "text": [
      "[1, 2] [True, 30] [1, 2, True, 30]\n"
     ]
    }
   ],
   "source": [
    "a1 = [1,2]\n",
    "a2 = [True, 30]\n",
    "a3 =  a1 + a2\n",
    "print(a1, a2, a3)"
   ]
  },
  {
   "cell_type": "code",
   "execution_count": 22,
   "metadata": {},
   "outputs": [
    {
     "name": "stdout",
     "output_type": "stream",
     "text": [
      "abcd\n"
     ]
    }
   ],
   "source": [
    "s  =  \"ab\" + \"cd\"\n",
    "print(s)"
   ]
  },
  {
   "cell_type": "code",
   "execution_count": 35,
   "metadata": {},
   "outputs": [
    {
     "name": "stdout",
     "output_type": "stream",
     "text": [
      "abcdabcdabcdabcdabcdabcdabcdabcdabcdabcd\n",
      "[1, 2, 1, 2, 1, 2, 1, 2, 1, 2, 1, 2, 1, 2, 1, 2, 1, 2, 1, 2]\n",
      "(1, 2, 1, 2, 1, 2, 1, 2, 1, 2, 1, 2, 1, 2, 1, 2, 1, 2, 1, 2)\n"
     ]
    }
   ],
   "source": [
    "print(\"abcd\"*10)\n",
    "print([1,2]*10)\n",
    "print((1,2)*10)"
   ]
  },
  {
   "cell_type": "code",
   "execution_count": 40,
   "metadata": {},
   "outputs": [
    {
     "name": "stdout",
     "output_type": "stream",
     "text": [
      "True\n",
      "False\n",
      "False\n",
      "True\n",
      "True\n",
      "False\n"
     ]
    }
   ],
   "source": [
    "print(1 in [1,2,3])\n",
    "print(10 in [1,2,3])\n",
    "print(1 not in [1,2,3])\n",
    "print(10 not in [1,2,3])\n",
    "print(\"ab\" in \"pqabcd\")\n",
    "print(\"ab\" in \"pqacd\")"
   ]
  },
  {
   "cell_type": "code",
   "execution_count": 48,
   "metadata": {},
   "outputs": [
    {
     "name": "stdout",
     "output_type": "stream",
     "text": [
      "A\n",
      "z\n",
      "-1\n",
      "55\n",
      "59\n"
     ]
    }
   ],
   "source": [
    "print(min(\"BCDAbacd\"))\n",
    "print(max(\"ABCDzbacd\"))\n",
    "print(min([1,4,55,-1]))\n",
    "print(max([1,4,55,-1]))\n",
    "print(sum([1,4,55,-1]))"
   ]
  },
  {
   "cell_type": "code",
   "execution_count": 50,
   "metadata": {},
   "outputs": [
    {
     "name": "stdout",
     "output_type": "stream",
     "text": [
      "'ab\\nab\\nab\\nab\\n'\n",
      "ab\n",
      "ab\n",
      "ab\n",
      "ab\n",
      "\n"
     ]
    }
   ],
   "source": [
    "print(repr('ab\\n'*4))\n",
    "print(('ab\\n'*4))"
   ]
  }
 ],
 "metadata": {
  "kernelspec": {
   "display_name": "Python 3",
   "language": "python",
   "name": "python3"
  },
  "language_info": {
   "codemirror_mode": {
    "name": "ipython",
    "version": 3
   },
   "file_extension": ".py",
   "mimetype": "text/x-python",
   "name": "python",
   "nbconvert_exporter": "python",
   "pygments_lexer": "ipython3",
   "version": "3.7.4"
  }
 },
 "nbformat": 4,
 "nbformat_minor": 2
}
