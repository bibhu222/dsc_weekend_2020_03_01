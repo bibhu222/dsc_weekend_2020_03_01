{
 "cells": [
  {
   "cell_type": "markdown",
   "metadata": {},
   "source": [
    "# lambda and higher order functions"
   ]
  },
  {
   "cell_type": "code",
   "execution_count": 5,
   "metadata": {},
   "outputs": [
    {
     "name": "stdout",
     "output_type": "stream",
     "text": [
      "55\n"
     ]
    }
   ],
   "source": [
    "def funct(n1, n2):\n",
    "    return n1 + n2\n",
    "\n",
    "seq = [1, 2, 3, 4, 5, 6, 7, 8, 9, 10]\n",
    "\n",
    "res = seq[0]\n",
    "for i in range(1,len(seq)):\n",
    "    res = funct(res, seq[i])\n",
    "    \n",
    "print(res)"
   ]
  },
  {
   "cell_type": "code",
   "execution_count": 7,
   "metadata": {},
   "outputs": [
    {
     "name": "stdout",
     "output_type": "stream",
     "text": [
      "55\n"
     ]
    }
   ],
   "source": [
    "def funct(n1, n2):\n",
    "    return n1 + n2\n",
    "\n",
    "def apply(seq):\n",
    "    res = seq[0]\n",
    "    for i in range(1,len(seq)):\n",
    "        res = funct(res, seq[i])\n",
    "    return res\n",
    "\n",
    "seq = [1, 2, 3, 4, 5, 6, 7, 8, 9, 10]\n",
    "print( apply(seq) )"
   ]
  },
  {
   "cell_type": "code",
   "execution_count": 8,
   "metadata": {},
   "outputs": [
    {
     "name": "stdout",
     "output_type": "stream",
     "text": [
      "55\n"
     ]
    }
   ],
   "source": [
    "def add(n1, n2):\n",
    "    return n1 + n2\n",
    "\n",
    "def apply(seq, funct):\n",
    "    res = seq[0]\n",
    "    for i in range(1,len(seq)):\n",
    "        res = funct(res, seq[i])\n",
    "    return res\n",
    "\n",
    "seq = [1, 2, 3, 4, 5, 6, 7, 8, 9, 10]\n",
    "print( apply(seq, add) )"
   ]
  },
  {
   "cell_type": "code",
   "execution_count": 13,
   "metadata": {},
   "outputs": [
    {
     "name": "stdout",
     "output_type": "stream",
     "text": [
      "55\n",
      "3628800\n",
      "1\n",
      "A\n",
      "abcADxy\n"
     ]
    },
    {
     "ename": "TypeError",
     "evalue": "can't multiply sequence by non-int of type 'str'",
     "output_type": "error",
     "traceback": [
      "\u001b[1;31m---------------------------------------------------------------------------\u001b[0m",
      "\u001b[1;31mTypeError\u001b[0m                                 Traceback (most recent call last)",
      "\u001b[1;32m<ipython-input-13-8fd9122afa50>\u001b[0m in \u001b[0;36m<module>\u001b[1;34m\u001b[0m\n\u001b[0;32m     21\u001b[0m \u001b[0mprint\u001b[0m\u001b[1;33m(\u001b[0m \u001b[0mapply\u001b[0m\u001b[1;33m(\u001b[0m\u001b[1;34m\"abcADxy\"\u001b[0m\u001b[1;33m,\u001b[0m \u001b[0mminimum\u001b[0m\u001b[1;33m)\u001b[0m \u001b[1;33m)\u001b[0m\u001b[1;33m\u001b[0m\u001b[1;33m\u001b[0m\u001b[0m\n\u001b[0;32m     22\u001b[0m \u001b[0mprint\u001b[0m\u001b[1;33m(\u001b[0m \u001b[0mapply\u001b[0m\u001b[1;33m(\u001b[0m\u001b[1;34m\"abcADxy\"\u001b[0m\u001b[1;33m,\u001b[0m \u001b[0madd\u001b[0m\u001b[1;33m)\u001b[0m \u001b[1;33m)\u001b[0m\u001b[1;33m\u001b[0m\u001b[1;33m\u001b[0m\u001b[0m\n\u001b[1;32m---> 23\u001b[1;33m \u001b[0mprint\u001b[0m\u001b[1;33m(\u001b[0m \u001b[0mapply\u001b[0m\u001b[1;33m(\u001b[0m\u001b[1;34m\"abcADxy\"\u001b[0m\u001b[1;33m,\u001b[0m \u001b[0mmul\u001b[0m\u001b[1;33m)\u001b[0m \u001b[1;33m)\u001b[0m\u001b[1;33m\u001b[0m\u001b[1;33m\u001b[0m\u001b[0m\n\u001b[0m",
      "\u001b[1;32m<ipython-input-13-8fd9122afa50>\u001b[0m in \u001b[0;36mapply\u001b[1;34m(seq, funct)\u001b[0m\n\u001b[0;32m     12\u001b[0m     \u001b[0mres\u001b[0m \u001b[1;33m=\u001b[0m \u001b[0mseq\u001b[0m\u001b[1;33m[\u001b[0m\u001b[1;36m0\u001b[0m\u001b[1;33m]\u001b[0m\u001b[1;33m\u001b[0m\u001b[1;33m\u001b[0m\u001b[0m\n\u001b[0;32m     13\u001b[0m     \u001b[1;32mfor\u001b[0m \u001b[0mi\u001b[0m \u001b[1;32min\u001b[0m \u001b[0mrange\u001b[0m\u001b[1;33m(\u001b[0m\u001b[1;36m1\u001b[0m\u001b[1;33m,\u001b[0m\u001b[0mlen\u001b[0m\u001b[1;33m(\u001b[0m\u001b[0mseq\u001b[0m\u001b[1;33m)\u001b[0m\u001b[1;33m)\u001b[0m\u001b[1;33m:\u001b[0m\u001b[1;33m\u001b[0m\u001b[1;33m\u001b[0m\u001b[0m\n\u001b[1;32m---> 14\u001b[1;33m         \u001b[0mres\u001b[0m \u001b[1;33m=\u001b[0m \u001b[0mfunct\u001b[0m\u001b[1;33m(\u001b[0m\u001b[0mres\u001b[0m\u001b[1;33m,\u001b[0m \u001b[0mseq\u001b[0m\u001b[1;33m[\u001b[0m\u001b[0mi\u001b[0m\u001b[1;33m]\u001b[0m\u001b[1;33m)\u001b[0m\u001b[1;33m\u001b[0m\u001b[1;33m\u001b[0m\u001b[0m\n\u001b[0m\u001b[0;32m     15\u001b[0m     \u001b[1;32mreturn\u001b[0m \u001b[0mres\u001b[0m\u001b[1;33m\u001b[0m\u001b[1;33m\u001b[0m\u001b[0m\n\u001b[0;32m     16\u001b[0m \u001b[1;33m\u001b[0m\u001b[0m\n",
      "\u001b[1;32m<ipython-input-13-8fd9122afa50>\u001b[0m in \u001b[0;36mmul\u001b[1;34m(n1, n2)\u001b[0m\n\u001b[0;32m      2\u001b[0m     \u001b[1;32mreturn\u001b[0m \u001b[0mn1\u001b[0m \u001b[1;33m+\u001b[0m \u001b[0mn2\u001b[0m\u001b[1;33m\u001b[0m\u001b[1;33m\u001b[0m\u001b[0m\n\u001b[0;32m      3\u001b[0m \u001b[1;32mdef\u001b[0m \u001b[0mmul\u001b[0m\u001b[1;33m(\u001b[0m\u001b[0mn1\u001b[0m\u001b[1;33m,\u001b[0m \u001b[0mn2\u001b[0m\u001b[1;33m)\u001b[0m\u001b[1;33m:\u001b[0m\u001b[1;33m\u001b[0m\u001b[1;33m\u001b[0m\u001b[0m\n\u001b[1;32m----> 4\u001b[1;33m     \u001b[1;32mreturn\u001b[0m \u001b[0mn1\u001b[0m \u001b[1;33m*\u001b[0m \u001b[0mn2\u001b[0m\u001b[1;33m\u001b[0m\u001b[1;33m\u001b[0m\u001b[0m\n\u001b[0m\u001b[0;32m      5\u001b[0m \u001b[1;32mdef\u001b[0m \u001b[0mminimum\u001b[0m\u001b[1;33m(\u001b[0m\u001b[0mn1\u001b[0m\u001b[1;33m,\u001b[0m \u001b[0mn2\u001b[0m\u001b[1;33m)\u001b[0m\u001b[1;33m:\u001b[0m\u001b[1;33m\u001b[0m\u001b[1;33m\u001b[0m\u001b[0m\n\u001b[0;32m      6\u001b[0m     \u001b[1;32mif\u001b[0m \u001b[0mn1\u001b[0m \u001b[1;33m>\u001b[0m \u001b[0mn2\u001b[0m\u001b[1;33m:\u001b[0m\u001b[1;33m\u001b[0m\u001b[1;33m\u001b[0m\u001b[0m\n",
      "\u001b[1;31mTypeError\u001b[0m: can't multiply sequence by non-int of type 'str'"
     ]
    }
   ],
   "source": [
    "def add(n1, n2):\n",
    "    return n1 + n2\n",
    "def mul(n1, n2):\n",
    "    return n1 * n2\n",
    "def minimum(n1, n2):\n",
    "    if n1 > n2:\n",
    "        return n2\n",
    "    else:\n",
    "        return n1\n",
    "\n",
    "def apply(seq, funct):\n",
    "    res = seq[0]\n",
    "    for i in range(1,len(seq)):\n",
    "        res = funct(res, seq[i])\n",
    "    return res\n",
    "\n",
    "seq = [1, 2, 3, 4, 5, 6, 7, 8, 9, 10]\n",
    "print( apply(seq, add) )\n",
    "print( apply(seq, mul) )\n",
    "print( apply(seq, minimum) )\n",
    "print( apply(\"abcADxy\", minimum) )\n",
    "print( apply(\"abcADxy\", add) )"
   ]
  },
  {
   "cell_type": "code",
   "execution_count": 17,
   "metadata": {},
   "outputs": [
    {
     "name": "stdout",
     "output_type": "stream",
     "text": [
      "55\n",
      "3628800\n"
     ]
    }
   ],
   "source": [
    "from functools import reduce\n",
    "def add(n1, n2):\n",
    "    return n1 + n2\n",
    "def mul(n1, n2):\n",
    "    return n1 * n2\n",
    "\n",
    "seq = [1, 2, 3, 4, 5, 6, 7, 8, 9, 10]\n",
    "print(reduce(add, seq))\n",
    "print(reduce(mul, seq))"
   ]
  },
  {
   "cell_type": "code",
   "execution_count": null,
   "metadata": {},
   "outputs": [],
   "source": [
    "map\n",
    "filter"
   ]
  },
  {
   "cell_type": "code",
   "execution_count": 25,
   "metadata": {},
   "outputs": [
    {
     "name": "stdout",
     "output_type": "stream",
     "text": [
      "Enter a string: abcd\n",
      "[97, 98, 99, 100]\n"
     ]
    }
   ],
   "source": [
    "s = input(\"Enter a string: \")\n",
    "m = map(ord, s)\n",
    "print(list(m))"
   ]
  },
  {
   "cell_type": "code",
   "execution_count": 22,
   "metadata": {},
   "outputs": [
    {
     "name": "stdout",
     "output_type": "stream",
     "text": [
      "<map object at 0x000001B4DC63BC88>\n",
      "1\n",
      "4\n",
      "9\n",
      "16\n",
      "25\n",
      "[]\n"
     ]
    }
   ],
   "source": [
    "a = [1,2,3,4,5]\n",
    "def sq(n):\n",
    "    return n*n\n",
    "\n",
    "m = map(sq, a)\n",
    "print(m)\n",
    "for i in m:\n",
    "    print(i)\n",
    "    \n",
    "print(list(m)) # exhausted"
   ]
  },
  {
   "cell_type": "code",
   "execution_count": 24,
   "metadata": {},
   "outputs": [
    {
     "name": "stdout",
     "output_type": "stream",
     "text": [
      "this is a sting\n",
      "[4, 2, 1, 5]\n",
      "5\n"
     ]
    }
   ],
   "source": [
    "# WAP to find maximum lenght available for a word\n",
    "\n",
    "s = input()\n",
    "words = s.split()\n",
    "lens = list(map(len, words))\n",
    "print(lens)\n",
    "print(max(lens))\n"
   ]
  },
  {
   "cell_type": "code",
   "execution_count": 27,
   "metadata": {},
   "outputs": [
    {
     "name": "stdout",
     "output_type": "stream",
     "text": [
      "<filter object at 0x000001B4DC644E08>\n",
      "[22, 12]\n"
     ]
    }
   ],
   "source": [
    "a  = [11,22,333,43,12]\n",
    "def is_even(n):\n",
    "    if n%2== 0:\n",
    "        return True\n",
    "    return False\n",
    "\n",
    "f = filter(is_even, a)\n",
    "print(f)\n",
    "print(list(f))"
   ]
  },
  {
   "cell_type": "code",
   "execution_count": 30,
   "metadata": {},
   "outputs": [
    {
     "name": "stdout",
     "output_type": "stream",
     "text": [
      "[22, 12]\n"
     ]
    }
   ],
   "source": [
    "a  = [11,22,333,43,12]\n",
    "def is_even(n):\n",
    "    if n%2== 0:\n",
    "        return True\n",
    "    return False\n",
    "\n",
    "def my_filter(funct, seq):\n",
    "    res =  []\n",
    "    for element in seq:\n",
    "        if funct(element):\n",
    "            res.append(element)\n",
    "\n",
    "    return res\n",
    "\n",
    "def my_filter(funct, seq):\n",
    "    return [ element for element in seq if funct(element)]\n",
    "\n",
    "f = my_filter(is_even, a)\n",
    "print(f)"
   ]
  },
  {
   "cell_type": "code",
   "execution_count": null,
   "metadata": {},
   "outputs": [],
   "source": [
    "a = [1,2,3,4,5]\n",
    "\n",
    "def sq(n):\n",
    "    return n*n\n",
    "\n",
    "m = map(sq, a)\n",
    "\n",
    "for i in m:\n",
    "    print(i)\n",
    "    \n",
    "print(list(m)) # exhausted"
   ]
  },
  {
   "cell_type": "code",
   "execution_count": 31,
   "metadata": {},
   "outputs": [
    {
     "name": "stdout",
     "output_type": "stream",
     "text": [
      "100\n"
     ]
    }
   ],
   "source": [
    "# lambda  <optional arguments> : <expression>\n",
    "# lambda is an anonymous function\n",
    "# single line\n",
    "# lambdas by default return the result of expression. Do not write a return statemennt in a lambda\n",
    "\n",
    "f = lambda x : x*x\n",
    "print(f(10))"
   ]
  },
  {
   "cell_type": "code",
   "execution_count": 32,
   "metadata": {},
   "outputs": [
    {
     "name": "stdout",
     "output_type": "stream",
     "text": [
      "1\n",
      "4\n",
      "9\n",
      "16\n",
      "25\n",
      "[]\n"
     ]
    }
   ],
   "source": [
    "a = [1,2,3,4,5]\n",
    "m = map(lambda x:x*x, a)\n",
    "\n",
    "for i in m:\n",
    "    print(i)\n",
    "    \n",
    "print(list(m)) # exhausted"
   ]
  },
  {
   "cell_type": "code",
   "execution_count": 38,
   "metadata": {},
   "outputs": [
    {
     "name": "stdout",
     "output_type": "stream",
     "text": [
      "13\n",
      "18\n",
      "11\n"
     ]
    }
   ],
   "source": [
    "import random\n",
    "f =  lambda : random.randint(10,20)\n",
    "print(f())\n",
    "print(f())\n",
    "print(f())"
   ]
  },
  {
   "cell_type": "code",
   "execution_count": 39,
   "metadata": {},
   "outputs": [
    {
     "name": "stdout",
     "output_type": "stream",
     "text": [
      "55\n",
      "3628800\n"
     ]
    }
   ],
   "source": [
    "from functools import reduce\n",
    "\n",
    "seq = [1, 2, 3, 4, 5, 6, 7, 8, 9, 10]\n",
    "print(reduce(lambda x,y : x+y, seq))\n",
    "print(reduce(lambda x,y : x*y, seq))"
   ]
  },
  {
   "cell_type": "code",
   "execution_count": 45,
   "metadata": {},
   "outputs": [
    {
     "name": "stdout",
     "output_type": "stream",
     "text": [
      "Enter the length of the fibonacci series:10\n",
      "[0, 1, 1, 2, 3, 5, 8, 13, 21, 34]\n"
     ]
    }
   ],
   "source": [
    "from functools import reduce\n",
    "\n",
    "n=int(input('Enter the length of the fibonacci series:'))\n",
    "lst=[0,1]\n",
    "def apnd(x,y):\n",
    "    lst.append(lst[-1] +  lst[-2])\n",
    "    return lst\n",
    "reduce(lambda x,y:apnd(x,y),range(n-1))\n",
    "\n",
    "print(lst)"
   ]
  }
 ],
 "metadata": {
  "kernelspec": {
   "display_name": "Python 3",
   "language": "python",
   "name": "python3"
  },
  "language_info": {
   "codemirror_mode": {
    "name": "ipython",
    "version": 3
   },
   "file_extension": ".py",
   "mimetype": "text/x-python",
   "name": "python",
   "nbconvert_exporter": "python",
   "pygments_lexer": "ipython3",
   "version": "3.7.4"
  }
 },
 "nbformat": 4,
 "nbformat_minor": 2
}
