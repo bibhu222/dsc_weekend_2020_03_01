{
 "cells": [
  {
   "cell_type": "markdown",
   "metadata": {},
   "source": [
    "## string formatting"
   ]
  },
  {
   "cell_type": "code",
   "execution_count": 2,
   "metadata": {},
   "outputs": [
    {
     "name": "stdout",
     "output_type": "stream",
     "text": [
      "abcd\n"
     ]
    }
   ],
   "source": [
    "s = \"abcd\"\n",
    "print(s)"
   ]
  },
  {
   "cell_type": "code",
   "execution_count": 8,
   "metadata": {},
   "outputs": [
    {
     "name": "stdout",
     "output_type": "stream",
     "text": [
      "Enter a number:10\n",
      "10x1=10\n",
      "10x2=20\n",
      "10x3=30\n",
      "10x4=40\n",
      "10x5=50\n",
      "10x6=60\n",
      "10x7=70\n",
      "10x8=80\n",
      "10x9=90\n",
      "10x10=100\n"
     ]
    }
   ],
   "source": [
    "# print table of a number\n",
    "num = int(input(\"Enter a number:\"))\n",
    "\n",
    "for i in range(1, 11):\n",
    "    s = str(num) + \"x\" + str(i) + \"=\" + str(num * i)\n",
    "    print(s)\n"
   ]
  },
  {
   "cell_type": "code",
   "execution_count": 9,
   "metadata": {},
   "outputs": [
    {
     "name": "stdout",
     "output_type": "stream",
     "text": [
      "Enter a number:10\n",
      "10 x 1 = 10\n",
      "10 x 2 = 20\n",
      "10 x 3 = 30\n",
      "10 x 4 = 40\n",
      "10 x 5 = 50\n",
      "10 x 6 = 60\n",
      "10 x 7 = 70\n",
      "10 x 8 = 80\n",
      "10 x 9 = 90\n",
      "10 x 10 = 100\n"
     ]
    }
   ],
   "source": [
    "# print table of a number: format string and format operator\n",
    "num = int(input(\"Enter a number:\"))\n",
    "# %d-> number\n",
    "# %s-> string\n",
    "# %f-> floats\n",
    "# %b-> bool\n",
    "for i in range(1, 11):\n",
    "    s = \"%d x %d = %d\" % (num, i, num*i)\n",
    "    print(s)\n"
   ]
  },
  {
   "cell_type": "code",
   "execution_count": 10,
   "metadata": {},
   "outputs": [
    {
     "name": "stdout",
     "output_type": "stream",
     "text": [
      "Enter a number:10\n",
      "10 x 1 = 10\n",
      "10 x 2 = 20\n",
      "10 x 3 = 30\n",
      "10 x 4 = 40\n",
      "10 x 5 = 50\n",
      "10 x 6 = 60\n",
      "10 x 7 = 70\n",
      "10 x 8 = 80\n",
      "10 x 9 = 90\n",
      "10 x 10 = 100\n"
     ]
    }
   ],
   "source": [
    "# print table of a number: format string and format function\n",
    "num = int(input(\"Enter a number:\"))\n",
    "for i in range(1, 11):\n",
    "    s = \"{} x {} = {}\".format(num, i, num*i)\n",
    "    print(s)\n"
   ]
  },
  {
   "cell_type": "code",
   "execution_count": 13,
   "metadata": {},
   "outputs": [
    {
     "name": "stdout",
     "output_type": "stream",
     "text": [
      "Enter a number:10\n",
      "10 x 1 = 10\n",
      "10 x 2 = 20\n",
      "10 x 3 = 30\n",
      "10 x 4 = 40\n",
      "10 x 5 = 50\n",
      "10 x 6 = 60\n",
      "10 x 7 = 70\n",
      "10 x 8 = 80\n",
      "10 x 9 = 90\n",
      "10 x 10 = 100\n"
     ]
    }
   ],
   "source": [
    "# print table of a number:  f-string and {}\n",
    "num = int(input(\"Enter a number:\"))\n",
    "for i in range(1, 11):\n",
    "    s = f\"{num} x {i} = {num*i}\"\n",
    "    print(s)\n"
   ]
  },
  {
   "cell_type": "markdown",
   "metadata": {},
   "source": [
    "## Shallow and deep copy"
   ]
  },
  {
   "cell_type": "code",
   "execution_count": 14,
   "metadata": {},
   "outputs": [
    {
     "name": "stdout",
     "output_type": "stream",
     "text": [
      "[100, 2, 3]\n",
      "[100, 2, 3]\n"
     ]
    }
   ],
   "source": [
    "a = [1,2,3]\n",
    "b = a\n",
    "a[0] = 100\n",
    "print(a)\n",
    "print(b)\n",
    "\n"
   ]
  },
  {
   "cell_type": "code",
   "execution_count": 15,
   "metadata": {},
   "outputs": [
    {
     "name": "stdout",
     "output_type": "stream",
     "text": [
      "[100, 2, 3]\n",
      "[1, 2, 3]\n"
     ]
    }
   ],
   "source": [
    "a = [1,2,3]\n",
    "b = a.copy()\n",
    "a[0] = 100\n",
    "print(a)\n",
    "print(b)"
   ]
  },
  {
   "cell_type": "code",
   "execution_count": 16,
   "metadata": {},
   "outputs": [
    {
     "name": "stdout",
     "output_type": "stream",
     "text": [
      "[100, 2, 3]\n",
      "[1, 2, 3]\n"
     ]
    }
   ],
   "source": [
    "a = [1,2,3]\n",
    "b = a[:]\n",
    "a[0] = 100\n",
    "print(a)\n",
    "print(b)"
   ]
  },
  {
   "cell_type": "code",
   "execution_count": 17,
   "metadata": {},
   "outputs": [
    {
     "name": "stdout",
     "output_type": "stream",
     "text": [
      "[100, 2, [10, 20]]\n",
      "[1, 2, [10, 20]]\n"
     ]
    }
   ],
   "source": [
    "a = [1,2, [10,20]]\n",
    "b = a.copy()\n",
    "a[0] = 100\n",
    "print(a)\n",
    "print(b)"
   ]
  },
  {
   "cell_type": "code",
   "execution_count": 24,
   "metadata": {},
   "outputs": [
    {
     "name": "stdout",
     "output_type": "stream",
     "text": [
      "[100, 2, [10, 20, 30, 40]]\n",
      "[1, 2, [10, 20, 30, 40]]\n",
      "1727538285384 1727539082632\n",
      "1727538454024 1727538454024\n"
     ]
    }
   ],
   "source": [
    "a = [1,2, [10,20]]\n",
    "b = a.copy() # shallow copy\n",
    "a[0] = 100\n",
    "a[2].extend([30,40])\n",
    "print(a)\n",
    "print(b)\n",
    "\n",
    "print(id(a), id(b))\n",
    "print(id(a[2]), id(b[2]))"
   ]
  },
  {
   "cell_type": "code",
   "execution_count": 25,
   "metadata": {},
   "outputs": [
    {
     "name": "stdout",
     "output_type": "stream",
     "text": [
      "[100, 2, [10, 20, 30, 40]]\n",
      "[1, 2, [10, 20]]\n",
      "1727539176904 1727538285512\n",
      "1727537260488 1727537261064\n"
     ]
    }
   ],
   "source": [
    "import copy\n",
    "\n",
    "a = [1,2, [10,20]]\n",
    "b = copy.deepcopy(a) # deep copy\n",
    "a[0] = 100\n",
    "a[2].extend([30,40])\n",
    "print(a)\n",
    "print(b)\n",
    "\n",
    "print(id(a), id(b))\n",
    "print(id(a[2]), id(b[2]))"
   ]
  },
  {
   "cell_type": "code",
   "execution_count": 1,
   "metadata": {},
   "outputs": [
    {
     "name": "stdout",
     "output_type": "stream",
     "text": [
      "[10, 20]\n",
      "[1]\n",
      "[10, 20, 30]\n",
      "[1, 2]\n"
     ]
    }
   ],
   "source": [
    "# predict output without running code\n",
    "\n",
    "def funct(x , seq = []):\n",
    "    seq.append(x)\n",
    "    print(seq)\n",
    "    \n",
    "a = [10]\n",
    "funct(20,a)\n",
    "funct(1)\n",
    "funct(30,a)\n",
    "funct(2)\n",
    "\n",
    "# [10, 20]\n",
    "# [1]\n",
    "# [10,20,30]\n",
    "# [1,2]"
   ]
  },
  {
   "cell_type": "code",
   "execution_count": 7,
   "metadata": {},
   "outputs": [
    {
     "name": "stdout",
     "output_type": "stream",
     "text": [
      "1773370417992\n",
      "[10, 20] 1773370417992\n",
      "[1] 1773370417480\n",
      "[10, 20, 30] 1773370417992\n",
      "[2] 1773370417480\n",
      "[1, 2, 3, 4] 1773370417608\n"
     ]
    }
   ],
   "source": [
    "# predict output without running code\n",
    "\n",
    "def funct(x , seq = None):\n",
    "    if seq is None:\n",
    "        seq = []\n",
    "    seq.append(x)\n",
    "    print(seq, id(seq))\n",
    "    \n",
    "a = [10]\n",
    "print(id(a))\n",
    "funct(20,a)\n",
    "funct(1)\n",
    "funct(30,a)\n",
    "funct(2)\n",
    "funct(4,[1,2,3])\n",
    "\n",
    "# [10, 20]\n",
    "# [1]\n",
    "# [10,20,30]\n",
    "# [1,2]"
   ]
  }
 ],
 "metadata": {
  "kernelspec": {
   "display_name": "Python 3",
   "language": "python",
   "name": "python3"
  },
  "language_info": {
   "codemirror_mode": {
    "name": "ipython",
    "version": 3
   },
   "file_extension": ".py",
   "mimetype": "text/x-python",
   "name": "python",
   "nbconvert_exporter": "python",
   "pygments_lexer": "ipython3",
   "version": "3.7.4"
  }
 },
 "nbformat": 4,
 "nbformat_minor": 2
}
