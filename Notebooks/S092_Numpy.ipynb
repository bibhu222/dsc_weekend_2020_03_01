{
 "cells": [
  {
   "cell_type": "code",
   "execution_count": 2,
   "metadata": {},
   "outputs": [],
   "source": [
    "import numpy as np"
   ]
  },
  {
   "cell_type": "code",
   "execution_count": 11,
   "metadata": {},
   "outputs": [
    {
     "name": "stdout",
     "output_type": "stream",
     "text": [
      "[1 2 3]\n",
      "3\n",
      "3\n"
     ]
    }
   ],
   "source": [
    "a = np.array([1,2,3])\n",
    "print(a)\n",
    "print(a.max())\n",
    "print(max(a))"
   ]
  },
  {
   "cell_type": "code",
   "execution_count": 15,
   "metadata": {},
   "outputs": [
    {
     "name": "stdout",
     "output_type": "stream",
     "text": [
      "[1 2 3]\n",
      "1\n",
      "3\n",
      "(3,)\n"
     ]
    }
   ],
   "source": [
    "a = np.array([1,2,3])\n",
    "print(a)\n",
    "print(a.ndim)\n",
    "print(a.size)\n",
    "print(a.shape)"
   ]
  },
  {
   "cell_type": "code",
   "execution_count": 36,
   "metadata": {},
   "outputs": [
    {
     "name": "stdout",
     "output_type": "stream",
     "text": [
      "[[0. 1. 2. 3. 4.]\n",
      " [5. 6. 7. 8. 9.]]\n",
      "2\n",
      "10\n",
      "(2, 5)\n",
      "4\n",
      "float32\n",
      "[5. 6. 7. 8. 9.]\n",
      "[4. 9.]\n",
      "4.5\n",
      "[2.5 3.5 4.5 5.5 6.5]\n",
      "45.0\n"
     ]
    }
   ],
   "source": [
    "a = np.array(range(10), dtype = np.float32)\n",
    "a = a.reshape(2,5)\n",
    "print(a)\n",
    "print(a.ndim)\n",
    "print(a.size)\n",
    "print(a.shape)\n",
    "print(a.itemsize)\n",
    "print(a.dtype)\n",
    "print(a.max(axis = 0))\n",
    "print(a.max(axis = 1))\n",
    "print(a.mean())\n",
    "print(a.mean(axis = 0))\n",
    "print(a.sum())"
   ]
  },
  {
   "cell_type": "code",
   "execution_count": 42,
   "metadata": {},
   "outputs": [
    {
     "name": "stdout",
     "output_type": "stream",
     "text": [
      "['a' 'bcd' 'pq']\n",
      "<U3\n",
      "12\n"
     ]
    }
   ],
   "source": [
    "a = np.array([\"a\", \"bcd\", \"pq\"])\n",
    "print(a)\n",
    "print(a.dtype)\n",
    "print(a.itemsize)\n",
    "\n",
    "# 0000 0001 1000 1111\n",
    "# 90 0000 0001\n",
    "# 91 1000 1111\n",
    "\n",
    "# 90 1000 1111\n",
    "# 91 0000 0001"
   ]
  },
  {
   "cell_type": "code",
   "execution_count": 63,
   "metadata": {},
   "outputs": [
    {
     "name": "stdout",
     "output_type": "stream",
     "text": [
      "['Lock', 'RandomState', '__RandomState_ctor', '__all__', '__builtins__', '__cached__', '__doc__', '__file__', '__loader__', '__name__', '__package__', '__path__', '__spec__', 'absolute_import', 'beta', 'binomial', 'bytes', 'chisquare', 'choice', 'dirichlet', 'division', 'exponential', 'f', 'gamma', 'geometric', 'get_state', 'gumbel', 'hypergeometric', 'laplace', 'logistic', 'lognormal', 'logseries', 'mtrand', 'multinomial', 'multivariate_normal', 'negative_binomial', 'noncentral_chisquare', 'noncentral_f', 'normal', 'np', 'operator', 'pareto', 'permutation', 'poisson', 'power', 'print_function', 'rand', 'randint', 'randn', 'random', 'random_integers', 'random_sample', 'ranf', 'rayleigh', 'sample', 'seed', 'set_state', 'shuffle', 'standard_cauchy', 'standard_exponential', 'standard_gamma', 'standard_normal', 'standard_t', 'test', 'triangular', 'uniform', 'vonmises', 'wald', 'warnings', 'weibull', 'zipf']\n",
      "[ 0.89116493  0.77346469 -0.38867897  0.29391932  0.24701653  0.00277297\n",
      "  0.79913707 -0.20175724  0.19235851  0.64027748]\n",
      "[[ 1.94711664 -0.78341535 -1.16973353 -0.13186962]\n",
      " [ 0.51487272  1.35163416 -1.4049177  -0.03574704]\n",
      " [ 0.02904485  0.21587421 -1.21141617 -2.2738128 ]]\n",
      "3\n",
      "[16 14]\n",
      "[[13 17 10]\n",
      " [12 15 14]]\n",
      "[[9 8 5 4]\n",
      " [6 1 5 9]\n",
      " [3 6 9 9]]\n"
     ]
    }
   ],
   "source": [
    "print(dir(np.random))\n",
    "print(np.random.randn(10)) # normal distribution\n",
    "print(np.random.randn(3,4))\n",
    "print(np.random.randint(10)) # randrange\n",
    "print(np.random.randint(10,20,2))\n",
    "print(np.random.randint(10,20,(2,3)))"
   ]
  },
  {
   "cell_type": "code",
   "execution_count": 68,
   "metadata": {},
   "outputs": [
    {
     "name": "stdout",
     "output_type": "stream",
     "text": [
      "[[8 7 3 9]\n",
      " [9 8 1 2]\n",
      " [8 4 2 9]]\n",
      "[[8 4 2 9]\n",
      " [9 8 1 2]\n",
      " [8 7 3 9]]\n"
     ]
    }
   ],
   "source": [
    "arr = np.random.randint(1,10,(3,4))\n",
    "print(arr)\n",
    "np.random.shuffle(arr)\n",
    "print(arr)"
   ]
  },
  {
   "cell_type": "code",
   "execution_count": 83,
   "metadata": {},
   "outputs": [
    {
     "name": "stdout",
     "output_type": "stream",
     "text": [
      "[1 1 1 1 1 1 1 1 1 1]\n",
      "[0 0 0 0 0 0 0 0 0 0]\n",
      "[0 1 2 3 4 5 6 7 8 9]\n",
      "[10 11 12 13 14 15 16 17 18 19]\n",
      "[10 12 14 16 18]\n",
      "[[1. 0. 0. 0.]\n",
      " [0. 1. 0. 0.]\n",
      " [0. 0. 1. 0.]\n",
      " [0. 0. 0. 1.]]\n",
      "[10 12 15 17 20]\n"
     ]
    }
   ],
   "source": [
    "print(np.ones(10, dtype = np.int8))\n",
    "print(np.zeros(10, dtype = np.int8))\n",
    "print(np.arange(10, dtype = np.int8))\n",
    "print(np.arange(10,20, dtype = np.int8))\n",
    "print(np.arange(10,20,2, dtype = np.int8))\n",
    "print(np.eye(4))\n",
    "print(np.linspace(10,20, 5, dtype=np.int16))"
   ]
  },
  {
   "cell_type": "code",
   "execution_count": 92,
   "metadata": {},
   "outputs": [
    {
     "name": "stdout",
     "output_type": "stream",
     "text": [
      "[ 1  2  3  4  5  6  7  8  9 10 11 12]\n",
      "[[ 1  2  3  4]\n",
      " [ 5  6  7  8]\n",
      " [ 9 10 11 12]]\n"
     ]
    }
   ],
   "source": [
    "a = np.arange(1,13)\n",
    "print(a)\n",
    "a = a.reshape(3,4)\n",
    "print(a)"
   ]
  },
  {
   "cell_type": "code",
   "execution_count": 90,
   "metadata": {},
   "outputs": [
    {
     "name": "stdout",
     "output_type": "stream",
     "text": [
      "[ 1  2  3  4  5  6  7  8  9 10 11 12]\n",
      "[[ 1  2  3  4  5]\n",
      " [ 6  7  8  9 10]\n",
      " [11 12  0  0  0]\n",
      " [ 0  0  0  0  0]]\n",
      "[[1 2 3]\n",
      " [4 5 6]\n",
      " [7 8 9]]\n"
     ]
    }
   ],
   "source": [
    "a = np.arange(1,13)\n",
    "print(a)\n",
    "a.resize(4,5)\n",
    "print(a)\n",
    "a.resize(3,3)\n",
    "print(a)"
   ]
  },
  {
   "cell_type": "code",
   "execution_count": 106,
   "metadata": {},
   "outputs": [
    {
     "name": "stdout",
     "output_type": "stream",
     "text": [
      "[[ 1  2  3  4]\n",
      " [ 5  6  7  8]\n",
      " [ 9 10 11 12]]\n",
      "[[ 10  20  30  40]\n",
      " [ 50  60  70  80]\n",
      " [ 90 100 110 120]]\n",
      "[[11 12 13 14]\n",
      " [15 16 17 18]\n",
      " [19 20 21 22]]\n",
      "[[  1   4   9  16]\n",
      " [ 25  36  49  64]\n",
      " [ 81 100 121 144]]\n",
      "[[False  True False  True]\n",
      " [False  True False  True]\n",
      " [False  True False  True]]\n",
      "[10 11 12 13]\n",
      "[[ 10  22  36  52]\n",
      " [ 50  66  84 104]\n",
      " [ 90 110 132 156]]\n"
     ]
    }
   ],
   "source": [
    "a = np.arange(1,13).reshape(3,4)\n",
    "print(a)\n",
    "print(a*10)\n",
    "print(a+10)\n",
    "print(a*a)\n",
    "print(a %2 == 0)\n",
    "b =  np.arange(10,14)\n",
    "print(b)\n",
    "print(a*b)"
   ]
  },
  {
   "cell_type": "code",
   "execution_count": 115,
   "metadata": {},
   "outputs": [
    {
     "name": "stdout",
     "output_type": "stream",
     "text": [
      "[[ 1  2  3  4]\n",
      " [ 5  6  7  8]\n",
      " [ 9 10 11 12]]\n",
      "[[False  True False  True]\n",
      " [False  True False  True]\n",
      " [False  True False  True]]\n",
      "[ 2  4  6  8 10 12]\n",
      "[ 1  2  3  4  5  6  7  8  9 10 11 12]\n"
     ]
    }
   ],
   "source": [
    "a = np.arange(1,13).reshape(3,4)\n",
    "print(a)\n",
    "print(a %2 == 0)\n",
    "r  =  a%2==0\n",
    "print(a[r])\n",
    "print(a[(a>4) & (a <10)])"
   ]
  },
  {
   "cell_type": "code",
   "execution_count": 132,
   "metadata": {},
   "outputs": [
    {
     "name": "stdout",
     "output_type": "stream",
     "text": [
      "[ 1.  2. nan]\n",
      "nan\n",
      "nan\n",
      "[False False False]\n",
      "[False False  True]\n",
      "True\n",
      "True\n",
      "<class 'numpy.bool_'>\n",
      "\n",
      "[10 11 12 13]\n",
      "[ True False  True False] True False\n",
      "[False False False False] False False\n",
      "[ True  True  True  True] True True\n"
     ]
    }
   ],
   "source": [
    "a  = np.array([1,2,np.nan])\n",
    "print(a)\n",
    "print(a.sum())\n",
    "print(a.mean())\n",
    "print(a == np.nan) # this doesn't work\n",
    "print(np.isnan(a)) # this works: use this\n",
    "print(np.any(a))\n",
    "print(np.all(a))\n",
    "r=  np.any(a)\n",
    "print(type(r))\n",
    "\n",
    "a = np.array([10,11,12,13], dtype = \"int16\")\n",
    "print()\n",
    "print(a)\n",
    "r = a%2 == 0\n",
    "print(r, r.any(), r.all())\n",
    "r = a%20 == 0\n",
    "print(r, r.any(), r.all())\n",
    "r = (a>1)\n",
    "print(r, r.any(), r.all())"
   ]
  },
  {
   "cell_type": "code",
   "execution_count": 145,
   "metadata": {},
   "outputs": [
    {
     "name": "stdout",
     "output_type": "stream",
     "text": [
      "[0 1 2 3 4 5 6 7 8 9] int32\n",
      "[10.         11.11111111 12.22222222 13.33333333 14.44444444 15.55555556\n",
      " 16.66666667 17.77777778 18.88888889 20.        ] float64\n",
      "[0 1 2 3 4 5 6 7 8 9]\n",
      "[10.         12.11111111 14.22222222 16.33333333 18.44444444 20.55555556\n",
      " 22.66666667 24.77777778 26.88888889 29.        ]\n"
     ]
    }
   ],
   "source": [
    "a1 = np.arange(10)\n",
    "print(a1, a1.dtype)\n",
    "a2 = np.linspace(10,20,10)\n",
    "print(a2, a2.dtype)\n",
    "a2 += a1\n",
    "print(a1)\n",
    "print(a2)"
   ]
  },
  {
   "cell_type": "code",
   "execution_count": 153,
   "metadata": {},
   "outputs": [
    {
     "name": "stdout",
     "output_type": "stream",
     "text": [
      "[[10 11 12 13]\n",
      " [14 15 16 17]\n",
      " [18 19 20 21]]\n",
      "\n",
      "[14 15 16 17]\n",
      "[11 15 19]\n",
      "15\n",
      "\n",
      "[15 19]\n"
     ]
    }
   ],
   "source": [
    "a  = np.arange(10,22).reshape(3,4)\n",
    "print(a)\n",
    "print()\n",
    "print(a[1])\n",
    "print(a[:,1])\n",
    "print(a[1,1])\n",
    "print()\n",
    "print(a[1:,1])"
   ]
  },
  {
   "cell_type": "code",
   "execution_count": 156,
   "metadata": {},
   "outputs": [
    {
     "name": "stdout",
     "output_type": "stream",
     "text": [
      "[[10 11 12 13]\n",
      " [14 15 16 17]\n",
      " [18 19 20 21]]\n",
      "\n",
      "[15 19]\n",
      "\n",
      "[[14 16]\n",
      " [18 20]]\n"
     ]
    }
   ],
   "source": [
    "a  = np.arange(10,22).reshape(3,4)\n",
    "print(a)\n",
    "print()\n",
    "print(a[1:,1])\n",
    "print()\n",
    "print(a[1:,::2])"
   ]
  },
  {
   "cell_type": "code",
   "execution_count": 158,
   "metadata": {},
   "outputs": [
    {
     "name": "stdout",
     "output_type": "stream",
     "text": [
      "[[10 11 12 13 14 15]\n",
      " [16 17 18 19 20 21]\n",
      " [22 23 24 25 26 27]\n",
      " [28 29 30 31 32 33]\n",
      " [34 35 36 37 38 39]]\n",
      "\n",
      "[17 23 29]\n"
     ]
    }
   ],
   "source": [
    "a  = np.arange(10,40).reshape(5,6)\n",
    "print(a)\n",
    "print()\n",
    "print(a[1:4,1])"
   ]
  },
  {
   "cell_type": "code",
   "execution_count": 159,
   "metadata": {},
   "outputs": [
    {
     "name": "stdout",
     "output_type": "stream",
     "text": [
      "[10 11 12 13 14 15]\n",
      "[16 17 18 19 20 21]\n",
      "[22 23 24 25 26 27]\n",
      "[28 29 30 31 32 33]\n",
      "[34 35 36 37 38 39]\n"
     ]
    }
   ],
   "source": [
    "a  = np.arange(10,40).reshape(5,6)\n",
    "\n",
    "for row in a:\n",
    "    print(row)"
   ]
  },
  {
   "cell_type": "code",
   "execution_count": 172,
   "metadata": {},
   "outputs": [
    {
     "name": "stdout",
     "output_type": "stream",
     "text": [
      "[[10 11 12 13 14 15]\n",
      " [16 17 18 19 20 21]\n",
      " [22 23 24 25 26 27]\n",
      " [28 29 30 31 32 33]\n",
      " [34 35 36 37 38 39]]\n",
      "\n",
      "[[False False False False False False]\n",
      " [False False False False False False]\n",
      " [False False False False False False]\n",
      " [False False False  True  True  True]\n",
      " [ True  True  True  True  True  True]]\n",
      "\n",
      "(array([3, 3, 3, 4, 4, 4, 4, 4, 4], dtype=int64), array([3, 4, 5, 0, 1, 2, 3, 4, 5], dtype=int64))\n",
      "\n",
      "[31 32 33 34 35 36 37 38 39]\n"
     ]
    }
   ],
   "source": [
    "a  = np.arange(10,40).reshape(5,6)\n",
    "print(a)\n",
    "print()\n",
    "print(a > 30)\n",
    "print()\n",
    "r = np.where(a > 30)\n",
    "print(r)\n",
    "print()\n",
    "print(a[r])"
   ]
  },
  {
   "cell_type": "code",
   "execution_count": 171,
   "metadata": {},
   "outputs": [
    {
     "name": "stdout",
     "output_type": "stream",
     "text": [
      "[[10 11 12 13 14 15]\n",
      " [16 17 18 19 20 21]\n",
      " [22 23 24 25 26 27]\n",
      " [28 29 30 31 32 33]\n",
      " [34 35 36 37 38 39]]\n",
      "\n",
      "[[16 17 18 19 20 21]\n",
      " [28 29 30 31 32 33]]\n",
      "[[11 13]\n",
      " [17 19]\n",
      " [23 25]\n",
      " [29 31]\n",
      " [35 37]]\n",
      "[16 30]\n"
     ]
    }
   ],
   "source": [
    "a  = np.arange(10,40).reshape(5,6)\n",
    "print(a)\n",
    "print()\n",
    "print(a[(1,3),]) # get elements at particular rows\n",
    "print(a[:,(1,3)]) # get elements at particular rows\n",
    "print(a[(1,3),(0,2)]) # Get element at (r,c)"
   ]
  }
 ],
 "metadata": {
  "kernelspec": {
   "display_name": "Python 3",
   "language": "python",
   "name": "python3"
  },
  "language_info": {
   "codemirror_mode": {
    "name": "ipython",
    "version": 3
   },
   "file_extension": ".py",
   "mimetype": "text/x-python",
   "name": "python",
   "nbconvert_exporter": "python",
   "pygments_lexer": "ipython3",
   "version": "3.7.4"
  }
 },
 "nbformat": 4,
 "nbformat_minor": 2
}
