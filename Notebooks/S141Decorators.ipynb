{
 "cells": [
  {
   "cell_type": "code",
   "execution_count": null,
   "metadata": {},
   "outputs": [],
   "source": [
    "## decorators\n",
    "## variable len and keyword arguments"
   ]
  },
  {
   "cell_type": "code",
   "execution_count": 2,
   "metadata": {},
   "outputs": [
    {
     "name": "stdout",
     "output_type": "stream",
     "text": [
      "10\n",
      "(10, 100, 300)\n"
     ]
    }
   ],
   "source": [
    "def f(x):\n",
    "    print(x)\n",
    "    \n",
    "f(10)\n",
    "f((10,100,300))"
   ]
  },
  {
   "cell_type": "code",
   "execution_count": 5,
   "metadata": {},
   "outputs": [
    {
     "name": "stdout",
     "output_type": "stream",
     "text": [
      "()\n",
      "(1,)\n",
      "(1, 2, 'B')\n"
     ]
    }
   ],
   "source": [
    "# variable len args\n",
    "def f(*args):\n",
    "    print(args)\n",
    "    \n",
    "f()\n",
    "f(1)\n",
    "f(1,2,'B')"
   ]
  },
  {
   "cell_type": "code",
   "execution_count": 9,
   "metadata": {},
   "outputs": [
    {
     "name": "stdout",
     "output_type": "stream",
     "text": [
      "{'x': 10, 'y': 20}\n"
     ]
    },
    {
     "ename": "TypeError",
     "evalue": "f() takes 0 positional arguments but 1 was given",
     "output_type": "error",
     "traceback": [
      "\u001b[1;31m---------------------------------------------------------------------------\u001b[0m",
      "\u001b[1;31mTypeError\u001b[0m                                 Traceback (most recent call last)",
      "\u001b[1;32m<ipython-input-9-fe2bc1834c4b>\u001b[0m in \u001b[0;36m<module>\u001b[1;34m\u001b[0m\n\u001b[0;32m      3\u001b[0m \u001b[1;33m\u001b[0m\u001b[0m\n\u001b[0;32m      4\u001b[0m \u001b[0mf\u001b[0m\u001b[1;33m(\u001b[0m\u001b[0mx\u001b[0m\u001b[1;33m=\u001b[0m\u001b[1;36m10\u001b[0m\u001b[1;33m,\u001b[0m \u001b[0my\u001b[0m\u001b[1;33m=\u001b[0m\u001b[1;36m20\u001b[0m\u001b[1;33m)\u001b[0m\u001b[1;33m\u001b[0m\u001b[1;33m\u001b[0m\u001b[0m\n\u001b[1;32m----> 5\u001b[1;33m \u001b[0mf\u001b[0m\u001b[1;33m(\u001b[0m\u001b[1;36m10\u001b[0m\u001b[1;33m,\u001b[0m \u001b[0mx\u001b[0m\u001b[1;33m=\u001b[0m\u001b[1;36m10\u001b[0m\u001b[1;33m,\u001b[0m \u001b[0my\u001b[0m\u001b[1;33m=\u001b[0m\u001b[1;36m20\u001b[0m\u001b[1;33m)\u001b[0m \u001b[1;31m# this doesn't work\u001b[0m\u001b[1;33m\u001b[0m\u001b[1;33m\u001b[0m\u001b[0m\n\u001b[0m",
      "\u001b[1;31mTypeError\u001b[0m: f() takes 0 positional arguments but 1 was given"
     ]
    }
   ],
   "source": [
    "def f(**kwargs):\n",
    "    print(kwargs)\n",
    "\n",
    "f(x=10, y=20)\n",
    "f(10, x=10, y=20) # this doesn't work"
   ]
  },
  {
   "cell_type": "code",
   "execution_count": 10,
   "metadata": {},
   "outputs": [
    {
     "name": "stdout",
     "output_type": "stream",
     "text": [
      "() {}\n",
      "(10, 20) {}\n",
      "() {'x': 10, 'y': 20}\n",
      "(10,) {'x': 10, 'y': 20}\n"
     ]
    }
   ],
   "source": [
    "# variable length and kwd arguments\n",
    "def f(*args, **kwargs):\n",
    "    print(args, kwargs)\n",
    "\n",
    "f()\n",
    "f(10,20)\n",
    "f(x=10, y=20)\n",
    "f(10, x=10, y=20) # this doesn't work"
   ]
  },
  {
   "cell_type": "code",
   "execution_count": 11,
   "metadata": {},
   "outputs": [
    {
     "name": "stdout",
     "output_type": "stream",
     "text": [
      "1 2 () {}\n",
      "1 2 (10, 20) {}\n",
      "1 2 () {'x': 10, 'y': 20}\n",
      "1 2 (10,) {'x': 10, 'y': 20}\n"
     ]
    }
   ],
   "source": [
    "# positional + variable length + kwd arguments\n",
    "def f(a,b, *args, **kwargs):\n",
    "    print(a,b, args, kwargs)\n",
    "\n",
    "f(1,2)\n",
    "f(1,2, 10,20)\n",
    "f(1,2,x=10, y=20)\n",
    "f(1,2,10, x=10, y=20) # this doesn't work"
   ]
  },
  {
   "cell_type": "code",
   "execution_count": 12,
   "metadata": {},
   "outputs": [
    {
     "name": "stdout",
     "output_type": "stream",
     "text": [
      "<function outer.<locals>.inner at 0x00000241C2EDBA68> <function outer.<locals>.inner at 0x00000241C2E22EE8>\n",
      "20\n",
      "10\n",
      "20\n"
     ]
    }
   ],
   "source": [
    "# closure\n",
    "def outer(x):\n",
    "    def inner():\n",
    "        print(x)\n",
    "    return inner\n",
    "\n",
    "f = outer(10)\n",
    "# def inner():\n",
    "#        print(10)\n",
    "\n",
    "f1 = outer(20)\n",
    "# def inner():\n",
    "#        print(20)\n",
    "\n",
    "x = 100\n",
    "print(f1, f)\n",
    "f1()\n",
    "f()\n",
    "f1()"
   ]
  },
  {
   "cell_type": "code",
   "execution_count": 13,
   "metadata": {},
   "outputs": [
    {
     "name": "stdout",
     "output_type": "stream",
     "text": [
      "funct1\n",
      "funct1\n",
      "funct2\n"
     ]
    }
   ],
   "source": [
    "# closure\n",
    "def outer(f):\n",
    "    def inner():\n",
    "        f()\n",
    "    return inner\n",
    "\n",
    "def funct1():\n",
    "    print(\"funct1\")\n",
    "    \n",
    "def funct2():\n",
    "    print(\"funct2\")\n",
    "    \n",
    "f1 = outer(funct1)\n",
    "#    def inner():\n",
    "#        funct1()\n",
    "\n",
    "f2 = outer(funct2)\n",
    "#    def inner():\n",
    "#        funct2()\n",
    "\n",
    "f1()\n",
    "f1()\n",
    "f2()"
   ]
  },
  {
   "cell_type": "code",
   "execution_count": 15,
   "metadata": {},
   "outputs": [
    {
     "name": "stdout",
     "output_type": "stream",
     "text": [
      "Calling <function add at 0x00000241C2EE51F8>\n"
     ]
    },
    {
     "ename": "TypeError",
     "evalue": "add() missing 2 required positional arguments: 'x' and 'y'",
     "output_type": "error",
     "traceback": [
      "\u001b[1;31m---------------------------------------------------------------------------\u001b[0m",
      "\u001b[1;31mTypeError\u001b[0m                                 Traceback (most recent call last)",
      "\u001b[1;32m<ipython-input-15-1738fed6a282>\u001b[0m in \u001b[0;36m<module>\u001b[1;34m\u001b[0m\n\u001b[0;32m     17\u001b[0m \u001b[1;33m\u001b[0m\u001b[0m\n\u001b[0;32m     18\u001b[0m \u001b[1;31m#f1(10,20) # inner() takes 0 positional arguments but 2 were given\u001b[0m\u001b[1;33m\u001b[0m\u001b[1;33m\u001b[0m\u001b[1;33m\u001b[0m\u001b[0m\n\u001b[1;32m---> 19\u001b[1;33m \u001b[0mf1\u001b[0m\u001b[1;33m(\u001b[0m\u001b[1;33m)\u001b[0m\u001b[1;33m\u001b[0m\u001b[1;33m\u001b[0m\u001b[0m\n\u001b[0m",
      "\u001b[1;32m<ipython-input-15-1738fed6a282>\u001b[0m in \u001b[0;36minner\u001b[1;34m()\u001b[0m\n\u001b[0;32m      2\u001b[0m     \u001b[1;32mdef\u001b[0m \u001b[0minner\u001b[0m\u001b[1;33m(\u001b[0m\u001b[1;33m)\u001b[0m\u001b[1;33m:\u001b[0m\u001b[1;33m\u001b[0m\u001b[1;33m\u001b[0m\u001b[0m\n\u001b[0;32m      3\u001b[0m         \u001b[0mprint\u001b[0m\u001b[1;33m(\u001b[0m\u001b[1;34m\"Calling\"\u001b[0m\u001b[1;33m,\u001b[0m \u001b[0mf\u001b[0m\u001b[1;33m)\u001b[0m\u001b[1;33m\u001b[0m\u001b[1;33m\u001b[0m\u001b[0m\n\u001b[1;32m----> 4\u001b[1;33m         \u001b[0mf\u001b[0m\u001b[1;33m(\u001b[0m\u001b[1;33m)\u001b[0m\u001b[1;33m\u001b[0m\u001b[1;33m\u001b[0m\u001b[0m\n\u001b[0m\u001b[0;32m      5\u001b[0m \u001b[1;33m\u001b[0m\u001b[0m\n\u001b[0;32m      6\u001b[0m     \u001b[1;32mreturn\u001b[0m \u001b[0minner\u001b[0m\u001b[1;33m\u001b[0m\u001b[1;33m\u001b[0m\u001b[0m\n",
      "\u001b[1;31mTypeError\u001b[0m: add() missing 2 required positional arguments: 'x' and 'y'"
     ]
    }
   ],
   "source": [
    "def outer(f):\n",
    "    def inner():\n",
    "        print(\"Calling\", f)\n",
    "        f()\n",
    "        \n",
    "    return inner\n",
    "\n",
    "\n",
    "def add(x,y):\n",
    "    print(\"Add\",x+y)\n",
    "    \n",
    "    \n",
    "f1  = outer(add)\n",
    "#def inner():\n",
    "#        print(\"Calling\", add)\n",
    "#        add()\n",
    "\n",
    "#f1(10,20) # inner() takes 0 positional arguments but 2 were given\n",
    "f1()\n"
   ]
  },
  {
   "cell_type": "code",
   "execution_count": 16,
   "metadata": {},
   "outputs": [
    {
     "name": "stdout",
     "output_type": "stream",
     "text": [
      "Calling <function add at 0x00000241C2EE5558>\n",
      "Add 30\n"
     ]
    }
   ],
   "source": [
    "def outer(f):\n",
    "    def inner(x,y):\n",
    "        print(\"Calling\", f)\n",
    "        f(x,y)\n",
    "        \n",
    "    return inner\n",
    "\n",
    "\n",
    "def add(x,y):\n",
    "    print(\"Add\",x+y)\n",
    "    \n",
    "    \n",
    "f1  = outer(add)\n",
    "#def inner(x,y):\n",
    "#        print(\"Calling\", add)\n",
    "#        add(x,y)\n",
    "\n",
    "\n",
    "f1(10,20)"
   ]
  },
  {
   "cell_type": "code",
   "execution_count": 18,
   "metadata": {},
   "outputs": [
    {
     "name": "stdout",
     "output_type": "stream",
     "text": [
      "Calling <function add at 0x00000241C2EE5288>\n",
      "Add 30\n",
      "Calling <function square at 0x00000241C2EE5948>\n"
     ]
    },
    {
     "ename": "TypeError",
     "evalue": "square() takes 1 positional argument but 2 were given",
     "output_type": "error",
     "traceback": [
      "\u001b[1;31m---------------------------------------------------------------------------\u001b[0m",
      "\u001b[1;31mTypeError\u001b[0m                                 Traceback (most recent call last)",
      "\u001b[1;32m<ipython-input-18-38a094be8b6d>\u001b[0m in \u001b[0;36m<module>\u001b[1;34m\u001b[0m\n\u001b[0;32m     24\u001b[0m \u001b[0mf1\u001b[0m\u001b[1;33m(\u001b[0m\u001b[1;36m10\u001b[0m\u001b[1;33m,\u001b[0m\u001b[1;36m20\u001b[0m\u001b[1;33m)\u001b[0m\u001b[1;33m\u001b[0m\u001b[1;33m\u001b[0m\u001b[0m\n\u001b[0;32m     25\u001b[0m \u001b[1;31m#f2(1) # inner() missing 1 required positional argument: 'y'\u001b[0m\u001b[1;33m\u001b[0m\u001b[1;33m\u001b[0m\u001b[1;33m\u001b[0m\u001b[0m\n\u001b[1;32m---> 26\u001b[1;33m \u001b[0mf2\u001b[0m\u001b[1;33m(\u001b[0m\u001b[1;36m10\u001b[0m\u001b[1;33m,\u001b[0m\u001b[1;36m20\u001b[0m\u001b[1;33m)\u001b[0m\u001b[1;33m\u001b[0m\u001b[1;33m\u001b[0m\u001b[0m\n\u001b[0m",
      "\u001b[1;32m<ipython-input-18-38a094be8b6d>\u001b[0m in \u001b[0;36minner\u001b[1;34m(x, y)\u001b[0m\n\u001b[0;32m      2\u001b[0m     \u001b[1;32mdef\u001b[0m \u001b[0minner\u001b[0m\u001b[1;33m(\u001b[0m\u001b[0mx\u001b[0m\u001b[1;33m,\u001b[0m\u001b[0my\u001b[0m\u001b[1;33m)\u001b[0m\u001b[1;33m:\u001b[0m\u001b[1;33m\u001b[0m\u001b[1;33m\u001b[0m\u001b[0m\n\u001b[0;32m      3\u001b[0m         \u001b[0mprint\u001b[0m\u001b[1;33m(\u001b[0m\u001b[1;34m\"Calling\"\u001b[0m\u001b[1;33m,\u001b[0m \u001b[0mf\u001b[0m\u001b[1;33m)\u001b[0m\u001b[1;33m\u001b[0m\u001b[1;33m\u001b[0m\u001b[0m\n\u001b[1;32m----> 4\u001b[1;33m         \u001b[0mf\u001b[0m\u001b[1;33m(\u001b[0m\u001b[0mx\u001b[0m\u001b[1;33m,\u001b[0m\u001b[0my\u001b[0m\u001b[1;33m)\u001b[0m\u001b[1;33m\u001b[0m\u001b[1;33m\u001b[0m\u001b[0m\n\u001b[0m\u001b[0;32m      5\u001b[0m \u001b[1;33m\u001b[0m\u001b[0m\n\u001b[0;32m      6\u001b[0m     \u001b[1;32mreturn\u001b[0m \u001b[0minner\u001b[0m\u001b[1;33m\u001b[0m\u001b[1;33m\u001b[0m\u001b[0m\n",
      "\u001b[1;31mTypeError\u001b[0m: square() takes 1 positional argument but 2 were given"
     ]
    }
   ],
   "source": [
    "def outer(f):\n",
    "    def inner(x,y):\n",
    "        print(\"Calling\", f)\n",
    "        f(x,y)\n",
    "        \n",
    "    return inner\n",
    "\n",
    "def add(x,y):\n",
    "    print(\"Add\",x+y)\n",
    "\n",
    "def square(x):\n",
    "    print(\"Square\", x**2)\n",
    "    \n",
    "f1  = outer(add)\n",
    "#def inner(x,y):\n",
    "#        print(\"Calling\", add)\n",
    "#        add(x,y)\n",
    "\n",
    "f2 = outer(square)\n",
    "#def inner(x,y):\n",
    "#        print(\"Calling\", square)\n",
    "#        square(x,y)\n",
    "\n",
    "f1(10,20)\n",
    "#f2(1) # inner() missing 1 required positional argument: 'y'\n",
    "f2(10,20)"
   ]
  },
  {
   "cell_type": "code",
   "execution_count": 20,
   "metadata": {},
   "outputs": [
    {
     "name": "stdout",
     "output_type": "stream",
     "text": [
      "Calling <function add at 0x00000241C2EE5E58>\n",
      "Add 30\n",
      "Calling <function square at 0x00000241C2EE5D38>\n",
      "Square 1\n",
      "Calling <function add at 0x00000241C2EE5E58>\n",
      "Add 50\n"
     ]
    }
   ],
   "source": [
    "def outer(f):\n",
    "    def inner(*args, **kwargs):\n",
    "        print(\"Calling\", f)\n",
    "        f(*args, **kwargs)\n",
    "        \n",
    "    return inner\n",
    "\n",
    "def add(x,y):\n",
    "    print(\"Add\",x+y)\n",
    "\n",
    "def square(x):\n",
    "    print(\"Square\", x**2)\n",
    "    \n",
    "f1  = outer(add)\n",
    "#def inner(*args, **kwargs):\n",
    "#        print(\"Calling\", add)\n",
    "#        add(*args, **kwargs)\n",
    "\n",
    "f2 = outer(square)\n",
    "#def inner(*args, **kwargs):\n",
    "#        print(\"Calling\", square)\n",
    "#        square(*args, **kwargs)\n",
    "\n",
    "f1(10,20)\n",
    "f2(1) # inner() missing 1 required positional argument: 'y'\n",
    "f1(y = 20, x = 30)"
   ]
  },
  {
   "cell_type": "code",
   "execution_count": 23,
   "metadata": {},
   "outputs": [
    {
     "name": "stdout",
     "output_type": "stream",
     "text": [
      "Calling <function add at 0x00000241C2EE50D8>\n",
      "Add 30\n",
      "Calling <function square at 0x00000241C2EE5168>\n",
      "Square 10000\n"
     ]
    }
   ],
   "source": [
    "def outer(f):\n",
    "    def inner(*args, **kwargs):\n",
    "        print(\"Calling\", f)\n",
    "        f(*args, **kwargs)\n",
    "        \n",
    "    return inner\n",
    "\n",
    "@outer\n",
    "def add(x,y):\n",
    "    print(\"Add\", x+y)\n",
    "\n",
    "@outer\n",
    "def square(x):\n",
    "    print(\"Square\", x**2)\n",
    "\n",
    "add(10,20)\n",
    "square(100)"
   ]
  },
  {
   "cell_type": "code",
   "execution_count": 25,
   "metadata": {},
   "outputs": [
    {
     "name": "stdout",
     "output_type": "stream",
     "text": [
      "Calling <function add at 0x00000241C2EDBD38>\n",
      "None\n",
      "\n",
      "Calling <function square at 0x00000241C2EE5E58>\n",
      "Square 10000\n",
      "None\n"
     ]
    }
   ],
   "source": [
    "def outer(f):\n",
    "    def inner(*args, **kwargs):\n",
    "        print(\"Calling\", f)\n",
    "        f(*args, **kwargs)\n",
    "        \n",
    "    return inner\n",
    "\n",
    "@outer\n",
    "def add(x,y):\n",
    "    return x+y\n",
    "#def inner(*args, **kwargs):\n",
    "#    print(\"Calling\", f)\n",
    "#    add(*args, **kwargs)\n",
    "\n",
    "@outer\n",
    "def square(x):\n",
    "    print(\"Square\", x**2)\n",
    "\n",
    "print(add(10,20))\n",
    "print()\n",
    "print(square(100))"
   ]
  },
  {
   "cell_type": "code",
   "execution_count": 26,
   "metadata": {},
   "outputs": [
    {
     "name": "stdout",
     "output_type": "stream",
     "text": [
      "Calling <function add at 0x00000241C2E1B5E8>\n",
      "30\n",
      "\n",
      "Calling <function square at 0x00000241C2EDBCA8>\n",
      "Square 10000\n",
      "None\n"
     ]
    }
   ],
   "source": [
    "def outer(f):\n",
    "    def inner(*args, **kwargs):\n",
    "        print(\"Calling\", f)\n",
    "        r  = f(*args, **kwargs)\n",
    "        return r\n",
    "        \n",
    "    return inner\n",
    "\n",
    "@outer\n",
    "def add(x,y):\n",
    "    return x+y\n",
    "#def inner(*args, **kwargs):\n",
    "#    print(\"Calling\", f)\n",
    "#    r  = f(*args, **kwargs)\n",
    "#    return r\n",
    "\n",
    "@outer\n",
    "def square(x):\n",
    "    print(\"Square\", x**2)\n",
    "\n",
    "print(add(10,20))\n",
    "print()\n",
    "print(square(100))"
   ]
  },
  {
   "cell_type": "code",
   "execution_count": 31,
   "metadata": {},
   "outputs": [
    {
     "name": "stdout",
     "output_type": "stream",
     "text": [
      "<function outer.<locals>.inner at 0x00000241C2EE5558>\n",
      "<function outer.<locals>.inner at 0x00000241C2EE5A68>\n",
      "\n",
      "Calling <function add at 0x00000241C2EE55E8>\n",
      "30\n",
      "\n",
      "Calling <function square at 0x00000241C2E1B4C8>\n",
      "Square 10000\n",
      "None\n"
     ]
    }
   ],
   "source": [
    "def outer(f):\n",
    "    def inner(*args, **kwargs):\n",
    "        print(\"Calling\", f)\n",
    "        r  = f(*args, **kwargs)\n",
    "        return r\n",
    "        \n",
    "    return inner\n",
    "\n",
    "@outer\n",
    "def add(x,y):\n",
    "    return x+y\n",
    "#def inner(*args, **kwargs):\n",
    "#    print(\"Calling\", f)\n",
    "#    r  = f(*args, **kwargs)\n",
    "#    return r\n",
    "\n",
    "@outer\n",
    "def square(x):\n",
    "    print(\"Square\", x**2)\n",
    "    \n",
    "print(add)\n",
    "print(square)\n",
    "print()\n",
    "\n",
    "print(add(10,20))\n",
    "print()\n",
    "print(square(100))"
   ]
  },
  {
   "cell_type": "code",
   "execution_count": 32,
   "metadata": {},
   "outputs": [
    {
     "name": "stdout",
     "output_type": "stream",
     "text": [
      "<function add at 0x00000241C2EE5168>\n",
      "<function square at 0x00000241C2EE55E8>\n",
      "\n",
      "Calling <function add at 0x00000241C2EE5318>\n",
      "30\n",
      "\n",
      "Calling <function square at 0x00000241C2EE5288>\n",
      "Square 10000\n",
      "None\n"
     ]
    }
   ],
   "source": [
    "from functools import wraps\n",
    "\n",
    "def outer(f):\n",
    "    @wraps(f)\n",
    "    def inner(*args, **kwargs):\n",
    "        print(\"Calling\", f)\n",
    "        r  = f(*args, **kwargs)\n",
    "        return r\n",
    "        \n",
    "    return inner\n",
    "\n",
    "@outer\n",
    "def add(x,y):\n",
    "    return x+y\n",
    "#def inner(*args, **kwargs):\n",
    "#    print(\"Calling\", f)\n",
    "#    r  = f(*args, **kwargs)\n",
    "#    return r\n",
    "\n",
    "@outer\n",
    "def square(x):\n",
    "    print(\"Square\", x**2)\n",
    "    \n",
    "print(add)\n",
    "print(square)\n",
    "print()\n",
    "\n",
    "print(add(10,20))\n",
    "print()\n",
    "print(square(100))"
   ]
  },
  {
   "cell_type": "code",
   "execution_count": null,
   "metadata": {},
   "outputs": [],
   "source": []
  },
  {
   "cell_type": "code",
   "execution_count": 43,
   "metadata": {},
   "outputs": [
    {
     "name": "stdout",
     "output_type": "stream",
     "text": [
      "waste_time start\n",
      "waste_time end\n",
      "Time taken to run  waste_time with values (100000000,) {} is: 0:00:01.611212\n",
      "\n",
      "waste_time start\n",
      "waste_time end\n",
      "Time taken to run  waste_time with values (1000000,) {} is: 0:00:00.017952\n"
     ]
    }
   ],
   "source": [
    "# decorator that can calculate execution time of a function\n",
    "from datetime import datetime\n",
    "from functools import wraps\n",
    "\n",
    "def timer(funct):\n",
    "    @wraps(funct)\n",
    "    def inner(*args, **kwargs):\n",
    "        start = datetime.now()\n",
    "        r  =  funct(*args, **kwargs)\n",
    "        end =  datetime.now()\n",
    "        print(\"Time taken to run \",  funct.__name__, \"with values\", args, kwargs , \"is:\", end - start)\n",
    "        return r\n",
    "    \n",
    "    return inner\n",
    "\n",
    "@timer\n",
    "def waste_time(n):\n",
    "    print(\"waste_time start\")\n",
    "    for i in range(n):\n",
    "        pass\n",
    "    print(\"waste_time end\")\n",
    "    \n",
    "waste_time(100000000)\n",
    "\n",
    "print()\n",
    "waste_time(1000000)"
   ]
  }
 ],
 "metadata": {
  "kernelspec": {
   "display_name": "Python 3",
   "language": "python",
   "name": "python3"
  },
  "language_info": {
   "codemirror_mode": {
    "name": "ipython",
    "version": 3
   },
   "file_extension": ".py",
   "mimetype": "text/x-python",
   "name": "python",
   "nbconvert_exporter": "python",
   "pygments_lexer": "ipython3",
   "version": "3.7.4"
  }
 },
 "nbformat": 4,
 "nbformat_minor": 2
}
