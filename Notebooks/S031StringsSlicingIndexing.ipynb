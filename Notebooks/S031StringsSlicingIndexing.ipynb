{
 "cells": [
  {
   "cell_type": "code",
   "execution_count": 1,
   "metadata": {},
   "outputs": [
    {
     "name": "stdout",
     "output_type": "stream",
     "text": [
      "Gaurav\n"
     ]
    }
   ],
   "source": [
    "# WAP to print your name\n",
    "print(\"Gaurav\")"
   ]
  },
  {
   "cell_type": "code",
   "execution_count": 3,
   "metadata": {},
   "outputs": [
    {
     "name": "stdout",
     "output_type": "stream",
     "text": [
      "Enter a Base:3\n",
      "Enter a Exponent:4\n",
      "81\n",
      "81\n"
     ]
    }
   ],
   "source": [
    "# WAP to input base an expoonent and print result\n",
    "base = int(input(\"Enter a Base:\"))\n",
    "exp = int(input(\"Enter a Exponent:\"))\n",
    "print(base ** exp)\n",
    "print(pow(base, exp))"
   ]
  },
  {
   "cell_type": "code",
   "execution_count": 5,
   "metadata": {},
   "outputs": [
    {
     "name": "stdout",
     "output_type": "stream",
     "text": [
      "Enter a string:abcd\n",
      "Len of string is  4\n"
     ]
    }
   ],
   "source": [
    "# WAP to input a string and print its length\n",
    "string = input(\"Enter a string:\")\n",
    "print(\"Len of string is \", len(string))"
   ]
  },
  {
   "cell_type": "markdown",
   "metadata": {},
   "source": [
    "## Strings\n",
    "- string is immutable\n",
    "- string is a sequence"
   ]
  },
  {
   "cell_type": "code",
   "execution_count": 6,
   "metadata": {},
   "outputs": [
    {
     "name": "stdout",
     "output_type": "stream",
     "text": [
      "['__add__', '__class__', '__contains__', '__delattr__', '__dir__', '__doc__', '__eq__', '__format__', '__ge__', '__getattribute__', '__getitem__', '__getnewargs__', '__gt__', '__hash__', '__init__', '__init_subclass__', '__iter__', '__le__', '__len__', '__lt__', '__mod__', '__mul__', '__ne__', '__new__', '__reduce__', '__reduce_ex__', '__repr__', '__rmod__', '__rmul__', '__setattr__', '__sizeof__', '__str__', '__subclasshook__', 'capitalize', 'casefold', 'center', 'count', 'encode', 'endswith', 'expandtabs', 'find', 'format', 'format_map', 'index', 'isalnum', 'isalpha', 'isascii', 'isdecimal', 'isdigit', 'isidentifier', 'islower', 'isnumeric', 'isprintable', 'isspace', 'istitle', 'isupper', 'join', 'ljust', 'lower', 'lstrip', 'maketrans', 'partition', 'replace', 'rfind', 'rindex', 'rjust', 'rpartition', 'rsplit', 'rstrip', 'split', 'splitlines', 'startswith', 'strip', 'swapcase', 'title', 'translate', 'upper', 'zfill']\n"
     ]
    }
   ],
   "source": [
    "s = \"\"\n",
    "print(dir(s))"
   ]
  },
  {
   "cell_type": "code",
   "execution_count": 11,
   "metadata": {},
   "outputs": [
    {
     "name": "stdout",
     "output_type": "stream",
     "text": [
      "a  bcd 12\n",
      "a  bcd 12\n",
      "A  BCD 12\n",
      "a  bcd 12\n",
      "A  BCD 12\n"
     ]
    }
   ],
   "source": [
    "s = \"a  bcd 12\"\n",
    "print(s)\n",
    "print(s.lower())\n",
    "print(s.upper())\n",
    "print(s)\n",
    "s = s.upper()\n",
    "print(s)"
   ]
  },
  {
   "cell_type": "code",
   "execution_count": 15,
   "metadata": {},
   "outputs": [
    {
     "name": "stdout",
     "output_type": "stream",
     "text": [
      "Enter a string:a bcd\n",
      "A BCD\n",
      "a bcd\n",
      "False\n",
      "True\n",
      "False\n"
     ]
    }
   ],
   "source": [
    "# WAP to input a string and then use these functions:\n",
    "# - upper\n",
    "# - lower\n",
    "# - isupper\n",
    "# - islower\n",
    "# - isdigit\n",
    "s = input(\"Enter a string:\")\n",
    "print(s.upper())\n",
    "print(s.lower())\n",
    "print(s.isupper())\n",
    "print(s.islower())\n",
    "print(s.isdigit())"
   ]
  },
  {
   "cell_type": "code",
   "execution_count": 16,
   "metadata": {},
   "outputs": [
    {
     "name": "stdout",
     "output_type": "stream",
     "text": [
      "abcd12\n"
     ]
    }
   ],
   "source": [
    "s = \"abCD12\"\n",
    "print(s.casefold())"
   ]
  },
  {
   "cell_type": "code",
   "execution_count": 25,
   "metadata": {},
   "outputs": [
    {
     "name": "stdout",
     "output_type": "stream",
     "text": [
      "a\n"
     ]
    }
   ],
   "source": [
    "# Slicing and Indexing\n",
    "s = \"abcdefgh\"\n",
    "#    01234567  positive indexes\n",
    "#    87654321  negative indexes\n",
    "print(s[0])\n"
   ]
  },
  {
   "cell_type": "code",
   "execution_count": 28,
   "metadata": {},
   "outputs": [
    {
     "name": "stdout",
     "output_type": "stream",
     "text": [
      "abcd\n",
      "Last Char d\n"
     ]
    }
   ],
   "source": [
    "# WAP to input a string and print middle character\n",
    "s = input()\n",
    "\n",
    "if len(s) > 0:\n",
    "    print(\"Last Char\", s[-1])\n",
    "else:\n",
    "    print(\"Length is zero\")"
   ]
  },
  {
   "cell_type": "code",
   "execution_count": 39,
   "metadata": {},
   "outputs": [
    {
     "name": "stdout",
     "output_type": "stream",
     "text": [
      "h\n",
      "a\n"
     ]
    },
    {
     "ename": "IndexError",
     "evalue": "string index out of range",
     "output_type": "error",
     "traceback": [
      "\u001b[1;31m---------------------------------------------------------------------------\u001b[0m",
      "\u001b[1;31mIndexError\u001b[0m                                Traceback (most recent call last)",
      "\u001b[1;32m<ipython-input-39-4e596f757043>\u001b[0m in \u001b[0;36m<module>\u001b[1;34m\u001b[0m\n\u001b[0;32m      4\u001b[0m \u001b[0mprint\u001b[0m\u001b[1;33m(\u001b[0m\u001b[0ms\u001b[0m\u001b[1;33m[\u001b[0m\u001b[1;33m-\u001b[0m\u001b[1;36m1\u001b[0m\u001b[1;33m]\u001b[0m\u001b[1;33m)\u001b[0m\u001b[1;33m\u001b[0m\u001b[1;33m\u001b[0m\u001b[0m\n\u001b[0;32m      5\u001b[0m \u001b[0mprint\u001b[0m\u001b[1;33m(\u001b[0m\u001b[0ms\u001b[0m\u001b[1;33m[\u001b[0m\u001b[1;33m-\u001b[0m\u001b[1;36m8\u001b[0m\u001b[1;33m]\u001b[0m\u001b[1;33m)\u001b[0m\u001b[1;33m\u001b[0m\u001b[1;33m\u001b[0m\u001b[0m\n\u001b[1;32m----> 6\u001b[1;33m \u001b[0mprint\u001b[0m\u001b[1;33m(\u001b[0m\u001b[0ms\u001b[0m\u001b[1;33m[\u001b[0m\u001b[1;36m1000\u001b[0m\u001b[1;33m]\u001b[0m\u001b[1;33m)\u001b[0m\u001b[1;33m\u001b[0m\u001b[1;33m\u001b[0m\u001b[0m\n\u001b[0m",
      "\u001b[1;31mIndexError\u001b[0m: string index out of range"
     ]
    }
   ],
   "source": [
    "s = \"abcdefgh\"\n",
    "#    01234567  positive indexes\n",
    "#    87654321  negative indexes\n",
    "print(s[-1])\n",
    "print(s[-8])\n",
    "print(s[1000])"
   ]
  },
  {
   "cell_type": "code",
   "execution_count": 40,
   "metadata": {},
   "outputs": [
    {
     "name": "stdout",
     "output_type": "stream",
     "text": [
      "def\n",
      "defgh\n",
      "abcdef\n",
      "abcdefgh\n",
      "Huge index defgh\n",
      "Huge index ''\n",
      "Huge index \n"
     ]
    }
   ],
   "source": [
    "s = \"abcdefgh\"\n",
    "#    01234567  positive indexes\n",
    "#    87654321  negative indexes\n",
    "# [start:end: step]\n",
    "# [start:end]\n",
    "# element at end index is ignored\n",
    "print(s[3:6])\n",
    "print(s[3:])\n",
    "print(s[:6])\n",
    "print(s[:])\n",
    "print(\"Huge index\",s[3:600000])\n",
    "print(\"Huge index\",repr(s[30000:600000]))\n",
    "print(\"Huge index\",s[6:3])\n",
    "\n",
    "\n"
   ]
  },
  {
   "cell_type": "code",
   "execution_count": 42,
   "metadata": {},
   "outputs": [
    {
     "name": "stdout",
     "output_type": "stream",
     "text": [
      "df\n",
      "ace\n",
      "dfh\n"
     ]
    }
   ],
   "source": [
    "s = \"abcdefgh\"\n",
    "#    01234567  positive indexes\n",
    "#    87654321  negative indexes\n",
    "# [start:end: step]\n",
    "# [start:end]\n",
    "# element at end index is ignored\n",
    "print(s[3:6:2])\n",
    "print(s[:6:2])\n",
    "print(s[3::2])\n",
    "\n",
    "\n"
   ]
  },
  {
   "cell_type": "code",
   "execution_count": 47,
   "metadata": {},
   "outputs": [
    {
     "name": "stdout",
     "output_type": "stream",
     "text": [
      "1 \n",
      "2 cde\n",
      "1 fed\n",
      "1 hfdb\n",
      "1 hgfedcba\n"
     ]
    }
   ],
   "source": [
    "s = \"abcdefgh\"\n",
    "#    01234567  positive indexes\n",
    "#    87654321  negative indexes\n",
    "# [start:end: step]\n",
    "# [start:end]\n",
    "# element at end index is ignored\n",
    "print(1,s[-3:-6])\n",
    "print(2,s[-6:-3])\n",
    "\n",
    "print(1,s[-3:-6:-1])\n",
    "print(1,s[::-2])\n",
    "print(1,s[::-1])\n",
    "\n"
   ]
  }
 ],
 "metadata": {
  "kernelspec": {
   "display_name": "Python 3",
   "language": "python",
   "name": "python3"
  },
  "language_info": {
   "codemirror_mode": {
    "name": "ipython",
    "version": 3
   },
   "file_extension": ".py",
   "mimetype": "text/x-python",
   "name": "python",
   "nbconvert_exporter": "python",
   "pygments_lexer": "ipython3",
   "version": "3.7.4"
  }
 },
 "nbformat": 4,
 "nbformat_minor": 2
}
