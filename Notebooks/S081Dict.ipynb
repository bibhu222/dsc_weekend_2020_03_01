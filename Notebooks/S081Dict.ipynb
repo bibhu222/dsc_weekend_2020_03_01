{
 "cells": [
  {
   "cell_type": "code",
   "execution_count": null,
   "metadata": {},
   "outputs": [],
   "source": [
    "# array\n",
    "# list : not python list\n",
    "# tree\n",
    "# graph\n",
    "\n",
    "# time complexity\n",
    "# O(log n)\n",
    "# O(n)\n",
    "# O(n^2)\n",
    "# O(n!)"
   ]
  },
  {
   "cell_type": "code",
   "execution_count": 2,
   "metadata": {},
   "outputs": [
    {
     "name": "stdout",
     "output_type": "stream",
     "text": [
      "Enter stirng:abcdefgh\n",
      "Enter character:7\n",
      "-1\n"
     ]
    }
   ],
   "source": [
    "\n",
    "# O(n) : asymptotic time complexity\n",
    "\n",
    "def find_index(s, c):\n",
    "    for i in range(len(s)):\n",
    "        if s[i] == c:\n",
    "            return i\n",
    "    return -1\n",
    "\n",
    "print(find_index(input(\"Enter stirng:\") , input(\"Enter character:\")))\n",
    "# O(n)\n"
   ]
  },
  {
   "cell_type": "code",
   "execution_count": 5,
   "metadata": {},
   "outputs": [
    {
     "name": "stdout",
     "output_type": "stream",
     "text": [
      "Enter string: abcde\n",
      "Enter index:7\n",
      "None\n"
     ]
    }
   ],
   "source": [
    "def get_char_at(s, idx):\n",
    "    if len(s) > idx:\n",
    "        return s[idx]\n",
    "\n",
    "    return None\n",
    "\n",
    "print(get_char_at( input(\"Enter string: \"), int(input(\"Enter index:\"))))\n",
    "# O(1)"
   ]
  },
  {
   "cell_type": "code",
   "execution_count": 40,
   "metadata": {},
   "outputs": [
    {
     "name": "stdout",
     "output_type": "stream",
     "text": [
      "abcabad\n",
      "{'a': 3, 'b': 2, 'c': 1, 'd': 1}\n"
     ]
    }
   ],
   "source": [
    "# dictionary : hash maps : mapping type\n",
    "# key: value\n",
    "\n",
    "# WAP to input a string and count occurence of each character in the string\n",
    "# \"abcabad\"\n",
    "# a:3\n",
    "# b:2\n",
    "# c:1\n",
    "# d:1\n",
    "# [(a:3),(b:2),(c:1),(d:1)]\n",
    "# [a,b]\n",
    "# \n",
    "\n",
    "s = input()\n",
    "d  = {}\n",
    "for ch in s:\n",
    "    if ch in d:\n",
    "        d[ch] = d[ch] + 1\n",
    "    else:\n",
    "        d[ch] = 1\n",
    "        \n",
    "print(d)\n",
    "# s = abcabad O(n)\n",
    "# d  {a:1} {a:1,b:1} {a:1,b:1,c:1}{a:2,b:1,c:1}{a:2,b:2,c:1}{a:3,b:2,c:1}{a:3,b:1,c:1,d:1}\n",
    "# ch a     b         c             a            b            a          d"
   ]
  },
  {
   "cell_type": "markdown",
   "metadata": {},
   "source": [
    "- dict is mapping type\n",
    "- mutable\n",
    "- keys have to be immutable\n",
    "- keys have to be unique\n",
    "- values may not be unique"
   ]
  },
  {
   "cell_type": "code",
   "execution_count": 9,
   "metadata": {},
   "outputs": [
    {
     "name": "stdout",
     "output_type": "stream",
     "text": [
      "{10: 20}\n",
      "1\n",
      "20\n"
     ]
    }
   ],
   "source": [
    "d = {10:20}\n",
    "print(d)\n",
    "print(len(d))\n",
    "print(d[10])"
   ]
  },
  {
   "cell_type": "code",
   "execution_count": 11,
   "metadata": {},
   "outputs": [
    {
     "name": "stdout",
     "output_type": "stream",
     "text": [
      "{10: 20, 'a': [1, 2, 3], (1, 2): 'abcd', -1: {100: 999}}\n",
      "4\n",
      "20\n"
     ]
    }
   ],
   "source": [
    "d = {10:20, \"a\":[1,2,3], (1,2): \"abcd\", -1:{100:999}}\n",
    "print(d)\n",
    "print(len(d))\n",
    "print(d[10])"
   ]
  },
  {
   "cell_type": "code",
   "execution_count": 15,
   "metadata": {},
   "outputs": [
    {
     "name": "stdout",
     "output_type": "stream",
     "text": [
      "[1, 2, 3]\n",
      "ab not present\n"
     ]
    }
   ],
   "source": [
    "d = {10:20, \"a\":[1,2,3], (1,2): \"abcd\", -1:{100:999}}\n",
    "print(d[\"a\"])\n",
    "if \"ab\" in d:\n",
    "    print(d[\"ab\"])\n",
    "else:\n",
    "    print(\"ab not present\")"
   ]
  },
  {
   "cell_type": "code",
   "execution_count": 25,
   "metadata": {},
   "outputs": [
    {
     "name": "stdout",
     "output_type": "stream",
     "text": [
      "[(10, 100), (20, 200), (30, 300), (40, 400), (50, 500)]\n",
      "{10: 100, 20: 200, 30: 300, 40: 400, 50: 500}\n",
      "100\n",
      "None\n",
      "-1\n",
      "100\n"
     ]
    }
   ],
   "source": [
    "# list comprehension\n",
    "a = [ (i,i*10) for i in range(10,60,10)]\n",
    "print(a)\n",
    "d = dict(a)\n",
    "print(d)\n",
    "print(d.get(10))\n",
    "print(d.get(100))\n",
    "print(d.get(1000, -1))\n",
    "print(d.get(10, -1))"
   ]
  },
  {
   "cell_type": "code",
   "execution_count": 32,
   "metadata": {},
   "outputs": [
    {
     "name": "stdout",
     "output_type": "stream",
     "text": [
      "[(10, 100), (20, 200), (30, 300), (40, 400), (50, 500)]\n",
      "{10: 100, 20: 200, 30: 300, 40: 400, 50: 500}\n",
      "100\n",
      "{20: 200, 30: 300, 40: 400, 50: 500}\n",
      "-1\n"
     ]
    }
   ],
   "source": [
    "a = [ (i,i*10) for i in range(10,60,10)]\n",
    "print(a)\n",
    "d = dict(a)\n",
    "print(d)\n",
    "print(d.pop(10)) # O(1)\n",
    "print(d)\n",
    "print(d.pop(1000,-1)) # O(1)\n",
    "if 1000 in d:\n",
    "    print(d.pop(1000)) # O(1)"
   ]
  },
  {
   "cell_type": "code",
   "execution_count": 33,
   "metadata": {},
   "outputs": [
    {
     "name": "stdout",
     "output_type": "stream",
     "text": [
      "{1: <built-in function print>, 2: <IPython.core.autocall.ZMQExitAutocall object at 0x0000028B5CDA4048>}\n"
     ]
    }
   ],
   "source": [
    "d  = {1:print, 2:exit}\n",
    "print(d)"
   ]
  },
  {
   "cell_type": "code",
   "execution_count": 37,
   "metadata": {},
   "outputs": [
    {
     "name": "stdout",
     "output_type": "stream",
     "text": [
      "10\n",
      "{1: 10, 2: 20, 3: 300}\n",
      "{1: 100, 2: 20, 3: 300}\n"
     ]
    }
   ],
   "source": [
    "d = {1:10,2:20}\n",
    "print(d[1])\n",
    "d[3] = 300 # create key and value\n",
    "print(d)\n",
    "d[1] = 100 # update value since 1 already exists\n",
    "print(d)"
   ]
  },
  {
   "cell_type": "code",
   "execution_count": 38,
   "metadata": {},
   "outputs": [
    {
     "name": "stdout",
     "output_type": "stream",
     "text": [
      "Enter Value100\n",
      "Enter key:1\n",
      "Enter Value3\n",
      "Enter key:2\n",
      "Enter Value44\n",
      "Enter key:3\n",
      "Enter Value66\n",
      "Enter key:6\n",
      "{'1': '100', '2': '3', '3': '44', '6': '66'}\n"
     ]
    }
   ],
   "source": [
    "d = {}\n",
    "for i in range(4):\n",
    "    d[input(\"Enter key:\")] =  input(\"Enter Value\")\n",
    "    \n",
    "print(d)"
   ]
  },
  {
   "cell_type": "code",
   "execution_count": 46,
   "metadata": {},
   "outputs": [
    {
     "name": "stdout",
     "output_type": "stream",
     "text": [
      "abcd\n",
      "{'a': 1, 'b': 1, 'c': 1, 'd': 1}\n",
      "dict_keys(['a', 'b', 'c', 'd']) <class 'dict_keys'>\n",
      "dict_values([1, 1, 1, 1])\n",
      "a\n",
      "b\n",
      "c\n",
      "d\n"
     ]
    }
   ],
   "source": [
    "s = input()\n",
    "d  = {}\n",
    "for ch in s:\n",
    "    d[ch] = d.get(ch,0) + 1\n",
    "        \n",
    "print(d)\n",
    "print(d.keys(), type(d.keys()))\n",
    "print(d.values())\n",
    "for k in d.keys():\n",
    "    print(k)\n",
    "# {} {}\n",
    "# ch a"
   ]
  },
  {
   "cell_type": "code",
   "execution_count": 54,
   "metadata": {},
   "outputs": [
    {
     "name": "stdout",
     "output_type": "stream",
     "text": [
      "{0: 0, 1: 10, 2: 20, 3: 30, 4: 40}\n",
      "0 0\n",
      "1 10\n",
      "2 20\n",
      "3 30\n",
      "4 40\n",
      "\n",
      "(0, 0)\n",
      "(1, 10)\n",
      "(2, 20)\n",
      "(3, 30)\n",
      "(4, 40)\n",
      "\n",
      "0 0\n",
      "1 10\n",
      "2 20\n",
      "3 30\n",
      "4 40\n"
     ]
    }
   ],
   "source": [
    "d = { i:i*10 for i in range(5) } # dictionary comprehension\n",
    "print(d)\n",
    "for k in d:\n",
    "    print(k, d[k])\n",
    "\n",
    "print()\n",
    "for item in d.items():\n",
    "    print(item)\n",
    "    \n",
    "print()\n",
    "for k,v in d.items():\n",
    "    print(k,v)"
   ]
  },
  {
   "cell_type": "code",
   "execution_count": null,
   "metadata": {},
   "outputs": [],
   "source": [
    "d = { i:i*10 for i in range(5) }\n",
    "\n",
    "d =  {}\n",
    "for i in range(5):\n",
    "    d[i] = i*10"
   ]
  },
  {
   "cell_type": "code",
   "execution_count": null,
   "metadata": {},
   "outputs": [],
   "source": [
    "# mode: what it is\n",
    "# WAP to input a string and print mode\n",
    "# ex: abaaaabcda a\n",
    "# ex: ababcdab   (a,b)"
   ]
  }
 ],
 "metadata": {
  "kernelspec": {
   "display_name": "Python 3",
   "language": "python",
   "name": "python3"
  },
  "language_info": {
   "codemirror_mode": {
    "name": "ipython",
    "version": 3
   },
   "file_extension": ".py",
   "mimetype": "text/x-python",
   "name": "python",
   "nbconvert_exporter": "python",
   "pygments_lexer": "ipython3",
   "version": "3.7.4"
  }
 },
 "nbformat": 4,
 "nbformat_minor": 2
}
