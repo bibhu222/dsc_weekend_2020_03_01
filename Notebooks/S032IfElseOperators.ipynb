{
 "cells": [
  {
   "cell_type": "code",
   "execution_count": null,
   "metadata": {},
   "outputs": [],
   "source": [
    "# Operators\n",
    "print(1+1)\n",
    "print(11 > 9)\n",
    "print(9 > 9)\n",
    "print(9 >= 9)\n",
    "print(90 >= 9)\n",
    "print(90 == 9)\n",
    "print(90 == 90)\n",
    "print(90 != 9)\n",
    "\n",
    "# bitwise operators\n",
    "# shift operators\n",
    "\n",
    "# logical operators"
   ]
  },
  {
   "cell_type": "code",
   "execution_count": null,
   "metadata": {},
   "outputs": [],
   "source": [
    "## n = input(\" Enter a number: \")\n",
    "n =int(n)\n",
    "\n",
    "if n%2 == 0:\n",
    "    print(\"Number is even\")\n",
    "else:\n",
    "    print(\"Number is odd\")"
   ]
  },
  {
   "cell_type": "code",
   "execution_count": null,
   "metadata": {},
   "outputs": [],
   "source": [
    "if False:\n",
    "    print(1)\n",
    "    print(2)"
   ]
  },
  {
   "cell_type": "code",
   "execution_count": null,
   "metadata": {},
   "outputs": [],
   "source": [
    "if False:\n",
    "    print(1)\n",
    "print(2)"
   ]
  },
  {
   "cell_type": "code",
   "execution_count": null,
   "metadata": {},
   "outputs": [],
   "source": [
    "if 1>0:\n",
    "    print(1)\n",
    "print(2)"
   ]
  },
  {
   "cell_type": "code",
   "execution_count": null,
   "metadata": {},
   "outputs": [],
   "source": [
    "n = int(input())\n",
    "\n",
    "if  n > 0:\n",
    "    print(123)\n",
    "    print(456)\n",
    "else:\n",
    "    print(555)\n",
    "print(999)"
   ]
  },
  {
   "cell_type": "code",
   "execution_count": null,
   "metadata": {},
   "outputs": [],
   "source": [
    "# WAP to input 2 numbers print larger of them\n",
    "n1 = int(input())\n",
    "n2 = int(input())\n",
    "if n1 > n2:\n",
    "    print(n1)\n",
    "else:\n",
    "    print(n2)"
   ]
  },
  {
   "cell_type": "code",
   "execution_count": null,
   "metadata": {},
   "outputs": [],
   "source": [
    "# WAP to input 2 numbers print larger of them\n",
    "n1 = int(input())\n",
    "n2 = int(input())\n",
    "if n1 > n2:\n",
    "    print(n1)\n",
    "if n2 >  n1:\n",
    "    print(n2)"
   ]
  },
  {
   "cell_type": "code",
   "execution_count": null,
   "metadata": {},
   "outputs": [],
   "source": [
    "# WAP to input 2 numbers print larger of them\n",
    "n1 = int(input())\n",
    "n2 = int(input())\n",
    "if n1 > n2:\n",
    "    print(n1)\n",
    "elif n2 >  n1:\n",
    "    print(n2)\n",
    "else:\n",
    "    print(\"Equal\")"
   ]
  },
  {
   "cell_type": "code",
   "execution_count": null,
   "metadata": {},
   "outputs": [],
   "source": [
    "# if\n",
    "# if else\n",
    "# if elif.... else"
   ]
  },
  {
   "cell_type": "code",
   "execution_count": null,
   "metadata": {},
   "outputs": [],
   "source": [
    "# type Conversion\n",
    "print(bool(True))\n",
    "print(bool(False))\n",
    "print(bool(1))\n",
    "print(bool(0))\n",
    "print(bool(00))\n",
    "print(bool(-9))\n",
    "#print(bool(01))\n"
   ]
  },
  {
   "cell_type": "code",
   "execution_count": null,
   "metadata": {},
   "outputs": [],
   "source": [
    "print(bool(0.0))\n",
    "print(bool(0.1))\n",
    "print(bool(\"0\"))\n",
    "print(bool(\"\"))\n",
    "print(bool(\" \"))"
   ]
  },
  {
   "cell_type": "code",
   "execution_count": null,
   "metadata": {},
   "outputs": [],
   "source": [
    "print(int(True))\n",
    "print(int(False))"
   ]
  },
  {
   "cell_type": "code",
   "execution_count": null,
   "metadata": {},
   "outputs": [],
   "source": [
    "x = input()\n",
    "\n",
    "if len(x) > 0:\n",
    "    print(1)\n",
    "else:\n",
    "    print(2)"
   ]
  },
  {
   "cell_type": "code",
   "execution_count": null,
   "metadata": {},
   "outputs": [],
   "source": [
    "# logical operators\n",
    "# and or not\n",
    "n  =  int(input(\"Enter age:\"))\n",
    "if n >0 and n < 100:\n",
    "    print(\"valid age\")\n",
    "else:\n",
    "    print(\"Invalid Age\")"
   ]
  },
  {
   "cell_type": "code",
   "execution_count": null,
   "metadata": {},
   "outputs": [],
   "source": [
    "print(1 and 2 and 3)\n",
    "print(1 and 0 and 3)\n",
    "print(1 or 2 or 3)\n",
    "print(0 or 2 or 0)\n",
    "print(1 or 0 or 3)\n",
    "print(\"this\" and \"that\")\n",
    "print(\"that\" or \"this\")\n",
    "print(\"\" or \"that\")\n",
    "print(\"\" and \"this\")\n",
    "print(1 and \"two\")\n",
    "print( print and print )\n",
    "print(print() and print)"
   ]
  },
  {
   "cell_type": "code",
   "execution_count": null,
   "metadata": {},
   "outputs": [],
   "source": [
    "# wap to input a character and check if vowel or not\n",
    "c = input()\n",
    "c = c.lower()\n",
    "\n",
    "if c == 'a' or  c == 'e' or c == 'i' or c == 'o' or c == 'u':\n",
    "    print(\"Vowel\")\n",
    "else:\n",
    "    print(\"Not vowel\")"
   ]
  },
  {
   "cell_type": "code",
   "execution_count": 5,
   "metadata": {},
   "outputs": [
    {
     "name": "stdout",
     "output_type": "stream",
     "text": [
      " \n",
      "Enter a number!\n"
     ]
    },
    {
     "data": {
      "text/plain": [
       "'\\n\\n    '"
      ]
     },
     "execution_count": 5,
     "metadata": {},
     "output_type": "execute_result"
    }
   ],
   "source": [
    "n = input()\n",
    "\n",
    "if n.isdigit(): # outer if\n",
    "    n = int(n)\n",
    "    \n",
    "    if n%2: # inner if\n",
    "        print(\"Odd\")\n",
    "    else: # matches with inner if\n",
    "        print(\"Even\")\n",
    "else: # pairs with outer if\n",
    "    print(\"Enter a number!\")"
   ]
  },
  {
   "cell_type": "code",
   "execution_count": 12,
   "metadata": {},
   "outputs": [
    {
     "name": "stdout",
     "output_type": "stream",
     "text": [
      "10\n",
      "123\n"
     ]
    }
   ],
   "source": [
    "n = input()\n",
    "n = int(n)\n",
    "\n",
    "if (n%2 == 0 and n < 20)  or (n%2 == 1 and n > 30):\n",
    "    print(123)\n",
    "else:\n",
    "    print(456)"
   ]
  },
  {
   "cell_type": "code",
   "execution_count": 15,
   "metadata": {},
   "outputs": [
    {
     "name": "stdout",
     "output_type": "stream",
     "text": [
      "2\n",
      "This None\n",
      "False\n"
     ]
    }
   ],
   "source": [
    "x = print(2)\n",
    "print(\"This\", x)\n",
    "print(bool(None))"
   ]
  },
  {
   "cell_type": "code",
   "execution_count": null,
   "metadata": {},
   "outputs": [],
   "source": []
  },
  {
   "cell_type": "code",
   "execution_count": null,
   "metadata": {},
   "outputs": [],
   "source": []
  },
  {
   "cell_type": "code",
   "execution_count": null,
   "metadata": {},
   "outputs": [],
   "source": []
  }
 ],
 "metadata": {
  "kernelspec": {
   "display_name": "Python 3",
   "language": "python",
   "name": "python3"
  },
  "language_info": {
   "codemirror_mode": {
    "name": "ipython",
    "version": 3
   },
   "file_extension": ".py",
   "mimetype": "text/x-python",
   "name": "python",
   "nbconvert_exporter": "python",
   "pygments_lexer": "ipython3",
   "version": "3.7.4"
  }
 },
 "nbformat": 4,
 "nbformat_minor": 2
}
