{
 "cells": [
  {
   "cell_type": "markdown",
   "metadata": {},
   "source": [
    "## Regex"
   ]
  },
  {
   "cell_type": "code",
   "execution_count": 3,
   "metadata": {},
   "outputs": [
    {
     "data": {
      "text/plain": [
       "True"
      ]
     },
     "execution_count": 3,
     "metadata": {},
     "output_type": "execute_result"
    }
   ],
   "source": [
    "\"abc\" in \"pqrabc\""
   ]
  },
  {
   "cell_type": "code",
   "execution_count": 5,
   "metadata": {},
   "outputs": [],
   "source": [
    "import re"
   ]
  },
  {
   "cell_type": "code",
   "execution_count": 10,
   "metadata": {},
   "outputs": [
    {
     "name": "stdout",
     "output_type": "stream",
     "text": [
      "a\tc 'a\\tc'\n",
      "a\\tc 'a\\\\tc'\n",
      "a\\\\tc 'a\\\\\\\\tc'\n"
     ]
    }
   ],
   "source": [
    "s = \"a\\tc\"\n",
    "print(s, repr(s))\n",
    "s = \"a\\\\tc\"\n",
    "print(s, repr(s))\n",
    "# raw string\n",
    "s = r\"a\\\\tc\"\n",
    "print(s, repr(s))"
   ]
  },
  {
   "cell_type": "code",
   "execution_count": 11,
   "metadata": {},
   "outputs": [
    {
     "name": "stdout",
     "output_type": "stream",
     "text": [
      "['A', 'ASCII', 'DEBUG', 'DOTALL', 'I', 'IGNORECASE', 'L', 'LOCALE', 'M', 'MULTILINE', 'Match', 'Pattern', 'RegexFlag', 'S', 'Scanner', 'T', 'TEMPLATE', 'U', 'UNICODE', 'VERBOSE', 'X', '_MAXCACHE', '__all__', '__builtins__', '__cached__', '__doc__', '__file__', '__loader__', '__name__', '__package__', '__spec__', '__version__', '_cache', '_compile', '_compile_repl', '_expand', '_locale', '_pickle', '_special_chars_map', '_subx', 'compile', 'copyreg', 'enum', 'error', 'escape', 'findall', 'finditer', 'fullmatch', 'functools', 'match', 'purge', 'search', 'split', 'sre_compile', 'sre_parse', 'sub', 'subn', 'template']\n"
     ]
    }
   ],
   "source": [
    "print(dir(re))"
   ]
  },
  {
   "cell_type": "code",
   "execution_count": 16,
   "metadata": {},
   "outputs": [
    {
     "name": "stdout",
     "output_type": "stream",
     "text": [
      "True\n",
      "<re.Match object; span=(0, 3), match='thi'>\n"
     ]
    }
   ],
   "source": [
    "s = \"this is a string\"\n",
    "\n",
    "# starts with this\n",
    "print(s.startswith(\"this\"))\n",
    "m = re.match(\"thi\", s) # match object or None\n",
    "print(m)"
   ]
  },
  {
   "cell_type": "code",
   "execution_count": 15,
   "metadata": {},
   "outputs": [
    {
     "name": "stdout",
     "output_type": "stream",
     "text": [
      "None\n",
      "<re.Match object; span=(13, 16), match='the'>\n"
     ]
    }
   ],
   "source": [
    "s = \" is a string the\"\n",
    "\n",
    "# look for the in string\n",
    "m = re.match(\"the\", s) # match object or None\n",
    "print(m)\n",
    "m = re.search(\"the\", s) # search looks anywhere in the string\n",
    "print(m)"
   ]
  },
  {
   "cell_type": "code",
   "execution_count": 17,
   "metadata": {},
   "outputs": [
    {
     "name": "stdout",
     "output_type": "stream",
     "text": [
      "<re.Match object; span=(0, 3), match='the'>\n"
     ]
    }
   ],
   "source": [
    "s = \"the sentence is a string the\"\n",
    "\n",
    "m = re.search(\"the\", s) # search looks anywhere in the string\n",
    "print(m)"
   ]
  },
  {
   "cell_type": "code",
   "execution_count": 23,
   "metadata": {},
   "outputs": [
    {
     "name": "stdout",
     "output_type": "stream",
     "text": [
      "<re.Match object; span=(0, 3), match='the'>\n",
      "\n",
      "With ignore case\n",
      "<re.Match object; span=(0, 3), match='the'>\n",
      "<re.Match object; span=(25, 28), match='THE'>\n"
     ]
    }
   ],
   "source": [
    "s = \"the sentence is a string THE\"\n",
    "\n",
    "for m in re.finditer(\"the\", s): # search looks anywhere in the string\n",
    "    print(m)\n",
    "\n",
    "print()\n",
    "print(\"With ignore case\")\n",
    "for m in re.finditer(\"the\", s, re.IGNORECASE): # search looks anywhere in the string\n",
    "    print(m)\n"
   ]
  },
  {
   "cell_type": "code",
   "execution_count": 24,
   "metadata": {},
   "outputs": [
    {
     "name": "stdout",
     "output_type": "stream",
     "text": [
      "<re.Match object; span=(0, 1), match='a'>\n",
      "<re.Match object; span=(1, 2), match='b'>\n",
      "<re.Match object; span=(2, 3), match='d'>\n",
      "<re.Match object; span=(4, 5), match='a'>\n",
      "<re.Match object; span=(8, 9), match='a'>\n"
     ]
    }
   ],
   "source": [
    "# search set : []\n",
    "# [a-zA-Z] : alpha\n",
    "# [0-9] : all digits\n",
    "# [^0-9] : anything except digits\n",
    "# [5-9] : digits from 5-9\n",
    "# [a-z5-9%#]\n",
    "# [^a-zA-D] : anything except a-z and capital A-D\n",
    "\n",
    "# single alphabet\n",
    "s = \"abd a1 2a3\"\n",
    "for m in re.finditer(\"[a-z]\",s):\n",
    "    print(m)"
   ]
  },
  {
   "cell_type": "code",
   "execution_count": 49,
   "metadata": {},
   "outputs": [
    {
     "name": "stdout",
     "output_type": "stream",
     "text": [
      "<re.Match object; span=(5, 6), match='1'>\n",
      "<re.Match object; span=(7, 8), match='2'>\n",
      "<re.Match object; span=(9, 10), match='3'>\n",
      "<re.Match object; span=(11, 12), match='2'>\n",
      "<re.Match object; span=(12, 13), match='3'>\n",
      "<re.Match object; span=(13, 14), match='4'>\n",
      "\n",
      "<re.Match object; span=(11, 13), match='23'>\n",
      "\n",
      "<re.Match object; span=(11, 13), match='23'>\n",
      "\n",
      "<re.Match object; span=(11, 13), match='23'>\n"
     ]
    }
   ],
   "source": [
    "\n",
    "s = \"abd a1 2a3 234\"\n",
    "for m in re.finditer(\"[0-9]\",s):\n",
    "    print(m)\n",
    "    \n",
    "print()\n",
    "for m in re.finditer(\"[0-9][0-9]\",s):\n",
    "    print(m)\n",
    "    \n",
    "\n",
    "print()\n",
    "for m in re.finditer(\"\\d\\d\",s):\n",
    "    print(m)\n",
    "    \n",
    "print()\n",
    "for m in re.finditer(\"\\d{2}\",s):\n",
    "    print(m)"
   ]
  },
  {
   "cell_type": "code",
   "execution_count": 34,
   "metadata": {},
   "outputs": [
    {
     "name": "stdout",
     "output_type": "stream",
     "text": [
      "<re.Match object; span=(0, 4), match='this'>\n",
      "<re.Match object; span=(18, 22), match='this'>\n",
      "<re.Match object; span=(26, 30), match='next'>\n",
      "<re.Match object; span=(31, 35), match='line'>\n",
      "<re.Match object; span=(48, 52), match='word'>\n"
     ]
    }
   ],
   "source": [
    "s = \"this is a string. this is next line. a longerab word\"\n",
    "\n",
    "\n",
    "# Repetition {m,n} => min m and max n repteati...\n",
    "# a{4} => alphabet a 4 times\n",
    "# a{4,8} => min 4 and max 8 consecutive occurence of a\n",
    "# [0-9]{,8} => max of 8 digits\n",
    "# [a-z]{3,} => alteast 3 alphabets\n",
    "\n",
    "# \\b => word boundary ' ', '\\n', '\\t', '.' , ',', start/ end of string\n",
    "# 4 letter words\n",
    "for m in re.finditer(r\"\\b[a-zA-Z]{4}\\b\", s):\n",
    "    print(m)"
   ]
  },
  {
   "cell_type": "code",
   "execution_count": null,
   "metadata": {},
   "outputs": [],
   "source": [
    "s = \"this is a string. this is next line. a longerab word\"\n",
    "\n",
    "# 4 letter words\n",
    "for m in re.finditer(r\"\\b[a-zA-Z]{4}\\b\", s):\n",
    "    print(m)"
   ]
  },
  {
   "cell_type": "code",
   "execution_count": 41,
   "metadata": {},
   "outputs": [
    {
     "name": "stdout",
     "output_type": "stream",
     "text": [
      "<re.Match object; span=(16, 17), match='.'> this is a string.\n",
      "<re.Match object; span=(6, 7), match='.'> second. string\n",
      "<re.Match object; span=(10, 11), match='.'> 123 number.\n",
      "None exclam!\n",
      "\n",
      "<re.Match object; span=(16, 17), match='.'> this is a string.\n",
      "None second. string\n",
      "<re.Match object; span=(10, 11), match='.'> 123 number.\n",
      "None exclam!\n",
      "\n",
      "<re.Match object; span=(0, 1), match='t'> this is a string.\n",
      "None second. string\n",
      "None 123 number.\n",
      "None exclam!\n"
     ]
    }
   ],
   "source": [
    "#start/ end of string\n",
    "# ^ start anchor\n",
    "# $ end anchor\n",
    "\n",
    "a =  [\"this is a string.\",\n",
    "      \"second. string\",\n",
    "      \"123 number.\",\n",
    "      \"exclam!\"\n",
    "     ]\n",
    "\n",
    "# . match any characte once\n",
    "for s in a:\n",
    "    print(re.search(r\"\\.\",s), s)\n",
    "      \n",
    "# match . at end only\n",
    "print()\n",
    "for s in a:\n",
    "    print(re.search(r\"\\.$\",s), s)\n",
    "    \n",
    "\n",
    "# match string starting with t\n",
    "print()\n",
    "for s in a:\n",
    "    print(re.search(r\"^t\",s), s)"
   ]
  },
  {
   "cell_type": "code",
   "execution_count": 46,
   "metadata": {},
   "outputs": [
    {
     "name": "stdout",
     "output_type": "stream",
     "text": [
      "<re.Match object; span=(0, 4), match='this'>\n",
      "<re.Match object; span=(5, 7), match='is'>\n",
      "<re.Match object; span=(8, 9), match='a'>\n",
      "<re.Match object; span=(10, 16), match='string'>\n",
      "<re.Match object; span=(18, 22), match='this'>\n",
      "<re.Match object; span=(23, 25), match='is'>\n",
      "<re.Match object; span=(26, 30), match='next'>\n",
      "<re.Match object; span=(31, 35), match='line'>\n",
      "<re.Match object; span=(37, 38), match='a'>\n",
      "<re.Match object; span=(39, 47), match='longerab'>\n",
      "<re.Match object; span=(48, 52), match='word'>\n",
      "\n",
      "<re.Match object; span=(0, 4), match='this'>\n",
      "<re.Match object; span=(5, 7), match='is'>\n",
      "<re.Match object; span=(8, 9), match='a'>\n",
      "<re.Match object; span=(10, 16), match='string'>\n",
      "<re.Match object; span=(18, 22), match='this'>\n",
      "<re.Match object; span=(23, 25), match='is'>\n",
      "<re.Match object; span=(26, 30), match='next'>\n",
      "<re.Match object; span=(31, 35), match='line'>\n",
      "<re.Match object; span=(37, 38), match='a'>\n",
      "<re.Match object; span=(39, 47), match='longerab'>\n",
      "<re.Match object; span=(48, 52), match='word'>\n"
     ]
    }
   ],
   "source": [
    "s = \"this is a string. this is next line. a longerab word\"\n",
    "\n",
    "# all words\n",
    "for m in re.finditer(r\"\\b[a-zA-Z]{1,}\\b\", s):\n",
    "    print(m)\n",
    "    \n",
    "# * : zero or more occurence\n",
    "# + : one or more occurence\n",
    "# ? : 0 or 1 occurence\n",
    "print()\n",
    "for m in re.finditer(r\"\\b[a-zA-Z]+\\b\", s):\n",
    "    print(m)"
   ]
  },
  {
   "cell_type": "code",
   "execution_count": 47,
   "metadata": {},
   "outputs": [
    {
     "name": "stdout",
     "output_type": "stream",
     "text": [
      "<re.Match object; span=(0, 17), match='this is a string.'> this is a string.\n",
      "None second. string\n",
      "None 123 number.\n",
      "None exclam!\n",
      "<re.Match object; span=(0, 2), match='t.'> t.\n",
      "<re.Match object; span=(0, 16), match='tttttsdfsf sfs .'> tttttsdfsf sfs .\n"
     ]
    }
   ],
   "source": [
    "#start/ end of string\n",
    "# ^ start anchor\n",
    "# $ end anchor\n",
    "\n",
    "a =  [\"this is a string.\",\n",
    "      \"second. string\",\n",
    "      \"123 number.\",\n",
    "      \"exclam!\",\n",
    "      \"t.\",\n",
    "      \"tttttsdfsf sfs .\",\n",
    "     ]\n",
    "\n",
    "# starting with t and ending with .\n",
    "for s in a:\n",
    "    print(re.search(r\"^t.*\\.$\",s), s)\n",
    "# ^t tells start with t\n",
    "# .* tells any characters in between\n",
    "# \\.$ tells ends with ."
   ]
  },
  {
   "cell_type": "code",
   "execution_count": 56,
   "metadata": {},
   "outputs": [
    {
     "name": "stdout",
     "output_type": "stream",
     "text": [
      "<re.Match object; span=(0, 17), match='this is a string.'> this is a string.\n",
      "<re.Match object; span=(0, 19), match='this second. string'> this second. string\n",
      "<re.Match object; span=(0, 16), match='that 123 number.'> that 123 number.\n",
      "None the that exclam!\n",
      "None not the.\n"
     ]
    }
   ],
   "source": [
    "#start/ end of string\n",
    "# ^ start anchor\n",
    "# $ end anchor\n",
    "\n",
    "a =  [\"this is a string.\",\n",
    "      \"this second. string\",\n",
    "      \"that 123 number.\",\n",
    "      \"the that exclam!\",\n",
    "      \"not the.\",\n",
    "     ]\n",
    "\n",
    "# starting with t and ending with .\n",
    "# | or symbol\n",
    "for s in a:\n",
    "    print(re.search(r\"^(this|that).*\",s), s)\n",
    "# ^t tells start with t\n",
    "# .* tells any characters in between\n",
    "# \\.$ tells ends with ."
   ]
  },
  {
   "cell_type": "code",
   "execution_count": 75,
   "metadata": {},
   "outputs": [
    {
     "name": "stdout",
     "output_type": "stream",
     "text": [
      "<re.Match object; span=(0, 7), match='+914444'> +914444\n",
      "<re.Match object; span=(0, 7), match='+014444'> +014444\n",
      "None +014444455\n",
      "<re.Match object; span=(17, 24), match='+914444'> this has a phone +914444 end.\n",
      "None +9144 4444\n",
      "<re.Match object; span=(7, 14), match='+914444'> 9999999+914444\n",
      "\n",
      "+914444 ('91', '4444') +914444\n",
      "+014444 ('01', '4444') +014444\n",
      "No match for  +014444455\n",
      "+914444 ('91', '4444') this has a phone +914444 end.\n",
      "No match for  +9144 4444\n",
      "+914444 ('91', '4444') 9999999+914444\n"
     ]
    }
   ],
   "source": [
    "#start/ end of string\n",
    "# ^ start anchor\n",
    "# $ end anchor\n",
    "\n",
    "a =  [\"+914444\",\n",
    "      \"+014444\",\n",
    "      \"+014444455\",\n",
    "      \"this has a phone +914444 end.\",\n",
    "      \"+9144 4444\",\n",
    "      \"9999999+914444\",\n",
    "     ]\n",
    "\n",
    "# | or symbol\n",
    "for s in a:\n",
    "    print(re.search(r\"\\+\\d{6}\\b\",s), s)\n",
    "    \n",
    "#  () is for capture group\n",
    "print()\n",
    "for s in a:\n",
    "    m = re.search(r\"\\+(\\d{2})(\\d{4})\\b\",s)\n",
    "    if m is not None:\n",
    "        print(m.group(), m.groups(), s)\n",
    "    else:\n",
    "        print(\"No match for \", s)\n",
    "    "
   ]
  },
  {
   "cell_type": "code",
   "execution_count": 6,
   "metadata": {},
   "outputs": [
    {
     "name": "stdout",
     "output_type": "stream",
     "text": [
      "<re.Match object; span=(0, 13), match='192.111.98.11'> ('192', '111')\n",
      "<re.Match object; span=(0, 14), match='192.111.98.401'> ('192', '111')\n",
      "<re.Match object; span=(0, 11), match='192.1.98.11'> ('192', '1')\n",
      "No match\n",
      "No match\n"
     ]
    }
   ],
   "source": [
    "import re\n",
    "ips = [\"192.111.98.11\", \"192.111.98.401\",\"192.1.98.11\" ,\"192.1111.98.11\", \"192..98.11\"]\n",
    "# 0 - 255\n",
    "#reg = r\"\\d{1,3}\\.\\d{1,3}\\.\\d{1,3}\\.\\d{1,3}\"\n",
    "reg = r\"(\\d{1,3})\\.(\\d{1,3})\\.\\d{1,3}\\.\\d{1,3}\"\n",
    "\n",
    "for ip in ips:\n",
    "    res = re.match(reg, ip)\n",
    "    if res:\n",
    "        print(res, res.groups())\n",
    "    else:\n",
    "        print(\"No match\")"
   ]
  },
  {
   "cell_type": "code",
   "execution_count": 7,
   "metadata": {},
   "outputs": [
    {
     "name": "stdout",
     "output_type": "stream",
     "text": [
      "Valid ip 192.111.98.11\n",
      "No match 192.111.98.401\n",
      "Valid ip 192.1.98.11\n",
      "No match 192.1111.98.11\n",
      "No match 192..98.11\n"
     ]
    }
   ],
   "source": [
    "import re\n",
    "ips = [\"192.111.98.11\", \"192.111.98.401\",\"192.1.98.11\" ,\"192.1111.98.11\", \"192..98.11\"]\n",
    "# 0 - 255\n",
    "#reg = r\"\\d{1,3}\\.\\d{1,3}\\.\\d{1,3}\\.\\d{1,3}\"\n",
    "reg = r\"(\\d{1,3})\\.(\\d{1,3})\\.(\\d{1,3})\\.(\\d{1,3})\"\n",
    "\n",
    "for ip in ips:\n",
    "    res = re.match(reg, ip)\n",
    "    valid = False\n",
    "    if res:\n",
    "        valid = True\n",
    "        for grp in res.groups():\n",
    "            num = int(grp)\n",
    "            if not 0 <= num <=255:\n",
    "                valid = False\n",
    "                break\n",
    "    if valid:\n",
    "        print(\"Valid ip\", ip)\n",
    "    else:\n",
    "        print(\"No match\", ip)"
   ]
  },
  {
   "cell_type": "code",
   "execution_count": 12,
   "metadata": {},
   "outputs": [
    {
     "name": "stdout",
     "output_type": "stream",
     "text": [
      "<re.Match object; span=(0, 17), match='<ab> fsdfds </ab>'>\n",
      "None\n",
      "<re.Match object; span=(0, 29), match='<ab> fsdfds </ab> </cd> </ab>'>\n",
      "\n",
      "<re.Match object; span=(0, 17), match='<ab> fsdfds </ab>'>\n",
      "None\n",
      "<re.Match object; span=(0, 17), match='<ab> fsdfds </ab>'>\n"
     ]
    }
   ],
   "source": [
    "data = [\n",
    "    \"<ab> fsdfds </ab>\",\n",
    "    \"<ab> fsdfds </cd>\",\n",
    "    \"<ab> fsdfds </ab> </cd> </ab>\"\n",
    "    ]\n",
    "\n",
    "for d in data:\n",
    "    print(re.match(r'<([a-zA-Z]{1,})>(.*)</\\1>', d))\n",
    "    \n",
    "print()\n",
    "# non-greedy search\n",
    "\n",
    "for d in data:\n",
    "    print(re.match(r'<([a-zA-Z]{1,})>(.*?)</\\1>', d))\n"
   ]
  },
  {
   "cell_type": "code",
   "execution_count": null,
   "metadata": {},
   "outputs": [],
   "source": [
    "# match 5 letter pallindrome\n",
    "# back reference\n",
    "r =  r'([a-zA-Z])([a-zA-Z])[a-zA-Z]\\2\\1'"
   ]
  }
 ],
 "metadata": {
  "kernelspec": {
   "display_name": "Python 3",
   "language": "python",
   "name": "python3"
  },
  "language_info": {
   "codemirror_mode": {
    "name": "ipython",
    "version": 3
   },
   "file_extension": ".py",
   "mimetype": "text/x-python",
   "name": "python",
   "nbconvert_exporter": "python",
   "pygments_lexer": "ipython3",
   "version": "3.7.4"
  }
 },
 "nbformat": 4,
 "nbformat_minor": 2
}
