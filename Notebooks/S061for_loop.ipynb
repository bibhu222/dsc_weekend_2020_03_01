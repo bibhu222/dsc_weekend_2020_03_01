{
 "cells": [
  {
   "cell_type": "code",
   "execution_count": null,
   "metadata": {},
   "outputs": [],
   "source": [
    "s = input(\"Enter a string:\")\n",
    "# aba => is\n",
    "# abc => not\n",
    "print(\"\")\n"
   ]
  },
  {
   "cell_type": "code",
   "execution_count": 6,
   "metadata": {},
   "outputs": [
    {
     "name": "stdout",
     "output_type": "stream",
     "text": [
      "Enter some numbers:1  2 3    4 \n",
      "[1, 2, 3, 4]\n"
     ]
    }
   ],
   "source": [
    "# WAP to input 5 numbers from user.\n",
    "s = input(\"Enter some numbers:\")\n",
    "nums = s.split()\n",
    "\n",
    "i = 0\n",
    "while i < len(nums):\n",
    "    nums[i] = int(nums[i])\n",
    "    i += 1\n",
    "    \n",
    "print(nums)"
   ]
  },
  {
   "cell_type": "code",
   "execution_count": 7,
   "metadata": {},
   "outputs": [
    {
     "name": "stdout",
     "output_type": "stream",
     "text": [
      "[0, 1, 2, 3, 4]\n",
      "[5, 6, 7, 8, 9]\n",
      "[5, 7, 9]\n"
     ]
    }
   ],
   "source": [
    "r =  range(5)\n",
    "print(list(r))\n",
    "r =  range(5,10)\n",
    "print(list(r))\n",
    "r =  range(5,10,2)\n",
    "print(list(r))"
   ]
  },
  {
   "cell_type": "code",
   "execution_count": 20,
   "metadata": {},
   "outputs": [
    {
     "name": "stdout",
     "output_type": "stream",
     "text": [
      "Enter a num:5\n",
      "15\n"
     ]
    }
   ],
   "source": [
    "# WAP to find sum of first n natural numbers\n",
    "n  = int(input(\"Enter a num:\"))\n",
    "print(sum(range(n+1)))"
   ]
  },
  {
   "cell_type": "code",
   "execution_count": null,
   "metadata": {},
   "outputs": [],
   "source": [
    "# For Loop\n",
    "for <variable> in <sequence>:\n",
    "    some code"
   ]
  },
  {
   "cell_type": "code",
   "execution_count": 25,
   "metadata": {},
   "outputs": [
    {
     "name": "stdout",
     "output_type": "stream",
     "text": [
      "A\n",
      "B\n",
      "C\n",
      "D\n",
      "\n",
      "A\n",
      "B\n",
      "C\n",
      "D\n"
     ]
    }
   ],
   "source": [
    "s = \"ABCD\"\n",
    "for gaurav in s:\n",
    "    print(gaurav)\n",
    "\n",
    "print()\n",
    "i  = 0\n",
    "while i < len(s):\n",
    "    print(s[i])\n",
    "    i += 1"
   ]
  },
  {
   "cell_type": "code",
   "execution_count": null,
   "metadata": {},
   "outputs": [],
   "source": [
    "# Sequences\n",
    "#  string\n",
    "#  list\n",
    "#  tuple\n",
    "#  range"
   ]
  },
  {
   "cell_type": "code",
   "execution_count": 28,
   "metadata": {},
   "outputs": [
    {
     "name": "stdout",
     "output_type": "stream",
     "text": [
      "string:abcd\n",
      "97\n",
      "98\n",
      "99\n",
      "100\n",
      "97\n",
      "98\n",
      "99\n",
      "100\n",
      "97\n",
      "98\n",
      "99\n",
      "100\n"
     ]
    }
   ],
   "source": [
    "# WAP to input a string.. and print ord value of each character in the string\n",
    "s=input(\"string:\")\n",
    "\n",
    "# for loop -1\n",
    "for c in s:\n",
    "    print(ord(c))\n",
    "    \n",
    "# while loop-2\n",
    "i = 0\n",
    "while i < len(s):\n",
    "    print(ord(s[i]))\n",
    "    i += 1\n",
    "\n",
    "# bad for loop-3\n",
    "for i in range(len(s)): # should not be done except in some cases\n",
    "    print(ord(s[i]))"
   ]
  },
  {
   "cell_type": "code",
   "execution_count": 31,
   "metadata": {},
   "outputs": [
    {
     "name": "stdout",
     "output_type": "stream",
     "text": [
      "Enter some numbers:44 33 22 11\n",
      "[44, 33, 22, 11]\n"
     ]
    }
   ],
   "source": [
    "# function to input n numbers\n",
    "def input_nums():\n",
    "    nums_str =  input(\"Enter some numbers:\")\n",
    "    res = []\n",
    "    nums = nums_str.split()# ['1', '2',...]\n",
    "    for num in nums:\n",
    "        res.append(int(num))\n",
    "    \n",
    "    return res\n",
    "\n",
    "a = input_nums()\n",
    "print(a)"
   ]
  },
  {
   "cell_type": "code",
   "execution_count": 39,
   "metadata": {},
   "outputs": [
    {
     "name": "stdout",
     "output_type": "stream",
     "text": [
      "Enter some numbers:44 4 5 6 7\n",
      "4\n",
      "1\n"
     ]
    }
   ],
   "source": [
    "def input_nums():\n",
    "    nums_str =  input(\"Enter some numbers:\")\n",
    "    res = []\n",
    "    nums = nums_str.split()# ['1', '2',...]\n",
    "    for num in nums:\n",
    "        res.append(int(num))\n",
    "    return res\n",
    "\n",
    "def my_min(seq):\n",
    "    res = seq[0]\n",
    "    for num in seq:\n",
    "        if num < res:\n",
    "            res = num\n",
    "\n",
    "    return res\n",
    "\n",
    "\n",
    "def my_min_index(seq):\n",
    "    res = 0\n",
    "    for i in range(len(seq)):\n",
    "        if seq[i] < seq[res]:\n",
    "            res = i\n",
    "\n",
    "    return res\n",
    "\n",
    "\n",
    "arr = input_nums()\n",
    "print(my_min(arr))\n",
    "print(my_min_index(arr))\n",
    "# arr [44 3 2 66] \n",
    "# seq [44 3 2 66]\n",
    "# res 44 3 2 2\n",
    "# num 44 3 2 66"
   ]
  }
 ],
 "metadata": {
  "kernelspec": {
   "display_name": "Python 3",
   "language": "python",
   "name": "python3"
  },
  "language_info": {
   "codemirror_mode": {
    "name": "ipython",
    "version": 3
   },
   "file_extension": ".py",
   "mimetype": "text/x-python",
   "name": "python",
   "nbconvert_exporter": "python",
   "pygments_lexer": "ipython3",
   "version": "3.7.4"
  }
 },
 "nbformat": 4,
 "nbformat_minor": 2
}
