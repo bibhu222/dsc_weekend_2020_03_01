{
 "cells": [
  {
   "cell_type": "code",
   "execution_count": 32,
   "metadata": {},
   "outputs": [
    {
     "name": "stdout",
     "output_type": "stream",
     "text": [
      "Z\n",
      "C\n"
     ]
    }
   ],
   "source": [
    "# functions\n",
    "import string\n",
    "import random\n",
    "print(random.choice(string.ascii_letters))\n",
    "\n",
    "num = random.randrange(65,91)\n",
    "print(chr(num))"
   ]
  },
  {
   "cell_type": "code",
   "execution_count": 28,
   "metadata": {},
   "outputs": [
    {
     "name": "stdout",
     "output_type": "stream",
     "text": [
      "AxZXr\n"
     ]
    }
   ],
   "source": [
    "passwd =  random.choice(string.ascii_letters) + random.choice(string.ascii_letters) + random.choice(string.ascii_letters) + random.choice(string.ascii_letters) +random.choice(string.ascii_letters)\n",
    "print(passwd)"
   ]
  },
  {
   "cell_type": "code",
   "execution_count": 39,
   "metadata": {},
   "outputs": [
    {
     "name": "stdout",
     "output_type": "stream",
     "text": [
      "J\n"
     ]
    }
   ],
   "source": [
    "def rand_chr(): # defining a function\n",
    "    ch = random.choice(string.ascii_letters)\n",
    "    print(ch)\n",
    "    \n",
    "rand_chr()"
   ]
  },
  {
   "cell_type": "code",
   "execution_count": 41,
   "metadata": {},
   "outputs": [
    {
     "name": "stdout",
     "output_type": "stream",
     "text": [
      "b\n",
      "Q\n",
      "E\n",
      "D\n",
      "None\n"
     ]
    }
   ],
   "source": [
    "\n",
    "rand_chr() # calling a function\n",
    "rand_chr()\n",
    "rand_chr()\n",
    "x = rand_chr()\n",
    "print(x)"
   ]
  },
  {
   "cell_type": "code",
   "execution_count": 49,
   "metadata": {},
   "outputs": [
    {
     "name": "stdout",
     "output_type": "stream",
     "text": [
      "I\n"
     ]
    }
   ],
   "source": [
    "def rand_chr_v1(): # defining a function\n",
    "    ch = random.choice(string.ascii_letters)\n",
    "    return ch\n",
    "    \n",
    "r = rand_chr_v1()\n",
    "print(r)"
   ]
  },
  {
   "cell_type": "code",
   "execution_count": 51,
   "metadata": {},
   "outputs": [
    {
     "name": "stdout",
     "output_type": "stream",
     "text": [
      "GuhwN\n"
     ]
    }
   ],
   "source": [
    "def get_passwd():\n",
    "    passwd = rand_chr_v1() + rand_chr_v1() + rand_chr_v1() + rand_chr_v1() + rand_chr_v1()\n",
    "    return passwd\n",
    "\n",
    "print(get_passwd())"
   ]
  },
  {
   "cell_type": "code",
   "execution_count": 55,
   "metadata": {},
   "outputs": [
    {
     "name": "stdout",
     "output_type": "stream",
     "text": [
      "BBBBB\n"
     ]
    }
   ],
   "source": [
    "def get_passwd():\n",
    "    passwd = rand_chr_v1() * 5\n",
    "    return passwd\n",
    "\n",
    "print(get_passwd())"
   ]
  },
  {
   "cell_type": "code",
   "execution_count": null,
   "metadata": {},
   "outputs": [],
   "source": []
  },
  {
   "cell_type": "code",
   "execution_count": null,
   "metadata": {},
   "outputs": [],
   "source": []
  },
  {
   "cell_type": "code",
   "execution_count": 70,
   "metadata": {},
   "outputs": [
    {
     "name": "stdout",
     "output_type": "stream",
     "text": [
      "Enter a string:abd\n",
      "97\n"
     ]
    }
   ],
   "source": [
    "def print_random_input(val):\n",
    "    return random.choice(val)\n",
    "    \n",
    "s = input('Enter a string:')\n",
    "c = print_random_input(s)\n",
    "print(ord(c))"
   ]
  },
  {
   "cell_type": "code",
   "execution_count": 71,
   "metadata": {},
   "outputs": [
    {
     "data": {
      "text/plain": [
       "'h'"
      ]
     },
     "execution_count": 71,
     "metadata": {},
     "output_type": "execute_result"
    }
   ],
   "source": [
    "print_random_input('hhhgggjj')"
   ]
  },
  {
   "cell_type": "code",
   "execution_count": null,
   "metadata": {},
   "outputs": [],
   "source": [
    "# Si = P*R*T/100\n",
    "# Write a function SI.. that takes 3 arguements and returns Simple Interest\n"
   ]
  },
  {
   "cell_type": "code",
   "execution_count": null,
   "metadata": {},
   "outputs": [],
   "source": [
    "\n",
    "\n",
    "#-------------------------------\n",
    "\n",
    "def si(p,r,t):\n",
    "    s=(p*r*t)/100\n",
    "    return s\n",
    "\n",
    "p=int(input(\"Enter p:\"))\n",
    "r=int(input(\"Enter r:\"))\n",
    "t=int(input(\"Enter t:\"))\n",
    "print(si(p,r,t))"
   ]
  },
  {
   "cell_type": "code",
   "execution_count": 1,
   "metadata": {},
   "outputs": [
    {
     "name": "stdout",
     "output_type": "stream",
     "text": [
      "enter p100\n",
      "enter t1\n",
      "enter r2\n"
     ]
    },
    {
     "data": {
      "text/plain": [
       "2.0"
      ]
     },
     "execution_count": 1,
     "metadata": {},
     "output_type": "execute_result"
    }
   ],
   "source": [
    "def si():    \n",
    "    simple_i=(p*t*r)/100    \n",
    "    return simple_i \n",
    "\n",
    "p = int(input(\"enter p\")) \n",
    "t = int(input(\"enter t\")) \n",
    "r = int(input(\"enter r\"))\n",
    "si()"
   ]
  },
  {
   "cell_type": "code",
   "execution_count": 5,
   "metadata": {},
   "outputs": [
    {
     "name": "stdout",
     "output_type": "stream",
     "text": [
      "0.6\n",
      "0.2\n",
      "1.0\n"
     ]
    }
   ],
   "source": [
    "# default arguments\n",
    "\n",
    "def si(p,r =10,t=1):\n",
    "    s=(p*r*t)/100\n",
    "    return s\n",
    "\n",
    "print(si(10,2,3))\n",
    "print(si(10,2))\n",
    "print(si(10))\n"
   ]
  },
  {
   "cell_type": "code",
   "execution_count": 11,
   "metadata": {},
   "outputs": [
    {
     "name": "stdout",
     "output_type": "stream",
     "text": [
      "90.0\n",
      "900.0\n",
      "900.0\n"
     ]
    }
   ],
   "source": [
    "\n",
    "def si(p,r =10,t=1):\n",
    "    s=(p*r*t)/100\n",
    "    return s\n",
    "\n",
    "print(si(1000, 9)) # positional arguments\n",
    "print(si(p=1000, t = 9)) # keyword arguments\n",
    "print(si(1000, t = 9)) # positional + keyword arguments"
   ]
  }
 ],
 "metadata": {
  "kernelspec": {
   "display_name": "Python 3",
   "language": "python",
   "name": "python3"
  },
  "language_info": {
   "codemirror_mode": {
    "name": "ipython",
    "version": 3
   },
   "file_extension": ".py",
   "mimetype": "text/x-python",
   "name": "python",
   "nbconvert_exporter": "python",
   "pygments_lexer": "ipython3",
   "version": "3.7.4"
  }
 },
 "nbformat": 4,
 "nbformat_minor": 2
}
