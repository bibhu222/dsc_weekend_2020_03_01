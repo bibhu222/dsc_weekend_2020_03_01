{
 "cells": [
  {
   "cell_type": "code",
   "execution_count": 5,
   "metadata": {},
   "outputs": [
    {
     "name": "stdout",
     "output_type": "stream",
     "text": [
      "Before Loop\n",
      "1\n",
      "2\n",
      "3\n",
      "4\n",
      "5\n",
      "After Loop 5\n"
     ]
    }
   ],
   "source": [
    "# loops: break, continue\n",
    "\n",
    "print(\"Before Loop\")\n",
    "for i in range(1,10):\n",
    "    print(i)\n",
    "    if i == 5:\n",
    "        break\n",
    "        \n",
    "print(\"After Loop\" , i)"
   ]
  },
  {
   "cell_type": "code",
   "execution_count": 6,
   "metadata": {},
   "outputs": [
    {
     "name": "stdout",
     "output_type": "stream",
     "text": [
      "Before Loop\n",
      "1\n",
      "2\n",
      "3\n",
      "4\n",
      "After Loop 5\n"
     ]
    }
   ],
   "source": [
    "print(\"Before Loop\")\n",
    "for i in range(1,10):\n",
    "    if i == 5:\n",
    "        break\n",
    "    print(i)\n",
    "        \n",
    "print(\"After Loop\", i)"
   ]
  },
  {
   "cell_type": "code",
   "execution_count": 7,
   "metadata": {},
   "outputs": [
    {
     "name": "stdout",
     "output_type": "stream",
     "text": [
      "Before Loop\n",
      "1\n",
      "3\n",
      "5\n",
      "7\n",
      "9\n",
      "After Loop 9\n"
     ]
    }
   ],
   "source": [
    "print(\"Before Loop\")\n",
    "for i in range(1,10):\n",
    "    if i % 2 == 0:\n",
    "        continue\n",
    "    print(i)\n",
    "        \n",
    "print(\"After Loop\", i)\n"
   ]
  },
  {
   "cell_type": "code",
   "execution_count": 10,
   "metadata": {},
   "outputs": [
    {
     "name": "stdout",
     "output_type": "stream",
     "text": [
      "*****\n",
      "*****\n",
      "*****\n",
      "*****\n",
      "*****\n"
     ]
    }
   ],
   "source": [
    "for i in range(5): # outer\n",
    "    for j in range(5): # inner\n",
    "        print(\"*\", end ='')\n",
    "    print()\n",
    "\n",
    "# i 0 0 0 0 0  1          2\n",
    "# j 0 1 2 3 4  0 1 2 3 4  0-4 \n",
    "# *****\n",
    "# *****\n",
    "# "
   ]
  },
  {
   "cell_type": "code",
   "execution_count": 11,
   "metadata": {},
   "outputs": [
    {
     "name": "stdout",
     "output_type": "stream",
     "text": [
      "*\n",
      "**\n",
      "***\n",
      "****\n",
      "*****\n"
     ]
    }
   ],
   "source": [
    "for i in range(5): # outer\n",
    "    for j in range(i+1): # inner\n",
    "        print(\"*\", end ='')\n",
    "    print()\n",
    "\n",
    "# i 0 1   2     3\n",
    "# j 0 0 1 0 1 2 0 1 2 3\n",
    "# *\n",
    "# **\n",
    "# ***\n"
   ]
  },
  {
   "cell_type": "code",
   "execution_count": 12,
   "metadata": {},
   "outputs": [
    {
     "name": "stdout",
     "output_type": "stream",
     "text": [
      "1\n",
      "22\n",
      "333\n",
      "4444\n",
      "55555\n"
     ]
    }
   ],
   "source": [
    "for i in range(5): # outer\n",
    "    for j in range(i+1): # inner\n",
    "        print(i + 1, end ='')\n",
    "    print()\n",
    "\n",
    "# i 0 1   2     3\n",
    "# j 0 0 1 0 1 2 0 1 2 3\n",
    "# *\n",
    "# **\n",
    "# ***\n"
   ]
  },
  {
   "cell_type": "code",
   "execution_count": 13,
   "metadata": {},
   "outputs": [
    {
     "name": "stdout",
     "output_type": "stream",
     "text": [
      "1\n",
      "12\n",
      "123\n",
      "1234\n",
      "12345\n"
     ]
    }
   ],
   "source": [
    "for i in range(5): # outer\n",
    "    for j in range(i+1): # inner\n",
    "        print(j + 1, end ='')\n",
    "    print()\n",
    "\n",
    "# i 0 1   2     3\n",
    "# j 0 0 1 0 1 2 0 1 2 3\n",
    "# *\n",
    "# **\n",
    "# ***\n"
   ]
  },
  {
   "cell_type": "code",
   "execution_count": 15,
   "metadata": {},
   "outputs": [
    {
     "name": "stdout",
     "output_type": "stream",
     "text": [
      "*****\n",
      "****\n",
      "***\n",
      "**\n",
      "*\n"
     ]
    }
   ],
   "source": [
    "for i in range(5): # outer : how many lines\n",
    "    for j in range(5-i): # inner : how many characters in a line\n",
    "        print(\"*\", end ='')\n",
    "    print()\n",
    "\n",
    "# i 0         1\n",
    "# j 0 1 2 3 4 0 1 2 3\n",
    "# "
   ]
  },
  {
   "cell_type": "code",
   "execution_count": 17,
   "metadata": {},
   "outputs": [
    {
     "name": "stdout",
     "output_type": "stream",
     "text": [
      "     *\n",
      "    **\n",
      "   ***\n",
      "  ****\n",
      " *****\n"
     ]
    }
   ],
   "source": [
    "for i in range(5): # outer\n",
    "    for j in range(5-i): # inner\n",
    "        print(\" \", end ='')\n",
    "    for j in range(i+1): # inner\n",
    "        print(\"*\", end ='')\n",
    "    print()\n",
    "\n",
    "# i 0 1   2     3\n",
    "# j 0 0 1 0 1 2 0 1 2 3\n",
    "# *\n",
    "# **\n",
    "# ***\n"
   ]
  },
  {
   "cell_type": "code",
   "execution_count": 18,
   "metadata": {},
   "outputs": [
    {
     "name": "stdout",
     "output_type": "stream",
     "text": [
      "     1\n",
      "    22\n",
      "   333\n",
      "  4444\n",
      " 55555\n"
     ]
    }
   ],
   "source": [
    "for i in range(5): # outer\n",
    "    for j in range(5-i): # inner\n",
    "        print(\" \", end ='')\n",
    "    for j in range(i+1): # inner\n",
    "        print(i+1, end ='')\n",
    "    print()\n",
    "\n",
    "# i 0 1   2     3\n",
    "# j 0 0 1 0 1 2 0 1 2 3\n",
    "# *\n",
    "# **\n",
    "# ***\n"
   ]
  },
  {
   "cell_type": "code",
   "execution_count": 19,
   "metadata": {},
   "outputs": [
    {
     "name": "stdout",
     "output_type": "stream",
     "text": [
      "     1\n",
      "    222\n",
      "   33333\n",
      "  4444444\n",
      " 555555555\n"
     ]
    }
   ],
   "source": [
    "for i in range(5): # outer\n",
    "    for j in range(5-i): # inner\n",
    "        print(\" \", end ='')\n",
    "    for j in range(i*2+1): # inner\n",
    "        print(i+1, end ='')\n",
    "    print()\n",
    "\n",
    "# i 0 1   2     3\n",
    "# j 0 0 1 0 1 2 0 1 2 3\n",
    "# *\n",
    "# **\n",
    "# ***\n"
   ]
  },
  {
   "cell_type": "code",
   "execution_count": null,
   "metadata": {},
   "outputs": [],
   "source": []
  },
  {
   "cell_type": "code",
   "execution_count": null,
   "metadata": {},
   "outputs": [],
   "source": []
  },
  {
   "cell_type": "code",
   "execution_count": null,
   "metadata": {},
   "outputs": [],
   "source": []
  }
 ],
 "metadata": {
  "kernelspec": {
   "display_name": "Python 3",
   "language": "python",
   "name": "python3"
  },
  "language_info": {
   "codemirror_mode": {
    "name": "ipython",
    "version": 3
   },
   "file_extension": ".py",
   "mimetype": "text/x-python",
   "name": "python",
   "nbconvert_exporter": "python",
   "pygments_lexer": "ipython3",
   "version": "3.7.4"
  }
 },
 "nbformat": 4,
 "nbformat_minor": 2
}
