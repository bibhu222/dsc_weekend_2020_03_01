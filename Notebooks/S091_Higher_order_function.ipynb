{
 "cells": [
  {
   "cell_type": "code",
   "execution_count": 3,
   "metadata": {
    "scrolled": true
   },
   "outputs": [
    {
     "name": "stdout",
     "output_type": "stream",
     "text": [
      "Enter a string : ababcc\n",
      "{'a': 2, 'b': 2, 'c': 2}\n"
     ]
    }
   ],
   "source": [
    "# mode: what it is\n",
    "# WAP to input a string and print mode\n",
    "# ex: abaaaabcda    a\n",
    "# ex: ababcdab     (a,b)\n",
    "inp = input(\"Enter a string : \")\n",
    "dic = {}\n",
    "for i in inp:\n",
    "    dic[i] = dic.get(i,0) + 1\n",
    "print(dic)"
   ]
  },
  {
   "cell_type": "code",
   "execution_count": 7,
   "metadata": {},
   "outputs": [
    {
     "name": "stdout",
     "output_type": "stream",
     "text": [
      "Enter a string : abaabc\n",
      "The mode of string is : b\n"
     ]
    }
   ],
   "source": [
    "b=input(\"Enter a string : \")\n",
    "d={}\n",
    "for i in b:\n",
    "    if i in d:\n",
    "        c=b.count(i)\n",
    "        d[i]=d[i] + 1\n",
    "    else:\n",
    "        d[i]=1\n",
    "for e in d.keys():\n",
    "    if d[e]==c:\n",
    "        print(\"The mode of string is :\",e)"
   ]
  },
  {
   "cell_type": "code",
   "execution_count": 10,
   "metadata": {},
   "outputs": [
    {
     "name": "stdout",
     "output_type": "stream",
     "text": [
      "[10, 16, 30, 14, 28, 17, 16, 16, 10, 31]\n"
     ]
    }
   ],
   "source": [
    "import random\n",
    "a =  [ random.randint(10,40) for i in range(10) ]\n",
    "print(a)"
   ]
  },
  {
   "cell_type": "code",
   "execution_count": 12,
   "metadata": {},
   "outputs": [
    {
     "name": "stdout",
     "output_type": "stream",
     "text": [
      "[10, 30, 10, 31, 14, 16, 16, 16, 17, 28]\n"
     ]
    }
   ],
   "source": [
    "a = [10, 16, 30, 14, 28, 17, 16, 16, 10, 31]\n",
    "a.sort(key = lambda x: x%10)\n",
    "print(a)"
   ]
  },
  {
   "cell_type": "code",
   "execution_count": 20,
   "metadata": {},
   "outputs": [
    {
     "name": "stdout",
     "output_type": "stream",
     "text": [
      "['Akash', 'Avanthi', 'Gaurav', 'Shefali', 'Sudeep']\n",
      "['Akash', 'Gaurav', 'Sudeep', 'Shefali', 'Avanthi']\n",
      "['Akash', 'Shefali', 'Avanthi', 'Sudeep', 'Gaurav']\n",
      "Sudeep\n",
      "Gaurav\n"
     ]
    }
   ],
   "source": [
    "a = [\"Gaurav\", \"Akash\", \"Sudeep\",\"Shefali\", \"Avanthi\"]\n",
    "#     6         5          6        7         7\n",
    "a.sort()\n",
    "print(a)\n",
    "a = [\"Gaurav\", \"Akash\", \"Sudeep\",\"Shefali\", \"Avanthi\"]\n",
    "#     6         5          6        7         7\n",
    "a.sort(key =  lambda x:len(x))\n",
    "print(a)\n",
    "\n",
    "a = [\"Gaurav\", \"Akash\", \"Sudeep\",\"Shefali\", \"Avanthi\"]\n",
    "#          v        h         p         i           i\n",
    "a.sort(key =  lambda x:x[-1])\n",
    "print(a)\n",
    "print(max(a))\n",
    "print(max(a, key = lambda x: x[-1]))"
   ]
  },
  {
   "cell_type": "code",
   "execution_count": null,
   "metadata": {},
   "outputs": [],
   "source": []
  }
 ],
 "metadata": {
  "kernelspec": {
   "display_name": "Python 3",
   "language": "python",
   "name": "python3"
  },
  "language_info": {
   "codemirror_mode": {
    "name": "ipython",
    "version": 3
   },
   "file_extension": ".py",
   "mimetype": "text/x-python",
   "name": "python",
   "nbconvert_exporter": "python",
   "pygments_lexer": "ipython3",
   "version": "3.7.4"
  }
 },
 "nbformat": 4,
 "nbformat_minor": 2
}
