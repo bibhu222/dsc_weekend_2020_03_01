{
 "cells": [
  {
   "cell_type": "markdown",
   "metadata": {},
   "source": [
    "|Variable|Definition|Key|\n",
    "|---|---|---|\n",
    "|survival|Survival|0 = No, 1 = Yes|\n",
    "|pclass|Ticket class|1 = 1st, 2 = 2nd, 3 = 3rd|\n",
    "|gender|gender ||\n",
    "|Age |Age in years| |\n",
    "|sibsp |number of siblings / spouses aboard|\t|\n",
    "|parch |number of parents / children aboard| |\n",
    "|ticket|Ticket number ||\n",
    "|fare | fare| \t|\n",
    "|cabin |Cabin number|\t|\n",
    "|embarked|Port of Embarkation|C = Cherbourg, Q = Queenstown, S = Southampton|\n",
    "|boat | Lifeboat||\n",
    "|body | Body Identification Number||\n",
    "|home.dest| Home/destination||"
   ]
  },
  {
   "cell_type": "markdown",
   "metadata": {},
   "source": []
  },
  {
   "cell_type": "markdown",
   "metadata": {},
   "source": [
    "- Read data and describe it\n",
    "- Find columns with missingdata\n",
    "- Print shape of dataset\n",
    "- drop columns with more than 25% missing data\n",
    "- drop columns having independent values(which do not affect the survival rate).\n",
    "\n",
    "\n",
    "- check data types of all columns\n",
    "- convert price to numeric\n",
    "- find columns still having missing/na values and also count of missing data\n",
    "- fill na with mean for fare and age column column.\n",
    "- drop na values for embarked column.\n",
    "- dump the dataframe to a csv file 'titanic_filtered.csv'.\n",
    "\n",
    "\n",
    "- for surviced column replace 0 with D and 1 with A\n",
    "- find the frequency of different values in survived column\n",
    "- group by gender and survived and see the counts in each category\n",
    "- find different pclass and no of people in each class\n",
    "\n",
    "- find top 5 people with highest values of age. Count no of male and females in the top 5\n",
    "- find max age male and female who survived\n",
    "- get average age by gender\n",
    "- get average age by people survived vs not-survived"
   ]
  },
  {
   "cell_type": "code",
   "execution_count": 3,
   "metadata": {},
   "outputs": [],
   "source": [
    "#Read data and describe it\n",
    "#Find columns with missingdata\n",
    "#Print shape of dataset\n",
    "#drop columns with more than 25% missing data\n",
    "#drop columns having independent values(which do not affect the survival rate).\n",
    "\n",
    "\n",
    "#check data types of all columns\n",
    "#convert price to numeric\n",
    "#find columns still having missing/na values and also count of missing data\n",
    "#fill na with mean for fare and age column column.\n",
    "#drop na values for embarked column.\n",
    "#dump the dataframe to a csv file 'titanic_filtered.csv'.\n",
    "\n",
    "\n",
    "#for surviced column replace 0 with D and 1 with A\n",
    "#find the frequency of different values in survived column\n",
    "#group by gender and survived and see the counts in each category\n",
    "#find different pclass and no of people in each class\n",
    "\n",
    "#find top 5 people with highest values of age. Count no of male and females in the top 5\n",
    "#find max age male and female who survived\n",
    "#get average age by gender\n",
    "#get average age by people survived vs not-survived"
   ]
  },
  {
   "cell_type": "code",
   "execution_count": 6,
   "metadata": {},
   "outputs": [
    {
     "name": "stdout",
     "output_type": "stream",
     "text": [
      "['Categorical', 'CategoricalDtype', 'CategoricalIndex', 'DataFrame', 'DateOffset', 'DatetimeIndex', 'DatetimeTZDtype', 'ExcelFile', 'ExcelWriter', 'Float64Index', 'Grouper', 'HDFStore', 'Index', 'IndexSlice', 'Int16Dtype', 'Int32Dtype', 'Int64Dtype', 'Int64Index', 'Int8Dtype', 'Interval', 'IntervalDtype', 'IntervalIndex', 'MultiIndex', 'NaT', 'NamedAgg', 'Period', 'PeriodDtype', 'PeriodIndex', 'RangeIndex', 'Series', 'SparseArray', 'SparseDataFrame', 'SparseDtype', 'SparseSeries', 'Timedelta', 'TimedeltaIndex', 'Timestamp', 'UInt16Dtype', 'UInt32Dtype', 'UInt64Dtype', 'UInt64Index', 'UInt8Dtype', '__builtins__', '__cached__', '__doc__', '__docformat__', '__file__', '__getattr__', '__git_version__', '__loader__', '__name__', '__package__', '__path__', '__spec__', '__version__', '_config', '_hashtable', '_lib', '_libs', '_np_version_under1p14', '_np_version_under1p15', '_np_version_under1p16', '_np_version_under1p17', '_tslib', '_typing', '_version', 'api', 'array', 'arrays', 'bdate_range', 'compat', 'concat', 'core', 'crosstab', 'cut', 'date_range', 'datetime', 'describe_option', 'errors', 'eval', 'factorize', 'get_dummies', 'get_option', 'infer_freq', 'interval_range', 'io', 'isna', 'isnull', 'lreshape', 'melt', 'merge', 'merge_asof', 'merge_ordered', 'notna', 'notnull', 'np', 'offsets', 'option_context', 'options', 'pandas', 'period_range', 'pivot', 'pivot_table', 'plotting', 'qcut', 'read_clipboard', 'read_csv', 'read_excel', 'read_feather', 'read_fwf', 'read_gbq', 'read_hdf', 'read_html', 'read_json', 'read_msgpack', 'read_parquet', 'read_pickle', 'read_sas', 'read_spss', 'read_sql', 'read_sql_query', 'read_sql_table', 'read_stata', 'read_table', 'reset_option', 'set_eng_float_format', 'set_option', 'show_versions', 'test', 'testing', 'timedelta_range', 'to_datetime', 'to_msgpack', 'to_numeric', 'to_pickle', 'to_timedelta', 'tseries', 'unique', 'util', 'value_counts', 'wide_to_long']\n"
     ]
    }
   ],
   "source": [
    "import pandas as pd\n",
    "print(dir(pd))"
   ]
  },
  {
   "cell_type": "code",
   "execution_count": 13,
   "metadata": {},
   "outputs": [
    {
     "name": "stdout",
     "output_type": "stream",
     "text": [
      "         Unnamed: 0       pclass     survived              name gender  \\\n",
      "count   1309.000000  1309.000000  1309.000000              1309   1309   \n",
      "unique          NaN          NaN          NaN              1307      2   \n",
      "top             NaN          NaN          NaN  Kelly, Mr. James   male   \n",
      "freq            NaN          NaN          NaN                 2    843   \n",
      "mean     654.000000     2.294882     0.381971               NaN    NaN   \n",
      "std      378.020061     0.837836     0.486055               NaN    NaN   \n",
      "min        0.000000     1.000000     0.000000               NaN    NaN   \n",
      "25%      327.000000     2.000000     0.000000               NaN    NaN   \n",
      "50%      654.000000     3.000000     0.000000               NaN    NaN   \n",
      "75%      981.000000     3.000000     1.000000               NaN    NaN   \n",
      "max     1308.000000     3.000000     1.000000               NaN    NaN   \n",
      "\n",
      "                age        sibsp        parch    ticket    fare        cabin  \\\n",
      "count   1046.000000  1309.000000  1309.000000      1309    1308          295   \n",
      "unique          NaN          NaN          NaN       929     263          186   \n",
      "top             NaN          NaN          NaN  CA. 2343  $8.05   C23 C25 C27   \n",
      "freq            NaN          NaN          NaN        11      60            6   \n",
      "mean      29.881135     0.498854     0.385027       NaN     NaN          NaN   \n",
      "std       14.413500     1.041658     0.865560       NaN     NaN          NaN   \n",
      "min        0.166700     0.000000     0.000000       NaN     NaN          NaN   \n",
      "25%       21.000000     0.000000     0.000000       NaN     NaN          NaN   \n",
      "50%       28.000000     0.000000     0.000000       NaN     NaN          NaN   \n",
      "75%       39.000000     1.000000     0.000000       NaN     NaN          NaN   \n",
      "max       80.000000     8.000000     9.000000       NaN     NaN          NaN   \n",
      "\n",
      "       embarked boat        body     home.dest  \n",
      "count      1307  486  121.000000           745  \n",
      "unique        3   27         NaN           369  \n",
      "top           S   13         NaN  New York, NY  \n",
      "freq        914   39         NaN            64  \n",
      "mean        NaN  NaN  160.809917           NaN  \n",
      "std         NaN  NaN   97.696922           NaN  \n",
      "min         NaN  NaN    1.000000           NaN  \n",
      "25%         NaN  NaN   72.000000           NaN  \n",
      "50%         NaN  NaN  155.000000           NaN  \n",
      "75%         NaN  NaN  256.000000           NaN  \n",
      "max         NaN  NaN  328.000000           NaN  \n"
     ]
    }
   ],
   "source": [
    "df = pd.read_csv('https://raw.githubusercontent.com/leangaurav/dsc_weekend_2020_03_01/master/Titanic/titanic_dataset.csv')\n",
    "print(df.describe(include='all'))"
   ]
  },
  {
   "cell_type": "code",
   "execution_count": 7,
   "metadata": {},
   "outputs": [
    {
     "name": "stdout",
     "output_type": "stream",
     "text": [
      "      Unnamed: 0  pclass  survived  \\\n",
      "0              0       1         1   \n",
      "1              1       1         1   \n",
      "2              2       1         0   \n",
      "3              3       1         0   \n",
      "4              4       1         0   \n",
      "...          ...     ...       ...   \n",
      "1304        1304       3         0   \n",
      "1305        1305       3         0   \n",
      "1306        1306       3         0   \n",
      "1307        1307       3         0   \n",
      "1308        1308       3         0   \n",
      "\n",
      "                                                 name  gender      age  sibsp  \\\n",
      "0                       Allen, Miss. Elisabeth Walton  female  29.0000      0   \n",
      "1                      Allison, Master. Hudson Trevor    male   0.9167      1   \n",
      "2                        Allison, Miss. Helen Loraine  female   2.0000      1   \n",
      "3                Allison, Mr. Hudson Joshua Creighton    male  30.0000      1   \n",
      "4     Allison, Mrs. Hudson J C (Bessie Waldo Daniels)  female  25.0000      1   \n",
      "...                                               ...     ...      ...    ...   \n",
      "1304                             Zabour, Miss. Hileni  female  14.5000      1   \n",
      "1305                            Zabour, Miss. Thamine  female      NaN      1   \n",
      "1306                        Zakarian, Mr. Mapriededer    male  26.5000      0   \n",
      "1307                              Zakarian, Mr. Ortin    male  27.0000      0   \n",
      "1308                               Zimmerman, Mr. Leo    male  29.0000      0   \n",
      "\n",
      "      parch  ticket      fare    cabin embarked boat   body  \\\n",
      "0         0   24160  $211.34        B5        S    2    NaN   \n",
      "1         2  113781  $151.55   C22 C26        S   11    NaN   \n",
      "2         2  113781  $151.55   C22 C26        S  NaN    NaN   \n",
      "3         2  113781  $151.55   C22 C26        S  NaN  135.0   \n",
      "4         2  113781  $151.55   C22 C26        S  NaN    NaN   \n",
      "...     ...     ...       ...      ...      ...  ...    ...   \n",
      "1304      0    2665   $14.45       NaN        C  NaN  328.0   \n",
      "1305      0    2665   $14.45       NaN        C  NaN    NaN   \n",
      "1306      0    2656    $7.23       NaN        C  NaN  304.0   \n",
      "1307      0    2670    $7.23       NaN        C  NaN    NaN   \n",
      "1308      0  315082    $7.88       NaN        S  NaN    NaN   \n",
      "\n",
      "                            home.dest  \n",
      "0                        St Louis, MO  \n",
      "1     Montreal, PQ / Chesterville, ON  \n",
      "2     Montreal, PQ / Chesterville, ON  \n",
      "3     Montreal, PQ / Chesterville, ON  \n",
      "4     Montreal, PQ / Chesterville, ON  \n",
      "...                               ...  \n",
      "1304                              NaN  \n",
      "1305                              NaN  \n",
      "1306                              NaN  \n",
      "1307                              NaN  \n",
      "1308                              NaN  \n",
      "\n",
      "[1309 rows x 15 columns]\n"
     ]
    }
   ],
   "source": [
    "print(df)"
   ]
  },
  {
   "cell_type": "code",
   "execution_count": 14,
   "metadata": {},
   "outputs": [
    {
     "name": "stdout",
     "output_type": "stream",
     "text": [
      "Index(['Unnamed: 0', 'pclass', 'survived', 'name', 'gender', 'age', 'sibsp',\n",
      "       'parch', 'ticket', 'fare', 'cabin', 'embarked', 'boat', 'body',\n",
      "       'home.dest'],\n",
      "      dtype='object')\n",
      "Unnamed: 0      int64\n",
      "pclass          int64\n",
      "survived        int64\n",
      "name           object\n",
      "gender         object\n",
      "age           float64\n",
      "sibsp           int64\n",
      "parch           int64\n",
      "ticket         object\n",
      "fare           object\n",
      "cabin          object\n",
      "embarked       object\n",
      "boat           object\n",
      "body          float64\n",
      "home.dest      object\n",
      "dtype: object\n",
      "RangeIndex(start=0, stop=1309, step=1)\n",
      "(1309, 15)\n",
      "19635\n"
     ]
    }
   ],
   "source": [
    "print(df.columns) # columns\n",
    "print(df.dtypes)\n",
    "print(df.index) # rows\n",
    "print(df.shape)\n",
    "print(df.size)"
   ]
  },
  {
   "cell_type": "code",
   "execution_count": 18,
   "metadata": {},
   "outputs": [
    {
     "name": "stdout",
     "output_type": "stream",
     "text": [
      "Unnamed: 0    False\n",
      "pclass        False\n",
      "survived      False\n",
      "name          False\n",
      "gender        False\n",
      "age            True\n",
      "sibsp         False\n",
      "parch         False\n",
      "ticket        False\n",
      "fare           True\n",
      "cabin          True\n",
      "embarked       True\n",
      "boat           True\n",
      "body           True\n",
      "home.dest      True\n",
      "dtype: bool\n",
      "Unnamed: 0       0\n",
      "pclass           0\n",
      "survived         0\n",
      "name             0\n",
      "gender           0\n",
      "age            263\n",
      "sibsp            0\n",
      "parch            0\n",
      "ticket           0\n",
      "fare             1\n",
      "cabin         1014\n",
      "embarked         2\n",
      "boat           823\n",
      "body          1188\n",
      "home.dest      564\n",
      "dtype: int64\n"
     ]
    }
   ],
   "source": [
    "print(df.isna().any())\n",
    "print(df.isna().sum())"
   ]
  },
  {
   "cell_type": "code",
   "execution_count": 19,
   "metadata": {},
   "outputs": [
    {
     "name": "stdout",
     "output_type": "stream",
     "text": [
      "   Unnamed: 0  pclass  survived  \\\n",
      "0           0       1         1   \n",
      "1           1       1         1   \n",
      "2           2       1         0   \n",
      "3           3       1         0   \n",
      "4           4       1         0   \n",
      "\n",
      "                                              name  gender      age  sibsp  \\\n",
      "0                    Allen, Miss. Elisabeth Walton  female  29.0000      0   \n",
      "1                   Allison, Master. Hudson Trevor    male   0.9167      1   \n",
      "2                     Allison, Miss. Helen Loraine  female   2.0000      1   \n",
      "3             Allison, Mr. Hudson Joshua Creighton    male  30.0000      1   \n",
      "4  Allison, Mrs. Hudson J C (Bessie Waldo Daniels)  female  25.0000      1   \n",
      "\n",
      "   parch  ticket      fare    cabin embarked boat   body  \\\n",
      "0      0   24160  $211.34        B5        S    2    NaN   \n",
      "1      2  113781  $151.55   C22 C26        S   11    NaN   \n",
      "2      2  113781  $151.55   C22 C26        S  NaN    NaN   \n",
      "3      2  113781  $151.55   C22 C26        S  NaN  135.0   \n",
      "4      2  113781  $151.55   C22 C26        S  NaN    NaN   \n",
      "\n",
      "                         home.dest  \n",
      "0                     St Louis, MO  \n",
      "1  Montreal, PQ / Chesterville, ON  \n",
      "2  Montreal, PQ / Chesterville, ON  \n",
      "3  Montreal, PQ / Chesterville, ON  \n",
      "4  Montreal, PQ / Chesterville, ON  \n"
     ]
    }
   ],
   "source": [
    "print(df.head())"
   ]
  },
  {
   "cell_type": "code",
   "execution_count": 26,
   "metadata": {},
   "outputs": [
    {
     "name": "stdout",
     "output_type": "stream",
     "text": [
      "Index(['Unnamed: 0', 'pclass', 'survived', 'name', 'gender', 'age', 'sibsp',\n",
      "       'parch', 'ticket', 'fare', 'embarked'],\n",
      "      dtype='object')\n"
     ]
    }
   ],
   "source": [
    "df.dropna(axis  = 1, thresh = int(1309*(0.75)) , inplace = True)\n",
    "print(df.columns)\n",
    "# Lets say a data frame df 10 rows colums a,b\n",
    "# Values available a - > 8   b->4, c->10 . Remaining are NA\n",
    "# drop columns with data less than 8 elements / keep only those which have atleast 8 elements\n",
    "#  df.dropna(axis  = 1, thresh = 8 , inplace = True)"
   ]
  },
  {
   "cell_type": "code",
   "execution_count": 27,
   "metadata": {},
   "outputs": [
    {
     "name": "stdout",
     "output_type": "stream",
     "text": [
      "Index(['pclass', 'survived', 'gender', 'age', 'sibsp', 'parch', 'fare',\n",
      "       'embarked'],\n",
      "      dtype='object')\n"
     ]
    }
   ],
   "source": [
    "df.drop(columns =  ['Unnamed: 0','name',  'ticket'] , inplace = True)\n",
    "print(df.columns)"
   ]
  },
  {
   "cell_type": "code",
   "execution_count": 28,
   "metadata": {},
   "outputs": [
    {
     "name": "stdout",
     "output_type": "stream",
     "text": [
      "pclass        int64\n",
      "survived      int64\n",
      "gender       object\n",
      "age         float64\n",
      "sibsp         int64\n",
      "parch         int64\n",
      "fare         object\n",
      "embarked     object\n",
      "dtype: object\n"
     ]
    }
   ],
   "source": [
    "\n",
    "#check data types of all columns\n",
    "print(df.dtypes)"
   ]
  },
  {
   "cell_type": "code",
   "execution_count": 47,
   "metadata": {},
   "outputs": [
    {
     "name": "stdout",
     "output_type": "stream",
     "text": [
      "0    211.34 \n",
      "1    151.55 \n",
      "2    151.55 \n",
      "3    151.55 \n",
      "4    151.55 \n",
      "Name: fare, dtype: object\n",
      "['__class__', '__delattr__', '__dict__', '__dir__', '__doc__', '__eq__', '__format__', '__frozen', '__ge__', '__getattribute__', '__getitem__', '__gt__', '__hash__', '__init__', '__init_subclass__', '__iter__', '__le__', '__lt__', '__module__', '__ne__', '__new__', '__reduce__', '__reduce_ex__', '__repr__', '__setattr__', '__sizeof__', '__str__', '__subclasshook__', '__weakref__', '_doc_args', '_freeze', '_get_series_list', '_inferred_dtype', '_is_categorical', '_make_accessor', '_orig', '_parent', '_validate', '_wrap_result', 'capitalize', 'casefold', 'cat', 'center', 'contains', 'count', 'decode', 'encode', 'endswith', 'extract', 'extractall', 'find', 'findall', 'get', 'get_dummies', 'index', 'isalnum', 'isalpha', 'isdecimal', 'isdigit', 'islower', 'isnumeric', 'isspace', 'istitle', 'isupper', 'join', 'len', 'ljust', 'lower', 'lstrip', 'match', 'normalize', 'pad', 'partition', 'repeat', 'replace', 'rfind', 'rindex', 'rjust', 'rpartition', 'rsplit', 'rstrip', 'slice', 'slice_replace', 'split', 'startswith', 'strip', 'swapcase', 'title', 'translate', 'upper', 'wrap', 'zfill']\n",
      "object\n",
      "\n",
      "0    211.34 \n",
      "1    151.55 \n",
      "2    151.55 \n",
      "3    151.55 \n",
      "4    151.55 \n",
      "Name: fare, dtype: object\n",
      "pclass        int64\n",
      "survived      int64\n",
      "gender       object\n",
      "age         float64\n",
      "sibsp         int64\n",
      "parch         int64\n",
      "fare        float64\n",
      "embarked     object\n",
      "dtype: object\n"
     ]
    }
   ],
   "source": [
    "# convert price to numeric\n",
    "print(df.fare.head())\n",
    "print(dir(df.fare.str))\n",
    "print(df.fare.dtype)\n",
    "df.fare = df.fare.str.replace('$','')\n",
    "#r =  df.fare.replace('\\$','', regex  = True) # using regex\n",
    "\n",
    "print()\n",
    "print(df.fare.head())\n",
    "df.fare = df.fare.astype('float')\n",
    "print(df.dtypes)"
   ]
  },
  {
   "cell_type": "code",
   "execution_count": 49,
   "metadata": {},
   "outputs": [
    {
     "name": "stdout",
     "output_type": "stream",
     "text": [
      "pclass        0\n",
      "survived      0\n",
      "gender        0\n",
      "age         263\n",
      "sibsp         0\n",
      "parch         0\n",
      "fare          1\n",
      "embarked      2\n",
      "dtype: int64\n",
      "pclass      1309\n",
      "survived    1309\n",
      "gender      1309\n",
      "age         1046\n",
      "sibsp       1309\n",
      "parch       1309\n",
      "fare        1308\n",
      "embarked    1307\n",
      "dtype: int64\n"
     ]
    }
   ],
   "source": [
    "\n",
    "#find columns still having missing/na values and also count of missing \n",
    "print(df.isna().sum())\n",
    "print(df.count())"
   ]
  },
  {
   "cell_type": "code",
   "execution_count": null,
   "metadata": {},
   "outputs": [],
   "source": []
  },
  {
   "cell_type": "code",
   "execution_count": 52,
   "metadata": {},
   "outputs": [
    {
     "name": "stdout",
     "output_type": "stream",
     "text": [
      "pclass      0\n",
      "survived    0\n",
      "gender      0\n",
      "age         0\n",
      "sibsp       0\n",
      "parch       0\n",
      "fare        0\n",
      "embarked    2\n",
      "dtype: int64\n"
     ]
    }
   ],
   "source": [
    "\n",
    "#fill na with mean for fare and age column column.\n",
    "df.fillna({'fare': df.fare.mean(), 'age': df.age.mean()}, inplace = True)\n",
    "# df.dropna(axis  = 0, how='any')\n",
    "print(df.isna().sum())"
   ]
  },
  {
   "cell_type": "code",
   "execution_count": 56,
   "metadata": {},
   "outputs": [
    {
     "name": "stdout",
     "output_type": "stream",
     "text": [
      "pclass      0\n",
      "survived    0\n",
      "gender      0\n",
      "age         0\n",
      "sibsp       0\n",
      "parch       0\n",
      "fare        0\n",
      "embarked    0\n",
      "dtype: int64\n",
      "(1307, 8)\n"
     ]
    }
   ],
   "source": [
    "#drop na values for embarked column.\n",
    "df.dropna(axis = 0, how = 'any', inplace = True)\n",
    "print(df.isna().sum())\n",
    "print(df.shape)"
   ]
  },
  {
   "cell_type": "code",
   "execution_count": 73,
   "metadata": {},
   "outputs": [
    {
     "name": "stdout",
     "output_type": "stream",
     "text": [
      "{'female': Int64Index([   0,    2,    4,    6,    8,   11,   12,   13,   17,   18,\n",
      "            ...\n",
      "            1265, 1267, 1273, 1276, 1279, 1286, 1290, 1300, 1304, 1305],\n",
      "           dtype='int64', length=464), 'male': Int64Index([   1,    3,    5,    7,    9,   10,   14,   15,   16,   19,\n",
      "            ...\n",
      "            1296, 1297, 1298, 1299, 1301, 1302, 1303, 1306, 1307, 1308],\n",
      "           dtype='int64', length=843)}\n"
     ]
    },
    {
     "data": {
      "text/plain": [
       "gender\n",
       "female    AxesSubplot(0.125,0.125;0.775x0.755)\n",
       "male      AxesSubplot(0.125,0.125;0.775x0.755)\n",
       "Name: pclass, dtype: object"
      ]
     },
     "execution_count": 73,
     "metadata": {},
     "output_type": "execute_result"
    },
    {
     "data": {
      "image/png": "[encoded data removed]",
      "text/plain": [
       "<Figure size 432x288 with 1 Axes>"
      ]
     },
     "metadata": {
      "needs_background": "light"
     },
     "output_type": "display_data"
    }
   ],
   "source": [
    "\n",
    "#dump the dataframe to a csv file 'titanic_filtered.csv'.\n",
    "df.to_csv('titanic_filtered.csv')\n",
    "grp = df.groupby(by=['gender'])\n",
    "print(grp.groups)\n"
   ]
  },
  {
   "cell_type": "code",
   "execution_count": null,
   "metadata": {},
   "outputs": [],
   "source": [
    "\n",
    "#for surviced column replace 0 with D and 1 with A\n",
    "#find the frequency of different values in survived column\n",
    "#group by gender and survived and see the counts in each category\n",
    "#find different pclass and no of people in each class\n",
    "\n",
    "#find top 5 people with highest values of age. Count no of male and females in the top 5\n",
    "#find max age male and female who survived\n",
    "#get average age by gender\n",
    "#get average age by people survived vs not-survived"
   ]
  }
 ],
 "metadata": {
  "kernelspec": {
   "display_name": "Python 3",
   "language": "python",
   "name": "python3"
  },
  "language_info": {
   "codemirror_mode": {
    "name": "ipython",
    "version": 3
   },
   "file_extension": ".py",
   "mimetype": "text/x-python",
   "name": "python",
   "nbconvert_exporter": "python",
   "pygments_lexer": "ipython3",
   "version": "3.7.4"
  }
 },
 "nbformat": 4,
 "nbformat_minor": 2
}
