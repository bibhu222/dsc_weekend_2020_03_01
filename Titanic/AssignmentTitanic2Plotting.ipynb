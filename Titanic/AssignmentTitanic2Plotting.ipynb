{
 "cells": [
  {
   "cell_type": "markdown",
   "metadata": {},
   "source": [
    "\n",
    "### Titanic Plotting\n",
    "- Load data generated previously from 'titanic_filtered.csv'\n",
    "- plot histogram of ages of people\n",
    "- plot no of people in each pclass on bar chart\n",
    "\n",
    "\n",
    "- plot a horizontal bar-chart depicting the ratio of males to females\n",
    "- plot a bar-chart depicting the ratio of male-survived, female-survived, male-dead, female-dead. \n",
    "- plot a stacked bar chart of number of male-survived,dead and female-survived, dead.\n",
    "- plot stacked bar of survived with different pclass in same bar.\n",
    "\n",
    "\n",
    "- plot box plot of ages of survived vs not-survived\n",
    "- plot scatter plot of ages vs survived."
   ]
  },
  {
   "cell_type": "code",
   "execution_count": 2,
   "metadata": {},
   "outputs": [],
   "source": [
    "import pandas as pd\n",
    "import matplotlib.pyplot as plt"
   ]
  },
  {
   "cell_type": "code",
   "execution_count": 5,
   "metadata": {},
   "outputs": [
    {
     "name": "stdout",
     "output_type": "stream",
     "text": [
      "   Unnamed: 0  pclass  survived  gender      age  sibsp  parch    fare  \\\n",
      "0           0       1         1  female  29.0000      0      0  211.34   \n",
      "1           1       1         1    male   0.9167      1      2  151.55   \n",
      "2           2       1         0  female   2.0000      1      2  151.55   \n",
      "3           3       1         0    male  30.0000      1      2  151.55   \n",
      "4           4       1         0  female  25.0000      1      2  151.55   \n",
      "\n",
      "  embarked  \n",
      "0        S  \n",
      "1        S  \n",
      "2        S  \n",
      "3        S  \n",
      "4        S  \n"
     ]
    }
   ],
   "source": [
    "df = pd.read_csv('titanic_filtered.csv')\n",
    "print(df.head())"
   ]
  },
  {
   "cell_type": "raw",
   "metadata": {},
   "source": [
    "# plot histogram of ages of people\n",
    "plt.figure(figsize=(16,4))\n",
    "plt.hist(df.age, bins = 20)\n",
    "plt.show()\n",
    "\n",
    "df.age.plot(kind='hist')"
   ]
  },
  {
   "cell_type": "code",
   "execution_count": 14,
   "metadata": {},
   "outputs": [
    {
     "name": "stdout",
     "output_type": "stream",
     "text": [
      "3    709\n",
      "1    321\n",
      "2    277\n",
      "Name: pclass, dtype: int64\n"
     ]
    },
    {
     "data": {
      "text/plain": [
       "<matplotlib.axes._subplots.AxesSubplot at 0x226453e6548>"
      ]
     },
     "execution_count": 14,
     "metadata": {},
     "output_type": "execute_result"
    },
    {
     "data": {
      "image/png": "[encoded data removed]",
      "text/plain": [
       "<Figure size 432x288 with 1 Axes>"
      ]
     },
     "metadata": {
      "needs_background": "light"
     },
     "output_type": "display_data"
    }
   ],
   "source": [
    "#plot no of people in each pclass on bar chart\n",
    "res  =  df.pclass.value_counts()\n",
    "print(res)\n",
    "res.plot(kind  = 'bar')"
   ]
  },
  {
   "cell_type": "code",
   "execution_count": 15,
   "metadata": {},
   "outputs": [
    {
     "data": {
      "text/plain": [
       "<matplotlib.axes._subplots.AxesSubplot at 0x22645450848>"
      ]
     },
     "execution_count": 15,
     "metadata": {},
     "output_type": "execute_result"
    },
    {
     "data": {
      "image/png": "[encoded data removed]",
      "text/plain": [
       "<Figure size 432x288 with 1 Axes>"
      ]
     },
     "metadata": {
      "needs_background": "light"
     },
     "output_type": "display_data"
    }
   ],
   "source": [
    "# plot a bar-chart depicting the ratio of males to females\n",
    "res = df.gender.value_counts()\n",
    "res.plot(kind='barh')"
   ]
  },
  {
   "cell_type": "code",
   "execution_count": 23,
   "metadata": {},
   "outputs": [
    {
     "name": "stdout",
     "output_type": "stream",
     "text": [
      "{('female', 0): Int64Index([   2,    4,  105,  168,  284,  363,  367,  379,  380,  409,\n",
      "            ...\n",
      "            1225, 1228, 1229, 1263, 1265, 1271, 1274, 1277, 1302, 1303],\n",
      "           dtype='int64', length=127), ('female', 1): Int64Index([   0,    6,    8,   11,   12,   13,   17,   18,   21,   23,\n",
      "            ...\n",
      "            1221, 1242, 1245, 1255, 1256, 1258, 1259, 1284, 1288, 1298],\n",
      "           dtype='int64', length=337), ('male', 0): Int64Index([   3,    7,    9,   10,   15,   16,   19,   25,   30,   34,\n",
      "            ...\n",
      "            1294, 1295, 1296, 1297, 1299, 1300, 1301, 1304, 1305, 1306],\n",
      "           dtype='int64', length=682), ('male', 1): Int64Index([   1,    5,   14,   20,   22,   26,   29,   31,   37,   47,\n",
      "            ...\n",
      "            1194, 1226, 1230, 1231, 1234, 1236, 1238, 1252, 1254, 1275],\n",
      "           dtype='int64', length=161)}\n",
      "\n",
      "                 Unnamed: 0  pclass  age  sibsp  parch  fare  embarked\n",
      "gender survived                                                       \n",
      "female 0                127     127  127    127    127   127       127\n",
      "       1                337     337  337    337    337   337       337\n",
      "male   0                682     682  682    682    682   682       682\n",
      "       1                161     161  161    161    161   161       161\n",
      "\n",
      "         Unnamed: 0      pclass       age      sibsp      parch      fare  \\\n",
      "survived          0    1      0    1    0    1     0    1     0    1    0   \n",
      "gender                                                                      \n",
      "female          127  337    127  337  127  337   127  337   127  337  127   \n",
      "male            682  161    682  161  682  161   682  161   682  161  682   \n",
      "\n",
      "              embarked       \n",
      "survived    1        0    1  \n",
      "gender                       \n",
      "female    337      127  337  \n",
      "male      161      682  161  \n"
     ]
    },
    {
     "data": {
      "image/png": "[encoded data removed]",
      "text/plain": [
       "<Figure size 432x288 with 1 Axes>"
      ]
     },
     "metadata": {
      "needs_background": "light"
     },
     "output_type": "display_data"
    }
   ],
   "source": [
    "# plot a bar-chart depicting the ratio of male-survived, female-survived, male-dead, female-dead.\n",
    "g =  df.groupby(by=['gender','survived'])\n",
    "print(g.groups)\n",
    "\n",
    "print()\n",
    "c = g.count()\n",
    "print(c)\n",
    "c.pclass.plot(kind='bar')\n",
    "\n",
    "print()\n",
    "print(c.unstack())"
   ]
  },
  {
   "cell_type": "code",
   "execution_count": 28,
   "metadata": {},
   "outputs": [
    {
     "name": "stdout",
     "output_type": "stream",
     "text": [
      "\n",
      "survived    0    1\n",
      "gender            \n",
      "female    127  337\n",
      "male      682  161\n",
      "\n",
      "gender    female  male\n",
      "survived              \n",
      "0            127   682\n",
      "1            337   161\n"
     ]
    },
    {
     "data": {
      "text/plain": [
       "<matplotlib.axes._subplots.AxesSubplot at 0x22646739d48>"
      ]
     },
     "execution_count": 28,
     "metadata": {},
     "output_type": "execute_result"
    },
    {
     "data": {
      "image/png": "[encoded data removed]",
      "text/plain": [
       "<Figure size 432x288 with 1 Axes>"
      ]
     },
     "metadata": {
      "needs_background": "light"
     },
     "output_type": "display_data"
    },
    {
     "data": {
      "image/png": "[encoded data removed]",
      "text/plain": [
       "<Figure size 432x288 with 1 Axes>"
      ]
     },
     "metadata": {
      "needs_background": "light"
     },
     "output_type": "display_data"
    }
   ],
   "source": [
    "# plot a stacked bar chart of number of male-survived,dead and female-survived, dead.\n",
    "g =  df.groupby(by=['gender','survived'])\n",
    "\n",
    "print()\n",
    "c = g.count()\n",
    "c = c.unstack()\n",
    "print(c.pclass)\n",
    "\n",
    "c.pclass.plot(kind='bar', stacked=True)\n",
    "\n",
    "g =  df.groupby(by=['survived','gender'])\n",
    "\n",
    "print()\n",
    "c = g.count()\n",
    "c = c.unstack()\n",
    "print(c.pclass)\n",
    "\n",
    "c.pclass.plot(kind='bar', stacked=True)"
   ]
  },
  {
   "cell_type": "code",
   "execution_count": 95,
   "metadata": {},
   "outputs": [
    {
     "data": {
      "image/png": "[encoded data removed]",
      "text/plain": [
       "<Figure size 432x288 with 1 Axes>"
      ]
     },
     "metadata": {
      "needs_background": "light"
     },
     "output_type": "display_data"
    },
    {
     "data": {
      "image/png": "[encoded data removed]",
      "text/plain": [
       "<Figure size 432x288 with 1 Axes>"
      ]
     },
     "metadata": {
      "needs_background": "light"
     },
     "output_type": "display_data"
    }
   ],
   "source": [
    "# plot stacked bar of survived with different pclass in same bar\n"
   ]
  },
  {
   "cell_type": "code",
   "execution_count": 46,
   "metadata": {},
   "outputs": [
    {
     "data": {
      "image/png": "[encoded data removed]",
      "text/plain": [
       "<Figure size 432x288 with 1 Axes>"
      ]
     },
     "metadata": {
      "needs_background": "light"
     },
     "output_type": "display_data"
    },
    {
     "data": {
      "image/png": "[encoded data removed]",
      "text/plain": [
       "<Figure size 432x288 with 1 Axes>"
      ]
     },
     "metadata": {
      "needs_background": "light"
     },
     "output_type": "display_data"
    }
   ],
   "source": [
    "# plot box plot of ages of survived vs not-survived\n",
    "s = df.age[df.survived == 0]\n",
    "a = df.age[df.survived == 1]\n",
    "plt.boxplot(s)\n",
    "plt.show()\n",
    "plt.boxplot(a)\n",
    "plt.show()"
   ]
  },
  {
   "cell_type": "code",
   "execution_count": 49,
   "metadata": {},
   "outputs": [
    {
     "data": {
      "text/plain": [
       "<matplotlib.collections.PathCollection at 0x22649c60108>"
      ]
     },
     "execution_count": 49,
     "metadata": {},
     "output_type": "execute_result"
    },
    {
     "data": {
      "image/png": "[encoded data removed]",
      "text/plain": [
       "<Figure size 1080x216 with 1 Axes>"
      ]
     },
     "metadata": {
      "needs_background": "light"
     },
     "output_type": "display_data"
    }
   ],
   "source": [
    "# plot scatter plot of ages vs survived.\n",
    "plt.figure(figsize=(15,3))\n",
    "plt.scatter(df.age, df.survived)"
   ]
  }
 ],
 "metadata": {
  "kernelspec": {
   "display_name": "Python 3",
   "language": "python",
   "name": "python3"
  },
  "language_info": {
   "codemirror_mode": {
    "name": "ipython",
    "version": 3
   },
   "file_extension": ".py",
   "mimetype": "text/x-python",
   "name": "python",
   "nbconvert_exporter": "python",
   "pygments_lexer": "ipython3",
   "version": "3.7.4"
  }
 },
 "nbformat": 4,
 "nbformat_minor": 2
}
